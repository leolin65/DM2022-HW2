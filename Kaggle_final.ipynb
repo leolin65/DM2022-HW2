{
 "cells": [
  {
   "attachments": {
    "image.png": {
     "image/png": "[encoded data removed]"
    }
   },
   "cell_type": "markdown",
   "metadata": {},
   "source": [
    "### Student Information\n",
    "Name: leo lin\n",
    "\n",
    "Student ID: 109003814\n",
    "\n",
    "GitHub ID: leolin65\n",
    "\n",
    "Kaggle name: leolin65\n",
    "\n",
    "Kaggle private scoreboard snapshot:\n",
    "\n",
    "![image.png](attachment:image.png)"
   ]
  },
  {
   "cell_type": "markdown",
   "metadata": {},
   "source": [
    "---"
   ]
  },
  {
   "cell_type": "markdown",
   "metadata": {},
   "source": [
    "### Instructions"
   ]
  },
  {
   "cell_type": "markdown",
   "metadata": {},
   "source": []
  },
  {
   "cell_type": "markdown",
   "metadata": {},
   "source": [
    "## 1. Data Preparation"
   ]
  },
  {
   "cell_type": "markdown",
   "metadata": {},
   "source": [
    "## 1.1 Load data\n",
    "\n",
    "1. data_identification: define which twitter ID are train and which one are test data(csv)\n",
    "2. emotion: Label(Emotion) for train data(csv)\n",
    "3. tweets_DM: data contain score, date hashtag, tweetid and text data from twitter(json)"
   ]
  },
  {
   "cell_type": "code",
   "execution_count": 1,
   "metadata": {},
   "outputs": [],
   "source": [
    "import pandas as pd\n",
    "pd.set_option('max_colwidth', 400)"
   ]
  },
  {
   "cell_type": "markdown",
   "metadata": {},
   "source": [
    "\n",
    "\n",
    "from functools import partial\n",
    "\n",
    "import nltk\n",
    "from nltk.corpus import wordnet\n",
    "from nltk.corpus import stopwords\n",
    "from nltk.stem import WordNetLemmatizer\n",
    "from nltk.stem.porter import PorterStemmer\n",
    "\n"
   ]
  },
  {
   "cell_type": "code",
   "execution_count": 2,
   "metadata": {},
   "outputs": [],
   "source": [
    "data_identification = pd.read_csv(\"data_identification.csv\")\n",
    "emotion = pd.read_csv(\"emotion.csv\")"
   ]
  },
  {
   "cell_type": "code",
   "execution_count": 3,
   "metadata": {},
   "outputs": [
    {
     "name": "stdout",
     "output_type": "stream",
     "text": [
      "         tweet_id identification\n",
      "0        0x28cc61           test\n",
      "1        0x29e452          train\n",
      "2        0x2b3819          train\n",
      "3        0x2db41f           test\n",
      "4        0x2a2acc          train\n",
      "...           ...            ...\n",
      "1867530  0x227e25          train\n",
      "1867531  0x293813          train\n",
      "1867532  0x1e1a7e          train\n",
      "1867533  0x2156a5          train\n",
      "1867534  0x2bb9d2          train\n",
      "\n",
      "[1867535 rows x 2 columns]\n"
     ]
    }
   ],
   "source": [
    "print(data_identification)"
   ]
  },
  {
   "cell_type": "code",
   "execution_count": 4,
   "metadata": {},
   "outputs": [
    {
     "name": "stdout",
     "output_type": "stream",
     "text": [
      "         tweet_id       emotion\n",
      "0        0x3140b1       sadness\n",
      "1        0x368b73       disgust\n",
      "2        0x296183  anticipation\n",
      "3        0x2bd6e1           joy\n",
      "4        0x2ee1dd  anticipation\n",
      "...           ...           ...\n",
      "1455558  0x38dba0           joy\n",
      "1455559  0x300ea2           joy\n",
      "1455560  0x360b99          fear\n",
      "1455561  0x22eecf           joy\n",
      "1455562  0x2fb282  anticipation\n",
      "\n",
      "[1455563 rows x 2 columns]\n"
     ]
    }
   ],
   "source": [
    "print(emotion)"
   ]
  },
  {
   "cell_type": "markdown",
   "metadata": {},
   "source": [
    "for json data we need to normalize (split it into seperate columns)"
   ]
  },
  {
   "cell_type": "code",
   "execution_count": 5,
   "metadata": {},
   "outputs": [],
   "source": [
    "import json\n",
    "tweets_DM = pd.read_json (r'tweets_DM.json',lines=True,orient='columns')\n",
    "#normalize json data\n",
    "data = tweets_DM['_source'].tolist()\n",
    "df = pd.DataFrame.from_dict(pd.json_normalize(data), orient='columns')\n",
    "tweets_DM= pd.concat([tweets_DM, df], axis=1)"
   ]
  },
  {
   "cell_type": "code",
   "execution_count": 6,
   "metadata": {},
   "outputs": [
    {
     "name": "stdout",
     "output_type": "stream",
     "text": [
      "         _score          _index  \\\n",
      "0           391  hashtag_tweets   \n",
      "1           433  hashtag_tweets   \n",
      "2           232  hashtag_tweets   \n",
      "3           376  hashtag_tweets   \n",
      "4           989  hashtag_tweets   \n",
      "...         ...             ...   \n",
      "1867530     827  hashtag_tweets   \n",
      "1867531     368  hashtag_tweets   \n",
      "1867532     498  hashtag_tweets   \n",
      "1867533     840  hashtag_tweets   \n",
      "1867534     360  hashtag_tweets   \n",
      "\n",
      "                                                                                                                                                                                                                  _source  \\\n",
      "0                                                              {'tweet': {'hashtags': ['Snapchat'], 'tweet_id': '0x376b20', 'text': 'People who post \"add me on #Snapchat\" must be dehydrated. Cuz man.... that's <LH>'}}   \n",
      "1          {'tweet': {'hashtags': ['freepress', 'TrumpLegacy', 'CNN'], 'tweet_id': '0x2d5350', 'text': '@brianklaas As we see, Trump is dangerous to #freepress around the world. What a <LH> <LH> #TrumpLegacy.  #CNN'}}   \n",
      "2        {'tweet': {'hashtags': ['bibleverse'], 'tweet_id': '0x28b412', 'text': 'Confident of your obedience, I write to you, knowing that you will do even more than I ask. (Philemon 1:21) 3/4 #bibleverse <LH> <LH>'}}   \n",
      "3                                                                                                                      {'tweet': {'hashtags': [], 'tweet_id': '0x1cd5b0', 'text': 'Now ISSA is stalking Tasha 😂😂😂 <LH>'}}   \n",
      "4                  {'tweet': {'hashtags': [], 'tweet_id': '0x2de201', 'text': '\"Trust is not the same as faith. A friend is someone you trust. Putting faith in anyone is a mistake.\" ~ Christopher Hitchens <LH> <LH>'}}   \n",
      "...                                                                                                                                                                                                                   ...   \n",
      "1867530        {'tweet': {'hashtags': ['mixedfeeling', 'butimTHATperson'], 'tweet_id': '0x316b80', 'text': 'When you buy the last 2 tickets remaining for a show and sell it out.. #mixedfeeling <LH> #butimTHATperson'}}   \n",
      "1867531                                                                                            {'tweet': {'hashtags': [], 'tweet_id': '0x29d0cb', 'text': 'I swear all this hard work gone pay off one day😈💰💸 <LH>'}}   \n",
      "1867532                                                               {'tweet': {'hashtags': [], 'tweet_id': '0x2a6a4f', 'text': '@Parcel2Go no card left when I wasn't in so I have no idea how to get my parcel <LH>'}}   \n",
      "1867533                             {'tweet': {'hashtags': [], 'tweet_id': '0x24faed', 'text': 'Ah, corporate life, where you can date <LH> using just the relative anachronism of the last job title that updated it.'}}   \n",
      "1867534                                                                                                {'tweet': {'hashtags': ['Sundayvibes'], 'tweet_id': '0x34be8c', 'text': 'Blessed to be living #Sundayvibes <LH>'}}   \n",
      "\n",
      "                  _crawldate   _type                   tweet.hashtags  \\\n",
      "0        2015-05-23 11:42:47  tweets                       [Snapchat]   \n",
      "1        2016-01-28 04:52:09  tweets    [freepress, TrumpLegacy, CNN]   \n",
      "2        2017-12-25 04:39:20  tweets                     [bibleverse]   \n",
      "3        2016-01-24 23:53:05  tweets                               []   \n",
      "4        2016-01-08 17:18:59  tweets                               []   \n",
      "...                      ...     ...                              ...   \n",
      "1867530  2015-05-12 12:51:52  tweets  [mixedfeeling, butimTHATperson]   \n",
      "1867531  2017-10-02 17:54:04  tweets                               []   \n",
      "1867532  2016-10-10 11:04:32  tweets                               []   \n",
      "1867533  2016-09-02 14:25:06  tweets                               []   \n",
      "1867534  2016-11-16 01:40:07  tweets                    [Sundayvibes]   \n",
      "\n",
      "        tweet.tweet_id  \\\n",
      "0             0x376b20   \n",
      "1             0x2d5350   \n",
      "2             0x28b412   \n",
      "3             0x1cd5b0   \n",
      "4             0x2de201   \n",
      "...                ...   \n",
      "1867530       0x316b80   \n",
      "1867531       0x29d0cb   \n",
      "1867532       0x2a6a4f   \n",
      "1867533       0x24faed   \n",
      "1867534       0x34be8c   \n",
      "\n",
      "                                                                                                                                      tweet.text  \n",
      "0                                                              People who post \"add me on #Snapchat\" must be dehydrated. Cuz man.... that's <LH>  \n",
      "1                                 @brianklaas As we see, Trump is dangerous to #freepress around the world. What a <LH> <LH> #TrumpLegacy.  #CNN  \n",
      "2          Confident of your obedience, I write to you, knowing that you will do even more than I ask. (Philemon 1:21) 3/4 #bibleverse <LH> <LH>  \n",
      "3                                                                                                            Now ISSA is stalking Tasha 😂😂😂 <LH>  \n",
      "4        \"Trust is not the same as faith. A friend is someone you trust. Putting faith in anyone is a mistake.\" ~ Christopher Hitchens <LH> <LH>  \n",
      "...                                                                                                                                          ...  \n",
      "1867530                               When you buy the last 2 tickets remaining for a show and sell it out.. #mixedfeeling <LH> #butimTHATperson  \n",
      "1867531                                                                                  I swear all this hard work gone pay off one day😈💰💸 <LH>  \n",
      "1867532                                                     @Parcel2Go no card left when I wasn't in so I have no idea how to get my parcel <LH>  \n",
      "1867533                   Ah, corporate life, where you can date <LH> using just the relative anachronism of the last job title that updated it.  \n",
      "1867534                                                                                                   Blessed to be living #Sundayvibes <LH>  \n",
      "\n",
      "[1867535 rows x 8 columns]\n"
     ]
    }
   ],
   "source": [
    "print(tweets_DM)"
   ]
  },
  {
   "cell_type": "markdown",
   "metadata": {},
   "source": [
    "Compress size for saving memory space"
   ]
  },
  {
   "cell_type": "code",
   "execution_count": 7,
   "metadata": {},
   "outputs": [],
   "source": [
    "def downcast(df, verbose=True):\n",
    "    start_mem = df.memory_usage().sum() / 1024**2\n",
    "    for col in df.columns:\n",
    "        dtype_name = df[col].dtype.name\n",
    "        if dtype_name == 'object':\n",
    "            pass\n",
    "        elif dtype_name == 'bool':\n",
    "            df[col] = df[col].astype('int8')\n",
    "        elif dtype_name.startswith('int') or (df[col].round() == df[col]).all():\n",
    "            df[col] = pd.to_numeric(df[col], downcast='integer')\n",
    "        else:\n",
    "            df[col] = pd.to_numeric(df[col], downcast='float')\n",
    "    end_mem = df.memory_usage().sum() / 1024**2\n",
    "    if verbose:\n",
    "        print('{:.1f}% Compressed'.format(100 * (start_mem - end_mem) / start_mem))\n",
    "    \n",
    "    return df"
   ]
  },
  {
   "cell_type": "code",
   "execution_count": 8,
   "metadata": {},
   "outputs": [
    {
     "name": "stdout",
     "output_type": "stream",
     "text": [
      "9.4% Compressed\n",
      "0.0% Compressed\n",
      "0.0% Compressed\n"
     ]
    }
   ],
   "source": [
    "tweets_DM = downcast(tweets_DM)\n",
    "data_identification = downcast(data_identification)\n",
    "emotion = downcast(emotion)"
   ]
  },
  {
   "cell_type": "code",
   "execution_count": 9,
   "metadata": {},
   "outputs": [
    {
     "data": {
      "text/html": [
       "<div>\n",
       "<style scoped>\n",
       "    .dataframe tbody tr th:only-of-type {\n",
       "        vertical-align: middle;\n",
       "    }\n",
       "\n",
       "    .dataframe tbody tr th {\n",
       "        vertical-align: top;\n",
       "    }\n",
       "\n",
       "    .dataframe thead th {\n",
       "        text-align: right;\n",
       "    }\n",
       "</style>\n",
       "<table border=\"1\" class=\"dataframe\">\n",
       "  <thead>\n",
       "    <tr style=\"text-align: right;\">\n",
       "      <th></th>\n",
       "      <th>tweet_id</th>\n",
       "      <th>identification</th>\n",
       "    </tr>\n",
       "  </thead>\n",
       "  <tbody>\n",
       "    <tr>\n",
       "      <th>0</th>\n",
       "      <td>0x28cc61</td>\n",
       "      <td>test</td>\n",
       "    </tr>\n",
       "    <tr>\n",
       "      <th>1</th>\n",
       "      <td>0x29e452</td>\n",
       "      <td>train</td>\n",
       "    </tr>\n",
       "    <tr>\n",
       "      <th>2</th>\n",
       "      <td>0x2b3819</td>\n",
       "      <td>train</td>\n",
       "    </tr>\n",
       "    <tr>\n",
       "      <th>3</th>\n",
       "      <td>0x2db41f</td>\n",
       "      <td>test</td>\n",
       "    </tr>\n",
       "    <tr>\n",
       "      <th>4</th>\n",
       "      <td>0x2a2acc</td>\n",
       "      <td>train</td>\n",
       "    </tr>\n",
       "    <tr>\n",
       "      <th>...</th>\n",
       "      <td>...</td>\n",
       "      <td>...</td>\n",
       "    </tr>\n",
       "    <tr>\n",
       "      <th>1867530</th>\n",
       "      <td>0x227e25</td>\n",
       "      <td>train</td>\n",
       "    </tr>\n",
       "    <tr>\n",
       "      <th>1867531</th>\n",
       "      <td>0x293813</td>\n",
       "      <td>train</td>\n",
       "    </tr>\n",
       "    <tr>\n",
       "      <th>1867532</th>\n",
       "      <td>0x1e1a7e</td>\n",
       "      <td>train</td>\n",
       "    </tr>\n",
       "    <tr>\n",
       "      <th>1867533</th>\n",
       "      <td>0x2156a5</td>\n",
       "      <td>train</td>\n",
       "    </tr>\n",
       "    <tr>\n",
       "      <th>1867534</th>\n",
       "      <td>0x2bb9d2</td>\n",
       "      <td>train</td>\n",
       "    </tr>\n",
       "  </tbody>\n",
       "</table>\n",
       "<p>1867535 rows × 2 columns</p>\n",
       "</div>"
      ],
      "text/plain": [
       "         tweet_id identification\n",
       "0        0x28cc61           test\n",
       "1        0x29e452          train\n",
       "2        0x2b3819          train\n",
       "3        0x2db41f           test\n",
       "4        0x2a2acc          train\n",
       "...           ...            ...\n",
       "1867530  0x227e25          train\n",
       "1867531  0x293813          train\n",
       "1867532  0x1e1a7e          train\n",
       "1867533  0x2156a5          train\n",
       "1867534  0x2bb9d2          train\n",
       "\n",
       "[1867535 rows x 2 columns]"
      ]
     },
     "execution_count": 9,
     "metadata": {},
     "output_type": "execute_result"
    }
   ],
   "source": [
    "data_identification"
   ]
  },
  {
   "cell_type": "code",
   "execution_count": 10,
   "metadata": {},
   "outputs": [],
   "source": [
    "#rename column\n",
    "tweets_DM= tweets_DM.rename(columns={'tweet.tweet_id': 'id', 'tweet.text': 'text','tweet.hashtags':'hashtags'})\n",
    "#Drop unused columns\n",
    "tweets_DM=tweets_DM.drop(['_source','_index','_type','_score', '_crawldate','hashtags'], axis=1)\n",
    "data_identification= data_identification.rename(columns={'tweet_id': 'id'})\n",
    "emotion= emotion.rename(columns={'tweet_id': 'id'})\n",
    "#put it in new dataframe\n",
    "Text = tweets_DM"
   ]
  },
  {
   "cell_type": "markdown",
   "metadata": {},
   "source": [
    "Dividing train and test set data"
   ]
  },
  {
   "cell_type": "code",
   "execution_count": 11,
   "metadata": {},
   "outputs": [
    {
     "name": "stdout",
     "output_type": "stream",
     "text": [
      "(1455563, 4)\n",
      "(411972, 3)\n"
     ]
    }
   ],
   "source": [
    "traindata=data_identification[data_identification['identification']=='train']\n",
    "traindata = pd.merge(traindata, Text,  how='left', left_on=['id'], right_on = ['id'])\n",
    "traindata = pd.merge(traindata, emotion,  how='left', left_on=['id'], right_on = ['id'])\n",
    "Testdata=data_identification[data_identification['identification']=='test']\n",
    "Testdata = pd.merge(Testdata, Text,  how='left', left_on=['id'], right_on = ['id'])\n",
    "\n",
    "print(traindata.shape)\n",
    "print(Testdata.shape)"
   ]
  },
  {
   "cell_type": "code",
   "execution_count": 12,
   "metadata": {},
   "outputs": [
    {
     "name": "stdout",
     "output_type": "stream",
     "text": [
      "(1455563, 4)\n",
      "(411972, 3)\n"
     ]
    }
   ],
   "source": [
    "# shuffle dataset\n",
    "traindata = traindata.sample(frac=1)\n",
    "Testdata = Testdata.sample(frac=1)\n",
    "print(traindata.shape)\n",
    "print(Testdata.shape)"
   ]
  },
  {
   "cell_type": "markdown",
   "metadata": {},
   "source": [
    "### 1.2 Save data"
   ]
  },
  {
   "cell_type": "markdown",
   "metadata": {},
   "source": [
    "save data in Pickle format to continue without doing the previous step againn."
   ]
  },
  {
   "cell_type": "code",
   "execution_count": 13,
   "metadata": {},
   "outputs": [],
   "source": [
    "traindata.to_pickle(\"traindata.pkl\")\n",
    "Testdata.to_pickle(\"Testdata.pkl\")"
   ]
  },
  {
   "cell_type": "markdown",
   "metadata": {},
   "source": [
    "resume from saved file"
   ]
  },
  {
   "cell_type": "code",
   "execution_count": 14,
   "metadata": {},
   "outputs": [],
   "source": [
    "import pandas as pd\n",
    "traindata = pd.read_pickle(\"traindata.pkl\")\n",
    "Testdata = pd.read_pickle(\"Testdata.pkl\")"
   ]
  },
  {
   "cell_type": "markdown",
   "metadata": {},
   "source": [
    "Check if there is missing values in both train and test dataset"
   ]
  },
  {
   "cell_type": "code",
   "execution_count": 15,
   "metadata": {},
   "outputs": [
    {
     "data": {
      "text/html": [
       "<div>\n",
       "<style scoped>\n",
       "    .dataframe tbody tr th:only-of-type {\n",
       "        vertical-align: middle;\n",
       "    }\n",
       "\n",
       "    .dataframe tbody tr th {\n",
       "        vertical-align: top;\n",
       "    }\n",
       "\n",
       "    .dataframe thead th {\n",
       "        text-align: right;\n",
       "    }\n",
       "</style>\n",
       "<table border=\"1\" class=\"dataframe\">\n",
       "  <thead>\n",
       "    <tr style=\"text-align: right;\">\n",
       "      <th></th>\n",
       "      <th>id</th>\n",
       "      <th>identification</th>\n",
       "      <th>text</th>\n",
       "      <th>emotion</th>\n",
       "    </tr>\n",
       "  </thead>\n",
       "  <tbody>\n",
       "    <tr>\n",
       "      <th>0</th>\n",
       "      <td>The amoung of missing records is:</td>\n",
       "      <td>The amoung of missing records is:</td>\n",
       "      <td>The amoung of missing records is:</td>\n",
       "      <td>The amoung of missing records is:</td>\n",
       "    </tr>\n",
       "    <tr>\n",
       "      <th>1</th>\n",
       "      <td>0</td>\n",
       "      <td>0</td>\n",
       "      <td>0</td>\n",
       "      <td>0</td>\n",
       "    </tr>\n",
       "  </tbody>\n",
       "</table>\n",
       "</div>"
      ],
      "text/plain": [
       "                                   id                      identification  \\\n",
       "0  The amoung of missing records is:   The amoung of missing records is:    \n",
       "1                                   0                                   0   \n",
       "\n",
       "                                 text                             emotion  \n",
       "0  The amoung of missing records is:   The amoung of missing records is:   \n",
       "1                                   0                                   0  "
      ]
     },
     "execution_count": 15,
     "metadata": {},
     "output_type": "execute_result"
    }
   ],
   "source": [
    "import helpers.data_mining_helpers as dmh\n",
    "traindata.isnull().apply(lambda x: dmh.check_missing_values(x))"
   ]
  },
  {
   "cell_type": "code",
   "execution_count": 16,
   "metadata": {},
   "outputs": [
    {
     "data": {
      "text/html": [
       "<div>\n",
       "<style scoped>\n",
       "    .dataframe tbody tr th:only-of-type {\n",
       "        vertical-align: middle;\n",
       "    }\n",
       "\n",
       "    .dataframe tbody tr th {\n",
       "        vertical-align: top;\n",
       "    }\n",
       "\n",
       "    .dataframe thead th {\n",
       "        text-align: right;\n",
       "    }\n",
       "</style>\n",
       "<table border=\"1\" class=\"dataframe\">\n",
       "  <thead>\n",
       "    <tr style=\"text-align: right;\">\n",
       "      <th></th>\n",
       "      <th>id</th>\n",
       "      <th>identification</th>\n",
       "      <th>text</th>\n",
       "    </tr>\n",
       "  </thead>\n",
       "  <tbody>\n",
       "    <tr>\n",
       "      <th>0</th>\n",
       "      <td>The amoung of missing records is:</td>\n",
       "      <td>The amoung of missing records is:</td>\n",
       "      <td>The amoung of missing records is:</td>\n",
       "    </tr>\n",
       "    <tr>\n",
       "      <th>1</th>\n",
       "      <td>0</td>\n",
       "      <td>0</td>\n",
       "      <td>0</td>\n",
       "    </tr>\n",
       "  </tbody>\n",
       "</table>\n",
       "</div>"
      ],
      "text/plain": [
       "                                   id                      identification  \\\n",
       "0  The amoung of missing records is:   The amoung of missing records is:    \n",
       "1                                   0                                   0   \n",
       "\n",
       "                                 text  \n",
       "0  The amoung of missing records is:   \n",
       "1                                   0  "
      ]
     },
     "execution_count": 16,
     "metadata": {},
     "output_type": "execute_result"
    }
   ],
   "source": [
    "Testdata.isnull().apply(lambda x: dmh.check_missing_values(x))"
   ]
  },
  {
   "cell_type": "markdown",
   "metadata": {},
   "source": [
    "# 1.3 Cleaning text from tweet"
   ]
  },
  {
   "cell_type": "markdown",
   "metadata": {},
   "source": [
    "see text lenght and words count for each tweet before cleaning"
   ]
  },
  {
   "cell_type": "code",
   "execution_count": 17,
   "metadata": {},
   "outputs": [],
   "source": [
    "traindata['textlen'] = [len(t) for t in traindata['text']]\n",
    "Testdata['textlen'] = [len(t) for t in Testdata['text']]\n",
    "traindata['word_count'] = traindata['text'].apply(lambda x: len(str(x).split(\" \")))\n",
    "Testdata['word_count'] = Testdata['text'].apply(lambda x: len(str(x).split(\" \")))"
   ]
  },
  {
   "cell_type": "code",
   "execution_count": 18,
   "metadata": {},
   "outputs": [
    {
     "data": {
      "text/html": [
       "<div>\n",
       "<style scoped>\n",
       "    .dataframe tbody tr th:only-of-type {\n",
       "        vertical-align: middle;\n",
       "    }\n",
       "\n",
       "    .dataframe tbody tr th {\n",
       "        vertical-align: top;\n",
       "    }\n",
       "\n",
       "    .dataframe thead th {\n",
       "        text-align: right;\n",
       "    }\n",
       "</style>\n",
       "<table border=\"1\" class=\"dataframe\">\n",
       "  <thead>\n",
       "    <tr style=\"text-align: right;\">\n",
       "      <th></th>\n",
       "      <th>id</th>\n",
       "      <th>identification</th>\n",
       "      <th>text</th>\n",
       "      <th>emotion</th>\n",
       "      <th>textlen</th>\n",
       "      <th>word_count</th>\n",
       "    </tr>\n",
       "  </thead>\n",
       "  <tbody>\n",
       "    <tr>\n",
       "      <th>355821</th>\n",
       "      <td>0x2e3ded</td>\n",
       "      <td>train</td>\n",
       "      <td>Traveling 2 hours to lose the way we did.... disappointed to say the least. @tombradshaw92 scored  then got taken off?? #confused.com</td>\n",
       "      <td>sadness</td>\n",
       "      <td>133</td>\n",
       "      <td>22</td>\n",
       "    </tr>\n",
       "    <tr>\n",
       "      <th>89944</th>\n",
       "      <td>0x333a3d</td>\n",
       "      <td>train</td>\n",
       "      <td>Melatonin you are my friend and the only reason I sleep 😴 #insomnia #bipolar #rapidcycling &lt;LH&gt; #mentalhealth 😢</td>\n",
       "      <td>anger</td>\n",
       "      <td>111</td>\n",
       "      <td>18</td>\n",
       "    </tr>\n",
       "    <tr>\n",
       "      <th>1062540</th>\n",
       "      <td>0x27444d</td>\n",
       "      <td>train</td>\n",
       "      <td>@vivchook Well, get me one too! 😂 Rudeness seems so much easier for some on social media. &lt;LH&gt;</td>\n",
       "      <td>sadness</td>\n",
       "      <td>94</td>\n",
       "      <td>18</td>\n",
       "    </tr>\n",
       "    <tr>\n",
       "      <th>1190885</th>\n",
       "      <td>0x2b0378</td>\n",
       "      <td>train</td>\n",
       "      <td>@ellisonprinting Thanks Jane ♥ husband in hospital.  Busy up &amp; down. Show @deanclough  staying #optimistic.  Hope all good with you.</td>\n",
       "      <td>joy</td>\n",
       "      <td>132</td>\n",
       "      <td>23</td>\n",
       "    </tr>\n",
       "    <tr>\n",
       "      <th>649939</th>\n",
       "      <td>0x22c7fc</td>\n",
       "      <td>train</td>\n",
       "      <td>Hey @realDonaldTrump when ur done marginalizing the &lt;LH&gt; #MilitaryBan &amp; #Pardoning #JoeArpaio #Texas might need you #HurricaneHarvey &lt;LH&gt;</td>\n",
       "      <td>disgust</td>\n",
       "      <td>137</td>\n",
       "      <td>18</td>\n",
       "    </tr>\n",
       "    <tr>\n",
       "      <th>...</th>\n",
       "      <td>...</td>\n",
       "      <td>...</td>\n",
       "      <td>...</td>\n",
       "      <td>...</td>\n",
       "      <td>...</td>\n",
       "      <td>...</td>\n",
       "    </tr>\n",
       "    <tr>\n",
       "      <th>642098</th>\n",
       "      <td>0x2ef5e1</td>\n",
       "      <td>train</td>\n",
       "      <td>Phil Parker drops two deep. Huh? Blittz! It was 3rd and 12 @IowaFootball. &lt;LH&gt;</td>\n",
       "      <td>sadness</td>\n",
       "      <td>78</td>\n",
       "      <td>14</td>\n",
       "    </tr>\n",
       "    <tr>\n",
       "      <th>1437639</th>\n",
       "      <td>0x36951c</td>\n",
       "      <td>train</td>\n",
       "      <td>\"If you God is dead\" ~ #BrookBenton 😍 #MyTop10At10 😊 WOW!!!!! My childhood days were filled with joyous moments. Thank you @tboseZA &lt;LH&gt;</td>\n",
       "      <td>joy</td>\n",
       "      <td>136</td>\n",
       "      <td>23</td>\n",
       "    </tr>\n",
       "    <tr>\n",
       "      <th>108067</th>\n",
       "      <td>0x38222c</td>\n",
       "      <td>train</td>\n",
       "      <td>Oh my god got one almighty headache this morning &lt;LH&gt; #headache</td>\n",
       "      <td>disgust</td>\n",
       "      <td>63</td>\n",
       "      <td>11</td>\n",
       "    </tr>\n",
       "    <tr>\n",
       "      <th>333393</th>\n",
       "      <td>0x249c4e</td>\n",
       "      <td>train</td>\n",
       "      <td>God has never failed me!!! &lt;LH&gt;</td>\n",
       "      <td>joy</td>\n",
       "      <td>31</td>\n",
       "      <td>6</td>\n",
       "    </tr>\n",
       "    <tr>\n",
       "      <th>1029055</th>\n",
       "      <td>0x25f723</td>\n",
       "      <td>train</td>\n",
       "      <td>The upcoming four day weekend has me feeling &lt;LH&gt; and #humble</td>\n",
       "      <td>joy</td>\n",
       "      <td>61</td>\n",
       "      <td>11</td>\n",
       "    </tr>\n",
       "  </tbody>\n",
       "</table>\n",
       "<p>1455563 rows × 6 columns</p>\n",
       "</div>"
      ],
      "text/plain": [
       "               id identification  \\\n",
       "355821   0x2e3ded          train   \n",
       "89944    0x333a3d          train   \n",
       "1062540  0x27444d          train   \n",
       "1190885  0x2b0378          train   \n",
       "649939   0x22c7fc          train   \n",
       "...           ...            ...   \n",
       "642098   0x2ef5e1          train   \n",
       "1437639  0x36951c          train   \n",
       "108067   0x38222c          train   \n",
       "333393   0x249c4e          train   \n",
       "1029055  0x25f723          train   \n",
       "\n",
       "                                                                                                                                              text  \\\n",
       "355821       Traveling 2 hours to lose the way we did.... disappointed to say the least. @tombradshaw92 scored  then got taken off?? #confused.com   \n",
       "89944                              Melatonin you are my friend and the only reason I sleep 😴 #insomnia #bipolar #rapidcycling <LH> #mentalhealth 😢   \n",
       "1062540                                             @vivchook Well, get me one too! 😂 Rudeness seems so much easier for some on social media. <LH>   \n",
       "1190885       @ellisonprinting Thanks Jane ♥ husband in hospital.  Busy up & down. Show @deanclough  staying #optimistic.  Hope all good with you.   \n",
       "649939   Hey @realDonaldTrump when ur done marginalizing the <LH> #MilitaryBan & #Pardoning #JoeArpaio #Texas might need you #HurricaneHarvey <LH>   \n",
       "...                                                                                                                                            ...   \n",
       "642098                                                              Phil Parker drops two deep. Huh? Blittz! It was 3rd and 12 @IowaFootball. <LH>   \n",
       "1437639   \"If you God is dead\" ~ #BrookBenton 😍 #MyTop10At10 😊 WOW!!!!! My childhood days were filled with joyous moments. Thank you @tboseZA <LH>   \n",
       "108067                                                                             Oh my god got one almighty headache this morning <LH> #headache   \n",
       "333393                                                                                                             God has never failed me!!! <LH>   \n",
       "1029055                                                                              The upcoming four day weekend has me feeling <LH> and #humble   \n",
       "\n",
       "         emotion  textlen  word_count  \n",
       "355821   sadness      133          22  \n",
       "89944      anger      111          18  \n",
       "1062540  sadness       94          18  \n",
       "1190885      joy      132          23  \n",
       "649939   disgust      137          18  \n",
       "...          ...      ...         ...  \n",
       "642098   sadness       78          14  \n",
       "1437639      joy      136          23  \n",
       "108067   disgust       63          11  \n",
       "333393       joy       31           6  \n",
       "1029055      joy       61          11  \n",
       "\n",
       "[1455563 rows x 6 columns]"
      ]
     },
     "execution_count": 18,
     "metadata": {},
     "output_type": "execute_result"
    }
   ],
   "source": [
    "traindata"
   ]
  },
  {
   "cell_type": "markdown",
   "metadata": {},
   "source": [
    "Create Function to clean text from tweet"
   ]
  },
  {
   "cell_type": "markdown",
   "metadata": {},
   "source": [
    "Because texts from tweets is too messy so i'll do some cleaning before doing EDA\n",
    "These are the following steps that I do for text cleaning:\n",
    "\n",
    "0. Replace emoticon with text\n",
    "1. Replace emoji with text\n",
    "2. Remove whitespace/url/mentions/hashtags/HTML/multiple letter/special letter\n",
    "3. Lowercase\n",
    "4. Replace contractions/slangs"
   ]
  },
  {
   "cell_type": "markdown",
   "metadata": {},
   "source": [
    "For emoticon, contraction, and slang  I found a list of both things from github and I will use them to replace the original text(credit: https://github.com/Deffro/text-preprocessing-techniques/blob/master/techniques.py)"
   ]
  },
  {
   "cell_type": "code",
   "execution_count": 19,
   "metadata": {},
   "outputs": [],
   "source": [
    "# defined emoticon\n",
    "def load_dict_smileys():\n",
    "    \n",
    "    return {\n",
    "        \":‑)\":\"smiley\",\n",
    "        \":-]\":\"smiley\",\n",
    "        \":-3\":\"smiley\",\n",
    "        \":->\":\"smiley\",\n",
    "        \"8-)\":\"smiley\",\n",
    "        \":-}\":\"smiley\",\n",
    "        \":)\":\"smiley\",\n",
    "        \":]\":\"smiley\",\n",
    "        \":3\":\"smiley\",\n",
    "        \":>\":\"smiley\",\n",
    "        \"8)\":\"smiley\",\n",
    "        \":}\":\"smiley\",\n",
    "        \":o)\":\"smiley\",\n",
    "        \":c)\":\"smiley\",\n",
    "        \":^)\":\"smiley\",\n",
    "        \"=]\":\"smiley\",\n",
    "        \"=)\":\"smiley\",\n",
    "        \":-))\":\"smiley\",\n",
    "        \":‑D\":\"smiley\",\n",
    "        \"8‑D\":\"smiley\",\n",
    "        \"x‑D\":\"smiley\",\n",
    "        \"X‑D\":\"smiley\",\n",
    "        \":D\":\"smiley\",\n",
    "        \"8D\":\"smiley\",\n",
    "        \"xD\":\"smiley\",\n",
    "        \"XD\":\"smiley\",\n",
    "        \":‑(\":\"sad\",\n",
    "        \":‑c\":\"sad\",\n",
    "        \":‑<\":\"sad\",\n",
    "        \":‑[\":\"sad\",\n",
    "        \":(\":\"sad\",\n",
    "        \":c\":\"sad\",\n",
    "        \":<\":\"sad\",\n",
    "        \":[\":\"sad\",\n",
    "        \":-||\":\"sad\",\n",
    "        \">:[\":\"sad\",\n",
    "        \":{\":\"sad\",\n",
    "        \":@\":\"sad\",\n",
    "        \">:(\":\"sad\",\n",
    "        \":'‑(\":\"sad\",\n",
    "        \":'(\":\"sad\",\n",
    "        \":‑P\":\"playful\",\n",
    "        \"X‑P\":\"playful\",\n",
    "        \"x‑p\":\"playful\",\n",
    "        \":‑p\":\"playful\",\n",
    "        \":‑Þ\":\"playful\",\n",
    "        \":‑þ\":\"playful\",\n",
    "        \":‑b\":\"playful\",\n",
    "        \":P\":\"playful\",\n",
    "        \"XP\":\"playful\",\n",
    "        \"xp\":\"playful\",\n",
    "        \":p\":\"playful\",\n",
    "        \":Þ\":\"playful\",\n",
    "        \":þ\":\"playful\",\n",
    "        \":b\":\"playful\",\n",
    "        \"<3\":\"love\"\n",
    "        }"
   ]
  },
  {
   "cell_type": "code",
   "execution_count": 20,
   "metadata": {},
   "outputs": [],
   "source": [
    "# defined contractions/slangs\n",
    "def load_dict_contractions():\n",
    "    \n",
    "    return {\n",
    "        \"ain't\":\"is not\",\n",
    "        \"amn't\":\"am not\",\n",
    "        \"aren't\":\"are not\",\n",
    "        \"can't\":\"cannot\",\n",
    "        \"'cause\":\"because\",\n",
    "        \"couldn't\":\"could not\",\n",
    "        \"couldn't've\":\"could not have\",\n",
    "        \"could've\":\"could have\",\n",
    "        \"daren't\":\"dare not\",\n",
    "        \"daresn't\":\"dare not\",\n",
    "        \"dasn't\":\"dare not\",\n",
    "        \"didn't\":\"did not\",\n",
    "        \"doesn't\":\"does not\",\n",
    "        \"don't\":\"do not\",\n",
    "        \"e'er\":\"ever\",\n",
    "        \"em\":\"them\",\n",
    "        \"everyone's\":\"everyone is\",\n",
    "        \"finna\":\"fixing to\",\n",
    "        \"gimme\":\"give me\",\n",
    "        \"gonna\":\"going to\",\n",
    "        \"gon't\":\"go not\",\n",
    "        \"gotta\":\"got to\",\n",
    "        \"hadn't\":\"had not\",\n",
    "        \"hasn't\":\"has not\",\n",
    "        \"haven't\":\"have not\",\n",
    "        \"he'd\":\"he would\",\n",
    "        \"he'll\":\"he will\",\n",
    "        \"he's\":\"he is\",\n",
    "        \"he've\":\"he have\",\n",
    "        \"how'd\":\"how would\",\n",
    "        \"how'll\":\"how will\",\n",
    "        \"how're\":\"how are\",\n",
    "        \"how's\":\"how is\",\n",
    "        \"I'd\":\"I would\",\n",
    "        \"I'll\":\"I will\",\n",
    "        \"I'm\":\"I am\",\n",
    "        \"I'm'a\":\"I am about to\",\n",
    "        \"I'm'o\":\"I am going to\",\n",
    "        \"isn't\":\"is not\",\n",
    "        \"it'd\":\"it would\",\n",
    "        \"it'll\":\"it will\",\n",
    "        \"it's\":\"it is\",\n",
    "        \"I've\":\"I have\",\n",
    "        \"kinda\":\"kind of\",\n",
    "        \"let's\":\"let us\",\n",
    "        \"mayn't\":\"may not\",\n",
    "        \"may've\":\"may have\",\n",
    "        \"mightn't\":\"might not\",\n",
    "        \"might've\":\"might have\",\n",
    "        \"mustn't\":\"must not\",\n",
    "        \"mustn't've\":\"must not have\",\n",
    "        \"must've\":\"must have\",\n",
    "        \"needn't\":\"need not\",\n",
    "        \"ne'er\":\"never\",\n",
    "        \"o'\":\"of\",\n",
    "        \"o'er\":\"over\",\n",
    "        \"ol'\":\"old\",\n",
    "        \"oughtn't\":\"ought not\",\n",
    "        \"shalln't\":\"shall not\",\n",
    "        \"shan't\":\"shall not\",\n",
    "        \"she'd\":\"she would\",\n",
    "        \"she'll\":\"she will\",\n",
    "        \"she's\":\"she is\",\n",
    "        \"shouldn't\":\"should not\",\n",
    "        \"shouldn't've\":\"should not have\",\n",
    "        \"should've\":\"should have\",\n",
    "        \"somebody's\":\"somebody is\",\n",
    "        \"someone's\":\"someone is\",\n",
    "        \"something's\":\"something is\",\n",
    "        \"that'd\":\"that would\",\n",
    "        \"that'll\":\"that will\",\n",
    "        \"that're\":\"that are\",\n",
    "        \"that's\":\"that is\",\n",
    "        \"there'd\":\"there would\",\n",
    "        \"there'll\":\"there will\",\n",
    "        \"there're\":\"there are\",\n",
    "        \"there's\":\"there is\",\n",
    "        \"these're\":\"these are\",\n",
    "        \"they'd\":\"they would\",\n",
    "        \"they'll\":\"they will\",\n",
    "        \"they're\":\"they are\",\n",
    "        \"they've\":\"they have\",\n",
    "        \"this's\":\"this is\",\n",
    "        \"those're\":\"those are\",\n",
    "        \"'tis\":\"it is\",\n",
    "        \"'twas\":\"it was\",\n",
    "        \"wanna\":\"want to\",\n",
    "        \"wasn't\":\"was not\",\n",
    "        \"we'd\":\"we would\",\n",
    "        \"we'd've\":\"we would have\",\n",
    "        \"we'll\":\"we will\",\n",
    "        \"we're\":\"we are\",\n",
    "        \"weren't\":\"were not\",\n",
    "        \"we've\":\"we have\",\n",
    "        \"what'd\":\"what did\",\n",
    "        \"what'll\":\"what will\",\n",
    "        \"what're\":\"what are\",\n",
    "        \"what's\":\"what is\",\n",
    "        \"what've\":\"what have\",\n",
    "        \"when's\":\"when is\",\n",
    "        \"where'd\":\"where did\",\n",
    "        \"where're\":\"where are\",\n",
    "        \"where's\":\"where is\",\n",
    "        \"where've\":\"where have\",\n",
    "        \"which's\":\"which is\",\n",
    "        \"who'd\":\"who would\",\n",
    "        \"who'd've\":\"who would have\",\n",
    "        \"who'll\":\"who will\",\n",
    "        \"who're\":\"who are\",\n",
    "        \"who's\":\"who is\",\n",
    "        \"who've\":\"who have\",\n",
    "        \"why'd\":\"why did\",\n",
    "        \"why're\":\"why are\",\n",
    "        \"why's\":\"why is\",\n",
    "        \"won't\":\"will not\",\n",
    "        \"wouldn't\":\"would not\",\n",
    "        \"would've\":\"would have\",\n",
    "        \"y'all\":\"you all\",\n",
    "        \"you'd\":\"you would\",\n",
    "        \"you'll\":\"you will\",\n",
    "        \"you're\":\"you are\",\n",
    "        \"you've\":\"you have\",\n",
    "        \"Whatcha\":\"What are you\",\n",
    "        \"luv\":\"love\",\n",
    "        \"u\":\"you\",\n",
    "        \"r\":\"are\",\n",
    "        \"sux\":\"sucks\",\n",
    "        \"2day\":\"today\",\n",
    "        \"2nite\":\"tonight\",\n",
    "        \"4u\":\"for you\",\n",
    "        \"4ward\":\"forward\",\n",
    "        \"a3\":\"anyplace, anywhere, anytime\",\n",
    "        \"a/n\":\"author note\",\n",
    "        \"a/w\":\"anyway\",\n",
    "        \"a/s/l\":\"age, sex, location\",\n",
    "        \"adn\":\"any day now\",\n",
    "        \"afaic\":\"as far as i'm concerned\",\n",
    "        \"afaik\":\"as far as I know\",\n",
    "        \"afk\":\"away from keyboard\",\n",
    "        \"aggro\":\"aggresive\",\n",
    "        \"aight\":\"alright\",\n",
    "        \"airhead\":\"stupid\",\n",
    "        \"aka\":\"as known as\",\n",
    "        \"alol\":\"actually laughing out loud\",\n",
    "        \"amigo\":\"friend\",\n",
    "        \"amz\":\"amazing\",\n",
    "        \"app\":\"application\",\n",
    "        \"armpit\":\"undesirable\",\n",
    "        \"asap\":\"as soon as possible\",\n",
    "        \"atm\":\"at the moment\",\n",
    "        \"atw\":\"all the way\",\n",
    "        \"b/c\":\"because\",\n",
    "        \"b-day\":\"birthday\",\n",
    "        \"b4\":\"before\",\n",
    "        \"b4n\":\"bye for now\",\n",
    "        \"bae\":\"before anyone else\",\n",
    "        \"bak\":\"back at the keyboard\",\n",
    "        \"bbl\":\"bee back later\",\n",
    "        \"bday\":\"birthday\",\n",
    "        \"becuz\":\"because\",\n",
    "        \"bent\":\"angry\",\n",
    "        \"bestie\":\"best friend\",\n",
    "        \"besty\":\"best friend\",\n",
    "        \"bf\":\"boyfriend\",\n",
    "        \"bff\":\"best friends forever\",\n",
    "        \"bffe\":\"best friends forever\",\n",
    "        \"bfn\":\"bye for now\",\n",
    "        \"bg\":\"big grin\",\n",
    "        \"bmfe\":\"best mates forever\",\n",
    "        \"bmfl\":\"best mates life\",\n",
    "        \"bozo\":\"idiot\",\n",
    "        \"brah\":\"friend\",\n",
    "        \"bravo\":\"well done\",\n",
    "        \"brb\":\"be right back\",\n",
    "        \"bro\":\"brother\",\n",
    "        \"bta\":\"but then again\",\n",
    "        \"btdt\":\"been there, done that\",\n",
    "        \"btr\":\"better\",\n",
    "        \"btw\":\"by the way\",\n",
    "        \"buddy\":\"friend\",\n",
    "        \"c'mon\":\"came on\",\n",
    "        \"cid crying in disgrace\":\"\",\n",
    "        \"congrats congratulations\":\"\",\n",
    "        \"copacetic excellent\":\"\",\n",
    "        \"coz beacause\":\"\",\n",
    "        \"cu\":\"see you\",\n",
    "        \"cuddy\":\"friends\",\n",
    "        \"cul\":\"see you later\",\n",
    "        \"cul8r\":\"see you later \",\n",
    "        \"cutie\":\"cute\",\n",
    "        \"cuz\":\"because\",\n",
    "        \"cya\":\"bye\",\n",
    "        \"cyo\":\"see you online \",\n",
    "        \"dbau\":\"doing business as usual\",\n",
    "        \"deets\":\"details\",\n",
    "        \"dmn\":\"damn\",\n",
    "        \"dobe\":\"idiot\",\n",
    "        \"dope\":\"stupid\",\n",
    "        \"dork\":\"strange\",\n",
    "        \"dunno\":\"don't know\",\n",
    "        \"dwi\":\"deal with it\",\n",
    "        \"dyd\":\"don't you dare\",\n",
    "        \"ermahgerd\":\"oh my gosh\",\n",
    "        \"eu\":\"europe\",\n",
    "        \"ez\":\"easy\",\n",
    "        \"f9\":\"fine\",\n",
    "        \"fav\":\"favorite\",\n",
    "        \"far-out\":\"great\",\n",
    "        \"fb\":\"facebook\",\n",
    "        \"flick\":\"movie\",\n",
    "        \"fml\":\"fuck my life\",\n",
    "        \"foxy\":\"sexy\",\n",
    "        \"friggin\":\"freaking\",\n",
    "        \"fttn\":\"for the time being\",\n",
    "        \"ftw\":\"for the win\",\n",
    "        \"fud\":\"fear, uncertainty, and doubt\",\n",
    "        \"fwiw\":\"for what it's worth \",\n",
    "        \"fyi\":\"for your information\",\n",
    "        \"g\":\"grin \",\n",
    "        \"g2g\":\"got to go \",\n",
    "        \"ga\":\"go ahead \",\n",
    "        \"gal\":\"get a life\",\n",
    "        \"getcha\":\"understand \",\n",
    "        \"gf\":\"girlfriend \",\n",
    "        \"gfn\":\"gone for now\",\n",
    "        \"gg\":\"good game\",\n",
    "        \"gj\":\"good job\",\n",
    "        \"gky\":\"go kill yourself\",\n",
    "        \"gl\":\"good luck\",\n",
    "        \"glhf\":\"good luck have fun\",\n",
    "        \"gmab\":\"give me a break\",\n",
    "        \"gmbo\":\"giggling my butt off \",\n",
    "        \"gmta\":\"great minds think alike \",\n",
    "        \"goof\":\"idiot\",\n",
    "        \"goofy\":\"idiot\",\n",
    "        \"gr8\":\"great\",\n",
    "        \"gtg\":\"got to go\",\n",
    "        \"gud\":\"good\",\n",
    "        \"h8\":\"hate\",\n",
    "        \"hagn\":\"have a good night \",\n",
    "        \"hdop\":\"help delete online predators \",\n",
    "        \"hf\":\"have fun\",\n",
    "        \"hml\":\"hate my life\",\n",
    "        \"hoas\":\"hold on a second\",\n",
    "        \"hhis\":\"hanging head in shame \",\n",
    "        \"hmu\":\"hit me up\",\n",
    "        \"hru\":\"how are you\",\n",
    "        \"twt\":\"hope this helps\",\n",
    "        \"hw\":\"homework\",\n",
    "        \"im\":\"i am\",\n",
    "        \"i'ma\":\"i am going to\",\n",
    "        \"iac\":\"in any case \",\n",
    "        \"ic\":\"I see \",\n",
    "        \"icymi\":\"in case you missed it\",\n",
    "        \"idk\":\"I don't know\",\n",
    "        \"iggy\":\"ignore \",\n",
    "        \"iht\":\"i hate this\",\n",
    "        \"ikr\":\"i know, right?\",\n",
    "        \"ilt\":\"i like that\",\n",
    "        \"ily\":\"i love you\",\n",
    "        \"ima\":\"i am going to \",\n",
    "        \"imao\":\"in my arrogant opinion\",\n",
    "        \"imnsho\":\"in my not so humble opinion \",\n",
    "        \"imo\":\"in my opinion \",\n",
    "        \"imy\":\"i miss you\",\n",
    "        \"iou\":\"i owe you\",\n",
    "        \"iow\":\"in other words \",\n",
    "        \"ipn\":\"I’m posting naked \",\n",
    "        \"irl\":\"in real life \",\n",
    "        \"j/k\":\"just kidding\",\n",
    "        \"jdi\":\"just do it\",\n",
    "        \"jk\":\"just kidding\",\n",
    "        \"jkn\":\"joking\",\n",
    "        \"jyeah\":\"yeah\",\n",
    "        \"kinda\":\"kind of\",\n",
    "        \"l8\":\"late\",\n",
    "        \"l8r\":\"later\",\n",
    "        \"lbh\":\"let's be honest\",\n",
    "        \"ld\":\"later, dude\",\n",
    "        \"ldi\":\"let's do it  \",\n",
    "        \"ldr\":\"long distance relationship \",\n",
    "        \"lees\":\"beautiful \",\n",
    "        \"lfm\":\"looking for more\",\n",
    "        \"lil\":\"little\",\n",
    "        \"llta\":\"lots and lots of thunderous applause \",\n",
    "        \"lmao\":\"laugh my ass off\",\n",
    "        \"lmirl\":\"let's meet in real life \",\n",
    "        \"lmk\":\"let me know\",\n",
    "        \"lol\":\"laugh out loud\",\n",
    "        \"lolz\":\"laugh out loud\",\n",
    "        \"lotta\":\"lot of\",\n",
    "        \"lsr\":\"loser\",\n",
    "        \"ltr\":\"longterm relationship\",\n",
    "        \"lua\":\"love you always \",\n",
    "        \"lub\":\"love\",\n",
    "        \"lubb\":\"love\",\n",
    "        \"lulab\":\"love you like a brother \",\n",
    "        \"lulas\":\"love you like a sister \",\n",
    "        \"lul\":\"laugh\",\n",
    "        \"luls\":\"laugh\",\n",
    "        \"lulz\":\"laugh\",\n",
    "        \"lumu\":\"love you miss you\",\n",
    "        \"luv\":\"love\",\n",
    "        \"lux\":\"luxury\",\n",
    "        \"lwm\":\"laugh with me\",\n",
    "        \"lwp\":\"laugh with passion\",\n",
    "        \"lvl\":\"level\",\n",
    "        \"m/f\":\"male or female\",\n",
    "        \"m2\":\"me too\",\n",
    "        \"m8\":\"mate\",\n",
    "        \"me2\":\"me too\",\n",
    "        \"milf\":\"mother I would like to fuck\",\n",
    "        \"mma\":\"meet me at\",\n",
    "        \"mmb\":\"message me back\",\n",
    "        \"mvp\":\"most valueable player\",\n",
    "        \"msg\":\"message\",\n",
    "        \"mtf\":\"more to follow\",\n",
    "        \"myob\":\"mind your own business\",\n",
    "        \"nah\":\"no\",\n",
    "        \"nc\":\"no comment\",\n",
    "        \"nk\":\"not kidding\",\n",
    "        \"ngl\":\"not gonna lie\",\n",
    "        \"nlt\":\"no later than\",\n",
    "        \"nm\":\"not much\",\n",
    "        \"no1\":\"no one\",\n",
    "        \"np\":\"no problem\",\n",
    "        \"nsfw\":\"not safe for work\",\n",
    "        \"nuh\":\"no\",\n",
    "        \"nvm\":\"nevermind\",\n",
    "        \"obo\":\"or best offer\",\n",
    "        \"oic\":\"oh, i see\",\n",
    "        \"oll\":\"online love \",\n",
    "        \"omg\":\"oh my god\",\n",
    "        \"omw\":\"on my way\",\n",
    "        \"osm\":\"awesome\",\n",
    "        \"otoh\":\"on the other hand \",\n",
    "        \"perv\":\"pervert\",\n",
    "        \"pervy\":\"pervert\",\n",
    "        \"phat\":\"pretty hot and tempting\",\n",
    "        \"pir\":\"parent in room\",\n",
    "        \"pls\":\"please\",\n",
    "        \"plz\":\"please\",\n",
    "        \"ppl\":\"people\",\n",
    "        \"pro\":\"professional\",\n",
    "        \"pwnd\":\"owned\",\n",
    "        \"qq\":\"crying\",\n",
    "        \"r\":\"are\",\n",
    "        \"rly\":\"really\",\n",
    "        \"rofl\":\"roll on the floor laughing\",\n",
    "        \"rolf\":\"roll on the floor laughing\",\n",
    "        \"rpg\":\"role playing games\",\n",
    "        \"ru\":\"are you\",\n",
    "        \"s2u\":\"shame to you\",\n",
    "        \"scrub\":\"loser\",\n",
    "        \"sec\":\"second\",\n",
    "        \"shid\":\"slaps head in disgust\",\n",
    "        \"shoulda\":\"should have\",\n",
    "        \"sff\":\"so funny\",\n",
    "        \"smexy\":\"smart and sexy\",\n",
    "        \"smh\":\"shaking my head\",\n",
    "        \"somy\":\"sick of me yet\",\n",
    "        \"sot\":\"short of time \",\n",
    "        \"sry\":\"sorry\",\n",
    "        \"str8\":\"straight\",\n",
    "        \"sux\":\"sucks\",\n",
    "        \"swag\":\"style\",\n",
    "        \"taze\":\"irritate\",\n",
    "        \"tba\":\"to be announced\",\n",
    "        \"tbfu\":\"too bad for you\",\n",
    "        \"tbc\":\"to be continued\",\n",
    "        \"tbd\":\"to be determined\",\n",
    "        \"tbr\":\"to be rude\",\n",
    "        \"tc\":\"take care\",\n",
    "        \"thx\":\"thanks\",\n",
    "        \"thanx\":\"thanks\",\n",
    "        \"thx\":\"thanks\",\n",
    "        \"tfw\":\"that feeling  when\",\n",
    "        \"til\":\"today i learned\",\n",
    "        \"ttyl\":\"talk to you later \",\n",
    "        \"ty\":\"thank you\",\n",
    "        \"tyvm\":\"thank you very much\",\n",
    "        \"u\":\"you\",\n",
    "        \"uber\":\"the best\",\n",
    "        \"ugh\":\"disgusted\",\n",
    "        \"ur\":\"you are\",\n",
    "        \"uw\":\"you are welcome \",\n",
    "        \"vs\":\"versus\",\n",
    "        \"w2f\":\"way too funny\",\n",
    "        \"w8\":\"wait\",\n",
    "        \"wak\":\"weird\",\n",
    "        \"wanna\":\"want to\",\n",
    "        \"wb\":\"welcome back\",\n",
    "        \"whiz\":\"talented\",\n",
    "        \"whoa\":\"surprise\",\n",
    "        \"whoah\":\"surprise\",\n",
    "        \"wfm\":\"works for me \",\n",
    "        \"wibni\":\"wouldn't it be nice if \",\n",
    "        \"wmd\":\"weapon of mass destruction\",\n",
    "        \"wot\":\"what\",\n",
    "        \"wtf\":\"what the fuck\",\n",
    "        \"wtg\":\"way to go\",\n",
    "        \"wtgp\":\"want to go private\",\n",
    "        \"wu\":\"what's up\",\n",
    "        \"wuh\":\"what?\",\n",
    "        \"wuv\":\"love\",\n",
    "        \"ym\":\"young man\",\n",
    "        \"yawn\":\"boring\",\n",
    "        \"yum\":\"good\",\n",
    "        \"x\":\"kiss\",\n",
    "        \"xxx\":\"kiss\",\n",
    "        \"xdd\":\"laughing\",\n",
    "        \"y\":\"why\",\n",
    "        \"yolo\":\"you only live once\",\n",
    "        \"yuge\":\"huge\",\n",
    "        \"yw\":\"you are welcome\",\n",
    "        \"ywa\":\"you are welcome anyway\",\n",
    "        \"zomg\":\"oh my god!\",\n",
    "        \"zzz\":\"sleeping\"    \n",
    "        }"
   ]
  },
  {
   "cell_type": "code",
   "execution_count": 21,
   "metadata": {},
   "outputs": [],
   "source": [
    "#replace emoticon with words in the dictionary\n",
    "emoticon=load_dict_smileys()\n",
    "def demoticon(text):\n",
    "    text = text.replace(\"’\",\"'\")\n",
    "    words = text.split()\n",
    "    text = [emoticon[text] if text in emoticon else text for text in words]\n",
    "    text = \" \".join(text)\n",
    "    return text"
   ]
  },
  {
   "cell_type": "code",
   "execution_count": 22,
   "metadata": {},
   "outputs": [],
   "source": [
    "#https://pypi.org/project/emoji/\n",
    "#if ImportError: cannot import name 'UNICODE_EMOJI' from 'emoji', reinstall below.\n",
    "#pip uninstall emoji\n",
    "#https://anaconda.org/conda-forge/emoji\n",
    "#conda install -c conda-forge emoji==1.6.3\n",
    "\n",
    "import emoji\n",
    "from emoji import emojize\n",
    "# add space before and after the emoji\n",
    "from emoji import UNICODE_EMOJI\n",
    "def is_emoji(s, language=\"en\"):\n",
    "    return s in UNICODE_EMOJI[language]\n",
    "    \n",
    "def add_space(text):\n",
    "    return ''.join(' ' + char + ' 'if is_emoji(char) else char for char in text).strip()"
   ]
  },
  {
   "cell_type": "code",
   "execution_count": 23,
   "metadata": {},
   "outputs": [],
   "source": [
    "#replace emoji using emoji library\n",
    "def demoji(text):\n",
    "    text = emoji.demojize(text, delimiters=(\"\", \" \"))  \n",
    "    return text"
   ]
  },
  {
   "cell_type": "code",
   "execution_count": 24,
   "metadata": {},
   "outputs": [],
   "source": [
    "#clean noisy data\n",
    "import re\n",
    "import itertools\n",
    "def cleaning_text(text):    \n",
    "    text = text.strip() # remove white space\n",
    "    text = re.sub(r'http\\S+', \"\", text)    # remove urls\n",
    "    text = re.sub(r'@\\w+','',text)         # remove mentions\n",
    "    text = re.sub(r'#', '', text)       # remove hastags \\w+\n",
    "    text = re.sub(r'<\\w+','', text)       # remove html tags\n",
    "    text = re.sub(r'<.*?>|&([a-z0-9]+|#[0-9]{1,6}|#x[0-9a-f]{1,6});', '', text) \n",
    "    text = re.sub(r'>', '', text)\n",
    "    text = ''.join(''.join(s)[:2] for _, s in itertools.groupby(text)) # remove multiple letters\n",
    "    text = text.lower()  #convert to lower case\n",
    "    text = re.sub('[!,*)@#%(&$_?.^+->:;/\\\"]', '', text)\n",
    "    return text"
   ]
  },
  {
   "cell_type": "code",
   "execution_count": 25,
   "metadata": {},
   "outputs": [],
   "source": [
    "#replace the contractions\n",
    "CONTRACTIONS=load_dict_contractions()\n",
    "def replaceconslang(text):\n",
    "    text = text.replace(\"’\",\"'\")\n",
    "    words = text.split()\n",
    "    text = [CONTRACTIONS[text] if text in CONTRACTIONS else text for text in words]\n",
    "    text = \" \".join(text)\n",
    "    text =re.sub('[^a-zA-Z0-9 \\n\\.]', '', text)\n",
    "    return text"
   ]
  },
  {
   "cell_type": "markdown",
   "metadata": {},
   "source": [
    "Apply function to dataframe & insert into new column"
   ]
  },
  {
   "cell_type": "code",
   "execution_count": 26,
   "metadata": {},
   "outputs": [
    {
     "name": "stdout",
     "output_type": "stream",
     "text": [
      "CPU times: total: 3min 2s\n",
      "Wall time: 3min 2s\n"
     ]
    }
   ],
   "source": [
    "%%time\n",
    "traindata['cleantext']=traindata['text'].apply(lambda x: demoticon(x))\n",
    "Testdata['cleantext']=Testdata['text'].apply(lambda x: demoticon(x))\n",
    "traindata['cleantext']=traindata['cleantext'].apply(lambda x: add_space(x))\n",
    "Testdata['cleantext']=Testdata['cleantext'].apply(lambda x: add_space(x))\n",
    "traindata['cleantext']=traindata['cleantext'].apply(lambda x: demoji(x))\n",
    "Testdata['cleantext']=Testdata['cleantext'].apply(lambda x: demoji(x))\n",
    "traindata['cleantext']=traindata['cleantext'].apply(lambda x: cleaning_text(x))\n",
    "Testdata['cleantext']=Testdata['cleantext'].apply(lambda x: cleaning_text(x))\n",
    "traindata['cleantext']=traindata['cleantext'].apply(lambda x: replaceconslang(x))\n",
    "Testdata['cleantext']=Testdata['cleantext'].apply(lambda x: replaceconslang(x))"
   ]
  },
  {
   "cell_type": "code",
   "execution_count": 27,
   "metadata": {},
   "outputs": [],
   "source": [
    "traindata['textlenafter']=[len(t) for t in traindata['cleantext']]\n",
    "traindata['word_countafter'] = traindata['cleantext'].apply(lambda x: len(str(x).split(\" \")))"
   ]
  },
  {
   "cell_type": "code",
   "execution_count": 28,
   "metadata": {},
   "outputs": [
    {
     "data": {
      "text/html": [
       "<div>\n",
       "<style scoped>\n",
       "    .dataframe tbody tr th:only-of-type {\n",
       "        vertical-align: middle;\n",
       "    }\n",
       "\n",
       "    .dataframe tbody tr th {\n",
       "        vertical-align: top;\n",
       "    }\n",
       "\n",
       "    .dataframe thead th {\n",
       "        text-align: right;\n",
       "    }\n",
       "</style>\n",
       "<table border=\"1\" class=\"dataframe\">\n",
       "  <thead>\n",
       "    <tr style=\"text-align: right;\">\n",
       "      <th></th>\n",
       "      <th>id</th>\n",
       "      <th>identification</th>\n",
       "      <th>text</th>\n",
       "      <th>emotion</th>\n",
       "      <th>textlen</th>\n",
       "      <th>word_count</th>\n",
       "      <th>cleantext</th>\n",
       "      <th>textlenafter</th>\n",
       "      <th>word_countafter</th>\n",
       "    </tr>\n",
       "  </thead>\n",
       "  <tbody>\n",
       "    <tr>\n",
       "      <th>355821</th>\n",
       "      <td>0x2e3ded</td>\n",
       "      <td>train</td>\n",
       "      <td>Traveling 2 hours to lose the way we did.... disappointed to say the least. @tombradshaw92 scored  then got taken off?? #confused.com</td>\n",
       "      <td>sadness</td>\n",
       "      <td>133</td>\n",
       "      <td>22</td>\n",
       "      <td>traveling hours to lose the way we did disappointed to say the least scored then got taken off confusedcom</td>\n",
       "      <td>106</td>\n",
       "      <td>19</td>\n",
       "    </tr>\n",
       "    <tr>\n",
       "      <th>89944</th>\n",
       "      <td>0x333a3d</td>\n",
       "      <td>train</td>\n",
       "      <td>Melatonin you are my friend and the only reason I sleep 😴 #insomnia #bipolar #rapidcycling &lt;LH&gt; #mentalhealth 😢</td>\n",
       "      <td>anger</td>\n",
       "      <td>111</td>\n",
       "      <td>18</td>\n",
       "      <td>melatonin you are my friend and the only reason i sleep sleepingface insomnia bipolar rapidcycling mentalhealth cryingface</td>\n",
       "      <td>122</td>\n",
       "      <td>17</td>\n",
       "    </tr>\n",
       "    <tr>\n",
       "      <th>1062540</th>\n",
       "      <td>0x27444d</td>\n",
       "      <td>train</td>\n",
       "      <td>@vivchook Well, get me one too! 😂 Rudeness seems so much easier for some on social media. &lt;LH&gt;</td>\n",
       "      <td>sadness</td>\n",
       "      <td>94</td>\n",
       "      <td>18</td>\n",
       "      <td>well get me one too facewithtearsofjoy rudeness seems so much easier for some on social media</td>\n",
       "      <td>93</td>\n",
       "      <td>16</td>\n",
       "    </tr>\n",
       "    <tr>\n",
       "      <th>1190885</th>\n",
       "      <td>0x2b0378</td>\n",
       "      <td>train</td>\n",
       "      <td>@ellisonprinting Thanks Jane ♥ husband in hospital.  Busy up &amp; down. Show @deanclough  staying #optimistic.  Hope all good with you.</td>\n",
       "      <td>joy</td>\n",
       "      <td>132</td>\n",
       "      <td>23</td>\n",
       "      <td>thanks jane heartsuit husband in hospital busy up down show staying optimistic hope all good with you</td>\n",
       "      <td>101</td>\n",
       "      <td>17</td>\n",
       "    </tr>\n",
       "    <tr>\n",
       "      <th>649939</th>\n",
       "      <td>0x22c7fc</td>\n",
       "      <td>train</td>\n",
       "      <td>Hey @realDonaldTrump when ur done marginalizing the &lt;LH&gt; #MilitaryBan &amp; #Pardoning #JoeArpaio #Texas might need you #HurricaneHarvey &lt;LH&gt;</td>\n",
       "      <td>disgust</td>\n",
       "      <td>137</td>\n",
       "      <td>18</td>\n",
       "      <td>hey when you are done marginalizing the militaryban pardoning joearpaio texas might need you hurricaneharvey</td>\n",
       "      <td>108</td>\n",
       "      <td>15</td>\n",
       "    </tr>\n",
       "    <tr>\n",
       "      <th>...</th>\n",
       "      <td>...</td>\n",
       "      <td>...</td>\n",
       "      <td>...</td>\n",
       "      <td>...</td>\n",
       "      <td>...</td>\n",
       "      <td>...</td>\n",
       "      <td>...</td>\n",
       "      <td>...</td>\n",
       "      <td>...</td>\n",
       "    </tr>\n",
       "    <tr>\n",
       "      <th>642098</th>\n",
       "      <td>0x2ef5e1</td>\n",
       "      <td>train</td>\n",
       "      <td>Phil Parker drops two deep. Huh? Blittz! It was 3rd and 12 @IowaFootball. &lt;LH&gt;</td>\n",
       "      <td>sadness</td>\n",
       "      <td>78</td>\n",
       "      <td>14</td>\n",
       "      <td>phil parker drops two deep huh blittz it was rd and</td>\n",
       "      <td>51</td>\n",
       "      <td>11</td>\n",
       "    </tr>\n",
       "    <tr>\n",
       "      <th>1437639</th>\n",
       "      <td>0x36951c</td>\n",
       "      <td>train</td>\n",
       "      <td>\"If you God is dead\" ~ #BrookBenton 😍 #MyTop10At10 😊 WOW!!!!! My childhood days were filled with joyous moments. Thank you @tboseZA &lt;LH&gt;</td>\n",
       "      <td>joy</td>\n",
       "      <td>136</td>\n",
       "      <td>23</td>\n",
       "      <td>if you god is dead  brookbenton smilingfacewithhearteyes mytopat smilingfacewithsmilingeyes wow my childhood days were filled with joyous moments thank you</td>\n",
       "      <td>155</td>\n",
       "      <td>21</td>\n",
       "    </tr>\n",
       "    <tr>\n",
       "      <th>108067</th>\n",
       "      <td>0x38222c</td>\n",
       "      <td>train</td>\n",
       "      <td>Oh my god got one almighty headache this morning &lt;LH&gt; #headache</td>\n",
       "      <td>disgust</td>\n",
       "      <td>63</td>\n",
       "      <td>11</td>\n",
       "      <td>oh my god got one almighty headache this morning headache</td>\n",
       "      <td>57</td>\n",
       "      <td>10</td>\n",
       "    </tr>\n",
       "    <tr>\n",
       "      <th>333393</th>\n",
       "      <td>0x249c4e</td>\n",
       "      <td>train</td>\n",
       "      <td>God has never failed me!!! &lt;LH&gt;</td>\n",
       "      <td>joy</td>\n",
       "      <td>31</td>\n",
       "      <td>6</td>\n",
       "      <td>god has never failed me</td>\n",
       "      <td>23</td>\n",
       "      <td>5</td>\n",
       "    </tr>\n",
       "    <tr>\n",
       "      <th>1029055</th>\n",
       "      <td>0x25f723</td>\n",
       "      <td>train</td>\n",
       "      <td>The upcoming four day weekend has me feeling &lt;LH&gt; and #humble</td>\n",
       "      <td>joy</td>\n",
       "      <td>61</td>\n",
       "      <td>11</td>\n",
       "      <td>the upcoming four day weekend has me feeling and humble</td>\n",
       "      <td>55</td>\n",
       "      <td>10</td>\n",
       "    </tr>\n",
       "  </tbody>\n",
       "</table>\n",
       "<p>1455563 rows × 9 columns</p>\n",
       "</div>"
      ],
      "text/plain": [
       "               id identification  \\\n",
       "355821   0x2e3ded          train   \n",
       "89944    0x333a3d          train   \n",
       "1062540  0x27444d          train   \n",
       "1190885  0x2b0378          train   \n",
       "649939   0x22c7fc          train   \n",
       "...           ...            ...   \n",
       "642098   0x2ef5e1          train   \n",
       "1437639  0x36951c          train   \n",
       "108067   0x38222c          train   \n",
       "333393   0x249c4e          train   \n",
       "1029055  0x25f723          train   \n",
       "\n",
       "                                                                                                                                              text  \\\n",
       "355821       Traveling 2 hours to lose the way we did.... disappointed to say the least. @tombradshaw92 scored  then got taken off?? #confused.com   \n",
       "89944                              Melatonin you are my friend and the only reason I sleep 😴 #insomnia #bipolar #rapidcycling <LH> #mentalhealth 😢   \n",
       "1062540                                             @vivchook Well, get me one too! 😂 Rudeness seems so much easier for some on social media. <LH>   \n",
       "1190885       @ellisonprinting Thanks Jane ♥ husband in hospital.  Busy up & down. Show @deanclough  staying #optimistic.  Hope all good with you.   \n",
       "649939   Hey @realDonaldTrump when ur done marginalizing the <LH> #MilitaryBan & #Pardoning #JoeArpaio #Texas might need you #HurricaneHarvey <LH>   \n",
       "...                                                                                                                                            ...   \n",
       "642098                                                              Phil Parker drops two deep. Huh? Blittz! It was 3rd and 12 @IowaFootball. <LH>   \n",
       "1437639   \"If you God is dead\" ~ #BrookBenton 😍 #MyTop10At10 😊 WOW!!!!! My childhood days were filled with joyous moments. Thank you @tboseZA <LH>   \n",
       "108067                                                                             Oh my god got one almighty headache this morning <LH> #headache   \n",
       "333393                                                                                                             God has never failed me!!! <LH>   \n",
       "1029055                                                                              The upcoming four day weekend has me feeling <LH> and #humble   \n",
       "\n",
       "         emotion  textlen  word_count  \\\n",
       "355821   sadness      133          22   \n",
       "89944      anger      111          18   \n",
       "1062540  sadness       94          18   \n",
       "1190885      joy      132          23   \n",
       "649939   disgust      137          18   \n",
       "...          ...      ...         ...   \n",
       "642098   sadness       78          14   \n",
       "1437639      joy      136          23   \n",
       "108067   disgust       63          11   \n",
       "333393       joy       31           6   \n",
       "1029055      joy       61          11   \n",
       "\n",
       "                                                                                                                                                           cleantext  \\\n",
       "355821                                                    traveling hours to lose the way we did disappointed to say the least scored then got taken off confusedcom   \n",
       "89944                                     melatonin you are my friend and the only reason i sleep sleepingface insomnia bipolar rapidcycling mentalhealth cryingface   \n",
       "1062540                                                                well get me one too facewithtearsofjoy rudeness seems so much easier for some on social media   \n",
       "1190885                                                        thanks jane heartsuit husband in hospital busy up down show staying optimistic hope all good with you   \n",
       "649939                                                  hey when you are done marginalizing the militaryban pardoning joearpaio texas might need you hurricaneharvey   \n",
       "...                                                                                                                                                              ...   \n",
       "642098                                                                                                           phil parker drops two deep huh blittz it was rd and   \n",
       "1437639  if you god is dead  brookbenton smilingfacewithhearteyes mytopat smilingfacewithsmilingeyes wow my childhood days were filled with joyous moments thank you   \n",
       "108067                                                                                                     oh my god got one almighty headache this morning headache   \n",
       "333393                                                                                                                                       god has never failed me   \n",
       "1029055                                                                                                      the upcoming four day weekend has me feeling and humble   \n",
       "\n",
       "         textlenafter  word_countafter  \n",
       "355821            106               19  \n",
       "89944             122               17  \n",
       "1062540            93               16  \n",
       "1190885           101               17  \n",
       "649939            108               15  \n",
       "...               ...              ...  \n",
       "642098             51               11  \n",
       "1437639           155               21  \n",
       "108067             57               10  \n",
       "333393             23                5  \n",
       "1029055            55               10  \n",
       "\n",
       "[1455563 rows x 9 columns]"
      ]
     },
     "execution_count": 28,
     "metadata": {},
     "output_type": "execute_result"
    }
   ],
   "source": [
    "traindata"
   ]
  },
  {
   "cell_type": "markdown",
   "metadata": {},
   "source": [
    "i tried English Language Detection use fasttext"
   ]
  },
  {
   "cell_type": "code",
   "execution_count": 29,
   "metadata": {},
   "outputs": [],
   "source": [
    "\"\"\"\n",
    "Building fastText for Python\n",
    "For now this is not part of a release, so you will need to clone the master branch.\n",
    "\n",
    "$ git clone https://github.com/facebookresearch/fastText.git\n",
    "$ cd fastText\n",
    "$ pip install .\n",
    "\n",
    "if happen below error\n",
    "  error: Microsoft Visual C++ 14.0 or greater is required. Get it with \"Microsoft C++ Build Tools\": https://visualstudio.microsoft.com/visual-cpp-build-tools/\n",
    "You should follow below instruction to install\n",
    "https://www.scivision.dev/python-windows-visual-c-14-required\n",
    "\n",
    "\"\"\"\n",
    "\n",
    "import fasttext\n",
    "pretrained_model = \"lid.176.bin\"  #download from https://fasttext.cc/docs/en/language-identification.html\n",
    "model = fasttext.load_model(pretrained_model)\n",
    "langs = []\n",
    "for sent in traindata['cleantext']:\n",
    "    lang = model.predict(sent)[0]\n",
    "    langs.append(str(lang)[:])\n",
    "traindata['langs'] = langs"
   ]
  },
  {
   "cell_type": "code",
   "execution_count": 30,
   "metadata": {},
   "outputs": [
    {
     "data": {
      "text/html": [
       "<div>\n",
       "<style scoped>\n",
       "    .dataframe tbody tr th:only-of-type {\n",
       "        vertical-align: middle;\n",
       "    }\n",
       "\n",
       "    .dataframe tbody tr th {\n",
       "        vertical-align: top;\n",
       "    }\n",
       "\n",
       "    .dataframe thead th {\n",
       "        text-align: right;\n",
       "    }\n",
       "</style>\n",
       "<table border=\"1\" class=\"dataframe\">\n",
       "  <thead>\n",
       "    <tr style=\"text-align: right;\">\n",
       "      <th></th>\n",
       "      <th>id</th>\n",
       "      <th>identification</th>\n",
       "      <th>text</th>\n",
       "      <th>emotion</th>\n",
       "      <th>textlen</th>\n",
       "      <th>word_count</th>\n",
       "      <th>cleantext</th>\n",
       "      <th>textlenafter</th>\n",
       "      <th>word_countafter</th>\n",
       "      <th>langs</th>\n",
       "    </tr>\n",
       "  </thead>\n",
       "  <tbody>\n",
       "    <tr>\n",
       "      <th>154136</th>\n",
       "      <td>0x2f0169</td>\n",
       "      <td>train</td>\n",
       "      <td>@raymundop_ Wow que sexy boy .....#cool</td>\n",
       "      <td>joy</td>\n",
       "      <td>39</td>\n",
       "      <td>6</td>\n",
       "      <td>wow que sexy boy cool</td>\n",
       "      <td>21</td>\n",
       "      <td>5</td>\n",
       "      <td>('__label__ca',)</td>\n",
       "    </tr>\n",
       "    <tr>\n",
       "      <th>741070</th>\n",
       "      <td>0x37952f</td>\n",
       "      <td>train</td>\n",
       "      <td>&lt;LH&gt; Oh lawd,Molly!!</td>\n",
       "      <td>fear</td>\n",
       "      <td>20</td>\n",
       "      <td>3</td>\n",
       "      <td>oh lawdmolly</td>\n",
       "      <td>12</td>\n",
       "      <td>2</td>\n",
       "      <td>('__label__es',)</td>\n",
       "    </tr>\n",
       "    <tr>\n",
       "      <th>560478</th>\n",
       "      <td>0x37deae</td>\n",
       "      <td>train</td>\n",
       "      <td>I love God &lt;LH&gt;</td>\n",
       "      <td>trust</td>\n",
       "      <td>15</td>\n",
       "      <td>4</td>\n",
       "      <td>i love god</td>\n",
       "      <td>10</td>\n",
       "      <td>3</td>\n",
       "      <td>('__label__sv',)</td>\n",
       "    </tr>\n",
       "    <tr>\n",
       "      <th>181224</th>\n",
       "      <td>0x2a8dbd</td>\n",
       "      <td>train</td>\n",
       "      <td>@LENALittleClosa &lt;LH&gt; lmfao  @HawaiianChuch_</td>\n",
       "      <td>trust</td>\n",
       "      <td>44</td>\n",
       "      <td>5</td>\n",
       "      <td>lmfao</td>\n",
       "      <td>5</td>\n",
       "      <td>1</td>\n",
       "      <td>('__label__ar',)</td>\n",
       "    </tr>\n",
       "    <tr>\n",
       "      <th>304754</th>\n",
       "      <td>0x216e46</td>\n",
       "      <td>train</td>\n",
       "      <td>Honestly I'm just ready for &lt;LH&gt; now</td>\n",
       "      <td>fear</td>\n",
       "      <td>36</td>\n",
       "      <td>7</td>\n",
       "      <td>honestly im just ready for now</td>\n",
       "      <td>30</td>\n",
       "      <td>6</td>\n",
       "      <td>('__label__de',)</td>\n",
       "    </tr>\n",
       "    <tr>\n",
       "      <th>...</th>\n",
       "      <td>...</td>\n",
       "      <td>...</td>\n",
       "      <td>...</td>\n",
       "      <td>...</td>\n",
       "      <td>...</td>\n",
       "      <td>...</td>\n",
       "      <td>...</td>\n",
       "      <td>...</td>\n",
       "      <td>...</td>\n",
       "      <td>...</td>\n",
       "    </tr>\n",
       "    <tr>\n",
       "      <th>1274537</th>\n",
       "      <td>0x2c9710</td>\n",
       "      <td>train</td>\n",
       "      <td>@July_Mo &lt;LH&gt; x Pennywise</td>\n",
       "      <td>joy</td>\n",
       "      <td>25</td>\n",
       "      <td>4</td>\n",
       "      <td>kiss pennywise</td>\n",
       "      <td>14</td>\n",
       "      <td>2</td>\n",
       "      <td>('__label__nl',)</td>\n",
       "    </tr>\n",
       "    <tr>\n",
       "      <th>659144</th>\n",
       "      <td>0x29e830</td>\n",
       "      <td>train</td>\n",
       "      <td>&lt;LH&gt; heel say ‘watch @JohnTorode1 on @GoodFoodChannel’ @markgreenaway @nigelbrownchef @TheCurryGuy @chefgingernut @ChefJeremyPang</td>\n",
       "      <td>sadness</td>\n",
       "      <td>129</td>\n",
       "      <td>12</td>\n",
       "      <td>heel say watch on</td>\n",
       "      <td>18</td>\n",
       "      <td>5</td>\n",
       "      <td>('__label__nl',)</td>\n",
       "    </tr>\n",
       "    <tr>\n",
       "      <th>106579</th>\n",
       "      <td>0x31ba29</td>\n",
       "      <td>train</td>\n",
       "      <td>Wurstel for lunch!Even if a want to bad to tey bratwurst... #lunch &lt;LH&gt; #meat #wurstel</td>\n",
       "      <td>anticipation</td>\n",
       "      <td>86</td>\n",
       "      <td>15</td>\n",
       "      <td>wurstel for luncheven if a want to bad to tey bratwurst lunch meat wurstel</td>\n",
       "      <td>74</td>\n",
       "      <td>14</td>\n",
       "      <td>('__label__de',)</td>\n",
       "    </tr>\n",
       "    <tr>\n",
       "      <th>593565</th>\n",
       "      <td>0x2ab477</td>\n",
       "      <td>train</td>\n",
       "      <td>Rain &lt;LH&gt;</td>\n",
       "      <td>joy</td>\n",
       "      <td>9</td>\n",
       "      <td>2</td>\n",
       "      <td>rain</td>\n",
       "      <td>4</td>\n",
       "      <td>1</td>\n",
       "      <td>('__label__ja',)</td>\n",
       "    </tr>\n",
       "    <tr>\n",
       "      <th>568309</th>\n",
       "      <td>0x1e60d6</td>\n",
       "      <td>train</td>\n",
       "      <td>&lt;LH&gt; Mandela Day#</td>\n",
       "      <td>joy</td>\n",
       "      <td>17</td>\n",
       "      <td>3</td>\n",
       "      <td>mandela day</td>\n",
       "      <td>11</td>\n",
       "      <td>2</td>\n",
       "      <td>('__label__fr',)</td>\n",
       "    </tr>\n",
       "  </tbody>\n",
       "</table>\n",
       "<p>15861 rows × 10 columns</p>\n",
       "</div>"
      ],
      "text/plain": [
       "               id identification  \\\n",
       "154136   0x2f0169          train   \n",
       "741070   0x37952f          train   \n",
       "560478   0x37deae          train   \n",
       "181224   0x2a8dbd          train   \n",
       "304754   0x216e46          train   \n",
       "...           ...            ...   \n",
       "1274537  0x2c9710          train   \n",
       "659144   0x29e830          train   \n",
       "106579   0x31ba29          train   \n",
       "593565   0x2ab477          train   \n",
       "568309   0x1e60d6          train   \n",
       "\n",
       "                                                                                                                                      text  \\\n",
       "154136                                                                                             @raymundop_ Wow que sexy boy .....#cool   \n",
       "741070                                                                                                                <LH> Oh lawd,Molly!!   \n",
       "560478                                                                                                                     I love God <LH>   \n",
       "181224                                                                                        @LENALittleClosa <LH> lmfao  @HawaiianChuch_   \n",
       "304754                                                                                                Honestly I'm just ready for <LH> now   \n",
       "...                                                                                                                                    ...   \n",
       "1274537                                                                                                          @July_Mo <LH> x Pennywise   \n",
       "659144   <LH> heel say ‘watch @JohnTorode1 on @GoodFoodChannel’ @markgreenaway @nigelbrownchef @TheCurryGuy @chefgingernut @ChefJeremyPang   \n",
       "106579                                              Wurstel for lunch!Even if a want to bad to tey bratwurst... #lunch <LH> #meat #wurstel   \n",
       "593565                                                                                                                           Rain <LH>   \n",
       "568309                                                                                                                   <LH> Mandela Day#   \n",
       "\n",
       "              emotion  textlen  word_count  \\\n",
       "154136            joy       39           6   \n",
       "741070           fear       20           3   \n",
       "560478          trust       15           4   \n",
       "181224          trust       44           5   \n",
       "304754           fear       36           7   \n",
       "...               ...      ...         ...   \n",
       "1274537           joy       25           4   \n",
       "659144        sadness      129          12   \n",
       "106579   anticipation       86          15   \n",
       "593565            joy        9           2   \n",
       "568309            joy       17           3   \n",
       "\n",
       "                                                                          cleantext  \\\n",
       "154136                                                        wow que sexy boy cool   \n",
       "741070                                                                 oh lawdmolly   \n",
       "560478                                                                   i love god   \n",
       "181224                                                                        lmfao   \n",
       "304754                                               honestly im just ready for now   \n",
       "...                                                                             ...   \n",
       "1274537                                                              kiss pennywise   \n",
       "659144                                                           heel say watch on    \n",
       "106579   wurstel for luncheven if a want to bad to tey bratwurst lunch meat wurstel   \n",
       "593565                                                                         rain   \n",
       "568309                                                                  mandela day   \n",
       "\n",
       "         textlenafter  word_countafter             langs  \n",
       "154136             21                5  ('__label__ca',)  \n",
       "741070             12                2  ('__label__es',)  \n",
       "560478             10                3  ('__label__sv',)  \n",
       "181224              5                1  ('__label__ar',)  \n",
       "304754             30                6  ('__label__de',)  \n",
       "...               ...              ...               ...  \n",
       "1274537            14                2  ('__label__nl',)  \n",
       "659144             18                5  ('__label__nl',)  \n",
       "106579             74               14  ('__label__de',)  \n",
       "593565              4                1  ('__label__ja',)  \n",
       "568309             11                2  ('__label__fr',)  \n",
       "\n",
       "[15861 rows x 10 columns]"
      ]
     },
     "execution_count": 30,
     "metadata": {},
     "output_type": "execute_result"
    }
   ],
   "source": [
    "traindata[~traindata[\"langs\"].str.contains('en')]"
   ]
  },
  {
   "cell_type": "markdown",
   "metadata": {},
   "source": [
    "But sometimes it detect english sentence to be in other language so I didn't remove these records"
   ]
  },
  {
   "cell_type": "markdown",
   "metadata": {},
   "source": [
    "Check for Null and remove duplicated value"
   ]
  },
  {
   "cell_type": "code",
   "execution_count": 31,
   "metadata": {},
   "outputs": [
    {
     "data": {
      "text/html": [
       "<div>\n",
       "<style scoped>\n",
       "    .dataframe tbody tr th:only-of-type {\n",
       "        vertical-align: middle;\n",
       "    }\n",
       "\n",
       "    .dataframe tbody tr th {\n",
       "        vertical-align: top;\n",
       "    }\n",
       "\n",
       "    .dataframe thead th {\n",
       "        text-align: right;\n",
       "    }\n",
       "</style>\n",
       "<table border=\"1\" class=\"dataframe\">\n",
       "  <thead>\n",
       "    <tr style=\"text-align: right;\">\n",
       "      <th></th>\n",
       "      <th>id</th>\n",
       "      <th>identification</th>\n",
       "      <th>text</th>\n",
       "      <th>emotion</th>\n",
       "      <th>textlen</th>\n",
       "      <th>word_count</th>\n",
       "      <th>cleantext</th>\n",
       "      <th>textlenafter</th>\n",
       "      <th>word_countafter</th>\n",
       "      <th>langs</th>\n",
       "    </tr>\n",
       "  </thead>\n",
       "  <tbody>\n",
       "  </tbody>\n",
       "</table>\n",
       "</div>"
      ],
      "text/plain": [
       "Empty DataFrame\n",
       "Columns: [id, identification, text, emotion, textlen, word_count, cleantext, textlenafter, word_countafter, langs]\n",
       "Index: []"
      ]
     },
     "execution_count": 31,
     "metadata": {},
     "output_type": "execute_result"
    }
   ],
   "source": [
    "traindata[traindata.isna().any(axis=1)]"
   ]
  },
  {
   "cell_type": "code",
   "execution_count": 32,
   "metadata": {},
   "outputs": [
    {
     "data": {
      "text/html": [
       "<div>\n",
       "<style scoped>\n",
       "    .dataframe tbody tr th:only-of-type {\n",
       "        vertical-align: middle;\n",
       "    }\n",
       "\n",
       "    .dataframe tbody tr th {\n",
       "        vertical-align: top;\n",
       "    }\n",
       "\n",
       "    .dataframe thead th {\n",
       "        text-align: right;\n",
       "    }\n",
       "</style>\n",
       "<table border=\"1\" class=\"dataframe\">\n",
       "  <thead>\n",
       "    <tr style=\"text-align: right;\">\n",
       "      <th></th>\n",
       "      <th>id</th>\n",
       "      <th>identification</th>\n",
       "      <th>text</th>\n",
       "      <th>emotion</th>\n",
       "      <th>textlen</th>\n",
       "      <th>word_count</th>\n",
       "      <th>cleantext</th>\n",
       "      <th>textlenafter</th>\n",
       "      <th>word_countafter</th>\n",
       "      <th>langs</th>\n",
       "    </tr>\n",
       "  </thead>\n",
       "  <tbody>\n",
       "    <tr>\n",
       "      <th>199832</th>\n",
       "      <td>0x2257c3</td>\n",
       "      <td>train</td>\n",
       "      <td>@V2CigsUK wow how nice &lt;LH&gt;</td>\n",
       "      <td>joy</td>\n",
       "      <td>27</td>\n",
       "      <td>5</td>\n",
       "      <td>wow how nice</td>\n",
       "      <td>12</td>\n",
       "      <td>3</td>\n",
       "      <td>('__label__en',)</td>\n",
       "    </tr>\n",
       "    <tr>\n",
       "      <th>415133</th>\n",
       "      <td>0x1e3f31</td>\n",
       "      <td>train</td>\n",
       "      <td>Closed Buy 1.4 Lots EURUSD 1.18502 for +10.0 pips, total for today +761.2 pips &lt;LH&gt; &lt;LH&gt; &lt;LH&gt; &lt;LH&gt; &lt;LH&gt;</td>\n",
       "      <td>joy</td>\n",
       "      <td>103</td>\n",
       "      <td>19</td>\n",
       "      <td>closed buy lots eurusd for pips total for today pips</td>\n",
       "      <td>52</td>\n",
       "      <td>10</td>\n",
       "      <td>('__label__en',)</td>\n",
       "    </tr>\n",
       "    <tr>\n",
       "      <th>1041647</th>\n",
       "      <td>0x382e0c</td>\n",
       "      <td>train</td>\n",
       "      <td>@BradKidd33 @cajunlady64 @DeepStateAgent2 @tommyleeedwards @Deplorablelou @billoreilly &lt;LH&gt; does that even mean?</td>\n",
       "      <td>disgust</td>\n",
       "      <td>112</td>\n",
       "      <td>11</td>\n",
       "      <td>does that even mean</td>\n",
       "      <td>19</td>\n",
       "      <td>4</td>\n",
       "      <td>('__label__en',)</td>\n",
       "    </tr>\n",
       "    <tr>\n",
       "      <th>1307483</th>\n",
       "      <td>0x2ce068</td>\n",
       "      <td>train</td>\n",
       "      <td>Closed Buy 1.0 Lots EURUSD 1.176 for +27.7 pips, total for today +338.0 pips &lt;LH&gt; &lt;LH&gt; &lt;LH&gt; &lt;LH&gt; &lt;LH&gt;</td>\n",
       "      <td>joy</td>\n",
       "      <td>101</td>\n",
       "      <td>19</td>\n",
       "      <td>closed buy lots eurusd for pips total for today pips</td>\n",
       "      <td>52</td>\n",
       "      <td>10</td>\n",
       "      <td>('__label__en',)</td>\n",
       "    </tr>\n",
       "    <tr>\n",
       "      <th>1329653</th>\n",
       "      <td>0x1d69dc</td>\n",
       "      <td>train</td>\n",
       "      <td>@NavyVets4Trump Thank you VERY much for your service and for the follow fellow Patriot, #ISALUTEYOU! &lt;LH&gt; &lt;LH&gt; &lt;LH&gt; &lt;LH&gt; 🇺🇸</td>\n",
       "      <td>anticipation</td>\n",
       "      <td>123</td>\n",
       "      <td>20</td>\n",
       "      <td>thank you very much for your service and for the follow fellow patriot isaluteyou unitedstates</td>\n",
       "      <td>94</td>\n",
       "      <td>15</td>\n",
       "      <td>('__label__en',)</td>\n",
       "    </tr>\n",
       "    <tr>\n",
       "      <th>...</th>\n",
       "      <td>...</td>\n",
       "      <td>...</td>\n",
       "      <td>...</td>\n",
       "      <td>...</td>\n",
       "      <td>...</td>\n",
       "      <td>...</td>\n",
       "      <td>...</td>\n",
       "      <td>...</td>\n",
       "      <td>...</td>\n",
       "      <td>...</td>\n",
       "    </tr>\n",
       "    <tr>\n",
       "      <th>1086237</th>\n",
       "      <td>0x388cd6</td>\n",
       "      <td>train</td>\n",
       "      <td>@wesway94 #faith, #hope, and &lt;LH&gt; will last forever. The greatest is #love. 1 corinthians 13:13 &lt;LH&gt;</td>\n",
       "      <td>joy</td>\n",
       "      <td>100</td>\n",
       "      <td>16</td>\n",
       "      <td>faith hope and will last forever the greatest is love corinthians</td>\n",
       "      <td>65</td>\n",
       "      <td>11</td>\n",
       "      <td>('__label__en',)</td>\n",
       "    </tr>\n",
       "    <tr>\n",
       "      <th>1069156</th>\n",
       "      <td>0x382b2c</td>\n",
       "      <td>train</td>\n",
       "      <td>71 The moments in your life are only once #Life &lt;LH&gt; &lt;LH&gt; &lt;LH&gt; &lt;LH&gt; &lt;LH&gt; &lt;LH&gt; &lt;LH&gt; September 06, 2017 at 08:30PM</td>\n",
       "      <td>anticipation</td>\n",
       "      <td>112</td>\n",
       "      <td>22</td>\n",
       "      <td>the moments in your life are only once life september at pm</td>\n",
       "      <td>59</td>\n",
       "      <td>12</td>\n",
       "      <td>('__label__en',)</td>\n",
       "    </tr>\n",
       "    <tr>\n",
       "      <th>362271</th>\n",
       "      <td>0x27c6da</td>\n",
       "      <td>train</td>\n",
       "      <td>#Love, like a river, will cut a new path whenever it meets an obstacle. - @RockChristopher  &lt;LH&gt; &lt;LH&gt;</td>\n",
       "      <td>joy</td>\n",
       "      <td>101</td>\n",
       "      <td>19</td>\n",
       "      <td>love like a river will cut a new path whenever it meets an obstacle</td>\n",
       "      <td>67</td>\n",
       "      <td>14</td>\n",
       "      <td>('__label__en',)</td>\n",
       "    </tr>\n",
       "    <tr>\n",
       "      <th>117577</th>\n",
       "      <td>0x2be2fa</td>\n",
       "      <td>train</td>\n",
       "      <td>Watching The Pagemaster (1994) &lt;LH&gt; #90skids #thepagemaster #bookishmovies</td>\n",
       "      <td>sadness</td>\n",
       "      <td>74</td>\n",
       "      <td>8</td>\n",
       "      <td>watching the pagemaster skids thepagemaster bookishmovies</td>\n",
       "      <td>57</td>\n",
       "      <td>6</td>\n",
       "      <td>('__label__en',)</td>\n",
       "    </tr>\n",
       "    <tr>\n",
       "      <th>346903</th>\n",
       "      <td>0x309438</td>\n",
       "      <td>train</td>\n",
       "      <td>39 Never give up on your #dream. &lt;LH&gt; me to make your dreams come &lt;LH&gt; &lt;LH&gt; November 13, 2017 at 07:00AM</td>\n",
       "      <td>anticipation</td>\n",
       "      <td>104</td>\n",
       "      <td>21</td>\n",
       "      <td>never give up on your dream me to make your dreams come november at am</td>\n",
       "      <td>70</td>\n",
       "      <td>15</td>\n",
       "      <td>('__label__en',)</td>\n",
       "    </tr>\n",
       "  </tbody>\n",
       "</table>\n",
       "<p>128379 rows × 10 columns</p>\n",
       "</div>"
      ],
      "text/plain": [
       "               id identification  \\\n",
       "199832   0x2257c3          train   \n",
       "415133   0x1e3f31          train   \n",
       "1041647  0x382e0c          train   \n",
       "1307483  0x2ce068          train   \n",
       "1329653  0x1d69dc          train   \n",
       "...           ...            ...   \n",
       "1086237  0x388cd6          train   \n",
       "1069156  0x382b2c          train   \n",
       "362271   0x27c6da          train   \n",
       "117577   0x2be2fa          train   \n",
       "346903   0x309438          train   \n",
       "\n",
       "                                                                                                                                text  \\\n",
       "199832                                                                                                   @V2CigsUK wow how nice <LH>   \n",
       "415133                       Closed Buy 1.4 Lots EURUSD 1.18502 for +10.0 pips, total for today +761.2 pips <LH> <LH> <LH> <LH> <LH>   \n",
       "1041647             @BradKidd33 @cajunlady64 @DeepStateAgent2 @tommyleeedwards @Deplorablelou @billoreilly <LH> does that even mean?   \n",
       "1307483                        Closed Buy 1.0 Lots EURUSD 1.176 for +27.7 pips, total for today +338.0 pips <LH> <LH> <LH> <LH> <LH>   \n",
       "1329653  @NavyVets4Trump Thank you VERY much for your service and for the follow fellow Patriot, #ISALUTEYOU! <LH> <LH> <LH> <LH> 🇺🇸   \n",
       "...                                                                                                                              ...   \n",
       "1086237                         @wesway94 #faith, #hope, and <LH> will last forever. The greatest is #love. 1 corinthians 13:13 <LH>   \n",
       "1069156             71 The moments in your life are only once #Life <LH> <LH> <LH> <LH> <LH> <LH> <LH> September 06, 2017 at 08:30PM   \n",
       "362271                         #Love, like a river, will cut a new path whenever it meets an obstacle. - @RockChristopher  <LH> <LH>   \n",
       "117577                                                    Watching The Pagemaster (1994) <LH> #90skids #thepagemaster #bookishmovies   \n",
       "346903                      39 Never give up on your #dream. <LH> me to make your dreams come <LH> <LH> November 13, 2017 at 07:00AM   \n",
       "\n",
       "              emotion  textlen  word_count  \\\n",
       "199832            joy       27           5   \n",
       "415133            joy      103          19   \n",
       "1041647       disgust      112          11   \n",
       "1307483           joy      101          19   \n",
       "1329653  anticipation      123          20   \n",
       "...               ...      ...         ...   \n",
       "1086237           joy      100          16   \n",
       "1069156  anticipation      112          22   \n",
       "362271            joy      101          19   \n",
       "117577        sadness       74           8   \n",
       "346903   anticipation      104          21   \n",
       "\n",
       "                                                                                              cleantext  \\\n",
       "199832                                                                                     wow how nice   \n",
       "415133                                             closed buy lots eurusd for pips total for today pips   \n",
       "1041647                                                                             does that even mean   \n",
       "1307483                                            closed buy lots eurusd for pips total for today pips   \n",
       "1329653  thank you very much for your service and for the follow fellow patriot isaluteyou unitedstates   \n",
       "...                                                                                                 ...   \n",
       "1086237                               faith hope and will last forever the greatest is love corinthians   \n",
       "1069156                                     the moments in your life are only once life september at pm   \n",
       "362271                              love like a river will cut a new path whenever it meets an obstacle   \n",
       "117577                                        watching the pagemaster skids thepagemaster bookishmovies   \n",
       "346903                           never give up on your dream me to make your dreams come november at am   \n",
       "\n",
       "         textlenafter  word_countafter             langs  \n",
       "199832             12                3  ('__label__en',)  \n",
       "415133             52               10  ('__label__en',)  \n",
       "1041647            19                4  ('__label__en',)  \n",
       "1307483            52               10  ('__label__en',)  \n",
       "1329653            94               15  ('__label__en',)  \n",
       "...               ...              ...               ...  \n",
       "1086237            65               11  ('__label__en',)  \n",
       "1069156            59               12  ('__label__en',)  \n",
       "362271             67               14  ('__label__en',)  \n",
       "117577             57                6  ('__label__en',)  \n",
       "346903             70               15  ('__label__en',)  \n",
       "\n",
       "[128379 rows x 10 columns]"
      ]
     },
     "execution_count": 32,
     "metadata": {},
     "output_type": "execute_result"
    }
   ],
   "source": [
    "traindata[traindata.duplicated(['cleantext'], keep=False)]"
   ]
  },
  {
   "cell_type": "code",
   "execution_count": 33,
   "metadata": {},
   "outputs": [],
   "source": [
    "traindata.drop_duplicates('cleantext', keep='first',inplace=True)"
   ]
  },
  {
   "cell_type": "code",
   "execution_count": 34,
   "metadata": {},
   "outputs": [
    {
     "data": {
      "text/plain": [
       "(1346311, 10)"
      ]
     },
     "execution_count": 34,
     "metadata": {},
     "output_type": "execute_result"
    }
   ],
   "source": [
    "traindata.shape"
   ]
  },
  {
   "cell_type": "markdown",
   "metadata": {},
   "source": [
    "save data in Pickle format to continue without doing the previous step againn."
   ]
  },
  {
   "cell_type": "code",
   "execution_count": 35,
   "metadata": {},
   "outputs": [],
   "source": [
    "traindata.to_pickle(\"traindataclean.pkl\")\n",
    "Testdata.to_pickle(\"Testdataclean.pkl\")"
   ]
  },
  {
   "cell_type": "markdown",
   "metadata": {},
   "source": [
    "# 1.4 Exploratory Data Analysis"
   ]
  },
  {
   "cell_type": "markdown",
   "metadata": {},
   "source": [
    "continue from save file"
   ]
  },
  {
   "cell_type": "code",
   "execution_count": 36,
   "metadata": {},
   "outputs": [],
   "source": [
    "import pandas as pd\n",
    "traindata = pd.read_pickle(\"traindataclean.pkl\")\n",
    "Testdata = pd.read_pickle(\"Testdataclean.pkl\")"
   ]
  },
  {
   "cell_type": "markdown",
   "metadata": {},
   "source": [
    "let see the result from out cleaning process"
   ]
  },
  {
   "cell_type": "code",
   "execution_count": 37,
   "metadata": {},
   "outputs": [
    {
     "name": "stdout",
     "output_type": "stream",
     "text": [
      "Number of unique words before: 1575264\n",
      "Number of unique words after: 528831\n"
     ]
    }
   ],
   "source": [
    "from collections import Counter\n",
    "result = Counter(\" \".join(traindata['text'].values.tolist()).split(\" \")).items()\n",
    "print(\"Number of unique words before:\",len(result))\n",
    "result = Counter(\" \".join(traindata['cleantext'].values.tolist()).split(\" \")).items()\n",
    "print(\"Number of unique words after:\",len(result))"
   ]
  },
  {
   "cell_type": "markdown",
   "metadata": {},
   "source": [
    "from matplotlib import pyplot as plt\n",
    "fig, ax = plt.subplots(figsize=(10, 10))\n",
    "plt.boxplot(traindata.textlenafter)\n",
    "plt.show()\n",
    "\n",
    "fig, ax = plt.subplots(figsize=(10, 10))\n",
    "plt.boxplot(traindata.word_countafter)\n",
    "plt.show()"
   ]
  },
  {
   "cell_type": "markdown",
   "metadata": {},
   "source": [
    "There is many outlier so let see."
   ]
  },
  {
   "cell_type": "code",
   "execution_count": 38,
   "metadata": {},
   "outputs": [],
   "source": [
    "traindata[traindata['word_countafter']>40]\n",
    "traindata=traindata.drop(traindata[(traindata.word_countafter>70)].index)"
   ]
  },
  {
   "cell_type": "markdown",
   "metadata": {},
   "source": [
    "## Wordcloud Visualization"
   ]
  },
  {
   "cell_type": "markdown",
   "metadata": {},
   "source": [
    "see the word frequency for every emotion"
   ]
  },
  {
   "cell_type": "markdown",
   "metadata": {
    "scrolled": false
   },
   "source": [
    "# conda install -c conda-forge wordcloud\n",
    "from matplotlib import pyplot as plt\n",
    "from wordcloud import WordCloud\n",
    "joy_tweets = traindata[traindata.emotion == 'joy']\n",
    "joy_string = []\n",
    "for t in joy_tweets.cleantext:\n",
    "    joy_string.append(t)\n",
    "joy_string = pd.Series(joy_string).str.cat(sep=' ')\n",
    "wordcloud = WordCloud(width=1600, height=800,max_font_size=200,collocations=False).generate(joy_string)\n",
    "plt.figure(figsize=(12,10))\n",
    "plt.imshow(wordcloud, interpolation=\"bilinear\")\n",
    "plt.axis(\"off\")\n",
    "plt.title(\"joy words\")\n",
    "plt.show()\n",
    "\n",
    "disgust_tweets = traindata[traindata.emotion == 'disgust']\n",
    "disgust_string = []\n",
    "for t in disgust_tweets.cleantext:\n",
    "    disgust_string.append(t)\n",
    "disgust_string = pd.Series(disgust_string).str.cat(sep=' ')\n",
    "wordcloud = WordCloud(width=1600, height=800,max_font_size=200,collocations=False).generate(disgust_string)\n",
    "plt.figure(figsize=(12,10))\n",
    "plt.imshow(wordcloud, interpolation=\"bilinear\")\n",
    "plt.axis(\"off\")\n",
    "plt.title(\"disgust words\")\n",
    "plt.show()\n",
    "\n",
    "sadness_tweets = traindata[traindata.emotion == 'sadness']\n",
    "sadness_string = []\n",
    "for t in sadness_tweets.cleantext:\n",
    "    sadness_string.append(t)\n",
    "sadness_string = pd.Series(sadness_string).str.cat(sep=' ')\n",
    "wordcloud = WordCloud(width=1600, height=800,max_font_size=200,collocations=False).generate(sadness_string)\n",
    "plt.figure(figsize=(12,10))\n",
    "plt.imshow(wordcloud, interpolation=\"bilinear\")\n",
    "plt.axis(\"off\")\n",
    "plt.title(\"sadness words\")\n",
    "plt.show()\n",
    "\n",
    "trust_tweets = traindata[traindata.emotion == 'trust']\n",
    "trust_string = []\n",
    "for t in trust_tweets.cleantext:\n",
    "    trust_string.append(t)\n",
    "trust_string = pd.Series(trust_string).str.cat(sep=' ')\n",
    "wordcloud = WordCloud(width=1600, height=800,max_font_size=200,collocations=False).generate(trust_string)\n",
    "plt.figure(figsize=(12,10))\n",
    "plt.imshow(wordcloud, interpolation=\"bilinear\")\n",
    "plt.axis(\"off\")\n",
    "plt.title(\"trust words\")\n",
    "plt.show()\n",
    "\n",
    "anticipation_tweets = traindata[traindata.emotion == 'anticipation']\n",
    "anticipation_string = []\n",
    "for t in anticipation_tweets.cleantext:\n",
    "    anticipation_string.append(t)\n",
    "anticipation_string = pd.Series(anticipation_string).str.cat(sep=' ')\n",
    "wordcloud = WordCloud(width=1600, height=800,max_font_size=200,collocations=False).generate(anticipation_string)\n",
    "plt.figure(figsize=(12,10))\n",
    "plt.imshow(wordcloud, interpolation=\"bilinear\")\n",
    "plt.axis(\"off\")\n",
    "plt.title(\"anticipation words\")\n",
    "plt.show()\n",
    "\n",
    "surprise_tweets = traindata[traindata.emotion == 'surprise']\n",
    "surprise_string = []\n",
    "for t in surprise_tweets.cleantext:\n",
    "    surprise_string.append(t)\n",
    "surprise_string = pd.Series(surprise_string).str.cat(sep=' ')\n",
    "wordcloud = WordCloud(width=1600, height=800,max_font_size=200,collocations=False).generate(surprise_string)\n",
    "plt.figure(figsize=(12,10))\n",
    "plt.imshow(wordcloud, interpolation=\"bilinear\")\n",
    "plt.axis(\"off\")\n",
    "plt.title(\"surprise words\")\n",
    "plt.show()\n",
    "\n",
    "anger_tweets = traindata[traindata.emotion == 'anger']\n",
    "anger_string = []\n",
    "for t in anger_tweets.cleantext:\n",
    "    anger_string.append(t)\n",
    "anger_string = pd.Series(anger_string).str.cat(sep=' ')\n",
    "wordcloud = WordCloud(width=1600, height=800,max_font_size=200,collocations=False).generate(anger_string)\n",
    "plt.figure(figsize=(12,10))\n",
    "plt.imshow(wordcloud, interpolation=\"bilinear\")\n",
    "plt.axis(\"off\")\n",
    "plt.title(\"anger words\")\n",
    "plt.show()\n",
    "\n",
    "fear_tweets = traindata[traindata.emotion == 'fear']\n",
    "fear_string = []\n",
    "for t in fear_tweets.cleantext:\n",
    "    fear_string.append(t)\n",
    "fear_string = pd.Series(fear_string).str.cat(sep=' ')\n",
    "wordcloud = WordCloud(width=1600, height=800,max_font_size=200,collocations=False).generate(fear_string)\n",
    "plt.figure(figsize=(12,10))\n",
    "plt.imshow(wordcloud, interpolation=\"bilinear\")\n",
    "plt.axis(\"off\")\n",
    "plt.title(\"fear words\")\n",
    "plt.show()"
   ]
  },
  {
   "cell_type": "markdown",
   "metadata": {},
   "source": [
    "drop text that have less than 2 words and texlen morethan 50"
   ]
  },
  {
   "cell_type": "code",
   "execution_count": 39,
   "metadata": {},
   "outputs": [],
   "source": [
    "traindata=traindata.drop(traindata[(traindata.word_countafter<3)& (traindata.textlenafter > 50)].index)"
   ]
  },
  {
   "cell_type": "markdown",
   "metadata": {},
   "source": [
    "see the distribution between each emotion"
   ]
  },
  {
   "cell_type": "code",
   "execution_count": 73,
   "metadata": {},
   "outputs": [
    {
     "data": {
      "image/png": "[encoded data removed]",
      "text/plain": [
       "<Figure size 360x216 with 1 Axes>"
      ]
     },
     "metadata": {
      "needs_background": "light"
     },
     "output_type": "display_data"
    }
   ],
   "source": [
    "%matplotlib inline\n",
    "import numpy as np\n",
    "import matplotlib.pyplot as plt\n",
    "\n",
    "# the histogram of the data\n",
    "labels = traindata['emotion'].unique()\n",
    "post_total = len(traindata)\n",
    "df1 = traindata['emotion'].value_counts()\n",
    "df1 = df1.apply(lambda x: round(x*100/post_total))\n",
    "\n",
    "#plot\n",
    "fig, ax = plt.subplots(figsize=(5,3))\n",
    "plt.bar(df1.index,df1.values)\n",
    "\n",
    "#arrange\n",
    "plt.ylabel('% of instances')\n",
    "plt.xlabel('Emotion')\n",
    "plt.title('Emotion distribution in training sets')\n",
    "plt.grid(False)\n",
    "plt.xticks(rotation=90)\n",
    "plt.show()"
   ]
  },
  {
   "cell_type": "markdown",
   "metadata": {},
   "source": [
    "the data is highly imbalance so i'll try to upsampling later to see if the model will perform better"
   ]
  },
  {
   "cell_type": "markdown",
   "metadata": {},
   "source": [
    "# 2. Feature engineering"
   ]
  },
  {
   "cell_type": "markdown",
   "metadata": {},
   "source": [
    "I split the data for training and testing the model"
   ]
  },
  {
   "cell_type": "code",
   "execution_count": 40,
   "metadata": {},
   "outputs": [],
   "source": [
    "from sklearn.model_selection import train_test_split\n",
    "X = traindata.cleantext\n",
    "y = traindata.emotion\n",
    "X_train, X_test, y_train, y_test = train_test_split(X, y, test_size=0.2, random_state = 42)"
   ]
  },
  {
   "cell_type": "markdown",
   "metadata": {},
   "source": [
    "see the distribution between train&test dataset"
   ]
  },
  {
   "cell_type": "markdown",
   "metadata": {},
   "source": [
    "%matplotlib inline\n",
    "import numpy as np\n",
    "import matplotlib.pyplot as plt\n",
    "\n",
    "# the histogram of the data\n",
    "labels = y_train.unique()\n",
    "post_total = len(y_train)\n",
    "df1 = y_train.value_counts()\n",
    "df1 = df1.apply(lambda x: round(x*100/post_total))\n",
    "\n",
    "#plot\n",
    "fig, ax = plt.subplots(figsize=(5,3))\n",
    "plt.bar(df1.index,df1.values)\n",
    "\n",
    "#arrange\n",
    "plt.ylabel('% of instances')\n",
    "plt.xlabel('Emotion')\n",
    "plt.title('Emotion distribution in training sets')\n",
    "plt.grid(False)\n",
    "plt.xticks(rotation=90)\n",
    "plt.show()"
   ]
  },
  {
   "cell_type": "markdown",
   "metadata": {},
   "source": [
    "# the histogram of the data\n",
    "labels = y_test.unique()\n",
    "post_total = len(y_test)\n",
    "df1 = y_test.value_counts()\n",
    "df1 = df1.apply(lambda x: round(x*100/post_total,3))\n",
    "\n",
    "#plot\n",
    "fig, ax = plt.subplots(figsize=(5,3))\n",
    "plt.bar(df1.index,df1.values)\n",
    "\n",
    "#arrange\n",
    "plt.ylabel('% of instances')\n",
    "plt.xlabel('Emotion')\n",
    "plt.title('Emotion distribution  in testing sets')\n",
    "plt.grid(False)\n",
    "plt.xticks(rotation=90)\n",
    "plt.show()"
   ]
  },
  {
   "cell_type": "markdown",
   "metadata": {},
   "source": [
    "## 2.1 Bag of word (countvectorizer)"
   ]
  },
  {
   "cell_type": "code",
   "execution_count": 41,
   "metadata": {},
   "outputs": [],
   "source": [
    "from sklearn.feature_extraction.text import CountVectorizer\n",
    "BOW_vectorizer = CountVectorizer(stop_words='english') \n",
    "BOW_vectorizer.fit(X_train)\n",
    "train_data_vectorizer_features=BOW_vectorizer.transform(X_train)"
   ]
  },
  {
   "cell_type": "markdown",
   "metadata": {},
   "source": [
    "## 2.2 Tfidfvertorizer"
   ]
  },
  {
   "cell_type": "code",
   "execution_count": 42,
   "metadata": {},
   "outputs": [],
   "source": [
    "from sklearn.feature_extraction.text import TfidfVectorizer\n",
    "Tfidfvertorizer = TfidfVectorizer(stop_words = \"english\")\n",
    "train_data_Tfidf_features = Tfidfvertorizer.fit_transform(X_train)"
   ]
  },
  {
   "cell_type": "markdown",
   "metadata": {},
   "source": [
    "## 2.3 nltktokenizer"
   ]
  },
  {
   "cell_type": "code",
   "execution_count": 43,
   "metadata": {},
   "outputs": [],
   "source": [
    "from nltk.tokenize import  word_tokenize\n",
    "word_tokenize = CountVectorizer(tokenizer = word_tokenize,stop_words='english')\n",
    "train_data_tweet_features = word_tokenize.fit_transform(X_train)"
   ]
  },
  {
   "cell_type": "markdown",
   "metadata": {},
   "source": [
    "## 2.4 other tokenizer"
   ]
  },
  {
   "cell_type": "code",
   "execution_count": 44,
   "metadata": {},
   "outputs": [],
   "source": [
    "from nltk.tokenize import (TreebankWordTokenizer,\n",
    "                           word_tokenize,\n",
    "                           wordpunct_tokenize,\n",
    "                           TweetTokenizer,\n",
    "                           MWETokenizer)\n",
    "wordpuncttokenize = CountVectorizer(tokenizer = wordpunct_tokenize,stop_words='english')\n",
    "train_data_wordpuncttokenize_features = wordpuncttokenize.fit_transform(X_train)\n",
    "\n",
    "\n"
   ]
  },
  {
   "cell_type": "markdown",
   "metadata": {},
   "source": [
    "\n",
    "from tokenizers import (BertWordPieceTokenizer)\n",
    "bert_tokenizer = BertWordPieceTokenizer(\"bert-base-uncased-vocab.txt\", lowercase=True)\n"
   ]
  },
  {
   "cell_type": "markdown",
   "metadata": {},
   "source": [
    "# 3 Model&Evaluation"
   ]
  },
  {
   "cell_type": "markdown",
   "metadata": {},
   "source": [
    "## 3.1 Naive Bayes Classifier"
   ]
  },
  {
   "cell_type": "markdown",
   "metadata": {},
   "source": [
    "Naive Bayes (NB) is a common model for document classification. The main concept of Naive Bayes is to use the Bayes’ Theorem to estimate the joint probability of all the different words conditioned on each label."
   ]
  },
  {
   "cell_type": "markdown",
   "metadata": {},
   "source": [
    "after trying every tokenizer I found that countvect with default tokenizer gave me the best resut so I use it"
   ]
  },
  {
   "cell_type": "code",
   "execution_count": 45,
   "metadata": {},
   "outputs": [],
   "source": [
    "allemo = ['joy','sadness','trust','anticipation','disgust','surprise','anger','fear']"
   ]
  },
  {
   "cell_type": "code",
   "execution_count": 46,
   "metadata": {},
   "outputs": [],
   "source": [
    "from sklearn.feature_extraction.text import CountVectorizer\n",
    "from sklearn.metrics import accuracy_score\n",
    "from sklearn.metrics import classification_report\n",
    "from sklearn.pipeline import Pipeline, FeatureUnion\n"
   ]
  },
  {
   "cell_type": "markdown",
   "metadata": {},
   "source": [
    "%%time\n",
    "from sklearn.naive_bayes import MultinomialNB\n",
    "nb_BOW = Pipeline([('vect', BOW_vectorizer),\n",
    "               ('clf', MultinomialNB()),\n",
    "              ])\n",
    "nb_BOW.fit(X_train, y_train)\n",
    "\n",
    "\n",
    "y_pred = nb_BOW.predict(X_test)\n",
    "\n",
    "print('accuracy %s' % accuracy_score(y_pred, y_test))\n",
    "print(classification_report(y_test, y_pred,target_names=allemo))\n",
    "#accuracy 0.5023104811149743"
   ]
  },
  {
   "cell_type": "markdown",
   "metadata": {},
   "source": [
    "PRED= nb_BOW.predict(Testdata['cleantext'])"
   ]
  },
  {
   "cell_type": "markdown",
   "metadata": {},
   "source": [
    "Testdata['emotion']=PRED"
   ]
  },
  {
   "cell_type": "markdown",
   "metadata": {},
   "source": [
    "Testdata"
   ]
  },
  {
   "cell_type": "markdown",
   "metadata": {},
   "source": [
    "Testdata[['id','emotion']].to_csv('NB_BOW.csv', sep=',', encoding='utf-8')"
   ]
  },
  {
   "cell_type": "markdown",
   "metadata": {},
   "source": []
  },
  {
   "cell_type": "markdown",
   "metadata": {},
   "source": [
    "%%time\n",
    "from sklearn.naive_bayes import MultinomialNB\n",
    "from sklearn.pipeline import Pipeline\n",
    "from sklearn.feature_extraction.text import TfidfTransformer\n",
    "from sklearn.feature_extraction.text import CountVectorizer\n",
    "from sklearn.metrics import accuracy_score\n",
    "nb_tfidf = Pipeline([('vect', Tfidfvertorizer),\n",
    "               ('clf', MultinomialNB()),\n",
    "              ])\n",
    "nb_tfidf.fit(X_train, y_train)\n",
    "\n",
    "\n",
    "from sklearn.metrics import classification_report\n",
    "y_pred = nb_tfidf.predict(X_test)\n",
    "\n",
    "print('accuracy %s' % accuracy_score(y_pred, y_test))\n",
    "print(classification_report(y_test, y_pred,target_names=allemo))\n",
    "#accuracy 0.4445335948411637"
   ]
  },
  {
   "cell_type": "markdown",
   "metadata": {},
   "source": [
    "%%time\n",
    "from sklearn.naive_bayes import MultinomialNB\n",
    "from sklearn.pipeline import Pipeline\n",
    "from sklearn.feature_extraction.text import TfidfTransformer\n",
    "from sklearn.feature_extraction.text import CountVectorizer\n",
    "from sklearn.metrics import accuracy_score\n",
    "nb_word = Pipeline([('vect', word_tokenize),\n",
    "               ('clf', MultinomialNB()),\n",
    "              ])\n",
    "nb_word.fit(X_train, y_train)\n",
    "\n",
    "\n",
    "from sklearn.metrics import classification_report\n",
    "y_pred = nb_word.predict(X_test)\n",
    "\n",
    "print('accuracy %s' % accuracy_score(y_pred, y_test))\n",
    "print(classification_report(y_test, y_pred,target_names=allemo))"
   ]
  },
  {
   "cell_type": "markdown",
   "metadata": {},
   "source": [
    "PRED= nb_word.predict(Testdata['cleantext'])"
   ]
  },
  {
   "cell_type": "markdown",
   "metadata": {},
   "source": [
    "Testdata['emotion']=PRED"
   ]
  },
  {
   "cell_type": "markdown",
   "metadata": {},
   "source": [
    "Testdata[['id','emotion']].to_csv('NB_WORD.csv', sep=',', encoding='utf-8')"
   ]
  },
  {
   "cell_type": "markdown",
   "metadata": {},
   "source": [
    "%%time\n",
    "from sklearn.naive_bayes import MultinomialNB\n",
    "from sklearn.pipeline import Pipeline\n",
    "from sklearn.feature_extraction.text import TfidfTransformer\n",
    "from sklearn.feature_extraction.text import CountVectorizer\n",
    "from sklearn.metrics import accuracy_score\n",
    "nb_wordpuncttokenize = Pipeline([('vect', wordpuncttokenize),\n",
    "               ('clf', MultinomialNB()),\n",
    "              ])\n",
    "nb_wordpuncttokenize.fit(X_train, y_train)\n",
    "\n",
    "\n",
    "from sklearn.metrics import classification_report\n",
    "y_pred = nb_wordpuncttokenize.predict(X_test)\n",
    "\n",
    "print('accuracy %s' % accuracy_score(y_pred, y_test))\n",
    "print(classification_report(y_test, y_pred,target_names=allemo))\n",
    "#accuracy 0.5023327687141541\n"
   ]
  },
  {
   "cell_type": "markdown",
   "metadata": {},
   "source": [
    "PRED= nb_wordpuncttokenize.predict(Testdata['cleantext'])"
   ]
  },
  {
   "cell_type": "markdown",
   "metadata": {},
   "source": [
    "Testdata['emotion']=PRED"
   ]
  },
  {
   "cell_type": "markdown",
   "metadata": {},
   "source": [
    "Testdata[['id','emotion']].to_csv('NB_wordpuncttokenize.csv', sep=',', encoding='utf-8')"
   ]
  },
  {
   "cell_type": "markdown",
   "metadata": {},
   "source": [
    "%%time\n",
    "#text_clf = Pipeline([('vect', CountVectorizer()), ('tfidf', TfidfTransformer()), ('clf', SVC(kernel='rbf'))])\n",
    "\n",
    "from sklearn.naive_bayes import MultinomialNB\n",
    "nb_BOW = Pipeline([('vect', BOW_vectorizer),('tfidf', TfidfTransformer()),\n",
    "               ('clf', MultinomialNB()),\n",
    "              ])\n",
    "nb_BOW.fit(X_train, y_train)\n",
    "\n",
    "\n",
    "y_pred = nb_BOW.predict(X_test)\n",
    "\n",
    "print('accuracy %s' % accuracy_score(y_pred, y_test))\n",
    "print(classification_report(y_test, y_pred,target_names=allemo))\n",
    "#accuracy 0.4445335948411637"
   ]
  },
  {
   "cell_type": "markdown",
   "metadata": {},
   "source": [
    "%%time\n",
    "#text_clf = Pipeline([('vect', CountVectorizer()), ('tfidf', TfidfTransformer()), ('clf', SVC(kernel='rbf'))])\n",
    "\n",
    "from sklearn.naive_bayes import MultinomialNB\n",
    "nb_BOW = Pipeline([('vect', wordpuncttokenize),('tfidf', TfidfTransformer()),\n",
    "               ('clf', MultinomialNB()),\n",
    "              ])\n",
    "nb_BOW.fit(X_train, y_train)\n",
    "\n",
    "\n",
    "y_pred = nb_BOW.predict(X_test)\n",
    "\n",
    "print('accuracy %s' % accuracy_score(y_pred, y_test))\n",
    "print(classification_report(y_test, y_pred,target_names=allemo))\n"
   ]
  },
  {
   "cell_type": "markdown",
   "metadata": {},
   "source": [
    "# 3.2 SGDClassifier"
   ]
  },
  {
   "cell_type": "markdown",
   "metadata": {},
   "source": [
    "%%time\n",
    "from sklearn.pipeline import Pipeline\n",
    "from sklearn.feature_extraction.text import TfidfTransformer\n",
    "from sklearn.feature_extraction.text import CountVectorizer\n",
    "from sklearn.metrics import accuracy_score\n",
    "from sklearn.linear_model import SGDClassifier\n",
    "\n",
    "sgd_wordpuncttokenize = Pipeline([('vect',  wordpuncttokenize),\n",
    "                ('clf', SGDClassifier(loss='hinge', penalty='l2',alpha=1e-3, random_state=42, max_iter=10, tol=None)),\n",
    "               ])\n",
    "sgd_wordpuncttokenize.fit(X_train, y_train)\n",
    "\n",
    "\n",
    "\n",
    "y_pred = sgd_wordpuncttokenize.predict(X_test)\n",
    "\n",
    "print('accuracy %s' % accuracy_score(y_pred, y_test))\n",
    "print(classification_report(y_test, y_pred,target_names=allemo))"
   ]
  },
  {
   "cell_type": "markdown",
   "metadata": {},
   "source": [
    "%%time\n",
    "from sklearn.linear_model import SGDClassifier\n",
    "#CountVectorizer(stop_words='english')\n",
    "sgd_BOW = Pipeline([('vect', BOW_vectorizer),\n",
    "                ('clf', SGDClassifier(loss='hinge', penalty='l2',alpha=1e-3, random_state=42, max_iter=10, tol=None)),\n",
    "               ])\n",
    "sgd_BOW.fit(X_train, y_train)\n",
    "\n",
    "\n",
    "\n",
    "y_pred = sgd_BOW.predict(X_test)\n",
    "\n",
    "print('accuracy %s' % accuracy_score(y_pred, y_test))\n",
    "print(classification_report(y_test, y_pred,target_names=allemo))"
   ]
  },
  {
   "cell_type": "markdown",
   "metadata": {},
   "source": [
    "#Tfidfvertorizer\n",
    "%%time\n",
    "from sklearn.linear_model import SGDClassifier\n",
    "\n",
    "sgd_TfidfTransformer = Pipeline([('vect', TfidfTransformer(smooth_idf=True,use_idf=True)),\n",
    "                ('clf', SGDClassifier(loss='hinge', penalty='l2',alpha=1e-3, random_state=42, max_iter=10, tol=None)),\n",
    "               ])\n",
    "sgd_TfidfTransformer.fit(X_train, y_train)\n",
    "\n",
    "\n",
    "\n",
    "y_pred = sgd_TfidfTransformer.predict(X_test)\n",
    "\n",
    "print('accuracy %s' % accuracy_score(y_pred, y_test))\n",
    "print(classification_report(y_test, y_pred,target_names=allemo))"
   ]
  },
  {
   "cell_type": "code",
   "execution_count": 47,
   "metadata": {},
   "outputs": [
    {
     "ename": "NameError",
     "evalue": "name 'error' is not defined",
     "output_type": "error",
     "traceback": [
      "\u001b[1;31m---------------------------------------------------------------------------\u001b[0m",
      "\u001b[1;31mNameError\u001b[0m                                 Traceback (most recent call last)",
      "Input \u001b[1;32mIn [47]\u001b[0m, in \u001b[0;36m<cell line: 1>\u001b[1;34m()\u001b[0m\n\u001b[1;32m----> 1\u001b[0m \u001b[43merror\u001b[49m\n",
      "\u001b[1;31mNameError\u001b[0m: name 'error' is not defined"
     ]
    }
   ],
   "source": [
    "error"
   ]
  },
  {
   "cell_type": "markdown",
   "metadata": {},
   "source": [
    "--------------------------------------------"
   ]
  },
  {
   "cell_type": "markdown",
   "metadata": {},
   "source": [
    "# 3.3 LogisticRegression"
   ]
  },
  {
   "cell_type": "markdown",
   "metadata": {},
   "source": [
    "%%time\n",
    "from sklearn.pipeline import Pipeline\n",
    "from sklearn.feature_extraction.text import TfidfTransformer\n",
    "from sklearn.feature_extraction.text import CountVectorizer\n",
    "from sklearn.metrics import accuracy_score\n",
    "from sklearn.linear_model import LogisticRegression\n",
    "#CountVectorizer(stop_words='english')\n",
    "logreg_BOW = Pipeline([('vect', BOW_vectorizer),\n",
    "                ('clf', LogisticRegression(n_jobs=1, C=1e5)),\n",
    "               ])\n",
    "logreg_BOW.fit(X_train, y_train)\n",
    "\n",
    "\n",
    "\n",
    "y_pred = logreg_BOW.predict(X_test)\n",
    "\n",
    "print('accuracy %s' % accuracy_score(y_pred, y_test))\n",
    "print(classification_report(y_test, y_pred,target_names=allemo))"
   ]
  },
  {
   "cell_type": "markdown",
   "metadata": {},
   "source": [
    "PRED= logreg_BOW.predict(Testdata['cleantext'])"
   ]
  },
  {
   "cell_type": "markdown",
   "metadata": {},
   "source": [
    "Testdata['emotion']=PRED"
   ]
  },
  {
   "cell_type": "markdown",
   "metadata": {},
   "source": [
    "#Testdata"
   ]
  },
  {
   "cell_type": "markdown",
   "metadata": {},
   "source": [
    "Testdata[['id','emotion']].to_csv('LR_BOW.csv', sep=',', encoding='utf-8')"
   ]
  },
  {
   "cell_type": "markdown",
   "metadata": {},
   "source": [
    "%%time\n",
    "from sklearn.linear_model import LogisticRegression\n",
    "\n",
    "logreg_wordpuncttokenize = Pipeline([('vect', wordpuncttokenize),('tfidf', TfidfTransformer()),\n",
    "                ('clf', LogisticRegression(n_jobs=1, C=1e5)),\n",
    "               ])\n",
    "logreg_wordpuncttokenize.fit(X_train, y_train)\n",
    "\n",
    "\n",
    "\n",
    "y_pred = logreg_wordpuncttokenize.predict(X_test)\n",
    "\n",
    "print('accuracy %s' % accuracy_score(y_pred, y_test))\n",
    "print(classification_report(y_test, y_pred,target_names=allemo)) \n",
    "#accuracy 0.5060473685774568\n",
    "#accuracy 0.4976820896852991 add ('tfidf', TfidfTransformer())  become worse"
   ]
  },
  {
   "cell_type": "markdown",
   "metadata": {},
   "source": [
    "%%time\n",
    "from sklearn.linear_model import LogisticRegression\n",
    "\n",
    "logreg_Tfidfvertorizer = Pipeline([('vect', Tfidfvertorizer),\n",
    "                ('clf', LogisticRegression(n_jobs=1, C=1e5)),\n",
    "               ])\n",
    "logreg_Tfidfvertorizer.fit(X_train, y_train)\n",
    "\n",
    "\n",
    "\n",
    "y_pred = logreg_Tfidfvertorizer.predict(X_test)\n",
    "\n",
    "print('accuracy %s' % accuracy_score(y_pred, y_test))\n",
    "print(classification_report(y_test, y_pred,target_names=allemo)) "
   ]
  },
  {
   "cell_type": "markdown",
   "metadata": {},
   "source": [
    "# word_tokenize\n",
    "from sklearn.linear_model import LogisticRegression\n",
    "\n",
    "logreg_word_tokenize = Pipeline([('vect', word_tokenize),\n",
    "                ('clf', LogisticRegression(n_jobs=1, C=1e5)),\n",
    "               ])\n",
    "logreg_word_tokenize.fit(X_train, y_train)\n",
    "\n",
    "\n",
    "\n",
    "y_pred = logreg_word_tokenize.predict(X_test)\n",
    "\n",
    "print('accuracy %s' % accuracy_score(y_pred, y_test))\n",
    "print(classification_report(y_test, y_pred,target_names=allemo)) "
   ]
  },
  {
   "cell_type": "markdown",
   "metadata": {},
   "source": [
    "# #text_clf = Pipeline([('vect', CountVectorizer()), ('tfidf', TfidfTransformer()), ('clf', SVC(kernel='rbf'))])\n",
    "from sklearn.linear_model import LogisticRegression\n",
    "\n",
    "logreg_word_tokenize = Pipeline([('vect', word_tokenize), ('tfidf', TfidfTransformer()),\n",
    "                ('clf', LogisticRegression(n_jobs=1, C=1e5)),\n",
    "               ])\n",
    "logreg_word_tokenize.fit(X_train, y_train)\n",
    "\n",
    "\n",
    "\n",
    "y_pred = logreg_word_tokenize.predict(X_test)\n",
    "\n",
    "print('accuracy %s' % accuracy_score(y_pred, y_test))\n",
    "print(classification_report(y_test, y_pred,target_names=allemo)) "
   ]
  },
  {
   "cell_type": "markdown",
   "metadata": {},
   "source": [
    "## Transformer"
   ]
  },
  {
   "cell_type": "code",
   "execution_count": null,
   "metadata": {},
   "outputs": [],
   "source": [
    "error"
   ]
  },
  {
   "cell_type": "markdown",
   "metadata": {},
   "source": [
    "## CNN"
   ]
  },
  {
   "cell_type": "code",
   "execution_count": 66,
   "metadata": {},
   "outputs": [],
   "source": [
    "#I replace old keras to new onw(tensorflow keras)\n",
    "# \n",
    "#from keras.models import Model\n",
    "#from keras.layers import Input, Dense\n",
    "#from keras.layers import ReLU, Softmax\n",
    "\n",
    "import tensorflow as tf \n",
    "keras = tf.keras\n",
    "\n",
    "from tensorflow.keras.models import Sequential, Model, load_model, save_model\n",
    "from tensorflow.keras.callbacks import ModelCheckpoint\n",
    "from tensorflow.keras.layers import Dense, Activation, Dropout, Input, Masking, TimeDistributed, LSTM, Conv1D, Embedding\n",
    "from tensorflow.keras.layers import GRU, Bidirectional, BatchNormalization, Reshape\n",
    "from tensorflow.keras.optimizers import Adam\n",
    "\n",
    "from tensorflow.keras.layers import Reshape, Dropout, Dense,Multiply, Dot, Concatenate,Embedding,ReLU, Softmax\n",
    "from tensorflow.keras import optimizers\n",
    "from tensorflow.keras.callbacks import ModelCheckpoint\n",
    "from tensorflow.keras.layers import Input,Conv1D,MaxPooling1D,Dense,GlobalMaxPooling1D,Embedding\n",
    "from tensorflow.keras.models import Model\n",
    "import numpy as np"
   ]
  },
  {
   "cell_type": "code",
   "execution_count": 67,
   "metadata": {},
   "outputs": [],
   "source": [
    "import nltk\n",
    "\n",
    "# build analyzers (bag-of-words)\n",
    "BOW_500_word_tokenize = CountVectorizer(max_features=500, tokenizer=nltk.word_tokenize) \n",
    "\n",
    "\n",
    "# apply analyzer to training data\n",
    "BOW_500_word_tokenize.fit(traindata['cleantext'])\n",
    "\n",
    "train_data_BOW_features_500 = BOW_500_word_tokenize.transform(traindata['cleantext'])\n"
   ]
  },
  {
   "cell_type": "code",
   "execution_count": 68,
   "metadata": {},
   "outputs": [],
   "source": [
    "import nltk\n",
    "\n",
    "#wordpunct_tokenize\n",
    "BOW_500_wordpunct_tokenize = CountVectorizer(max_features=500, tokenizer=nltk.wordpunct_tokenize) \n",
    "\n",
    "\n",
    "# apply analyzer to training data\n",
    "BOW_500_wordpunct_tokenize.fit(traindata['cleantext'])\n",
    "\n",
    "train_data_wordpunctfeatures_500 = BOW_500_wordpunct_tokenize.transform(traindata['cleantext'])\n"
   ]
  },
  {
   "cell_type": "code",
   "execution_count": 72,
   "metadata": {},
   "outputs": [
    {
     "ename": "KeyError",
     "evalue": "'emotion'",
     "output_type": "error",
     "traceback": [
      "\u001b[1;31m---------------------------------------------------------------------------\u001b[0m",
      "\u001b[1;31mKeyError\u001b[0m                                  Traceback (most recent call last)",
      "File \u001b[1;32mD:\\ProgramData\\anaconda3\\envs\\env1\\lib\\site-packages\\pandas\\core\\indexes\\base.py:3621\u001b[0m, in \u001b[0;36mIndex.get_loc\u001b[1;34m(self, key, method, tolerance)\u001b[0m\n\u001b[0;32m   3620\u001b[0m \u001b[38;5;28;01mtry\u001b[39;00m:\n\u001b[1;32m-> 3621\u001b[0m     \u001b[38;5;28;01mreturn\u001b[39;00m \u001b[38;5;28;43mself\u001b[39;49m\u001b[38;5;241;43m.\u001b[39;49m\u001b[43m_engine\u001b[49m\u001b[38;5;241;43m.\u001b[39;49m\u001b[43mget_loc\u001b[49m\u001b[43m(\u001b[49m\u001b[43mcasted_key\u001b[49m\u001b[43m)\u001b[49m\n\u001b[0;32m   3622\u001b[0m \u001b[38;5;28;01mexcept\u001b[39;00m \u001b[38;5;167;01mKeyError\u001b[39;00m \u001b[38;5;28;01mas\u001b[39;00m err:\n",
      "File \u001b[1;32mD:\\ProgramData\\anaconda3\\envs\\env1\\lib\\site-packages\\pandas\\_libs\\index.pyx:136\u001b[0m, in \u001b[0;36mpandas._libs.index.IndexEngine.get_loc\u001b[1;34m()\u001b[0m\n",
      "File \u001b[1;32mD:\\ProgramData\\anaconda3\\envs\\env1\\lib\\site-packages\\pandas\\_libs\\index.pyx:163\u001b[0m, in \u001b[0;36mpandas._libs.index.IndexEngine.get_loc\u001b[1;34m()\u001b[0m\n",
      "File \u001b[1;32mpandas\\_libs\\hashtable_class_helper.pxi:5198\u001b[0m, in \u001b[0;36mpandas._libs.hashtable.PyObjectHashTable.get_item\u001b[1;34m()\u001b[0m\n",
      "File \u001b[1;32mpandas\\_libs\\hashtable_class_helper.pxi:5206\u001b[0m, in \u001b[0;36mpandas._libs.hashtable.PyObjectHashTable.get_item\u001b[1;34m()\u001b[0m\n",
      "\u001b[1;31mKeyError\u001b[0m: 'emotion'",
      "\nThe above exception was the direct cause of the following exception:\n",
      "\u001b[1;31mKeyError\u001b[0m                                  Traceback (most recent call last)",
      "Input \u001b[1;32mIn [72]\u001b[0m, in \u001b[0;36m<cell line: 6>\u001b[1;34m()\u001b[0m\n\u001b[0;32m      3\u001b[0m y_train \u001b[38;5;241m=\u001b[39m traindata[\u001b[38;5;124m'\u001b[39m\u001b[38;5;124memotion\u001b[39m\u001b[38;5;124m'\u001b[39m]\n\u001b[0;32m      5\u001b[0m X_test \u001b[38;5;241m=\u001b[39m BOW_500_wordpunct_tokenize\u001b[38;5;241m.\u001b[39mtransform(Testdata[\u001b[38;5;124m'\u001b[39m\u001b[38;5;124mcleantext\u001b[39m\u001b[38;5;124m'\u001b[39m])\n\u001b[1;32m----> 6\u001b[0m y_test \u001b[38;5;241m=\u001b[39m \u001b[43mTestdata\u001b[49m\u001b[43m[\u001b[49m\u001b[38;5;124;43m'\u001b[39;49m\u001b[38;5;124;43memotion\u001b[39;49m\u001b[38;5;124;43m'\u001b[39;49m\u001b[43m]\u001b[49m\n\u001b[0;32m      8\u001b[0m \u001b[38;5;66;03m## check dimension is a good habbit \u001b[39;00m\n\u001b[0;32m      9\u001b[0m \u001b[38;5;28mprint\u001b[39m(\u001b[38;5;124m'\u001b[39m\u001b[38;5;124mX_train.shape: \u001b[39m\u001b[38;5;124m'\u001b[39m, X_train\u001b[38;5;241m.\u001b[39mshape)\n",
      "File \u001b[1;32mD:\\ProgramData\\anaconda3\\envs\\env1\\lib\\site-packages\\pandas\\core\\frame.py:3505\u001b[0m, in \u001b[0;36mDataFrame.__getitem__\u001b[1;34m(self, key)\u001b[0m\n\u001b[0;32m   3503\u001b[0m \u001b[38;5;28;01mif\u001b[39;00m \u001b[38;5;28mself\u001b[39m\u001b[38;5;241m.\u001b[39mcolumns\u001b[38;5;241m.\u001b[39mnlevels \u001b[38;5;241m>\u001b[39m \u001b[38;5;241m1\u001b[39m:\n\u001b[0;32m   3504\u001b[0m     \u001b[38;5;28;01mreturn\u001b[39;00m \u001b[38;5;28mself\u001b[39m\u001b[38;5;241m.\u001b[39m_getitem_multilevel(key)\n\u001b[1;32m-> 3505\u001b[0m indexer \u001b[38;5;241m=\u001b[39m \u001b[38;5;28;43mself\u001b[39;49m\u001b[38;5;241;43m.\u001b[39;49m\u001b[43mcolumns\u001b[49m\u001b[38;5;241;43m.\u001b[39;49m\u001b[43mget_loc\u001b[49m\u001b[43m(\u001b[49m\u001b[43mkey\u001b[49m\u001b[43m)\u001b[49m\n\u001b[0;32m   3506\u001b[0m \u001b[38;5;28;01mif\u001b[39;00m is_integer(indexer):\n\u001b[0;32m   3507\u001b[0m     indexer \u001b[38;5;241m=\u001b[39m [indexer]\n",
      "File \u001b[1;32mD:\\ProgramData\\anaconda3\\envs\\env1\\lib\\site-packages\\pandas\\core\\indexes\\base.py:3623\u001b[0m, in \u001b[0;36mIndex.get_loc\u001b[1;34m(self, key, method, tolerance)\u001b[0m\n\u001b[0;32m   3621\u001b[0m     \u001b[38;5;28;01mreturn\u001b[39;00m \u001b[38;5;28mself\u001b[39m\u001b[38;5;241m.\u001b[39m_engine\u001b[38;5;241m.\u001b[39mget_loc(casted_key)\n\u001b[0;32m   3622\u001b[0m \u001b[38;5;28;01mexcept\u001b[39;00m \u001b[38;5;167;01mKeyError\u001b[39;00m \u001b[38;5;28;01mas\u001b[39;00m err:\n\u001b[1;32m-> 3623\u001b[0m     \u001b[38;5;28;01mraise\u001b[39;00m \u001b[38;5;167;01mKeyError\u001b[39;00m(key) \u001b[38;5;28;01mfrom\u001b[39;00m \u001b[38;5;21;01merr\u001b[39;00m\n\u001b[0;32m   3624\u001b[0m \u001b[38;5;28;01mexcept\u001b[39;00m \u001b[38;5;167;01mTypeError\u001b[39;00m:\n\u001b[0;32m   3625\u001b[0m     \u001b[38;5;66;03m# If we have a listlike key, _check_indexing_error will raise\u001b[39;00m\n\u001b[0;32m   3626\u001b[0m     \u001b[38;5;66;03m#  InvalidIndexError. Otherwise we fall through and re-raise\u001b[39;00m\n\u001b[0;32m   3627\u001b[0m     \u001b[38;5;66;03m#  the TypeError.\u001b[39;00m\n\u001b[0;32m   3628\u001b[0m     \u001b[38;5;28mself\u001b[39m\u001b[38;5;241m.\u001b[39m_check_indexing_error(key)\n",
      "\u001b[1;31mKeyError\u001b[0m: 'emotion'"
     ]
    }
   ],
   "source": [
    "# standardize name (X, y) \n",
    "X_train = BOW_500_wordpunct_tokenize.transform(traindata['cleantext'])\n",
    "y_train = traindata['emotion']\n",
    "\n",
    "X_test = BOW_500_wordpunct_tokenize.transform(Testdata['cleantext'])\n",
    "y_test = Testdata['emotion']\n",
    "\n",
    "## check dimension is a good habbit \n",
    "print('X_train.shape: ', X_train.shape)\n",
    "print('y_train.shape: ', y_train.shape)\n",
    "print('X_test.shape: ', X_test.shape)\n",
    "print('y_test.shape: ', y_test.shape)"
   ]
  },
  {
   "cell_type": "code",
   "execution_count": null,
   "metadata": {},
   "outputs": [],
   "source": [
    "## deal with label (string -> one-hot)\n",
    "\n",
    "from sklearn.preprocessing import LabelEncoder\n",
    "\n",
    "label_encoder = LabelEncoder()\n",
    "label_encoder.fit(y_train)\n",
    "print('check label: ', label_encoder.classes_)\n",
    "print('\\n## Before convert')\n",
    "print('y_train[0:4]:\\n', y_train[0:4])\n",
    "print('\\ny_train.shape: ', y_train.shape)\n",
    "print('y_test.shape: ', y_test.shape)\n",
    "\n",
    "def label_encode(le, labels):\n",
    "    enc = le.transform(labels)\n",
    "    return keras.utils.to_categorical(enc)\n",
    "\n",
    "def label_decode(le, one_hot_label):\n",
    "    dec = np.argmax(one_hot_label, axis=1)\n",
    "    return le.inverse_transform(dec)\n",
    "\n",
    "y_train = label_encode(label_encoder, y_train)\n",
    "y_test = label_encode(label_encoder, y_test)\n",
    "\n",
    "print('\\n\\n## After convert')\n",
    "print('y_train[0:4]:\\n', y_train[0:4])\n",
    "print('\\ny_train.shape: ', y_train.shape)\n",
    "print('y_test.shape: ', y_test.shape)\n"
   ]
  },
  {
   "cell_type": "code",
   "execution_count": null,
   "metadata": {},
   "outputs": [],
   "source": [
    "# I/O check\n",
    "input_shape = X_train.shape[1]\n",
    "print('input_shape: ', input_shape)\n",
    "\n",
    "output_shape = len(label_encoder.classes_)\n",
    "print('output_shape: ', output_shape)"
   ]
  },
  {
   "cell_type": "code",
   "execution_count": null,
   "metadata": {},
   "outputs": [],
   "source": []
  },
  {
   "cell_type": "code",
   "execution_count": null,
   "metadata": {},
   "outputs": [],
   "source": []
  },
  {
   "cell_type": "code",
   "execution_count": null,
   "metadata": {},
   "outputs": [],
   "source": [
    "\n",
    "# input layer\n",
    "model_input = Input(shape=(input_shape, ))  # 500\n",
    "X = model_input\n",
    "\n",
    "# 1st hidden layer\n",
    "X_W1 = Dense(units=64)(X)  # 64\n",
    "H1 = ReLU()(X_W1)\n",
    "\n",
    "# 2nd hidden layer\n",
    "H1_W2 = Dense(units=64)(H1)  # 64\n",
    "H2 = ReLU()(H1_W2)\n",
    "\n",
    "# output layer\n",
    "H2_W3 = Dense(units=output_shape)(H2)  # 4\n",
    "H3 = Softmax()(H2_W3)\n",
    "\n",
    "model_output = H3\n",
    "\n",
    "# create model\n",
    "model = Model(inputs=[model_input], outputs=[model_output])\n",
    "\n",
    "# loss function & optimizer\n",
    "model.compile(optimizer='adam',\n",
    "              loss='categorical_crossentropy',\n",
    "              metrics=['accuracy'])\n",
    "\n",
    "# show model construction\n",
    "model.summary()"
   ]
  },
  {
   "cell_type": "code",
   "execution_count": null,
   "metadata": {},
   "outputs": [],
   "source": [
    "from tensorflow.keras.callbacks import CSVLogger\n",
    "\n",
    "csv_logger = CSVLogger('training_log.csv')\n",
    "\n",
    "# training setting\n",
    "epochs = 10\n",
    "batch_size = 32\n",
    "\n",
    "# training!\n",
    "history = model.fit(X_train, y_train, \n",
    "                    epochs=epochs, \n",
    "                    batch_size=batch_size, \n",
    "                    callbacks=[csv_logger],\n",
    "                    validation_data = (X_test, y_test))\n",
    "print('training finish')"
   ]
  },
  {
   "cell_type": "code",
   "execution_count": null,
   "metadata": {},
   "outputs": [],
   "source": []
  },
  {
   "cell_type": "code",
   "execution_count": null,
   "metadata": {},
   "outputs": [],
   "source": [
    "## predict\n",
    "pred_result = model.predict(X_test, batch_size=128)\n",
    "pred_result[:5]"
   ]
  },
  {
   "cell_type": "code",
   "execution_count": null,
   "metadata": {},
   "outputs": [],
   "source": [
    "pred_result = label_decode(label_encoder, pred_result)\n",
    "pred_result[:5]"
   ]
  },
  {
   "cell_type": "markdown",
   "metadata": {},
   "source": [
    "from sklearn.metrics import accuracy_score\n",
    "\n",
    "print('testing accuracy: {}'.format(round(accuracy_score(label_decode(label_encoder, y_test), pred_result), 2)))"
   ]
  },
  {
   "cell_type": "code",
   "execution_count": null,
   "metadata": {},
   "outputs": [],
   "source": [
    "Testdata['emotion']=pred_result"
   ]
  },
  {
   "cell_type": "code",
   "execution_count": null,
   "metadata": {},
   "outputs": [],
   "source": [
    "Testdata[['id','emotion']].to_csv('CNN.csv', sep=',', encoding='utf-8')"
   ]
  },
  {
   "cell_type": "code",
   "execution_count": null,
   "metadata": {},
   "outputs": [],
   "source": [
    "error"
   ]
  },
  {
   "cell_type": "code",
   "execution_count": null,
   "metadata": {},
   "outputs": [],
   "source": []
  },
  {
   "cell_type": "code",
   "execution_count": null,
   "metadata": {},
   "outputs": [],
   "source": []
  },
  {
   "cell_type": "code",
   "execution_count": null,
   "metadata": {},
   "outputs": [],
   "source": []
  },
  {
   "cell_type": "markdown",
   "metadata": {},
   "source": [
    "# 3.4 RandomForestClassifier"
   ]
  },
  {
   "cell_type": "code",
   "execution_count": null,
   "metadata": {},
   "outputs": [],
   "source": [
    "import nltk\n",
    "nltk.download('stopwords')\n",
    "from nltk.stem.snowball import SnowballStemmer\n",
    "from sklearn.feature_extraction.text import TfidfTransformer\n",
    "stemmer = SnowballStemmer(\"english\", ignore_stopwords=True)\n",
    "class StemmedCountVectorizer(CountVectorizer):\n",
    "    def build_analyzer(self):\n",
    "        analyzer = super(StemmedCountVectorizer, self).build_analyzer()\n",
    "        return lambda doc: ([stemmer.stem(w) for w in analyzer(doc)])\n",
    "stemmed_count_vect = StemmedCountVectorizer(stop_words='english')\n",
    "text_mnb_stemmed = Pipeline([('vect', stemmed_count_vect),\n",
    "                    ('tfidf', TfidfTransformer()),\n",
    "                      ('mnb', MultinomialNB(fit_prior=False)), \n",
    "                            ])\n",
    "text_mnb_stemmed = text_mnb_stemmed.fit(X_train, y_train)\n",
    "y_pred = text_mnb_stemmed.predict(X_test)\n",
    "\n",
    "print('accuracy %s' % accuracy_score(y_pred, y_test))\n",
    "print(classification_report(y_test, y_pred,target_names=allemo)) "
   ]
  },
  {
   "cell_type": "code",
   "execution_count": null,
   "metadata": {},
   "outputs": [],
   "source": [
    "#https://www.kaggle.com/code/alokmalik/text-classification-using-svm\n",
    "from sklearn.ensemble import RandomForestClassifier\n",
    "from sklearn.pipeline import Pipeline, FeatureUnion\n",
    "from sklearn.tree import DecisionTreeClassifier\n",
    "from sklearn.ensemble import BaggingClassifier\n",
    "\n",
    "tree = DecisionTreeClassifier()\n",
    "bag = BaggingClassifier(tree, n_estimators=100, max_samples=0.8,\n",
    "                        random_state=1)\n",
    "\n",
    "\n",
    "#Use pipeline to carry out steps in sequence with a single object\n",
    "#SVM's rbf kernel gives highest accuracy in this classification problem.\n",
    "\n",
    "#('vect', wordpuncttokenize)\n",
    "#RF_CountVectorizer = Pipeline([('vect', CountVectorizer(stop_words='english')), ('clf', RandomForestClassifier())])\n",
    "bag_wordpuncttokenize = Pipeline([('vect', wordpuncttokenize), ('clf', bag)])\n",
    "             \n",
    "bag_wordpuncttokenize.fit(X_train, y_train)\n",
    "\n",
    "y_pred = bag_wordpuncttokenize.predict(X_test)\n",
    "\n",
    "print('accuracy %s' % accuracy_score(y_pred, y_test))\n",
    "print(classification_report(y_test, y_pred,target_names=allemo)) "
   ]
  },
  {
   "cell_type": "code",
   "execution_count": null,
   "metadata": {},
   "outputs": [],
   "source": [
    "PRED= bag_wordpuncttokenize.predict(Testdata['cleantext'])\n",
    "\n",
    "Testdata['emotion']=PRED\n",
    "\n",
    "#Testdata\n",
    "\n",
    "Testdata[['id','emotion']].to_csv('BaggingClassifier_wordpuncttokenize.csv', sep=',', encoding='utf-8')"
   ]
  },
  {
   "cell_type": "code",
   "execution_count": null,
   "metadata": {},
   "outputs": [],
   "source": [
    "#text_clf = Pipeline([('vect', CountVectorizer()), ('tfidf', TfidfTransformer()), ('clf', SVC(kernel='rbf'))])\n"
   ]
  },
  {
   "cell_type": "code",
   "execution_count": null,
   "metadata": {},
   "outputs": [],
   "source": [
    "#https://www.kaggle.com/code/alokmalik/text-classification-using-svm\n",
    "from sklearn.ensemble import RandomForestClassifier\n",
    "from sklearn.pipeline import Pipeline, FeatureUnion\n",
    "\n",
    "RF_wordpuncttokenize = Pipeline([('vect', wordpuncttokenize), ('clf', RandomForestClassifier())])\n",
    "\n",
    "             \n",
    "RF_wordpuncttokenize.fit(X_train, y_train)\n",
    "\n",
    "y_pred = RF_wordpuncttokenize.predict(X_test)\n",
    "\n",
    "print('accuracy %s' % accuracy_score(y_pred, y_test))\n",
    "print(classification_report(y_test, y_pred,target_names=allemo)) "
   ]
  },
  {
   "cell_type": "code",
   "execution_count": null,
   "metadata": {},
   "outputs": [],
   "source": [
    "PRED= RF_wordpuncttokenize.predict(Testdata['cleantext'])\n",
    "\n",
    "Testdata['emotion']=PRED\n",
    "\n",
    "#Testdata\n",
    "\n",
    "Testdata[['id','emotion']].to_csv('RF_wordpuncttokenize.csv', sep=',', encoding='utf-8')"
   ]
  },
  {
   "cell_type": "code",
   "execution_count": null,
   "metadata": {},
   "outputs": [],
   "source": [
    "#https://www.kaggle.com/code/alokmalik/text-classification-using-svm\n",
    "from sklearn.ensemble import RandomForestClassifier\n",
    "from sklearn.pipeline import Pipeline, FeatureUnion\n",
    "\n",
    "#Use pipeline to carry out steps in sequence with a single object\n",
    "#SVM's rbf kernel gives highest accuracy in this classification problem.\n",
    "\n",
    "#('vect', wordpuncttokenize)\n",
    "#RF_CountVectorizer = Pipeline([('vect', CountVectorizer(stop_words='english')), ('clf', RandomForestClassifier())])\n",
    "#\n",
    "\n",
    "RF_BOW_vectorizer = Pipeline([('vect', BOW_vectorizer), ('clf', RandomForestClassifier())])\n",
    "             \n",
    "RF_BOW_vectorizer.fit(X_train, y_train)\n",
    "\n",
    "y_pred = RF_BOW_vectorizer.predict(X_test)\n",
    "\n",
    "print('accuracy %s' % accuracy_score(y_pred, y_test))\n",
    "print(classification_report(y_test, y_pred,target_names=allemo)) "
   ]
  },
  {
   "cell_type": "markdown",
   "metadata": {},
   "source": [
    "# 3.5 SVC"
   ]
  },
  {
   "cell_type": "code",
   "execution_count": null,
   "metadata": {},
   "outputs": [],
   "source": [
    "#https://www.kaggle.com/code/alokmalik/text-classification-using-svm\n",
    "from sklearn.svm import SVC# Support Vector Machine\n",
    "\n",
    "#Use pipeline to carry out steps in sequence with a single object\n",
    "#SVM's rbf kernel gives highest accuracy in this classification problem.\n",
    "\n",
    "#('vect', wordpuncttokenize)\n",
    "svc_wordpuncttokenize = Pipeline([('vect', wordpuncttokenize), ('clf', SVC(kernel='rbf'))])\n",
    "            \n",
    "svc_wordpuncttokenize.fit(X_train, y_train)\n",
    "\n",
    "\n",
    "\n",
    "y_pred = svc_wordpuncttokenize.predict(X_test)\n",
    "\n",
    "print('accuracy %s' % accuracy_score(y_pred, y_test))\n",
    "print(classification_report(y_test, y_pred,target_names=allemo)) \n",
    "\n"
   ]
  },
  {
   "cell_type": "code",
   "execution_count": null,
   "metadata": {},
   "outputs": [],
   "source": [
    "PRED= svc_wordpuncttokenize.predict(Testdata['cleantext'])\n",
    "\n",
    "Testdata['emotion']=PRED\n",
    "\n",
    "#Testdata\n",
    "\n",
    "Testdata[['id','emotion']].to_csv('svc_wordpuncttokenize.csv', sep=',', encoding='utf-8')"
   ]
  },
  {
   "cell_type": "code",
   "execution_count": null,
   "metadata": {},
   "outputs": [],
   "source": [
    "#https://www.kaggle.com/code/alokmalik/text-classification-using-svm\n",
    "from sklearn.svm import SVC# Support Vector Machine\n",
    "\n",
    "#Use pipeline to carry out steps in sequence with a single object\n",
    "#SVM's rbf kernel gives highest accuracy in this classification problem.\n",
    "\n",
    "#('vect', wordpuncttokenize)\n",
    "svc_CountVectorizer = Pipeline([('vect', CountVectorizer(stop_words='english')), ('clf', SVC(kernel='rbf'))])\n",
    "            \n",
    "svc_CountVectorizer.fit(X_train, y_train)\n",
    "\n",
    "\n",
    "\n",
    "y_pred = svc_CountVectorizer.predict(X_test)\n",
    "\n",
    "print('accuracy %s' % accuracy_score(y_pred, y_test))\n",
    "print(classification_report(y_test, y_pred,target_names=allemo)) "
   ]
  },
  {
   "cell_type": "markdown",
   "metadata": {},
   "source": [
    "# 3.4 FASTTEXT(Best score)"
   ]
  },
  {
   "cell_type": "markdown",
   "metadata": {},
   "source": [
    "Format data & export to TXT because fasttext read data from text file"
   ]
  },
  {
   "cell_type": "code",
   "execution_count": null,
   "metadata": {},
   "outputs": [],
   "source": [
    "hyper_params = {\"lr\": 0.01,\n",
    "                \"epoch\": 14,\n",
    "                \"wordNgrams\": 2,\n",
    "                \"dim\": 20}    "
   ]
  },
  {
   "cell_type": "code",
   "execution_count": null,
   "metadata": {},
   "outputs": [],
   "source": [
    "traindata['data'] = traindata['cleantext']+'__label__'+traindata['emotion']"
   ]
  },
  {
   "cell_type": "code",
   "execution_count": null,
   "metadata": {},
   "outputs": [],
   "source": [
    "traindata['data'].to_csv('fastnotokay1.txt')"
   ]
  },
  {
   "cell_type": "markdown",
   "metadata": {},
   "source": [
    "Trainmodel&evaluate"
   ]
  },
  {
   "cell_type": "code",
   "execution_count": null,
   "metadata": {},
   "outputs": [],
   "source": [
    "import fasttext"
   ]
  },
  {
   "cell_type": "code",
   "execution_count": null,
   "metadata": {},
   "outputs": [],
   "source": [
    "model = fasttext.train_supervised('fastnotokay1.txt',**hyper_params)\n",
    "print(\"Model trained with the hyperparameter \\n {}\".format(hyper_params))"
   ]
  },
  {
   "cell_type": "code",
   "execution_count": null,
   "metadata": {},
   "outputs": [],
   "source": [
    "traindata['cleantext'][1]"
   ]
  },
  {
   "cell_type": "code",
   "execution_count": null,
   "metadata": {},
   "outputs": [],
   "source": [
    "model.predict(traindata['cleantext'][1])"
   ]
  },
  {
   "cell_type": "markdown",
   "metadata": {},
   "source": [
    "Evaluate kaggle test dataset"
   ]
  },
  {
   "cell_type": "code",
   "execution_count": null,
   "metadata": {},
   "outputs": [],
   "source": [
    "Testdata['emotion'] = Testdata['cleantext'].apply(lambda x: model.predict(x))"
   ]
  },
  {
   "cell_type": "code",
   "execution_count": null,
   "metadata": {},
   "outputs": [],
   "source": [
    "Testdata[['id','emotion']].to_csv('FAST22ngram.csv', sep=',', encoding='utf-8')"
   ]
  },
  {
   "cell_type": "code",
   "execution_count": null,
   "metadata": {},
   "outputs": [],
   "source": [
    "# For Building the model\n",
    "from sklearn.model_selection import train_test_split\n",
    "import tensorflow as tf\n",
    "import seaborn as sns"
   ]
  },
  {
   "cell_type": "markdown",
   "metadata": {},
   "source": [
    "------------------------------------------------"
   ]
  },
  {
   "cell_type": "markdown",
   "metadata": {},
   "source": [
    "# Conclusion\n",
    "## Insights gained.\n",
    "\n",
    "- between these models I tried, I foud that Fasttext give me the best result on the competition with very fast training time \n",
    "- text from twitter are really messy so the text cleaning is very important (I go back many times to do the text cleaning)\n",
    "- this case BOW is better than Tfidf, may be the frequent word is really help us to classify but idf removed it.(at first I think TFIDF would perform better)"
   ]
  },
  {
   "cell_type": "markdown",
   "metadata": {},
   "source": [
    "# Things I want to improve/try\n",
    "\n",
    "- other language models like bert(I've tried roberta but my computer keep dying & the estimated time train are 10 days ;(\n",
    "- try upsampling/other method to deal with the data imbalance.Because the majority of the data labels are 'joy,' so the model may be difficult to predict other emotions.\n",
    "- the spell check because text from social contain many typo (I've tried spellchecker/textblob but it took too long)\n",
    "- too many repeated words in tweet text I found when i plot a boxplot, I wantto remove them.\n",
    "- word2vec"
   ]
  }
 ],
 "metadata": {
  "kernelspec": {
   "display_name": "Python 3 (ipykernel)",
   "language": "python",
   "name": "python3"
  },
  "language_info": {
   "codemirror_mode": {
    "name": "ipython",
    "version": 3
   },
   "file_extension": ".py",
   "mimetype": "text/x-python",
   "name": "python",
   "nbconvert_exporter": "python",
   "pygments_lexer": "ipython3",
   "version": "3.8.13"
  },
  "varInspector": {
   "cols": {
    "lenName": 16,
    "lenType": 16,
    "lenVar": 40
   },
   "kernels_config": {
    "python": {
     "delete_cmd_postfix": "",
     "delete_cmd_prefix": "del ",
     "library": "var_list.py",
     "varRefreshCmd": "print(var_dic_list())"
    },
    "r": {
     "delete_cmd_postfix": ") ",
     "delete_cmd_prefix": "rm(",
     "library": "var_list.r",
     "varRefreshCmd": "cat(var_dic_list()) "
    }
   },
   "types_to_exclude": [
    "module",
    "function",
    "builtin_function_or_method",
    "instance",
    "_Feature"
   ],
   "window_display": false
  }
 },
 "nbformat": 4,
 "nbformat_minor": 2
}
