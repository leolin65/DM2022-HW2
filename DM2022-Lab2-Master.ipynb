{
 "cells": [
  {
   "cell_type": "markdown",
   "metadata": {
    "id": "uuutyCx4YTpX"
   },
   "source": [
    "# Data Mining Lab 2\n",
    "In this lab session we will focus on the use of Neural Word Embeddings "
   ]
  },
  {
   "cell_type": "markdown",
   "metadata": {
    "id": "ledffNYYYTpX"
   },
   "source": [
    "## Table of Contents\n",
    "1. Data preparation\n",
    "2. Feature engineering\n",
    "3. Model\n",
    "4. Results evaluation\n",
    "5. Other things you could try\n",
    "6. Deep Learning\n",
    "7. Word to Vector\n",
    "8. Clustering\n",
    "9. High-dimension Visualization\n",
    "\n"
   ]
  },
  {
   "cell_type": "markdown",
   "metadata": {},
   "source": [
    "### Necessary Library Requirements:\n",
    "\n",
    "#### Same as Lab1:\n",
    "- [Jupyter](http://jupyter.org/) (Strongly recommended but not required)\n",
    "    - Install via `pip3 install jupyter` and use `jupyter notebook` in terminal to run\n",
    "- [Scikit Learn](http://scikit-learn.org/stable/index.html)\n",
    "    - Install via `pip3 sklearn` from a terminal\n",
    "- [Pandas](http://pandas.pydata.org/)\n",
    "    - Install via `pip3 install pandas` from a terminal\n",
    "- [Numpy](http://www.numpy.org/)\n",
    "    - Install via `pip3 install numpy` from a terminal\n",
    "- [Matplotlib](https://matplotlib.org/)\n",
    "    - Install via `pip3 maplotlib` from a terminal\n",
    "- [Plotly](https://plot.ly/)\n",
    "    - Install via `pip3 install plotly` from a terminal\n",
    "- [Seaborn](https://seaborn.pydata.org/)\n",
    "    - Install and signup for `seaborn`\n",
    "- [NLTK](http://www.nltk.org/)\n",
    "    - Install via `pip3 install nltk` from a terminal\n",
    "\n",
    "#### New Libraries to install:\n",
    "- [Gensim](https://pypi.org/project/gensim/)\n",
    "    - Install via `pip3 install gensim`\n",
    "\n",
    "- [tensorflow](https://www.tensorflow.org/)\n",
    "    - Install via `pip3 install tensorflow`\n",
    "    - Also install `pip3 install tensorflow-hub`\n",
    "\n",
    "- [Keras](https://keras.io/)\n",
    "    - Install via `pip3 install keras`"
   ]
  },
  {
   "cell_type": "markdown",
   "metadata": {
    "id": "LIpAqCvMYTpX"
   },
   "source": [
    "---\n",
    "## Introduction"
   ]
  },
  {
   "cell_type": "markdown",
   "metadata": {
    "id": "n2paPeNbYTpX"
   },
   "source": [
    "**Dataset:** [SemEval 2017 Task](https://competitions.codalab.org/competitions/16380)\n",
    "\n",
    "**Task:** Classify text data into 4 different emotions using word embedding and other deep information retrieval approaches.\n",
    "\n",
    "![pic0](pics/pic0.png)"
   ]
  },
  {
   "cell_type": "markdown",
   "metadata": {
    "id": "op_X7pR-YTpX"
   },
   "source": [
    "---\n",
    "## 1. Data Preparation"
   ]
  },
  {
   "cell_type": "markdown",
   "metadata": {
    "id": "ID-8I1ELYTpX"
   },
   "source": [
    "Before beggining the lab, please make sure to download the [Google News Dataset](https://drive.google.com/file/d/0B7XkCwpI5KDYNlNUTTlSS21pQmM/edit) and place it in a folder named \"GoogleNews\" in the same directory as this file."
   ]
  },
  {
   "cell_type": "markdown",
   "metadata": {
    "id": "pgoEbZzSYTpX"
   },
   "source": [
    "## 1.1 Load data\n",
    "\n",
    "We start by loading the csv files into a single pandas dataframe for training and one for testing."
   ]
  },
  {
   "cell_type": "code",
   "execution_count": 4,
   "metadata": {
    "id": "anfjcPSSYTpX"
   },
   "outputs": [],
   "source": [
    "import pandas as pd\n",
    "\n",
    "### training data\n",
    "anger_train = pd.read_csv(\"data/semeval/train/anger-ratings-0to1.train.txt\",\n",
    "                         sep=\"\\t\", header=None,names=[\"id\", \"text\", \"emotion\", \"intensity\"])\n",
    "sadness_train = pd.read_csv(\"data/semeval/train/sadness-ratings-0to1.train.txt\",\n",
    "                         sep=\"\\t\", header=None, names=[\"id\", \"text\", \"emotion\", \"intensity\"])\n",
    "fear_train = pd.read_csv(\"data/semeval/train/fear-ratings-0to1.train.txt\",\n",
    "                         sep=\"\\t\", header=None, names=[\"id\", \"text\", \"emotion\", \"intensity\"])\n",
    "joy_train = pd.read_csv(\"data/semeval/train/joy-ratings-0to1.train.txt\",\n",
    "                         sep=\"\\t\", header=None, names=[\"id\", \"text\", \"emotion\", \"intensity\"])"
   ]
  },
  {
   "cell_type": "code",
   "execution_count": 5,
   "metadata": {},
   "outputs": [
    {
     "name": "stdout",
     "output_type": "stream",
     "text": [
      "        id                                               text emotion  \\\n",
      "0    10000  How the fu*k! Who the heck! moved my fridge!.....   anger   \n",
      "1    10001  So my Indian Uber driver just called someone t...   anger   \n",
      "2    10002  @DPD_UK I asked for my parcel to be delivered ...   anger   \n",
      "3    10003  so ef whichever butt wipe pulled the fire alar...   anger   \n",
      "4    10004  Don't join @BTCare they put the phone down on ...   anger   \n",
      "..     ...                                                ...     ...   \n",
      "852  10852   rose incense are the best thing I've ever bought   anger   \n",
      "853  10853         @jaaames1993 Literally burst out laughing.   anger   \n",
      "854  10854           Follow up. Follow through. Be . #success   anger   \n",
      "855  10855  Wrinkles should merely hide where frown have b...   anger   \n",
      "856  10856  Love the new song I can't stop thinking about ...   anger   \n",
      "\n",
      "     intensity  \n",
      "0        0.938  \n",
      "1        0.896  \n",
      "2        0.896  \n",
      "3        0.896  \n",
      "4        0.896  \n",
      "..         ...  \n",
      "852      0.125  \n",
      "853      0.067  \n",
      "854      0.125  \n",
      "855      0.125  \n",
      "856      0.083  \n",
      "\n",
      "[857 rows x 4 columns]\n"
     ]
    }
   ],
   "source": [
    "print(anger_train)"
   ]
  },
  {
   "cell_type": "code",
   "execution_count": 6,
   "metadata": {
    "id": "yVc2T5MIYTpX"
   },
   "outputs": [],
   "source": [
    "# combine 4 sub-dataset\n",
    "train_df = pd.concat([anger_train, fear_train, joy_train, sadness_train], ignore_index=True)"
   ]
  },
  {
   "cell_type": "code",
   "execution_count": 7,
   "metadata": {},
   "outputs": [
    {
     "name": "stdout",
     "output_type": "stream",
     "text": [
      "         id                                               text  emotion  \\\n",
      "0     10000  How the fu*k! Who the heck! moved my fridge!.....    anger   \n",
      "1     10001  So my Indian Uber driver just called someone t...    anger   \n",
      "2     10002  @DPD_UK I asked for my parcel to be delivered ...    anger   \n",
      "3     10003  so ef whichever butt wipe pulled the fire alar...    anger   \n",
      "4     10004  Don't join @BTCare they put the phone down on ...    anger   \n",
      "...     ...                                                ...      ...   \n",
      "3608  40781  @VivienLloyd Thank you so much! Just home - st...  sadness   \n",
      "3609  40782              Just put the winter duvet on ☃️❄️🌬☔️   sadness   \n",
      "3610  40783  @SilkInSide @TommyJoeRatliff that's so pretty!...  sadness   \n",
      "3611  40784  @BluesfestByron second artist announcement loo...  sadness   \n",
      "3612  40785  I can literally eat creamy pesto pasta topped ...  sadness   \n",
      "\n",
      "      intensity  \n",
      "0         0.938  \n",
      "1         0.896  \n",
      "2         0.896  \n",
      "3         0.896  \n",
      "4         0.896  \n",
      "...         ...  \n",
      "3608      0.104  \n",
      "3609      0.104  \n",
      "3610      0.088  \n",
      "3611      0.083  \n",
      "3612      0.083  \n",
      "\n",
      "[3613 rows x 4 columns]\n"
     ]
    }
   ],
   "source": [
    "print(train_df)"
   ]
  },
  {
   "cell_type": "code",
   "execution_count": 8,
   "metadata": {
    "colab": {
     "base_uri": "https://localhost:8080/",
     "height": 206
    },
    "id": "Kw8bGMv7YTpX",
    "outputId": "9f6f7052-302e-4794-ef69-b84450b61b36"
   },
   "outputs": [
    {
     "data": {
      "text/html": [
       "<div>\n",
       "<style scoped>\n",
       "    .dataframe tbody tr th:only-of-type {\n",
       "        vertical-align: middle;\n",
       "    }\n",
       "\n",
       "    .dataframe tbody tr th {\n",
       "        vertical-align: top;\n",
       "    }\n",
       "\n",
       "    .dataframe thead th {\n",
       "        text-align: right;\n",
       "    }\n",
       "</style>\n",
       "<table border=\"1\" class=\"dataframe\">\n",
       "  <thead>\n",
       "    <tr style=\"text-align: right;\">\n",
       "      <th></th>\n",
       "      <th>id</th>\n",
       "      <th>text</th>\n",
       "      <th>emotion</th>\n",
       "      <th>intensity</th>\n",
       "    </tr>\n",
       "  </thead>\n",
       "  <tbody>\n",
       "    <tr>\n",
       "      <th>0</th>\n",
       "      <td>10000</td>\n",
       "      <td>How the fu*k! Who the heck! moved my fridge!.....</td>\n",
       "      <td>anger</td>\n",
       "      <td>0.938</td>\n",
       "    </tr>\n",
       "    <tr>\n",
       "      <th>1</th>\n",
       "      <td>10001</td>\n",
       "      <td>So my Indian Uber driver just called someone t...</td>\n",
       "      <td>anger</td>\n",
       "      <td>0.896</td>\n",
       "    </tr>\n",
       "    <tr>\n",
       "      <th>2</th>\n",
       "      <td>10002</td>\n",
       "      <td>@DPD_UK I asked for my parcel to be delivered ...</td>\n",
       "      <td>anger</td>\n",
       "      <td>0.896</td>\n",
       "    </tr>\n",
       "    <tr>\n",
       "      <th>3</th>\n",
       "      <td>10003</td>\n",
       "      <td>so ef whichever butt wipe pulled the fire alar...</td>\n",
       "      <td>anger</td>\n",
       "      <td>0.896</td>\n",
       "    </tr>\n",
       "    <tr>\n",
       "      <th>4</th>\n",
       "      <td>10004</td>\n",
       "      <td>Don't join @BTCare they put the phone down on ...</td>\n",
       "      <td>anger</td>\n",
       "      <td>0.896</td>\n",
       "    </tr>\n",
       "  </tbody>\n",
       "</table>\n",
       "</div>"
      ],
      "text/plain": [
       "      id                                               text emotion  intensity\n",
       "0  10000  How the fu*k! Who the heck! moved my fridge!.....   anger      0.938\n",
       "1  10001  So my Indian Uber driver just called someone t...   anger      0.896\n",
       "2  10002  @DPD_UK I asked for my parcel to be delivered ...   anger      0.896\n",
       "3  10003  so ef whichever butt wipe pulled the fire alar...   anger      0.896\n",
       "4  10004  Don't join @BTCare they put the phone down on ...   anger      0.896"
      ]
     },
     "execution_count": 8,
     "metadata": {},
     "output_type": "execute_result"
    }
   ],
   "source": [
    "### testing data\n",
    "anger_test = pd.read_csv(\"data/semeval/dev/anger-ratings-0to1.dev.gold.txt\",\n",
    "                         sep=\"\\t\", header=None, names=[\"id\", \"text\", \"emotion\", \"intensity\"])\n",
    "sadness_test = pd.read_csv(\"data/semeval/dev/sadness-ratings-0to1.dev.gold.txt\",\n",
    "                         sep=\"\\t\", header=None, names=[\"id\", \"text\", \"emotion\", \"intensity\"])\n",
    "fear_test = pd.read_csv(\"data/semeval/dev/fear-ratings-0to1.dev.gold.txt\",\n",
    "                         sep=\"\\t\", header=None, names=[\"id\", \"text\", \"emotion\", \"intensity\"])\n",
    "joy_test = pd.read_csv(\"data/semeval/dev/joy-ratings-0to1.dev.gold.txt\",\n",
    "                         sep=\"\\t\", header=None, names=[\"id\", \"text\", \"emotion\", \"intensity\"])\n",
    "\n",
    "# combine 4 sub-dataset\n",
    "test_df = pd.concat([anger_test, fear_test, joy_test, sadness_test], ignore_index=True)\n",
    "train_df.head()"
   ]
  },
  {
   "cell_type": "code",
   "execution_count": 9,
   "metadata": {
    "id": "HBHwcL8sYTpX"
   },
   "outputs": [],
   "source": [
    "# shuffle dataset\n",
    "train_df = train_df.sample(frac=1)\n",
    "test_df = test_df.sample(frac=1)"
   ]
  },
  {
   "cell_type": "code",
   "execution_count": 10,
   "metadata": {},
   "outputs": [
    {
     "name": "stdout",
     "output_type": "stream",
     "text": [
      "         id                                               text emotion  \\\n",
      "2331  30327  Watch this amazing live.ly broadcast by @iamju...     joy   \n",
      "501   10501  @UltimateBoxer My heart because you left me fo...   anger   \n",
      "2698  30694  Never make a #decision when you're #angry and ...     joy   \n",
      "1249  20392  When my 4yo is gone I blast gothcore music. Sh...    fear   \n",
      "437   10437   @jwolfie_ why you gotta use the dark skin emoji    anger   \n",
      "...     ...                                                ...     ...   \n",
      "2241  30237  Elinor,' she laughed so little known, all over...     joy   \n",
      "2182  30178  Time to go hit up the library - I have a lovel...     joy   \n",
      "1842  20985  Good Morning!!!\\n\\n #leadership #healthcareIT ...    fear   \n",
      "2659  30655  Well look at the bright side. You found a use ...     joy   \n",
      "939   20082  r U scared to present in front of the class? s...    fear   \n",
      "\n",
      "      intensity  \n",
      "2331      0.542  \n",
      "501       0.458  \n",
      "2698      0.271  \n",
      "1249      0.562  \n",
      "437       0.479  \n",
      "...         ...  \n",
      "2241      0.604  \n",
      "2182      0.660  \n",
      "1842      0.271  \n",
      "2659      0.312  \n",
      "939       0.812  \n",
      "\n",
      "[3613 rows x 4 columns]\n"
     ]
    }
   ],
   "source": [
    "print(train_df)"
   ]
  },
  {
   "cell_type": "code",
   "execution_count": 11,
   "metadata": {
    "colab": {
     "base_uri": "https://localhost:8080/"
    },
    "id": "9w_cDUwCYTpX",
    "outputId": "3582ac44-1f5f-4cb2-b833-d477f152461a",
    "scrolled": true
   },
   "outputs": [
    {
     "name": "stdout",
     "output_type": "stream",
     "text": [
      "Shape of Training df:  (3613, 4)\n",
      "Shape of Testing df:  (347, 4)\n"
     ]
    }
   ],
   "source": [
    "print(\"Shape of Training df: \", train_df.shape)\n",
    "print(\"Shape of Testing df: \", test_df.shape)"
   ]
  },
  {
   "cell_type": "markdown",
   "metadata": {
    "id": "escCgU1zYTpX"
   },
   "source": [
    "---\n",
    "### ** >>> Exercise 1 (Take home): **  \n",
    "Plot word frequency for Top 30 words in both train and test dataset. (Hint: refer to DM lab 1)\n"
   ]
  },
  {
   "cell_type": "code",
   "execution_count": 12,
   "metadata": {
    "id": "HoXjet3pYTpo"
   },
   "outputs": [
    {
     "name": "stderr",
     "output_type": "stream",
     "text": [
      "[nltk_data] Downloading package stopwords to\n",
      "[nltk_data]     C:\\Users\\LEOLIN_PC\\AppData\\Roaming\\nltk_data...\n",
      "[nltk_data]   Package stopwords is already up-to-date!\n",
      "[nltk_data] Downloading package wordnet to\n",
      "[nltk_data]     C:\\Users\\LEOLIN_PC\\AppData\\Roaming\\nltk_data...\n",
      "[nltk_data]   Package wordnet is already up-to-date!\n"
     ]
    }
   ],
   "source": [
    "# Answer here\n",
    "import nltk\n",
    "nltk.download('stopwords')\n",
    "nltk.download('wordnet')\n",
    "import nltk\n",
    "from nltk.corpus import stopwords\n",
    "from nltk.tokenize import word_tokenize\n",
    "import helpers.data_mining_helpers as dmh\n",
    "# Lemmatizer helps to reduce words to the base form\n",
    "# Refer to https://www.holisticseo.digital/python-seo/nltk/lemmatize\n",
    "# “Nltk.stem.WordNetLemmatizer.lemmatize” method will lemmatize a word based on its context and its usage within the sentence.\n",
    "from nltk.stem import WordNetLemmatizer\n",
    "# Ngrams allows to group words in common pairs or trigrams..etc\n",
    "from nltk import ngrams\n",
    "# We can use counter to count the objects\n",
    "from collections import Counter\n",
    "# Visual library\n",
    "import seaborn as sns\n",
    "import matplotlib.pyplot as plt\n",
    "#Join all data by blank\n",
    "train_text = ' '.join(train_df['text']) \n",
    "test_text = ' '.join(test_df['text'])\n",
    "#Execute word_tokenize for joint text\n",
    "train_word =word_tokenize(train_text)\n",
    "test_word =word_tokenize(test_text)"
   ]
  },
  {
   "cell_type": "code",
   "execution_count": 13,
   "metadata": {},
   "outputs": [
    {
     "name": "stdout",
     "output_type": "stream",
     "text": [
      "Watch this amazing live.ly broadcast by @iamjustinburke  #musically @UltimateBoxer My heart because you left me for so long again\\n\\n*slight pout but it turned to a smile*\\n\\nheheh just kidding, no I'm fine- Never make a #decision when you're #angry and never make a #promise when you're . #wisewords When my 4yo is gone I blast gothcore music. She has #anxiety &amp; I can't listen 2 it around her bcuz it's 'too spooky'. *sigh* #momlife @jwolfie_ why you gotta use the dark skin emoji  @_haye_ optimism is he'll lose, that's actually a compromise :P What if.... the Metro LRT went over the Walterdale?!?! 😂 #yeg #levity @pixietangerine @hatersbackoff im so exited!! I am shaking so much 😍😍 and im so pround of Colleen and the fandom! Everyone is amazing 😍 Thank god the feds did not raise rates. Assume they are nervous about a world where 990 is the new employee  form  &amp; the safety net is zilch Online now !!!:) all day come play with me !! I'm happy happy horny playful sweet sour;) @petercoffin So safe blues are ok. Are reds ok as well? Obviously, battleground states would not. @Policy_Exchange A plus point, she won't have to queue for the loos. Any more plus points? Nope, can't think of any #shocking #sexism @AuntieSupreme @KimberlyCarole y'all found me to express yalls displeasure. 😉 @TheOnlySweeney their slogan should've been #start instead of #finish @GMModular @goldmedalindia  horrible experience with a company like this #goldmedal #horrible sales person #wrong commitments#wrongproduct induction day tomorrow for pizza express  The birds chirp , the sun shines and the wind chimes chime. There was once a smile on this face. How can I tell Happy Anniversary, when u are not happy.. #bitter #ampalaya #paitpaitanangpeg @Freepenalties @TMortimerFtbl Doll is a vile creature on the touchline. Every game he has tantrums &amp; shouts at the ref. Would love to see Nurse practitioner: 'you look pretty bad. No offense of course.'  \\n\\nThank you, that really added that spark of positivity I needed today. Aberdeen st Johnstone, let's see who can punt it the furthest #awful @Zak_Atif two congressional hearings in USA stopped financial aid to Pak and asked it to prove that it is doing enough to stop terrorism 1n My roommate turns the sink off with her foot to avoid germs and a guy says 'YOUR roommate is feet girl?! I'm so sorry' plz help #nightmare This is the day You've made, \\n\\nLet us rehoi rejoice and be glad with all that I am. \\n\\n😊💖\\n\\n#aja \\nGood morning!!!! @Montel_Williams If this ban goes through, it will harm so many people, disabled veterans, people who have #chronicpain,  #iamkratom Watch this amazing live.ly broadcast by @paulzimmer #lively #musically Appropriate that first secretary at permanent mission is tasked with demolition of #terror state #Pakistan - Like 'renunciation of lies' bit @BigBossPeltonen \\nLikewise #death #cutting #despair @BrumSciComm in a danish.  What horror, what depths. #gbbo @LidlUK Just bought a pack of two medallion beef steaks. Got home. Cooked them. One steak is 100% pork. I had one unhappy mother. 🐮🐷 I'm about to block everyone everywhere posting about the storm. I think everyone is aware of the damn rain and what not so quit. #damn #rage @GrxjicTank WHY though! Why did u want to offend Americans? I have serious problems with the expectation that private philanthropy should replace functional government services...this is dangerous @jaime_scurr: any team in the world would be totally elated to get to have you on it XD .@LEAFYSZERKER @markiplier is that an insult? Sounds like a job well done. it's red so it's done the job it was suppose to do #justsaying I don't mean to offend anyone, but 93.7 literally blames everything on white people. In some cases it's true, but a lot of times, it's not The majority of people irritate the fuck out of me, cba with people ahahah @GaryLineker yet you and all the other English pundits are afraid to criticise him I'm nothing but a hateful and bitter fag I seem to alternate between 'sleep-full' and sleepless nights. Tonight is a sleepless one. 😕 #insomnia #anxiety #notfair Like if you aggravate me constantly, byeeeeeeee When anger rises, think of the consequences. #quote #wisdom  @Gibberman10 @ScottHoward42 any of y'all remember when MLB tried a futuristic jersey those were all #terrible Update: I have yet to hang out with @MisElizaJane, but I'm still hopeful! #optimism Guys! Read my #fanfiction if you like #lost and #housemd I have one of each #tvshow -link in bio! Live simply. Dream big. Be grateful. Give love. Laugh lots. - Unknown #quote #inspiration #happy @FraserKeegan just had a steak pie supper  In my room 101 would go  Russell Howard,Tom Odell,Michael Buble!!! #pants #nogood  .@billradkeradio is not a fan of The Beat Happening. But that's not to discourage aspiring other Olympia musicians! #KUOWrecord @Miami4Trump Yeah, but bad part is the #terrorism #terror Muslims won't be the ones leaving #ObamaLegacy #nationalsecurity #disaster #Obama @RJAH_NHS @ChrisHudson76 @mbrandreth #course day # potential Leadership #excited #nervous # proud @nigglydz lydiaaaa, we were the only ones that were supposed to know that you make me nervous 😶 Nor hell a fury like a woman scorned -- William Congreve The neighbor dancing in the Clayton Homes commercial is me.  #FF @ElizaNealsRocks Love &amp; support, always!! Eliza Neals ROCKS!! #blues #music #friends 😎🎸 It is more shameful to distrust our friends than to be deceived by them Make someone happy ^_^ Who got madden 17 or 2k17 ps4 add TrackdawgT lets run it 1Pet 4:7  But the end of all things is at hand: be ye therefore #sober, and #watch unto prayer Marcus Roho is dreadful Light of day per heyday popularization backfire cinematography: XUcQb @PanicAtTheDisco hey, y'all announced it like immediately after I asked. Nice. Thanks y'all #panic @greencapt there's something to note in the fact that the mask manufacturer produced her smiling and him frowning. @RealBD_ @ReyesAverie 47 unarmed blacks killed by white cops in 2015. That many die every month in Chicago wheres the  Anytime @perezed gets near a mic, someone needs to smack him w a bat. @BBTN  #marblesinmouth Kudos to TC for benching Bruce. He isn't helping the team, so he rides pine. We have games to win. Discussion over. #Mets I'm scared that my coworkers are going to submit me to one of those 'wardrobe makeover' shows.  #fashion I don't know why everyone is pretending to be sad about angelina and brad, everyone knows his dumb ass should've stayed with jennifer. @edquinn63 how can you even forget to pick ur fave child up from school #offended Watch this amazing live.ly broadcast by @paulzimmer  #musically I polished my nails, but can't find the polish remover. It look like a 3yr old polished my nails lol  A decent sleep makes Kurt a happy soldier. Spit &amp; polish the converse men. chests out and baseball caps at a jaunty angle. If you get called #shy this means you are #considered.Turn those #negatives to #positives Quote #MarnieMcCormack from @jpmorgan #womenintech I remember when Rooney wanted to leave United and the fans threaten to kill the man and bare junk... wanna regretting that now? 😂😂 @jk_rowling never thought an angry oompa loompa would be my Boggart, but there you have it. #boggart #PresidentTrump  im crying katherine is the only one whos like talking to me during my anxiety attack im gonna faint Cause fail or pass I refuse to be sober May your day be filled with #peace#love n #laughter .Have a very nice day full of #Success #Jummah Mubarak😇 , good morning☕ @WaseemBadami Currently listening to @ScottFoxonair &amp; @KatCallaghan @Z1035Toronto podcasts!! Can you guys please move to #yvr ?  #missyou @MetsProspectHub @brianpmangan taking offense to acount...he ranks 32 of 36 over last 2 years by SABR ordered my vacation bathing suits. one less thing to fret about. I get so nervous even thinking about talking to ****** I wanna die @Aliki111 Haters!!! You are low in self worth. Self righteous in your delusions. You cower at the thought of change. Change is inevitable. That feel when you travel 700 miles to pick up a form that arrives in the post two days after you leave. #fume If Monday had a face I would punch it #monday  #face #punch #fight #joke #like #firstworldproblems #need #coffee #asap #follow Why does @dapperlaughs have to come to Glasgow on a night I am working. I am fucking gutted, been waiting for an appearance for ages #raging @ofc_ALDUBQC Glad you gained some cheery vibes just by looking at our Happy Meal! 😊 Who's afraid of the clowns???\\ncomment down there.... Zero help from @ups customer service. Just pushing the buck back and forth and promising callbacks that don’t happen.  #loathing @bringyouhome2 I'm about to fly into a fit of rage it's not FAIR Wishing a very Happy Birthday to our awesome dancer, Ruthann!!! We hope your day is magical! #bday #happy #eatcake At the end of the day I know that my kids will never worry about me leaving them 💕 @RevTrevK @Wolfman93011 @Daraidernation @EROCKhd Take 2k out of it the numbers on madden are low and have dropped and people are unhappy Watch this amazing live.ly broadcast by @its.finfin #lively #musically The neighbor dancing in the Clayton Homes commercial is me. #hilarious i cant stop. i finished - dejected. luckily no one is in the bathroom. so i go to a stall and wait until my pants are dry. @JTregManc it's fair to say he's been a bit timid compared to what I've been known to see from him This maybe a new start but it will always be align with the end. #start #forward Thiza!!! What happens now when you tell him you're pregnant via home test &amp; nurse later tells you it's a false alarm &amp; BaE is too excited🙊 @jimadair3 Guitar shop owners everywhere rejoice @deodevine6 i can't bully you and niall impossible😙 I am beyond mad that I lost track of a brown spider in my brown carpet. Where did you go? 🕷 will be sneaking up on me #frightened We hesitate to #live our #dream because of some unknown #fear which actually does not exist.' #AqeelSyed\\n\\n#LifeisBeautiful #LiveWithPurpose Remember: The life you have is a blessing for #God. Make it a joyful experience regardless of the odds. GBY @EllenMellon_88 Got #mybrokenfoot running Great North Run, can't wait to run again in a few months time - be mostly dark then! #ukrunchat A #smile brightens your day and the day of everyone around you, so remember to #smile, it's #free. :-) @LonelyGoomba I wouldn't bring this up if I were you. It's a very touchy subject. And people get way to offended these days don't be with some just because they try to drown you in gifts. be with someone who makes you truly happy, without the materialistic things. Trying to take what's lost and broken and make it right My friend just messaged me 'ugh I'm so hungry I can't wait for breakfast' #socialmedia #WineWednesday #hilarious #funny #laughing #happy @aroseblush Hello !\\nThe bigger the bully, the more crocodile tears. Bullies always act like offended victims. Bunk ur class📚 at least once in your life time cuz later when u look back good marks will not make u happy but memories😊 will'    -APJ Currently listening to @ScottFoxonair &amp; @KatCallaghan @Z1035Toronto podcasts!! Can you guys please move to #yvr ? #hilarious #missyou Why is it when you nap during the day you are so comfortable but sleeping at night you'll never be as comfortable #nightmare @Budget  car rental you have made realize why I always use @nationalcares!!!!  What a #nightmare!!  #disgusted Andrew's hands start shaking and he says 'I hope I die.. like right now' I love when #girls are busy in teaching how to #pout while taking #selfie in a mall , their desication is immense #women love #perfection @JaySekulow what can we do 2 get @realDonaldTrump 2 reveal his taxes? That is the immediate danger. But u will not answer me.  Gonna be a loooooong year as a Browns fan. Longer than normal and that's  @BlairWitchMovie love new movie\\n #BlairWitch #blairwitchproject  #HorrorMovies @Joey7Barton I remember Joey slagging England player's off bringing out books after crap tournaments..same same..crap player #bully @littlemore20 I had a nice Italian ice-cream whilst resting my tired paws. Honey flavoured, naturally! #FurryTails #lost #Venice. My fav #movies are #horror but they don't make them like they used too. Haven't seen a great one in years @SandraTXAS @6bird4 @CajunKangaroo @justanavywife please. Or you could be clouded by your passion. Emotion leads you from the truth. @Dubai92 try asking for a cheeseburger with only onion &amp; mustard at any #McDonalds  @CazuaL_WeaR @ScottInSC looks like a book shaped like a gun to me #optimism #itsagunalright I'm just a fuming ball of anger today 🙃 It feels like there are no houses out there for us. With the most basic requirements I have, there are literally no options.  Very long day. Thank goodness for Bake Off to brighten up a weary Wednesday ☺ #GBBO #GADOT please put a left turn signal at Williams and Ivan Allen Jr Blvd. This is absolutely ridiculous #ATLtraffic  @LeBatardShow #heyday Race war 2016 @holly_lolly7 I just have serious respect for any man that can pull off a bun better than I can, like maybe they can teach me their ways. Accept the challenges so that you can feel the exhilaration of victory. #FocusX10 #motivation #motivationalquotes #quoteoftheday having a pet store worker ask 'do you want to play with them?' is the most exhilarating feeling Round 2 #panic #pcola The difference between someone's selfies when they're happy vs. unhappy is absolutely amazing. I'm just doing what u should b doing just minding my business and grinding relentless @LITO615 Tip 5: Don't worry about pleasing everyone. #TitanWisdom @shopgreenwich #ldf16 what shall we do this weekend?  #spraypainting in #greenwichmarket with @SNUB23 #core246 #lilylou #fret &amp; #benoakley @LakersTakeover it ain't that serious. #HOUvsNE #awful #igotbetterthingstodotonightthandie @Ms_HeartAttack holy shit it just a bee sting like fuck you're not dying What do you do?'\\n'You are not worthy enough to know.' #what #serious Tiangong 1, China's first space laboratory, will come to a fiery end in late 2017. The average decommissioned satellite either burns ... @MetPoliceFC is it true none of your players are cops? Do they drink chilled bitter? Are your players Walter Mitty types? @KeviboyAllen Wazza blocks Carrick's shot and then misses a sitter that Memphis, who was ready beside him, surely wouldve buried. Good start lol #MUFC Rojo is shocking.......absolutely shocking !!! @Gotham3 ~ Crushes are for kids! Just like trix. \\rHow bout some full blown up Love that makes you quiver deep down into your core? Y E S *=* @aradsliff don't know I'm from nj we are the worst on purpose. #laughter #personaldevelopment\\n\\nToday is a gift, that's why it's called the present... #happiness #optimism #entrepreneur #personaldevelopment … I can never find the exact #emoji that I'm after at the exact moment that I need it #panic Watch this amazing live.ly broadcast by @jaredhorgan #lively #musically #Followback Quote_Soup: Be happy not because everything is good, but because you can see the good side of everything.  @BigBossPeltonen \\nLikewise #death #cutting  @ntfc watched the cobblers loads this season how is gorre a pro footballler terrible The 'banter' from Craigen and Sutton on BT is fucking horrid streets of rage 2 was hard to find for a while and then Itunes stepped in and the guys doing the vinyl \\nmade it so simple The bitter the battle, the sweeter the victory... @_Inferno217_ @PaladinsGame ummm that dragons fury though.. Still can't log into my fucking Snapchat #Snapchat  #Hudcomedy #AdamRowe  #insult Slutfaceshlongnugget @HutchinsonDave I don't know whether to despair or agitate for a cull. @lesyoung01 a rabid dog being ridden by the child who has eaten all the flesh off one fellow and the limbs of the other adults. @mark_slifer actually maybe we were supposed to die and my donation saved our lives??  @JBCrewdotcom how his own fans insult him @msfang they say you attract what you see, maybe I shouldn't be a pessimist but I don't wanna take any chances lol can't wait to relocate ya boy gets mad tired of pine trees @DRUDGE_REPORT @FoxNews good thing the FBI didn't offend them! @darwinwatersons @pennyfitzger31 @gumballwatter15 ok but why tomorrow a horrible day, my day was great! The radio just told me Lady GaGa is going country, which is like if the Beatles decided to do opera singing for their final albums #awful i mean i guess most of the mean ones are treated as like playful but i want to support yoosung without dating him ;___; @oscar_perria a multimillionaire spoiled brat who gets In a self righteous huff bc his friend is Muslim is a non starter bye! Now #India is #afraid of #bad . @Austin4evaLEEDS fuming! Let us not burden our remembrances with a heaviness that's gone.\\n- William Shakespeare (1564-1616)\\n#forge ahead. Just had #efficient #great #smiling service @AppleBelgique store. Impressive team of geniuses ready to redefine what customer service is! @Jen_Lee @mostlymartha @edotwoods we just found thin mints in a freezer clean. i couldn't be more elated. Research has determined 70% of #laughter is actually #anxiety. @FOXTV did you use the warblers set from glee on the @BONESonFOX episode about the acapella college kids? Idk if it's hella hot in here or I'm nervous I have not nap for 3 days in a row I'm very unhappy rn A good thing about being sick is that coughing is like an ab workout. Maybe my abs will be more defined by the time I'm better 😂😅 #optimism Everywhere I go, the air I breathe in tastes like home.' - @The_Currys  #TerrorStatePak we r confirm that #navazsharif is post graduate distinction student of university of #terrorism. He can't spare himself. You don't know how to love me when you're sober #sober #selenagomez #revival Life's too short to be frowning for so long .@RepDelBene: 'Today's proceedings and the entire process is an insult to our constituents.' To'Why can't we brothers protect one another? No one's serious, and it makes me furious. Don't be misled, just think of Fred.' #mayfield @_noTORIEty lol senior year we would get early dismal for work study ,he was her boss and you know what happened next 🙃 2 applications for my dbs and still waiting. Been over a year now. Going to loose my job 👍🏿 @GOVUK  #thanks #unhappy #crb How is it suppose to work if you do that? Wtf dude? Thanks for pissing me off.  @LoisJoanneLane Wagging his tail at the praise, he paused, tilting his head as she took the frisbee from him, letting out a playful - @wabermes The @RavalliRepublic had a good one but then the reporter quit. #sad I need a 🍱sushi date🍙 @AnzalduaG 🍝an olive guarded date🧀 @lexiereid369 and a 👊🏼Rockys date🍕 #tiff @saltmage I find it less daunting if I know one person at least! So is cheerfulness, or a good temper, the more it is spent, the more remains. Ralph Waldo Emerson Now I'm back at @wxpnfm and am elated to record @mannequinpussy fucking shit up in our studio this evening. Ok but I just got called a 'White Devil' on the train and I didnt know whether to laugh or be offended @ParrishWalton @kjmgolf Also, our best assets on offense are our RB's and our WR's (longterm). Have to have an offense to utilize both. oh yay old scientist builds himself a robot assistant and makes it look like a hot naked woman nothing alarming here @_JuliaSteiner : I liked that she was not moping around in all of the episode. She had a moment of emotional weakness, felt sorry about - @marthalyssa yep. LOL #bitter So much news about Pakistan, Afghanistan, etc. We need more cheery news about Frybread Stands!!! Everyone in media just so grim. I don't want the pity of my instructors but I'd like some understanding. I'm truly trying despite ALL circumstances that make me discouraged @RossKemp Omg that is just horrific. Something needs to be done. 😢 #start ur day wit a smile\\n#buviobby Season 3 of penny dreadful is on Netflix...well my afternoon is filled @TheMoosesAngel He looks down at his brother, a smile forming on his face. 'What? People fearing me?' Pakistan is the biggest victim of terrorism - Nawaz Sharif \\nReally? It should have been biggest creator of terrorism. #UNGA Ever been really lonely and your phone keeps blowing up, but you just can’t pick it up and respond to people? #anxiety #recluse  #issues Marcos Rojo Marcos Rojo running down the wing. Loved by the blues, feared by the reds What a great training course, lots of photos, fun and laughter. Photo's will be up soon #Boostercourse #fun  It takes a man to suffer ignorance and smile. Be yourself, no matter what they say. #sting @comicfire The thing is, it's either I be unproductive and unhappy, or deal with some videos that do badly. I'm watching joyful noise for 100000000 time cuz I love this movie and @KekePalmer If the future doesn't fill you with existential dread are you even a real person Tom Phillips being all jovial at the start of this week's show when Joe is strutting out after that video package is quite the juxtaposition I just don't understand why everyone is so #angry we all just want to live and thrive don't we? Woke by #nightmare @ 3AM, couldn't sleep any more, so took a #UseAllTheHotWaterShower. Now I have time to read. Im so serious about putting words in my mouth bitch don't add ' the ' to my sentence if I didn't say that shit on bloods @wesrucker247 sounds like a good game plan for our offense.... I wonder what would happen if I were to tell some people the truth #savage #uhoh  @CrucialBMXShop ohh silver lake came up a lot on there! Is that where you guys stayed? Watch this amazing live.ly broadcast by @matt.boss #lively #musicallyjh OOOOOOOOH MY GOD UUUUGGGGHHHHHHHHH #rage .@DIVAmagazine than straight people. Even the arse straight guys who think that means a threesome is fine.   @CBSThisMorning @newsgirl123456 again, profiling DOESN'T discourage (September 20, 2016; 18:41 EDT)  #TRUMP #FAIL tomorrow will be the last episode of despair arc, so much shit is gonna happen i'm not emotionally prepared... A 'non-permissive environment' is also called a 'battleground' - #MilSpeak #hilarious @jadelalaa_ hahaha and u da best bro ever luv u hearty hearts @WYSdaily I'm confident they will NEVER experience our successes of last 50yrs. Best they can hope for is to be another Bournemouth #sad @NRA @HillaryClinton  She never said anything about taking away guns but I would now bc of your stupid scare tactics for gun sales.Sickening Just had to reverse half way up the woods to collect the dog n I've never even reverse parked in my life 🙄  @SloanTheOtaku Betelgeuse/Sloth was lively, dedicated and tenacious, Regulus/Greed is humbly content and Ley/Gluttony is starving hungry. Don't wanna really go out but I can't say no. Deffo have a fear of missing out Open to suggestions on a good #horror movie. Just saw 31 and It follows recently, dug both. Gimme something good. #movienight #netflix Good morning joyful people. Choose happiness to have a great day today #morning #joyful #happiness #grandmercurejktkemayoran @deshbhakthoon always unhappy and easily offended. if you have been on depression too u shouldn't be judging him and exposing him to everyone, but helping him blues bar ok, ok.. I know.. my last tweet was #terrible @jody_paterson So I worry about emphasis on 'keeping family together' as a guiding principle, due to my own experiences Has anyone noticed that @npr stories in recent days all paint positive accomplishments for Trump and challenges for Hillary? #surprised #sad @BigBrother__USA she is just jealous and a cry baby!  #gladsheisgone #crybaby The 2nd step to beating #anxiety or #depression is realising that it's not about waiting for ...., Take action yourself now. @GriffinLaneP @Mediaite The Left has been protected so long, they've lost their reasoning power. @DamnPatriot You're a POS for rejoicing in someone's death. backed pats -2.5 10/11 just before  @crimpoop my adorable and cheerful daughter\\nAlways pouring positivity green goo on me\\ndare hurt her and you'll see hell //growls\\n\\n#PandaBot what happened to breezy @AudreyKare i'm like half expecting some rabid troll to come into my mentions accusing me of being a csa apologist or something lmao @Joey7Barton I remember Joey slagging England player's off bringing out books after crap tournaments..same same..crap player  @MendipHillsAONB do we think the swallows and swifts have gone? Photo'd 3 nights ago, not seen since.  #Autumn @ticcikasie1 With a frown, she let's out a distraught 'Gardevoir' saying that she wishes she had a trainer The moment of the day when you have to start to plaster a smile in your face. #depression You don't know what to expect by Brendon's video lmao LA devotee video got me shook #panic @SquidWasTaken Pfft- Yeye, i'm a sucker for bright yellow, red, pink, and blues when it comes to coloring or backgrounds haaa @OutdoorLoverz is this a bridge if I have to drive on such I will stop breathing Yooo I can't I'm to afraid Heading home to cut grass in the heat. All I wanna do is go out to eat somewhere air conditioned. #pout #AdultingIsTheWorst This pretentious dick in Night Gallery just fucking, used a towel to dry off his sink Well this is flipping great! Flipping standstill on the freeway!  #stepofftheledge #youvegottobekiddingme Rt @yoelamite i need that one back, that whole cd was hard, the one with a #rage flew through, rhyme flow, n the 1 u speak on the dollar @DreKnott You've got tremendous range. #Trump is #afraid of the big, bad #Hillary. #election #PresidentialDebate #PresidentialElection2016 #orangehitler #skip #hide #coward  I thought the nausea and headaches had passed but lol I feel awful today Rojo is so bad it's hilarious. backed pats -2.5 10/11 just before #pleasing Just got back from seeing @GaryDelaney in Burslem. AMAZING!! Face still hurts from laughing so much  @JoeGoodmanJr. A solution. But the assumptions by media in articles and every other venue causes animosity to the conversation. @SusanHensThe shameful display I watched today has left me reeling with so much anger dt I feel like exploding, those clowns should watch it @AmyMek this is so absurd I could laugh right now (if I also didn't feel like crying for the future of our country). #despair #wakeupcall I've returned from the dead with a desire to clean the apartment and eat something that isn't garbage. #managing #depression @KarenL109 replace the carpet!! #shocking !!!! @NHLexpertpicks @usahockey USA was embarrassing to watch. When was the last time you guys won a game..? #horrible #joke Yo Yo Yo,my name is #DarthVader \\nI feel like I need to puff on my inhaler (I'm no rapper but that was some sick bars)  #bars #rap Despite my sharing O'Neill's article, what saddens me about the Gazza case is there seems to be more fury about the sentence than the remark @RosieBalls I fear for the future of mankind For those of you who I have footage of but didn’t make it into this mix—don’t get discouraged! I ran out of room on the beat this week. After a nervous couple of days test results now confirm my life will be no different whatsoever as the result of two actors divorcing, phew! Man city's kit is dreadful! @xandraaa5 @amayaallyn6 shut up hashtags are cool  @zavvi @zavvihelp only offering 6 moth warranty #ps4pro  #truth #ripoff @JOjojosiejay or in my case a raging moody cow lol why i buy moody cow socks lol @twinfjournal @TwinningLife111 @KCtwinflame @TFUnion1111 @Para_Priestess @cupidpoetry I went thru the same thing yesterday #panic better2day if we let that in id be fuming poor keeping Finn singing 'Can't Fight This Feeling' in the shower and Will spying on him is one of the best scenes on any show. #glee Ladies and gentlemen\\nAfter the tremendous success of #PanamaLeaks\\nNow presenting #BahamasLeaks 😂 Two blankets, a hoody, and still no Eternal Sunshine to mope to. LORD MAKE ME AN INSTRUMENT OF YOUR PEACE — Where there's hate, let me sow love — Where there's injury, pardon — Where there's despair, hope @WilsonsWorld I was in high school and remember helping neighbors clean up back home in Greenville.  Pretty sobering stuff.  #sadness @brendancoots where's your outrage that your party nominated a lying, corrupt person? And received donations from nations who support terror #GetSmartWithARQ is a smart way to start investing and #whiteicenetwork is smart source 2 #start #skilled #manpower #recruitment for ur firm Trying to think positive, and not let this situation discourage me ✨✨✨✨✨✨✨✨✨✨✨✨✨✨✨✨✨✨✨✨✨✨✨✨✨✨✨✨✨✨✨✨✨✨✨✨✨✨✨✨✨✨✨✨✨✨✨✨✨✨✨✨✨✨✨✨✨✨✨✨✨✨✨✨✨✨✨✨✨✨✨✨✨ Why is it that we rejoice at a birth and grieve at a funeral? It is because we are not the person involved. ― Mark Twain Fear blocks blessings, faith unlocks them. #ManUp  #faith I need a bit of #GBBO to cheer me up after a terrible day! @SiobhanSynnot  Oh, good God. Quentin Letts is doing one of his 'comedy' turns. #angry @bbcthisweek @afneil #BBCTW my wasp sting is so itchy If I spend more than £10 in shimmy on £1 drinks I'll be raging, but we all know it's gonna happen Miami proficiency is like pleasing by what name miami beaches: pIkxb #WeirdWednesday OKAY! That jump-scared the #Poop out of me right there. Bad dog, BAD! Total code-brown in my favorite pants. #Damnit #horror @ActualFlatticus @veggie64_leslie @mtracey Call me a pessimist, but I don't think therapy can fix whatever is wrong with Anthony Weiner. Got to be up in 4 hours to go back to work #cantsleep #excited  Don't let fear hold you back from being who you want to be. Use it's power to push you towards your goals. No more fear, just action.  That old lady is cray cray #scared #BellaIsSoCute #awe #Empire @MikeGrunwald Anything is better than a Trump ramble. He is awful. Truly truly awful. @finkowska just rejoice if you get paid for it. @NinjaWorrier @ali_zimmer @m_pattison How long ago was that? (I shudder to think.) So they #threaten to kill #kapernick for KNEELING. I say every athlete just stop playing until social justice and equality comes forth. @Samkingftw nahh thats grim Watch this amazing live.ly broadcast by @thebrandonrobert  #musically Anger is cheap and politeness is expensive. Don't expect everybody to be polite. #ThoughtfulThursday  #politeness Where's your outrage when a black man kills another black man in the streets? @blackeyed_susie They ain't going away, and I don't want to see them hurt; changing hearts/minds is really our only option, no?  @GCC_DiscGolf lost my xt nova around hole 8 or 9 #sadness guys irritate me Sounds like Donald Trump has spent today just making extra, extra sure he'd get those frightened white, conservative, racist votes. Damn our offense is a mix bag of unpredictable lethal weapons I'm worried for Defense Coordinators 😁 #Chargers #Boltup #Recharged These #NewEnglandPatriots jerseys look like some whack ones that you tried to make when you made custom jerseys on #madden  04 i will never watch greys anatomy ever ever ever ever ever again if Shonda Rimes takes away another OG character☹️☹️☹️☹️☹️☹️☹️☹️☹️☹️  @iamsrk what's up w the gender bias? #indignant This fancypants saddler's daughter will opt for the leather jacket, thank you very much. @BluesfestByron second artist announcement looking good #bluesfest2017 #blues #Music #byronbay #Arts create richness &amp; liveliness in our society, continues through educational &amp; social benefits, and only ends with the economic A liar an a bully for president? They say every vote matter , well  I'm sorry you'll not get my vote until the year 2020 @RealJeffsdomain Wolfpack theme and trons and sting wore the wolf shirt i was just talking about it last week .. how does your outside appearance (ie. dread locks) affect the ability you have to work? @delon03 can you at least just walk past her and break out into laughter Regret for the things we did can be tempered by time; it is regret for the things we did not do that is inconsolable.  Sydney J. Harris @Morning_Joe @JoeNBC @mikebarnicle Trump says the refugee situation 'is not just about terrorism it's about quality of life.' Take note. im like 'this is better' in the moment cuz i panic and then later its so obviously not better. at every opportunity i choose to make it seem Lil reminder that my private account is a delight of shittalking and occasionally NSFW stuff! @AngryArchosaur my husband lost £800 when he booked an apartment through @Airbnb that didn't exist... @AirbnbHelp didn't care #nightmare #airbnbnightmare @TweeriaLee A stumbling block to the pessimist is a stepping stone to the optimist. Ryan Gosling and Eva Mendes finally  ; B joyful an funny/dont boss/dont argue/do everything with kids/go on mini car trips/ focus on love Did we miss the fact that #BurkeRamsey swung &amp;hit his sister #JonBenet in the face with a golf club previously out of a fit of #anger? @corruptmelon now im feeling the #worry Having holiday blues! #WantToGoBackToMinehead. Can't believe I've only got 2 days off left 🙄 #backtoreality  Lot 100 would give Ghandi road rage Just want to be a dad so i can play kick the baby with my little one #southpark #mellogang  #edm #plur #dad #djlife #dj #producer @kateracculia @themathofyou It's true! I reverse-engineered the drink. It's a scientific method. I hear it's all the rage. What's good is that we already hit rock bottom, even though I'm about two more seasons away from new depths of despair. #playoffs? #NJDevils @itsyourgirl_Z happy birthday :) have a blessed day love from Toronto :) #bday  myself that despite the absolute delight my children and I would feel having a kitten in our home, the misery my husband would feel is more. One time I saw Rachel from glee tell someone their job was on a pole and I said that in 5th grade to a boy and he look confused I don't get what point is made when reporting on Charlotte looting @CNNAshleigh. Why not explore what looting businesses symbolizes #outrage if you do me wrong i will not hesitate to block you and cut you out of my life completely 😇 it's one of my greatest talents @ashleynwinters I don't like the statement but I love the optimism Doesn't it just suck when you're so real to someone and try to exhilarate every ounce out of them to only see that they're not down Malins with another surging run forward almost sets McCreadie up at the far post.  Decent game for the neutral, nervous for @Lewes_cfc fans Cam cannot be serious with that IG post and that stupid ass font he uses. Would've been better to just say nothing.  I can't guess if you holding a grudge against the best' @skinkev let's rage @vibaby @imEB y'all had crackheads in the islands? I don't know why I find that so interesting and shocking $FOGO max pessimism here and no bottom (yet).  Has a solid PE ratio for a restaurant.  Let's catch it at 8 level or 10 level if it comes. I am just so bitter today 😐 wow almost all the T-Mobile stores in San Diego are out of Note7 replacements #sadness I need to get mine replaced I think they may be  @iSmashFizzle that's me all the time. I carry ginger candy, peppermint oil and sea-bands at all times  @Daniel_Sankey @hayleyp79 Haha.... Actually, after the Doggies I'm barracking for Anyone But GWS!  Nice to see Balotelli back to his best, good player.. Just lost his way a bit! What's a Kali's kitten? [She asked, a frown curling on her fair skinned forehead as he showed her the scar] A cat did - (@ScarredTiger) @The_Nasty_P now you gotta do that with fast n furious Shoutout to @VZWSupport for ruining my iPhone 7 order!!  so ef whichever butt wipe pulled the fire alarm in davis bc I was sound asleep #pissed  #upset #tired #sad #tired #hangry ###### Gonna be a loooooong year as a Browns fan. Longer than normal and that's #sad @SXMUrbanView @karenhunter @CousinSyl you are so wrong for this!needed levity after that recording @DFSCare apparently you are to contact me. Sofas were meant to be delivered today. Old ones gone. Sitting on floor. No sofas!  My nephew sees that i have a frown on my face and he tells me 'you're  beautiful '!😢💞😩 Romero, Rojo, Blind, Memphis, Rooney. This is nearly a starting line up I’d wanna punch in the face rather than shake their hand. @VodafoneUKhelp @VodafoneUK wow!! My bill is £44.77 and hav a text from u to prove that and you have taken £148!!!!! #swines  #con! It's pretty clear I can't stand @HillaryClinton, no tolerance for habitual liars. Not a Trump fan either so what's a citizen to do? #despair @AmyMek this is so absurd I could laugh right now (if I also didn't feel like crying for the future of our country). #despair #wakeupcall That's fucking horrific defending from Schalke @Cinestrong something a cyber bully would say The fact that we have a presidential candidate that speaks the way Trump does is alarming. I thought higher of my peers. #FDT16 My roommate talks and laughs in her sleep. It never fails to scare the shit out of me. 🙅🏽😳 @jade0208 unfortunately the diet is still on, so they will have to wait till Friday I'm afraid. That last minute was like watching a horror show #GBBO 😥 @NeyaphemMaster @_James_Kellar_ @RavenMetamorph @MagnetoBroHood @jedi_paige Thomas' nervousness at being the group's focus is evident, 'I&gt; 2 days until #GoPackGo and 23 days until #GoGipeGo..... I'm so excited!  @keyshamackie it's fucking dreadful for live footy matches @MendipHillsAONB do we think the swallows and swifts have gone? Photo'd 3 nights ago, not seen since. #sad #Autumn both afraid of all the same things @EtherealMystic_ - felt like he couldn't control — and here she was, giving so much of herself, selflessly pleasing him. His groans were - Scott Dann injured aka my worst nightmare Howl at the moon with @HorrorSociety at @FatCatChicago next Wednesday the 28th for a FREE double feature of SILVER BULLET and CURSED #horror @lebara - worst possible decision I could have made when arriving in the UK. Shocking service. Poor coverage. #unhappy So #angry about my @WishShopping order. 6 #months ago I placed an order of over $500. Card billed. Never #received \\n#disappointing Mind if I tag along?' She asked cheerfully, sweeping a lock of hair behind her ear. 'I want to see if you've really got • @DitheringWizard @MHChat sadness with resentment is the past, sadness with fear is the future. try to live in the now #MHchat That feel when you travel 700 miles to pick up a form that arrives in the post two days after you leave.  Action is the foundational key to all success ~Pablo Picasso #inspiring #quote #action #hustle #start #dosomething #success There is something v satisfying about  opening an old 'to do'.doc file and being able to check off all the things you have done  @BBCPolitics @BBCNews I'd rather leave my child with @BorisJohnson #shudder Life long fear of havin a shit and a spider crawls up ya bum @davidhiggerson Can understand fear factor but why support a company that wants to reduce your own to status of a needy satellite.. @samvirwin fancy! I have some of those and I have never put them up, I should do that. Also, I vote jaunty angles then no one will judge My leg feels like it's gonna burst, yet I'm still expected to go into work:):) And there is despair underneath each and every action \\nEach and every attempt to pierce the armour of numbness ' -Mgla @EBled2 Great to have you as our tournament chair and award was #serious #smackdev #ptp #start word @EurekaForbes U got to b kidding me. Anu from your firm responded  when I sent the contact details.  #customerexperience Made my night that @GordonReid91 Reid was included in tonight's hilarity. Some of those points were brilliant. Thanks @andy_murray No, just tweet pictures of four fictional characters who describe you. One should be an animated character. @sunshinessp411 I need to stop second guess myself and just go with the first thought and go with it.  I added Paul Walker on Xbox but he just spends all of his time on the dashboard.  #humor #funny &gt;.&lt; too much clutter in my brain with recent little changes that I haven't yet processed... #dying #panic #IveBeenBusierWhyAmIOverwhelmed :( can't believe Mint fest is two days away and i hate my outfit 😩😩🙈 #nightmare Relive Vegas' heyday with Rat Pack tribute Projection is perception. See it in someone else? You also at some level have that within you.  #worry Your lion's heart\\nWill protect you under stormy skies\\nAnd I will always be listening for your laughter and your tears @stevie7t Why does talksport sound like it's being broadcasted from someone's basement #terrible #quality #amateurs a #monster is only a #monster if you view him through  Bring back the heyday #NominateBunkface  ughh I just want all this to be over.. it's like a nightmare! can we all just get along? I might not pay for my own health insurance but I do like sparkling water and Brussels sprouts now so I think I'm an adult The best revenge is massive success. Tonight my top delight was a Skein of Geese flying about 1 foot above me as I swam in #Windermere. Breeze dropped &amp; it became like glass. Decide to stop being afraid. To just stop. What are you now free to do?\\n\\n#brave #free #honest #healthy #happy #life #living #optimism #love Misery loves company. The church ought to be a place where it finds none.\\n-Pastor Kris Theobald #joy #rejoice We can't even grieve over one black body before another one pops up due to pig brutality Feels grim not having your nails done Just paid for chicken at @panerabread and didn't even get any 😑😑😑 there goes 4 dollars and me as a customer #angry @savageimiike one of my favorite songs brother, real talk.  I can literally eat creamy pesto pasta topped with grilled chicken, sun dried tomatoes, asparagus and pine nuts every single day of my life Wishing a very Happy Birthday to our awesome dancer, Ruthann!!! We hope your day is magical! #bday  #eatcake Puzzle investing opening portland feodal population is correlative straight a snorting infuriate: XLzjYhG It's meant to be!!   There's this Bpharm4 guy Eish that guy brings anger into my life. When I see him nje like darkness fills me @RamatsobaneM will know @LonelyGoomba UK cops have an issue fearing intervention. Hence situations like Rotherham. So of course it'll be dwarfed by US cops. @FoRDaYS14 😳 chewing what? #smile #arcdental #turlock @chocorobos I have this one so I'm not so sad.. but wtf @JlKelly1 @FJ_Berry I've got #teampaella presents on their way for you and Fi but I don't think they'll arrive by Saturday sadly!! ;) Been working in Blanchardstown shopping centre for over 2 years now and I only figured out today where Marks &amp; Spencer's is  #AnthonyWeiner #DISTRACTION #what is really going on? #selection #election #Syria #terrorism #race #riots #GasCrisis2016 #NoDAPL #rape I have a rage rage ep 2 coming out soon I'll keep you posted on it #YouTube #youtubegaming  Love how Megan is raging about this Kendall Jenner photo and I'm sat here like 🤔🙃 @LVLMLeah Nooooooooooooooooooooo. We have stupid, dismal, lame winters where we maybe get some dangerous ice once. I really wanna go fright night at Thorpe Park next month 👻 @KatzeAnilothei this amount of greedy mooching makes me snarl. Omg I'm outside making beats with garageband and some little birds  decided to chirp along （≧∇≦） Watch this amazing live.ly broadcast by @katyy.mae #lively #musically How the fuck do we #live our lives admiring everybody that ever just did something to #win it, then be #afraid to even try to do it yourself I like talking to someone who makes me laugh, laughter is the best medicine Question for all the cheerleaders who ages out!!\\nHow to I make my senior year of cheer more memorable Seeing #RIPShawtyLo got me thinking bout other rappers then I thought about @LilTunechi dying, and burst into tears... Smh I found #marmite in Australia. `:) #happy Research has determined 70% of #laughter is actually . I just love it when people make plans for me without actually including me in this process #rage No one wants to win the wild card because you have to play the Cubs on the road.  #sadness I'm really hitting all flavors of my sparkling water rap. But you know what's tripping me out? These half French and Spanish flavors. @mandyjohnson I'll be honest.. I hope that annoying Southern bint with the 'look at me' pout goes out this week! Selasi #FTW Let the #MrRobot binge begin. #nerdshow #compelling #dark PASTOR - 15 FEET away from shooting victim during protest says he is skeptical of official story. #shocking #CharlotteProtest #CharlotteRiot $8 million in box office doesnt do this movie justice. Political or not, #SnowdenMovie is a terrific thriller and love story. @Snowden @peacexxanna your nightmare @madihayousufzai Please DM your concern Unruly kids at 8am in the morning #nothanks ripping the flower beds up by the roots while their parents watch #shocking @OstinOng YUUUHH 🙄😭 plus clin ep and prevmed ugghhh hahaha #bitter @EagleGiles23 @tgilmore_92 what I miss? #outrage need to sta dating again.I m bored #redheadteen #boldandbeautiful #lost #500aday single men dating Schkeuditz @OrbsOfJoy plan a date... like a date u find pleasing or smth. fuckign\\n\\n10/10. because the child will grow to be a ten out of ten @simon_penn_r @AntisocialJW2 has turned into a rather fiery GG radical) Well, the lines for Sweden's goals sure sting. I'm so playful. lol I need somebody that'll joke with me all day long cause ill never get tired of it. Loved @Bethenny independence msg on @WendyWilliams, be happy &amp; fulfilled within yourself &amp; positivity will flock to you  #independent @DarbyHogle the red one would look super pretty with a bronzy glowy nude lip makeup look! 3rd black would be pretty with a dark lip! 😍 @JaySekulow what can we do 2 get @realDonaldTrump 2 reveal his taxes? That is the immediate danger. But u will not answer me. #afraid @HytheHighborne -Sylvia was elated to receive kisses from the little prince, her bright smile clear as she glanced to Garrett and Elyse- -- When you wake up from a dream laughing at something stupid, and that makes you laugh more  @lee_family5 @USAneedsTRUMP @HillaryClinton @realDonaldTrump You can't be serious. This man practices no religion. Only in church campaignin I've got some new pens to break in. Name an animated series and I'll draw you in that style 🖍 Contactless affliction kart are the needs must regarding the psychological moment!: xbeUJGB @TheYoungEvans_ 'Kylie, you know me. I won't take no for answer for this kind of things...' *he would smirk and start on the crust.* @everycolorbot more like every color looks the same #triggered #colorblind #offended I get so angry at people that don't know that you don't have a stop sign on Francis and you do at Foster #road  @CurtisJobling Yes indeed! We know masses of students would be so excited to see you! We need to get this sorted! #haunt @ExpressScripts u shd b embrrssd. u jack up my bp meds twice and it will still take 3-5 days? Not express at all. #expressscripts #horrible Nothings #Working-you're feeling your life's on The Edge_Could go either way #lost all reason for #Living-JesusChristHealsSavesASK #fatloss Watch this amazing live.ly broadcast by @rosannahill #lively #musically My doctor is giving me flower extract to relieve anxiety and reduce panic attacks :') Watch this amazing live.ly broadcast by @broitzmax  #musically @katlute which one....the one where u threaten violence? Or the phedophiliac u support?  Or the constitution violations he proposes? It's simple I get after two shots of espresso 'Grande, decaf, 130 degrees soy americano with extra foam' #barista #nightmare one month til someone's bday and i think it's time to flaunt that I got them something pretty awesome  So unbelievably discouraged with music as of late. Incredibly behind on Completing my album. Not digging this at all. now that I have my future planned out, I feel so much happier #goals #life  #igotthis #yay If I were assured of your eventual destruction I would, in the interests of the public, cheerfully accept my own.' Sherlock Holmes When you wake up, scroll through social media, and another father was taken from his child  #everyday #KeithLamontScott In addition to fiction, wish me luck on my research paper this semester. 15-20 pages, oh boy. #daunting It's a gloomy ass day Sometimes he likes to ride arround on people's shoulders or drop on them unexpectedly from vents or doorjambs. Like a big, gleeful spider. @el_tityboi bc it's a gloomy day Tony i bet dat dog eating name brand cheerios. cant relate. i eat cheery O's @Norn_IronMaiden @forest_fr1ends It's hilarious It's better to be wetter than it is dry' - @RLevin91 certainly found that hilarious #GBBO My oldest cat pisses me off. She's always been weary of Kennen (senile kinda), but recently shes been sweet. Until she attacked and bit him. @JohnKerry can be as indignant as he wants but the world knows Obama will do nothing and Putin will just do what he wants #Aleppo #Syria Damnnit! Gonna be 1400 pts shy on Chiefs Rewards of getting a post game photo. I had a panic attack when I couldn't find @katrinalaw on #Twitter Turns out my Twitter is a jerk. I can still see her. #NyssaAlghul #panic Early morning cheerfulness can be extremely obnoxious #ALDUB62ndWeeksary @fitzstockcharts Gundlach calling for rounding top, doom and gloom, 15% down move Inquiries into alleged abuses by UK troops in Afghanistan and Iraq and data suggesting a buoyant post-Brexit economy makes the front pages. you make my heart shake, bend and break.' How do u grieve someone who legally wasn't a person yet? All the fans wanted Man Utd at home in the next round...\\nAre you cheering for Northampton or Man Utd right now?\\n#lufc @Sophiejulia @CalebAtChipotle @calebpressleyxo relentless pipe thirst #sheltered Forever angry that gh ruined Molly and morgan's bond/friendship  Checked-in for my flight to Toronto. Took seat 3D just to infuriate @perpetualgeek. @ChronAVT ummm, the blog says 'with Simon Stehr faking 7th'...I'll expect an investigation forthwith. This is an #outrage Police Officers....should NOT have the right to just 'shoot' human beings without provocation. It's wrong.\\n\\n@ORConservative @MichaelaAngelaD @tamriiel I was talking about further in the expansion, with more gear - fury always does well towards the end So I wished my sis 12 midnight but received no reply from her. My 2nd sis JUST wished her, got a reply. You know who's the fav #offended @cardiff_blues @CardiffBluesSC Italy another round lets not drop our play and take it to them with a big result out there guys #blues Love the new song I can't stop thinking about you by . #sober life never #make a decision when you are .. #angry &gt;_&lt; .... and never make a #promis when you are #happy :) :* So when I try I fail... and when I don't try... I still fail... #confused and #lost You make me breathless. That old lady is cray cray #scared #BellaIsSoCute  #Empire gloomy weather puts me in the best mood The voice is all about Miley and Alicia this year. No longer about the contestants. #sad @thevoice People’s deepest passions often scare them too much to admit, even to themselves. i can't take u #serious unless u use #emojis I think I must scare my coworkers when I'm eating like a rabid animal on my breaks #srry #Followback Quote_Soup: Be happy not because everything is good, but because you can see the good side of everything. #optimism My boss likes to stand in my office &amp; smile at me like a shark: maliciously gleeful, and ask me how am I as if I have a secret to tell her. #ThankYouCGI - Do not grow weary in doing good. #CGI2016 The Zika #Hoax Files: DEET is part of a binary chemical weapon targeting your brain: #Toxin  #neurological #USCitizens #Insect #mammal luv seeing a man with a scowl on his face walking with a protein shaker clenching his fists. i immediately stop n suck his dick @u4uzoma Boss I see you as someone that is jovial and funny. Tho av not met u in person. I've been wanting salty fries from McDonald's since yesterday and I'm burning my fingers eating them bc these shits 🔥🔥🔥 Wish I could convince the rest of my children to go to their fucking preschool and elementary schools with fear of gun violence. 🔥Anger is the acid that can do more harm to the vessel in which it is stored than to anything on which it is poured.🔥 #anger \\n\\n~Mark Twain You don't know what to expect by Brendon's video lmao LA devotee video got me shook  @len_snart gives a frustrated growl, before stepping closer and putting his gun through the barrier. No alarms and nothing happened. He- come to the funeral tomorrow at 12 to mourn the death of my gpa @HoustonTexans just trying to go home tonight? A run on 2nd and 20 and a run on 3rd and 20? That's what champs do... #sike #losers  I can not depict what I feel right now.. I feel jubilant yet anxious, or..dunno. It seems like now I'm having something worth wait everyday. That goes the  @CursedRoyal I chuckle and shake my head, 'No that didn't bug me too much. I was still going to ask you but there's a lot you still don't-- @Rocks_n_Ropes Can't believe how rude your cashier was today when I was returning an item!  Your customer service is slacking.  I saved him after ordering him to risk his life. I didn't panic but stayed calm and rescued him. I would like to congratulate the people of Saudi Arabia a happy and a joyous national day. May you all have a great time! #اليوم_الوطني Absolutely raging at the changes to CAS, what a joke Shanghais chief distracting levity pampa - proper dingle carry away: uUDQujcia Vacation wise, Egypt offers great places, amazing scenery, bright skies and good weather at a very good and affordable price for students. Ever put your fist through your laptops screen? If so its time for a new one lmao #rage #anger #hp The American Idiot record turns twelve today it changed my preppy middle school heart into a desolate punk rock desert I am forever grateful @DoubleEph sadly his best days are behind him @St8edge4life88 eh well i can do the sting vs cactus loser leaves wcw match at bash at the beach lol I polished my nails, but can't find the polish remover. It look like a 3yr old polished my nails lol #horrible @UCSMindfulness thank u so much! we just finished another #mindfulness film called #release about #anxiety - plz share! Higginbotham's flippant dismissal of any worries around Carrick's lack of pace is dismal. Against nimble midfielders Carrick will be exposed Like hello? I am your first born you must always laugh at my jokes. #offended Tell me how I'm supposed to feel. #broken #hateful #guilty #love #sadness Someone wake me when @Therealkiss make 2016 remix of 'Why'❗️b/w #TerrenceCrutcher #Election2016 #colinkapernick #terrorism #riots this 2much After 3 idk why I start feeling so depress, sad and lonely. okay i AHVE to start mob psycho 100 today. if i dont im going to fight myself @adamrodricks I like your optimism! I am always ready to . Love the new song I can't stop thinking about you by #sting. It is too fucking bright &amp; too fucking hot outside If you really care like you state @flyfrontier @FrontierCare then I would seriously address sensitivity training to your employees  #FF \\n\\n@The_Family_X \\n\\n#soul #blues &amp; #rock #band\\n\\n#music from the #heart\\n\\nWith soul &amp; #passion \\n\\nXx 🎶 xX @govph I would like to know about the source of The President's optimism about running the country. I wonder if he can answer my curiosity. @StephenKing\\n\\nStephen King never once spoke out about how the Left crushes #FreeSpeech in publishing world.\\n\\n #Trump  #scifi #ccot #p2 Being stuck in the roof of your house provides amazing view but sheer terror of falling down, kinda like life @AlamRahman today which can impact the signal, I'm afraid :-( Our engineers are working to have this resolved by this evening and you'll Said it before and I'll say it now: America is really fortunate that black people only want equality and not revenge. I just wanna know why there's no outrage for black on black crime and no one knows those victims but BLM is out to kill cops based on media @Jacqueline_69 haha! She did well today. I can't get beyond her pout annoying me I'm afraid. Watched tna for the first time in a long time what the hell happened to the #hardyboys #impactonpop #wwe  Even death is unreliable. Instead of zero it may be some ghastly hallucination, such as the square root of minus one.  Samuel Beckett My interview went well today, I can't wait to find out what happens. #nervous #excited #interview #jobinterview @FoRDaYS14 😳 chewing what?  #arcdental #turlock My friends tell me I'm pretty. Trigger tells my I'm ugly. I first was confused but then realised I'm both. Pretty ugly. #tru  #tumblr @Netflix_ME penny dreadful season 3? Taking a break from the #wedding to #rage at the general #stupidity of certain #people on the #internet. Let's get drunk and tell each other things we're afraid to say when we're sober. @politico @realDonaldTrump another angry white man! The Quarterback' wrecks me every time..  Still waiting to see if my @london2012track will make an appearance next week - two months today it was ordered  #badservice -- used as a pawn in this red woman's game] For now, try not to fret and act as if nothing is amiss. This is a royal -- @TheLadyOfGlenco np rum rage @CBSBigBrother never bring back Meech and Bridgette. Crying because someone looks at you? Ugh, and Bridgette.  @RealKyper @NHL watching the jubilant scrum at the end of the day and remembering they're all still kids! #priceless It's sad when your man leaves work a little bit late and your worst fear is 'Oh no!! Did he get stopped by the police?!?! '  #ourworld @excalibater I'm very shy irl and lately I feel like everyone's doing their own thing and I don't fit in anywhere and I feel lonely :( Already plotting next steps if I get cut off by the same minivan in tomorrow's drop-off line. #preschoolpolitics #momthings #serious Watch this amazing live.ly broadcast by @iamjustinburke #lively #musically @leeuwlion 'The furries are restless tonight'. #India is sponsoring terrorism in #Balochistan. #KulbhushanYadav an Indian spy agent was arrested in Balochistan by Pakistani forces. as a very depressed and suicidal person seeing someone sing about their own depressing life yet having fun is very relatable and encouraging I wish there was a #glee version of @ShawnMendes Stitches. @GLEEonFOX #gleekforever In the name of our Lord &amp; Saviour Harambe we pray, bless all apes across the world.\\n\\nHear our solemn oaths and pardon sympathetic hominids. ..... wakes up and says 'have you tried changing her nappy?' 😡👊🏼 !!!! follow my girl tiff she only got 3 followers💖💘💖💘💘 @00tiffanyr “We can easily #forgive a #child who is #afraid of the #dark; the real #tragedy of #life is when #men are #afraid of the #light.”–Plato @StarFlowerz17 @DreamerAbe #bitter. Nicole and Cory is why she was evicted. A cheerful sloth annotated old books about a very good man then the gods ended evil. @TayerleLyle awe thank you so much Lyle!! You're the best!😀😀 @kingcharles9th i Lowkey forgot you had twitter and if you don't follow me back im gonna be  | At home sick... 🎼The blues🎼 won't cure it so I need ideas 🎸😭 | #sorethroat #sick #blues #music #fallweather #carletonuniversity #ottawa NL's top bureaucrat is a director of a group formed to oppose NL's top megaproject. #nlpoli - never dull Good morning lovely people. Not gonna lie I've woken up feeling pretty glum. Retweeted GunnySmith93 (@Stephen21Smith):\\n\\nDays like today I am happy to be alive! #blessed #rejoice Just got back from seeing @GaryDelaney in Burslem. AMAZING!! Face still hurts from laughing so much #hilarious @JonathanHatfull I’ll look forward to it. Hoping for lots of stetson-tilting and rueful looks into whiskey glasses. @SenJohnMcCain @WSJ an 'Honorable Senator' cheering when a cease fire does not hold! PEOPLE DIE AND YOU CHEER! GENOCIDE SUPPORT NOT GOOD! The best #revenge is to move on, get over it, and continue to #succeed. Never give someone the #satisfaction of watching you #suffer....!!! @wcsportscamp I lol'ed.  Privileged exasperation should be bottled and sold. @OC_Transpo some weeks there are no problems but this week is unbelievable -- are you guys even running regular 12 buses?  #solate #firsttweetever sippin #hotchocolate wondering #why I finally gave in &lt;3 haha #hellloooootwitter - ...its because #facebookisforfamily  Seriously @marksandspencer I'm sick and grumpy and the only thing that's gonna cheer me up is ordering my xmas food, when's it going up? 😢 There's a specific joyous 20 song title engiybhekayo, yasezayoni. Need it for le mood After becoming boiling hot, after slowly melting, my heart is frozen. I was going to say that Rooney is a shadow of his former self but I don't want to offend any shadows. #NTFCvMUFC @SageHillfarms @HintonAlisa @hb_heather Hey, Jayme! Were your👂👂 burning cuz I was talking about you?😁 Are you going tomorrow? New play through tonight! Pretty much a blind run. Only played the game once and maybe got 2 levels it. #Rage  I thought I got mad for anything but my bf gets mad over any little thing lmfao shit be hilarious @Ren102e906 Just do what you can, don't get discouraged, maybe some prayers for divine intervention to help you would help :) Can't start a good day without a cup of tea! \\n\\n#tea #start #day #goodday Can I just sulk in peace 😂 depress 😭 What a #lively #lovely #shower 😇 .. @Gaychel22 @Kellee_II @seattlepi even hard facts don't seem to be sinking in... I despair 😩 @beIIrkes Es, I'm serious 23/8 Food that gets delivered 😍🙌🏻 #cheering #happy Someone needs to tell Candice she'll be stuck with that shitty pout if the wind changes. #GBBO Watch this amazing live.ly broadcast by @matt.boss  #musicallyjh Already plotting next steps if I get cut off by the same minivan in tomorrow's drop-off line. #preschoolpolitics #momthings  @SportsTraderIT Madrid is playing awful and no modric but 90 minutes in Bernabéu stadium are so so long. Viallreal never won there @GroupAnon black armed thug with a record carrying gun illegally gets shot by black cop. #outrage   This is a joke.Let em destroy their town @DailyMailCeleb @KTHopkins Katie I love how you describe yourself as 'normal'. Really you're anything but!  #neverchange don't give someone power by letting their words offend you @AOLUK @JamesHayr @TheDrum Anychance of addressing the communication I sent to you yesterday??? I still haven't had any contact #shocking @lennyabrahamson May I send you a copy of #HeroTheGreyhound? Either e-book or real paper one! A boy and a greyhound #smiles #tears  @ajjaffe @MattMurph24 @nickspencer I was under the impression that stop and frisk was a concern to many in NYC. Didn't deBlasio rein it in? This week's Massacre Theatre pert by @LarsenOnFilm is the first one I can think of that requires subtitles. #breathless You know you're in love when all you can do is smile whenever you talk about how he is to someone. @gowoonist i got that but you were alarming Saga: When all of your devices and teles fail just in time for bake off #panic #gbbo testing #angry It's just the lack of company and liveliness out here that makes me bored. When my life became such a concern to irrelevant ass people I'll never know Watch this amazing live.ly broadcast by @flydudern  #musically I'm so annoyed/sad YouTube is burning itself to the ground 🙄🙄 @carlybigelow13 first you take the room now you wanna beat me up #bully @TehShockwave turn that grumpy frown upside-down\\n\\nYou did something next to impossible today Feeling like I've had the worst night of sleep ever - not great before the #London to #Brighton #cycle ride for @DMTFYP 🚴100k ? My view of the human being is as a dynamic expression of the Cosmos we exist within #humanism #awe #ContentwiththeLordsPortion:O satisfy us early with thy #mercy;that we may #rejoice &amp; be glad all our days.#Ps 90:14 #gladness #joy #delight On the other side of fear lies freedom! - JB Glossinger #quote One more step in long work #visa process is over. Relief. Onto next step. #expat  @safety @Support \\nHi 🌷\\nWhy do you always suspend ISIS hunters\\n \\n👉@snafy2019\\n\\nKindly please reinstate our members\\n*He fights terrorism d/n Currently unfollowing anything relating to disneyworld or Florida! #holidayblues #depressing #wantogoback 😭💔 The most important characteristic of leadership is the lack of . #activism #equity #revolution An absolutely dire first half and I can't recall a shot on target. \\n\\nAgainst Accrington Stanley. @eehbahmum WHY?! Did they want to make you plummet in to the depths of despair?? @thomeagle Just to help maintain and boost our status as a world class centre for education, culture and tolerance. #outrage In my room 101 would go  Russell Howard,Tom Odell,Michael Buble!!! #pants #nogood #dire @MrMalky @kwr66 How awful! Switched off! You have a #problem? Yes! Can you do #something about it? No! Than why  @bryony_gordon Sat waiting for bus today enveloped in a strawberry scented damp and revolting cloud of vape. I moved away, disgusting, urghh Condolences to the  JC and the Georges family..  If you be #angry, which may be the case, &amp; which may be unavoidable, see that the sudden excitement does not become sin. #AlbertBarnes Zephaniah 3:17 He surely is rejoicing over us with singing...such romance and so needed today!! #picoftheday : How...why... Really... !!\\n    #funny #picoftheday #lol #random #laugh #chair #of #despair #funnypics  #virgin #cafe #i... @AlbertBreer @jetswhispers Be sure and switch it over to cable news - cheery I can be so shy but once I come out of my shell that's it 😂 @hoystweet Are the pre-purchased tickets being sent soon? Coming to the Saturday evening show... tickets are a no show! #panic #hoys 🐴🦄 @AnneMarieIAm Heard #alarm 1. time in Germany today #youFM, TG finally .. and far far too late. Germany always late w UK artists!!😡😠 @ClaireBlair27 See, that's how you and Michelle are so cheery! Cover it up with a smile, maybe it'll get better I wouldn't wish anxiety and depression even on the worst of people. It's not fun. #anxiety #depression Brendan Rodgers looks fuming 😭 I've used Dey Know as my alarm clock song throughout college #RIPShawtyLo TONIGHT - Fulford Arms, York \\nTOMORROW - Bank Top Tavern, Oldham\\nNEXT SATURDAY- Big Hands, Manchester \\n\\n#livemusic #punk #blues #rockandroll @TzumiXIV huff puff @gerfingerpoken #rage?? The #CrookedCourt said #rage MANY times to explain away the brutal killings of #Petits by #Hayes &amp; #Komisarjevsky .@DIVAmagazine than straight people. Even the arse straight guys who think that means a threesome is fine. #angry #fuming I really want to go for fright night but I really don't 😁 @The_Boxing_Hub #klitschko @Klitschko over fury any day #boxing @ggreenwald Smh, remove ideologically bankrupt and opportunistic establishment now. They're burning all bridges and social contracts. #anger Action is the foundational key to all success ~Pablo Picasso #inspiring #quote #action #hustle  #dosomething #success @flutterpolitely she is from the heyday 80's -could go either way, writing should be stronger but don't know who will be sacrificed first Meanwhile, the so-called M’s fans sit there knitting or sleeping not sure which but they certainly aren’t cheering like the other teams fans i love that tay &amp; tiff are just sitting at my house while i'm at work 🙃 @GSchwartz_ it wasn't a joke . #bully @realDonaldTrump: No sense in taking out your wrath on innocent people because you think police shot an innocent man. #MakeAmericaSafeAgain Your twitter picture just makes me fume. It's way too hard not to get discouraged. Loved @Bethenny independence msg on @WendyWilliams, be happy &amp; fulfilled within yourself &amp; positivity will flock to you #happy #independent Absolutely shocking. The decline of Rooney is a little embarrassing really! @grahnort wonderful experience watching you yesterday at. @BBCLetItShine thankyou for the #laughter @sueblue35 @nsoz7 @immortalbulldog huh? We have a sprint coach? We're the slowest team in the comp. Talk about robbing a living.  Hope was an instinct only the reasoning human mind could kill. An animal never knew despair. If my luck the rest of Fall goes anything like today, I think I'm going to like this season. #bestdayever #magic #work  Maybe @SamHeughan can send me good luck on my job interview tomorrow. #nervous 😳 @tylerhower Covering Milo might make sense—not much, even at that—but celebrating him as puckish is cooperation in something ghastly. @kevinmenzel annual reminder that i don't care and will cheerfully eat anything so labeled #ThisIsUs has messed with my mind &amp; now I'm anticipating the next episode with #apprehension &amp; #delight! #isthereahelplineforthis *ZETH voice*: Hit The Target \\n (holds up upside down cheering towel) God's love spring.Of one dat sunk his whole estate for d paltry bribe,of a single apple–n yet proud of our ancestry?❤️🗿 @swagalini ive been through the denial and anger i am in pure acceptance If ydu yell 'fire' in a crowded theater you will burst into flames. It's a cool trick, bu: only once. @LoriAlan1 Seriously. Digging those eyebrows. #animated @SlaveGuinevere its more of a little prick than a sting .......... but you have to come to Tennessee to get it1 I love when my dog is playful, but he really just scratched my face while flailing his paws in excitement and almost tore my nose ring out Good morning joyful people. Choose happiness to have a great day today #morning  #happiness #grandmercurejktkemayoran The T.I / Shawty Lo beef is one of the more underrated ones in hip-hop history. Chock-full of wit, bravado and hilarity. anxiety level- 100 @WTFISaHashtag1 @MuslimIQ The problem is that right wing extremist terror groups aren't given coverage, press not interested @LisaAsquithtobe @craig8710 @WayneHaselden @june65wigan everyone is against wigan because we are the biggest club #bitter If you simply act out of kindness, strength, and optimism, today will be the best day ever! @Tarleton_KINE @DrKaylaPeak @jssimpson9 It's finally raining in Ashland, Oregon. We've been parched all summer &amp; fall. The plants &amp; people are rejoicing! @sundersays made me laugh, that quote. In a sort of rueful way. As I lost my heart to you there in the dark.. Underneath the stars 🎧 induction day tomorrow for pizza express #nervous @lethargytyler ehhh I guess. I want to everyone I've ever burst out laughing in front of😂 This weather got me fucked up. Like you either be sunny and hot or gloomy and cold. No in between. @SueWallace78 peanut butter???? You some kinda pervert??  Ready for my sweet princess to arrive. I'll he 37 weeks this Saturday! #excited  @WestermannNina xDD it's a song that can not be weary (?) @JohnDotWhite I remember its heyday, but these ladies range in age from, I'd say, mid-30s to early 70s. It's just begun ladies and gents. The war on racism has begun. #sadness #Segregation continues.... smh 😒 No @Chrishilly1987 for MOS 😡  #shocking Leads from the front 💪🏻 How was Natalie one of the top three favorites?! #toofaced and #bitter 🙄 @Darren_Hammer amen, nothing personal mate, just tired of all of the complaining from our fans, it's Been a relentless tirade of misery @alyankovic I really wish I could attend the show at RCMH. I'm there in spirit, cheering you and the dudes on! :) Why have I only just started watching glee this week I am now addicted 🙄  #GLEEK You're so cute @katienolan #truelove #hilarious @GarbageTime #beautiful &amp; #graceful never heard explicits spoken with such elegance. #Mingo Watch this amazing live.ly broadcast by @mrgummyking  #musically @Hayles_101 The three R's depress me. Anyway I'm in a car with a furious white men and I have a really funny story to tell when I'm sober 😂 @JaredLeto Jared + #snap? 💘 Recommended reading: Prisoners of Hate by Aaron Beck #anger It's meant to be!! #happy #happy A tummy full of steak, wine, key lime pine and cuddles on tap. What a way to turn around a stressful Wednesday 💛 @debutemma I dont have to sit here and take this from u spry young children Georgia Tech's Secondary is as soft as a marshmallow.  #horrible @_Mrs_Peel @lp_lisa @PaulRGoulden @LisaLuscious Might be the pout of a star baker tho ! @RLH2606 if u know who died.. I would also burst out crying....\\nFrom JOY!!! 😉 So I tried to give her time to sober up, while waiting at the our friend's house. 2 hours later, gal wake up out her nap to vomit again. @BrandedByCas I was like that when I started college. It was horrific but it probably will get better. Don't give up yet @ScottiePass shock horror handicap dodger is at the top 😂 close on the agg cup good , but think pressure will get to mark🤔 Leveled at the half. Much better offense expected in the second half @TMobileHelp my service is down in Cleveland, OH. What's going on? #unhappy My anxiety is playing around HELP!!!!! When health insurance won't cover TMS but they let me know they cover ECT #mentalhealth #psychology  #TMS #ECT @ashish_geol @getPakistanTV @HamidMirGEO .. Have you give thought to Khalistaan? \\nNo concern of you Baluchistan !! Kashmir is an Issue. Good start to the day I forgot to set my #alarm just as well it's #Friday 😆 It's not #dread. It's called #Locks #GADOT please put a left turn signal at Williams and Ivan Allen Jr Blvd. This is absolutely ridiculous #ATLtraffic #horrible @Chr1sMcLaughlin he's brilliant, lost the joyous plot with us that year. Admits being a fan now after that. Tonight's #DragRace #AllStars2 episode GAVE ME LIFE! Yaassss queens! #teamalaska #teamkatya #revenge #bwahaha @cxmbeferre so you WOULDNT date me????? #offended @IndyMN I thought the holidays could not get any more cheerful, and then I met you. #TheNiceBot Accept the challenges so that you can feel the exhilaration of victory!! Nasty nasty chilly rain has put a damper on my afternoon cigar.  This is NOT a good thing. @cspanwj And FOUR #CongressCritters tomorrow? why are people so offended by kendall he ends photo shoot like seriously shut the fuck up @GoPro your UX online is appalling! No clear save button, not being able to use any generic TLD's #unhappy @rosyIipH glee glee glee glee gLEE GLEE i LOST LOST LOST lowe much @fillegrossiere @PeasParsley @tombrodude bobs burgers is an animated show. Maybe Bob looks like him. They would cast him based on voice too Caballero's passing remains absolutely dreadful I see! My morning started off amazing!! Hopefully the whole day is going as i want it to go!\\n #GreatDay  Girls irritate me so much lol Can we go back 2 weeks and start again ?? This is seriously dreadful and again dirty and  self loathing attitude  mope talking @johnwintertweet dudes who wanna play some bass but not buy a bass (me) rejoice Somehow 90% of the sausage in this pasta I made sunk to the bottom so I'm eating sausage with a tiny bit of leftover pasta 5am blues while riding a cab home:\\n- my belly is much bigger than the rest of my body\\n- but i couldnt be preggy\\n- how to lose it in a day I have no #alarm preset #life will #wakemeup @Janet_Reid Wonderful post! Novelists shouldn't be discouraged by rejection, but they usually are because their work is so personal. @alyssasimpson21 I gave up KENDRICK LAMAR to eat barbecue with him. #bitter @Nikhilv95 @LydiajaneF I wish, I really, truly wish, that I had just a modicum of your banter.  Skipping meals is the national way of showing #disappointment and #anger. #wiz @CorningFootball  IT'S GAME DAY!!!!      T MINUS 14:30  When we are weak &amp; in despair, our Mighty God is near;He will give us strength &amp; joy &amp; hope, &amp; calm our inner fear, just have faith &amp; trust. Start the convo...don't shy away..mental illness abounds in society including our workplace...be informed... #tsdoffsite @Gsmsbooksrus @goodreads 'so shines a good deed in a weary world' Roald Dahl, Charlie and the Chocolate Factory That way ur so angry you can literally feel ur blood boiling @USAneedsTRUMP @HillaryClinton @realDonaldTrump awe!!! #cnn so bias and doesn't care about people only money @CNN &amp; @donlemon must be rejoicing ovet #Charlotte protests. \\n#NorthCarolina Well @AprilDRyan Trump's rabid base needs 2 hear this &amp; U can always find an overseer like King to say it.\\n@JoyAnnReid @SMShow @frangeladuo @Onision @Eugenia_Cooney annoyed by the good loving fans of Onision including myself Is really annoyed at how people just are too cheerful. a #monster is only a #monster if you view him through #fear ..... wakes up and says 'have you tried changing her nappy?' 😡👊🏼 #rage!!!! she's always so insensitive whenever i grieve idgi Oh dear an evening of absolute hilarity I don't think I have laughed so much in a long time! 😂 #aliens #zombie #gore #slash #ghost #sith #horror I love it all. 🔪 in health we did a think about depression and now i feel like i have it A Lysol can got stuck in spray position and we're all slowly suffocating from the trash can that smells like a Febreeze factory.  Don't be afraid to give up the good to go for the great. - John D. Rockefeller #quote #inspiration #afraid #great #motivation Watch this amazing live.ly broadcast by @swagrman_fan  #musically It's been a week of awful connectivity with @TMobile no service or only 4G is not what Im paying for. #unhappy #poorservice We're very busy #coding a whole network manager for #unity3d based on #steamworks networking. #gamedev #indiedev #3amDeadTime #horror #game @GriffinBowie23 @AliMcClimond sorry to #offend u griffin!! @ThomsonCares Sam- yes we have! Not helpful at all! We need this sorting ASAP! You keep promising stuff that doesn't happen!!!!  @HillaryClinton #Hypocritical considering the #MiLLiONS of dollars you and @billclinton took from #horrible people and spent on yourselves. @BoudicaRides @realkingrobbo Isn't that exactly what they should do? What took so long? He is more #afraid of #ClintonMafia than #Congress Hahahah what a horrific penalty from bayer. 5 feet wide. Jesus the waitress recognised me from last time i was in there moping, after my interview haha @ContourCosmetic well done ladies! A great award for an amazing team. A delight to present the award to you. Lament a \\nsaddened heart,\\nso far &amp; \\nyet so near,\\nthe years so\\ntough &amp; scarred,\\nthis lonesome\\nroad,\\nstill feared! #depression \\n\\n#poetry #poem @sebbyD27850 both are nonsensical. If there's injustice against blacks, why add to it by destroying black property. It's misdirected anger Inner conflict happens when we are at odds with ourselves. Honor your values and priorities. #anger #innerconflict #conflict #values @yoshi_lucky Good morning.Let's start with a smile!\\nLet's enjoy life in a cheerful way!\\nDon't worry be happy! Watch this amazing live.ly broadcast by @__.mila.__ #lively #musically Morning all! Of course it is sunny on this Monday morning to cheerfully welcome us back to work.:) It's so gloomy outside. I wish it was as cold as it looked @AJStylesOrg I know they have you a scripted ego maniac but, I was so elated to hear that you are a devout Christian like myself. Phenomanal My bus was in a car crash... I'm still shaking a bit... This week was an absolute horror and this was the icing on the cake...  I was in the dark room for 58 minutes and failed every time I tried developing a photo I'm so frustrated with myself :') @liamch88 yeah! :) playing well  At #UNGA Pakistan clearly shows the face of cowardliness and blatant lies! Its time for #India to act upon terror. @jeremycorbyn @magstogether my god is @jeremycorbyn a full shilling? Seriously you need a major rethink or no lab gove in your lifetime  I got fever highs\\nI got boiling blood Jorge deserves it, honestly. He's weak.  #90dayfiance @theflabar It's a #foggy and #dark morning here - so #filter this time.  For #lighting purposes. :) @CBSThisMorning @newsgirl123456 again, profiling DOESN'T discourage (September 20, 2016; 18:41 EDT) #terror #TRUMP #FAIL Getting my comedic relief w/ @SofiaVergara during season premiere of #ModernFamily. Just what a girl needs! #hilarious Overtime... #TeamNA #WCH2016 #nervous @StutteringGiant at least his character in fast and furious pumped some adrenaline into the franchise. But that's about it If you find me lost, will you stay as a passerby or will you get lost with me? #musings #melancholy @RockSolidShow @Pat_Francis #revolting cocks if you think I'm sexy! i love the word fret so much and im in heaven conflicting reports on mama #RitaMarley health,mannn and i woke up today feeling like mi ole self(rejoice!!)now dis #sadness @duncantrussell does Remo Williams ever actually 'save' anyone or does he just sulk around killing random undesirables ? Solid starts by #Bozzelli and #BenEvans. Hoping for a good #start ! Watch this amazing live.ly broadcast by @footballrocks123456  #musically Got to be up in 4 hours to go back to work #cantsleep #excited #nervous It's so funny cause Cooper's going to go farther than the people who bully her some people leave toilets in fucking grim states @canada4trumpnow @donlemon he has BAD TEMPERAMENT #tantrums #HissyFits @kerrybowen_ you have anger issues! However the agent was inauthentic, my sister still loves me, &amp; I'm still alive. So I guess it wasn't that bad. #socialanxiety #anxiety @bdp514am We are a tired and restless community. We are human and tired of asking for change only to be ignored. jimmy_dore: RaisingTheBoss we've already lost our country and our government to oligarchs, but their fear tactics still work it appears. @RapeseedOilFans \\nWho nose where those scent roses went\\nTo a spot in the Orient\\nMummified\\nIn rapeseed oil fried\\nEating drinking &amp; merriment. It's funny that everyone came in my life as they like how far I'm cheerful and self confident could make me 3abla kaml fg2a kda 😂😂😂 Gotta hit up breezy every day to make sure he's breaking in my boots. First class friend right there Just want Saturday to be over but then again I want to do good #LSAT #nervous Actually fuming I have nothing to wear Saturday @iamTinaDatta love you so much #smile 😊😊 Don't blame yourself,' he spoke, as if she were in the room, kicking the chair beneath him.\\n#amwriting #dark i wonder how a guy can broke his penis while having sex? #serious @CestLouLeLoup okay, not dead, but if I were, I'd come back to lovingly haunt your sweet asses @BBCPolitics @BBCNews I'd rather leave my child with @BorisJohnson  @BbeautifulSoul_ u always gotta attitude tho ... 😕 cheer up @narcissusheiyan  maybe it'd have been different if I stayed for sixth form? But still, the oppressive architecture, uninteresting people could never be a angry drunk lol yall weirdos just enjoy your time @thatsabingo grim really @m_giacchino will this be aired on radio or filmed? Lots of fans over the pond too! #wales #lost @crumpledlinen he chirp It's Thursday which means it's Grey's day #TGIT #rejoice Twitter is a font of endless hilarity. @scdesc Yup. And Val basically ignoring the recipe. I'm just done. I keep bursting into laughter x I have sleep cooties.\\nI close my eyes and dream that I'm awake #weary #sleepissues #narcolepsy @jessespector @nasboat old rich white religious guy supports republicans. Not shocking at all. @hotpatooties more like quickie divorce  How I Murdered Your Mother #SpookyTv #horror Am I the only person who dislikes fall? #FirstDayofFall #leaves #thingsdie #depressing #cold #noflipflops 👎🏾👎🏽👎🏻🍂🍁 @TDsNation i watch all your videos but i like madden better! My goals are so big they scare small minds I think Paul is what's bitter, not the pastry How had Matty Dawson not scored there!!!!!  So is texting a guy 'I'm ready for sex now' considered flirting?' #shocking 3 #tmobile #stores, #original #note7 #customer and zero #results... What's going on guys?  #customerservice #2hour #waittime @bumbleb33tuna door and cleared his throat, trying to dispel any nervousness he had left. Food that gets delivered 😍🙌🏻   @Olajide_Shutti lmaoo. It will be a joyful day. I love seeing happy women, that glow is something real. Americans as a whole are, for the most part, feeling borderline despair at the very least. Looking at a situation out of control. But when my mom told me yesterday that it was looking grim and I started driving out there, I was told to turn around b/c she was too sick @MaxVenator We've had no foreign policy but have had goofy Secretary of State John Kerry with his devil may care pose and jaunty blue scarf. @mas_critical The irony is that those protesting about this kind of stuff are the Orwellian nightmare they think they’re fighting against. @rsdeepsea @BreitbartNews If 3 people are in a country of 300 million - you are going to RUIN the whole country over 3 people?  Regret for the things we did can be tempered by time; it is regret for the things we did not do that is inconsolable. - Sydney J. Harris @melsey6 oh good girl hope she is cheerful When someone tells you they're going to 'tear you apart' and all they have to say is 'why are you so tall?' #shocking Have wee pop socks on and they KEEP FALLING OFF INSIDE MY SHOES #rage Omg he kissed her🙈 #shy #w I hate when I try to be playful and get shut down lol ...Why so serious🙁 Biggest #THREAT 2 #GLOBAL #STABILITY? #climatechange #food #water #security #terrorism #russia #war #trump #clinton #geopolitics #korea $vwo bout to read this article 'Moving the Conversation Forward: Homosexuality &amp; Christianity' from someone in the foursquare church #nervous if you're unhappy with someone just fucking tell them you're unhappy and leave. Don't go fuckin around with other people on the side I'm onto you, @Sargon_of_Akkad, I know you secretly pine for a masculine order, objective morality, and disciplined transcendent pursuits. ☊Focusing primarily on the person you’re talking to rather than yourself and the impression you’re making lessens social anxiety. A joyous first webiversary/web mitzvah to Smithsonian's @WeiPoints!! @brianwolly @jackie_mansky @bethpylieberman @bilbo @mazeltov Had a great time at Skywalkers open gym tonight! Come our every Wednesday from 7-8 in Hillsboro and train with us! #opengym #cheer #tumbling Bloody hell Pam, calm yourself down. But could have sworn something black &amp; hairy just ran across the carpet, #perilsoflivingalone #nervous @SalmonDelicious @bigdickkishibae I lost it at 18. Like, really not a big deal. Don't worry about trivial shit like that. @thebully10 does being a #bully make u feel like a #bigman? Cos it makes u a #twat @pugglelover3691 some of those haters are just taught hate and not shown love. There is a good quote that goes to your comment tiff, treat Something about these cool, breezy fall days.. 😍🍂🌾🍁 The most important thing to #bestrong is to hold your #anger #thoughts @xBFDR yeah I'm sure it will, it's just so depressing having to talk to my parents over the phone instead of talking to them downstairs When a guy comes on the train that smells like a mixture of a damp dog, old sweat and sewage works!!!!#gross #horrid #getoffthetrain #smelly The focal points of war lie in #terrorism and the #UN needs to address #violentextremism O you who have believed, fear Allah and believe in His Messenger; He will [then] give you a double portion of His mercy...' (Quran 57:28) Why doesn't anybody I know watch penny dreadful? ☹️️ 💥⚖️Yeah‼️ PAUL‼️⚖️💥  #glorious #BB18 Can someone make me a priority list of which things I should be outraged at + in which order?  #racism #animalrights #abortion #cops @RyhenMessedUp goodbye despair @KevinI @GGGBoxing @SpecialKBrook pretty average, klitschko fury did about 600k and Joshua white did about 450k @MidgetTamer @RAIDERS @52Mack_ Make him be a bully. Sit him in a room by himself and let him look at Debo all day. Whether you are rejoicing or fighting back tears, God wants to share the moment with you. Congress acting indignant over the  #EpiPen pricing is quite disingenuous since they craft the laws that allow such gouging!! @mdivincenzo9 he's stupid, I hate him lol  Now this is getting out of hand. I'm freaked out by this death...and I'm God!! #mommaGrendel  @aradsliff don't know I'm from nj we are the worst on purpose.  I got a short fuse when im sober. @mcdermo11 @rogerc32 u gave Laura so much constructive criticism she blocked u 'Lazy Give Up Now No Hope Retire' same with Heather #bully @chelseafc let them know it's the #blues A not very young man compiled info on a smiling baby then a mattress created new evil. @smoothkobra after such a heavy 2 days this has given much needed levity. Thanks bro Rap that will Cut other raper's throat. Who said that? @Paedeezy #badd #wicked. #bright city lights @SonOfTheDovah *She could sense the anger stirring within him and took his hand in hers.* As long as we stay together, we'll both be safe.-- @ChurdAllan fucked my coupon that goal!  @KhoroshiySoldat --prepared.\\n\\n'Not as far as I know.' was her dull reply. 'There are still survivors, members from it. Like I said,-/ @TheBarmyArmy all the optimism... MY CAR IS DENTED FROM THE HAIL sad so ef whichever butt wipe pulled the fire alarm in davis bc I was sound asleep #pissed #angry #upset #tired #sad #tired #hangry ###### “The immense importance of football is sometimes scary. When you don’t win you are responsible for so many unhappy people.” - Arsene Wenger The Zika #Hoax Files: DEET is part of a binary chemical weapon targeting your brain: #Toxin #fear #neurological #USCitizens #Insect #mammal Holding a grudge on someone will stop your blessings from God ,learn to forgive &amp; forget 🙏🏾 Watch this amazing live.ly broadcast by @jaredhorgan  #musically @DipstickDipper \\n'It's alright!' She said cheerfully trying to make the moment fun @TaylaStJames it happens and Vegas isn't the only origin thats prevelant #sadly A cheerful heart is good medicine, but a crushed spirit dries up the bones. A wicked man accepts a bribe in secret to pervert  justice. When the sadness leaves you broken in your bed, I will hold you in the depths of your despair, and it's all in the name of love 🎶 2day's most used term is, #terrorism, with many addresses and forms. On my #opinion, the only form of terrorism in this world is, injustice! And with rich Fumes his sullen sences cheer'd. Holding a #grudge doesn't make you #strong; it makes you #bitter. #Forgiving doesn't make you #weak; it sets you #free. Let's not panic. Beat NYG who's atop the division, come home against Cleveland. Just like that you're 2-2 with a division win yesterday i finished watching penny dreadful and from all the beautiful things i saw one question remains: were the writers HIM's fans? I don't think it's fully sunk in that Val is gone yet doing some testing with my current earth burst team @Ashleyavitia_ don't leave me #sad @JasonBHampton it's Bowers. I went and drove it for a while this evening  I was so shy freshman year this guy introduced himself to me by asking if I spoke any English How can America be so openly embracing racism. #dismayed #BridgetJonesBaby is the best thing I've seen in ages! So funny, I've missed Bridget! #love #hilarious #TeamMark Update: I have yet to hang out with @MisElizaJane, but I'm still hopeful!  @NativeApprops @SBShear @HuffingtonPost Shew. That was  @iyaycruz lets see chirp @Fly_Norwegian quite simply the #worst #airline #worstairline I've ever used! #shocking #appauling #dire #dismal #beyondajoke #useless @VaunWilmott @PrisonBreak @PBWritersRoom linc the sink @JoyceCarolOates \\nBreath. You are trending despondent. Mrs Clinton will win. If you keep your gloves on, guard up, and punch like hell. Bayern Munich pitch is horrific @Jay_2752 thank you, I shall mourn her The Sorrow is grim reminder of how bad I can be at video games and how I could get a bit too trigger happy at times. RIP #MGS3 @TheMandyMoore You are beyond wonderful.  Your singing prowess is phenomenal but damn... I'm just elated to watch you act again. #ThisIsUs 珞 When a grown adult doesn't drink or has never drank before I just assume they were raised around a raging alcoholic and they want no parts. my mom cut my phone off and I'm so furious 🤗 Just had to reverse half way up the woods to collect the dog n I've never even reverse parked in my life 🙄 #nightmare My little sister sure can hold a grudge 😂😂😂 My name is John Locke and you can't tell me what I can and can't do #lost #アニメ They're both awful in their own ways, but just saying. The way he treated Aniston alone makes him a nightmare male narcissist to be avoided. Snores on TL. Boredom sunk in. @D_McMenemy It'll be easy to spot the parade of tiny weans in expensive jammies. Really is hilarious! @troyesivan I'm eating sushi, I'm shaking for you AQW should've always stayed in the 08 art style, now it's just a competition to create more detailed art each time. rose incense are the best thing I've ever bought mmmm i'm kinda sad i hope i can shake this before school @ArcadianLuthier -- taking out his feelings on Kei unfairly. His lips form a frown as he tries to walk away. Now that the whole clown rage has scared me shitless, I'm gonna go cry in my room Quote_Soup: Be happy not because everything is good, but because you can see the good side of everything.  @darryella it doesn't chip and it doesn't get dull. Nails gone be looking perfect the whole time, except they gone be grown out 😂 @JohnWildy71 something, too confused to type an entire word 😜 See, I can laugh again. My hour of sadness has almost passed Bes! You don't just tell a true blooded hoopjunkie to switch a f*c@n' team that juz destroyed your own team. You juz don't! #insult @saclivin @MrsCagg specific &amp; intentional way. And part of that intention is to provoke conversation around systemic racism towards blacks. @rsdeepsea @BreitbartNews If 3 people are in a country of 300 million - you are going to RUIN the whole country over 3 people? #fear @Thebeast_ufc what happened to the suicide tweet it was a joke obviously how could that offend anyone?🤔 @jamiesonhelen @MarianKeyes all three of my agin's on the pout . i've been rooting for him since the beginning  #BB18 Watch this amazing live.ly broadcast by @huntermcaseyy #lively #musically Be happy. Be who you want to be. If others don't like it, then let them be. Happiness is a choice. Life isn't about pleasing everybody.... GAMEDAY VS BUFORD TODAY AT 5:30 AT HOME!!!!!!!!! NEVER BEEN SO EXCITED #revenge @Matalan when the lady in Xmas dept answers your call as 'hello mrs Xmas' yep true story #winning #Xmas #cheer #goodcustomerservice ❤ 📞👍😊 @JoshNoneYaBiz I love parody accounts! Well done. Vote for #Trump. #lol  @Blancalanka96 thought it'd be fun and it is not fun but on the bright side I don't have to fight for parking @firstleeds not only are your buses unreliable your e ticket app is too unable to get on two buses and late for work #fuming #useless reply But When it come to a serious situation, I be glad I gave it deep thought 💯 Recommended reading: Prisoners of Hate by Aaron Beck  I absolutely love having an anxiety attack halfway through a family meal @STLouis_RamsFan their whole team is limited when they're on the field.  @MarianKeyes maybe he had constipation issues..? Not that I KNOW dates relieve such an affliction! No way jose! Having a nail half hanging off is absolutely fucking grim, even with my acrylic holding it on 😷😷 Im really constipated. This is depressing I'm not saying he might be like big foot but it might be like natural biological father says blood boiling if he cross Forgot to plug the phone in overnight  That feeling you get when you know the information but scared you might do bad on a test #collegelife #nervous 😥😥 @MHChat I think sadness is felt very strongly physically and mentally.  It feels like it takes over and it's hard to focus at work #MHChat There's many things I don't care about, and many things I do that I don't speak on because it's such a heaviness even when released... How can you blame the manager watching these players play? It's abysmal. Our team are dreadful. If Jose can't save us. No-one can.  #mufc Transitioning to a new job is hard when you have nothing but joyful memories of the previous one. Thanks @LifeTeen for changing my life! ❤️ it was both lively &amp; lovely @crumblepie15 @buryprofs @DittoBistro #BuffnPolish Study finds #awe &amp; #wonder of something greater than self, leads to #creative boosts of expansive thinking. @outsideonline #write #thoreau @DailyJoshleen KA- like the start of cake and then Like saying C - if that makes sense 😭😂 straight people are canoodling on the quad and I'm  @JasonMillerinDC @realDonaldTrump Prudence suggests that a 8+% bump over 2-3 weeks should be viewed with SKEPTICISM. Media/HRC axis #angry @footballmcd agreed. Memphis looks lively also @stackee Charlie attempted to suffocate me with a cushion for cheering so much at the great news 😂😂 @BelieveInBlue18 awe thanks! Couldn't be doing it without all your help and support and that amazing encouragement!💕😘🙌🏻 The point of living, and being an optimist, is to be foolish enough to believe the best is yet to come' - Peter Ustinov #optimism #quote @JuliaHB1 Bloody right  When you have 15 doe run the opposite side of you 🙁  @JasonMillerinDC @realDonaldTrump Prudence suggests that a 8+% bump over 2-3 weeks should be viewed with SKEPTICISM. Media/HRC axis  @tmz @HarveyLevinTMZ   Hell hath no fury like a women scorned.    It's the affair.  Not the parenting Be chill af if you want to offend someone. #terror test ................ Shoutout to the drunk man on the bus who pissed in a bottle and on the seats #grim @mark_slifer actually maybe we were supposed to die and my donation saved our lives?? #optimism @hotpatooties more like quickie divorce #awful Focus on yourself. Don't let other's love define you when you're happy and don't let it make you bitter if you get hurt. #AnthonyWeiner #DISTRACTION #what is really going on? #selection #election #Syria  #race #riots #GasCrisis2016 #NoDAPL #rape Cosplaying properly for the first time on Saturday! Pretty nervous.. @TimewarpArcade @tenpencearcade Do you really have to pedal like a nutter to get anywhere? I remember it being more sedate. @BluesfestByron second artist announcement looking good #bluesfest2017  #Music #byronbay Transparency and openness ' is a dull sell for a fans group - want more verbs like buying, defending, building and securing. seek to conduct attacks against Israel, intended to provoke a reaction that would further inflame feeling within the Islamic world”. • Fewer and fewer good horror offerings from Hollywood every year. Or have I just gotten too old for this shit? @chrisrock brings back great memories of hilarity on #SATURDAYNIGHTLIVE When you saw a t-shirt with the phrase 'My mind is a dangerous place to be' and you would like to buy, but in Italy don't sell it. #sadness @TenPercent @emmajtracey @MetroUK not at all surprised unf, getting partially sighted Mum &amp; pushchair on trains a nightmare #ignorantpublic @megalvz literally was gloomy for an hour Huns are like a box of coffee revels #horrible @rubeseatsinfo from here, it's but a short step to biweekly Community Meetings over a hearty meal of soy flakes It's not that the man did not know how to juggle, he just didn't have the balls to do it.\\n #funny #pun #punny  #lol He showed us a really lively performance, with a lot of different emotions, not just sticking to one. And that's freaking awesome. Taguchi engineering fashionable hale and hearty little game optimization: MqnAOcU @xxnogard_G88 Welcome to the  dark honey ! Sometimes the best motivations come from 'proving them wrong' #energy  #MotivationalQuotes @ChickOfBeauty No!  By Y'all I mean rioting, fire starting, business burning, looting ASSHOLES!  That create #BlackLivesmatter  @lydss_xx @tharealversace @fatbellybella fuckin luv incense, this is me as fuck 😂 @TouchPH  The solution is to punish the criminals. That's the only way to discourage crime. or the circle will continue. @DPD_UK I asked for my parcel to be delivered to a pick up store not my address  #poorcustomerservice @ManUtd you have had from me over the years is irrelevant. Its an absolute joke. #manutd #ticketing #fuming #noloyalty #joke #notimpressed Kinda wanna just book a vacation and go...anyone wanna tag along? #adventure #serious @DinoHyogi Hakyeon takes all the attention happily, perching on Wonshik's shoulder to sulk when Jaehwan accidentally caused a tiny explosion @Sami_3499 Oh noooo!  #nomorehammocks #nightmare ;) Unbelievable takes 10 minutes to get through to @BarclaysUK then there's a fault and the call hangs up  #treatcustomersfairly No red card for Gordon there? The ref must be a Celtic fan as that was a shocking challenge. bout to read this article 'Moving the Conversation Forward: Homosexuality &amp; Christianity' from someone in the foursquare church  I miss when social media was a place to get laughs off and jump in DMs lol..... shit is depressing now 😞 #RIP30 Heaven is rejoicing because they've gained an angel, the Keifer family are in my prayers 💙🙏 @followAdamA looking back on recent tweets seen, this one right here is great #perfect  #Speechless #deal @honevbee close up shots of my ugly mug as I continue to talk about Blaine years after glee has been dead As if he heard my thought on the ether, my #ex has just posted #facebook pic of himself snuggling up with said #cats... now Im just #angry @iSmashFizzle that's me all the time. I carry ginger candy, peppermint oil and sea-bands at all times #anxiety Smokeys dad is sad :/ Candice's pout gets more preposterous by the week. This week it's gone a bit Jack Nicholson's Joker. #GBBO Time to go hit up the library - I have a lovely PILE of book reservations to collect this morning...  #books #reading @KatieBurnett ha freshers blues would love to re do all again ... ha nice tshirt .. vote for Pedro @delhi_lawyer @BhagwanUvach @ShivAroor sad . This is not film story. Who knows could be ploy to escalate tension. Unverified report no hype How is it suppose to work if you do that? Wtf dude? Thanks for pissing me off. #furious @TalesofanAlfa @David_Milloy \\nI like your thinking...but sadly no - that's the shed 😢 @TNFryed Jesus, you just made think that of all the Vols v fl games I've seen. I've never seen a win. #depression @BertGatti not had much to cheer about you see 😜😂😂 People have the right to #protest, Not to #loot &amp; #riot &amp; #terrorize #Charlotte\\n#Violence &amp; #Anarchy is unacceptable\\n@CNN @williamcontrol just preordered The Pale EP... Would have paid for the phone call... But I would have freaked out and not said anything #shy The underground at Waterloo is not a nice place to be at 8.30am on a Thursday #somanypeople #grim there are #serious #chinks in #India’s #armour'\\n#protein\\n#malnutrition\\n#feedingIndia\\n#skillingIndia\\n#cognitive #deficit\\n@Abhijit_Iyer Just feel awkward that I'm being timid to everyone. How the fu*k! Who the heck! moved my fridge!... should I knock the landlord door.  #mad ## Jimmy Carr makes me want to cry and cry *shiver* #awful Inpouring this letter we are dying over against subsist checking quaint virtuoso ways toward fine huff yours l... I just really enjoy bright colors, like the colors you would see downtown Miami @Max_Kellerman  it also helps that the majority of NFL coaching is inept. Some of Bill O'Brien's play calling was wow, ! #GOPATS Kik me I want to swap pics I will post on my account anonymously if you wish Kik: vsvplou #Kik #kikme  #nudes #tits #snapchat Patti seems so sad. She stamped and ran behind the sofa. We will have to give her plenty of love and affection...more than usual.  I love when @pinksaltwarrior angry tweets bc it makes me laugh but also hate it bc it makes me miss her more I'm due for a big change! I've prayed on it, I think I deserve it #positivity #optimism @TheVulcanSalute , just saw the Save The Day PSA. Why were you in obvious tears doing it? I'd have thought you'd be your cheerful self. #ContentwiththeLordsPortion:O satisfy us early with thy #mercy;that we may #rejoice &amp; be glad all our days.#Ps 90:14 #gladness #joy  Man Utd are shambles that was horrific 😭😭😭 @m_giacchino will this be aired on radio or filmed? Lots of fans over the pond too! #wales  Fellaini has been playing ahead of this guy...just let that sink in Approaching #terrorism from an anti-racism POV is futile, instead promote prejudice towards racism. That way we are all on the battlefield. The irony in that last is that Republicans - more likely to watch Fox News - distrust the news media more. Yet they can't see Fox's lies! I take a strange delight from seeing mark Hughes struggle @WWE is the live event Brock vs Orton 2 this Saturday on the WWE Network? If not it needs to be! :) #wwe @RandyOrton @HeymanHustle #revenge I am a simple human being who just really loves @aliciakeys like truly, madly, deeply rejoicing in her existence, class and queendom If I was friends with me I'd hate me SO MUCH with the amount I bully them @fleetstreetfox It's buzzing pathetically for sympathy if you let it out it will twirl it's moustache, chuckle and sting you #Psychowasp Thank you disney themed episode for letting me discover how amazing the @BlackishWriters are!  @blackeyed_susie They ain't going away, and I don't want to see them hurt; changing hearts/minds is really our only option, no? #optimism If my luck the rest of Fall goes anything like today, I think I'm going to like this season. #bestdayever #magic #work #snap @IMKristenBell @lauralittlelegs pine nut.... Chestnut....peanut....wait... Wrong film @JoshNoneYaBiz I love parody accounts! Well done. Vote for #Trump. #lol #hilarious I'm getting use to not having a phone it's sad .. Thought I had a pretty solid GPA as a kin major and now that I look at the average for dpt programs I feel even more discouraged 😪 Drop Snapchat names #bored  #swap #pics Evening all. Don't forget it's #RobinHoodHour TONIGHT 🏹\\n\\n #bizitalk #bizhour #southyorkshire #MansfieldHour  #sheffieldHour #NottsHour this Mac update has me some kind of apprehensive. chirp chirp! what a beautiful white and red bird! 🐦 An @amityaffliction kind of drive home from work today  #dailyfeels I feel horrible. I have accounting today but physically and mentally am not okay 😪 Houston might lose a coach tomorrow or by midnight. #yikes ? now that I have my future planned out, I feel so much happier #goals #life #happy #igotthis #yay Life izn't about pleasing each others...😕\\n\\n#hell #with #pleasing Panic attacks are the worst. Feeling really sick and still shaking. I should be a sleep. #anxiety #depression TGIF! Hope everyone that needs to find #recovery can and that our friends stay #sober this weekend! @REBOSTreatment @BlvdCenters Anger is cheap and politeness is expensive. Don't expect everybody to be polite. #ThoughtfulThursday #anger #politeness @vladfucker69 i look rabid courage the cowardly dog is like american horror story for kids Swear to God don't get a smart meter from your power company, 8 months of daft bills, 6 visits from British Gas #nightmare #stressed Dylon felt dejected. He has a dejected aunt! .@Tolumanda love it! so true. As @Deedeey_ taught me, fear can be an illusion. #coaching  #courage @Groupon_UK who do I contact about a shocking experience with Clear Sky Holidays booked through you guys?? #customerservicefail #dreadful I have a job interview with @BarclaysUK in Loughborough next month #nervous!!! @DanLanthier That was exhilarating hockey. They're still out if Russia wins in regulation I'm reading. #fuck @BlurtAlerts 'the darkest of nights can be bright, the solemn of faces lights up with a smile'. -@Totemprince believe in me, as I do in you @mdivincenzo9 he's stupid, I hate him lol #bitter Colors of the leaves are- changing.  Heatwaves in LA still- raging.  Lattes made in batches. Visit pumpkin patches. #FallSongs I genuinely think I have anger issues When tears r inappropriate: 'This day is holy to our Lord. Do not grieve, for the joy of the LORD is your strength.' Nehemiah 8:10 NIV #joy The news is disheartening. Everything that is going on is a result of a lack of understanding and misinformation by the media. #sadness Today I reached 1000 subscribers on YT!! , #goodday, #thankful It takes a man to suffer ignorance and smile. Be yourself, no matter what they say.  3 #tmobile #stores, #original #note7 #customer and zero #results... What's going on guys? #terrible #customerservice #2hour #waittime @residentadvisor thanks for getting back to me, exemplary customer service for a loyal customer #jk  #residentadvisor #poorservice @MSNBC @fox @cnn @realDonaldTrump @HillaryClinton. Using fear to state his views. Not getting the facts before making a serious statement??? I always thought I was too empathetic but it's becoming clear that the majority of you guys are plain insensitive to an alarming degree @NaziaMemon01 yeah a terror packed terror supported speech.. That is at least the 3rd time the balls been burst in our games How can America be so openly embracing racism.  @ChrisChristie You have no Police credentials-You were a litigator. Nothing more-No Experience.#Sad #TrumpPuppet #Felon #bully #jersey4sale I swear if @devincameron23 blocks me I'm going to hit her back #revenge sure, ohio state is terrible, ohio is awful, etc, etc\\n\\nthese feelings began with the toldeo war \\n\\nso, maybe don't campaign there? @KingNicky7 also madden isn't the funniest game to watch and if there isn't much happening it's boring @Fra93_bruno wow I'm just really sadden by that. Terrible @smb_ryan @Kamper10 I couldn't care less about #GOTHAM. I haven't watched it since the mid point of season 1. #horrible Home is where the heart lies ! Love my little island but my birth city just ain't acting right &amp; im not feeling too good about it #restless @paulbushnell25 @EE bad news if ordered online it hasn't gone through same happened to me had to re order on the phone  i'm doing laundry and watching that 70's show with a bunch of strangers. #happy #birthday #to #me new tires &amp; an alarm system on my car. fwm now! @TVsCarlKinsella They're such garbage. Obviously I like that they suck but it's still grim to watch. lost my 244 day snapchat streak i'm done Always do sober what you said you'd do drunk. That will teach you to keep your mouth shut. \\n― Ernest Hemingway #quote Anyone know how the #Mariners did today? The mood here seems strangely jubilant! As Meatloaf says, 2 out of 3 ain't bad, unless you win one! @sjgreer24 @cciedotnyc @Buttockus @ChrisCJackson @Bayonethics Have you read the OT and Pauline Epistles? They have countless horrid rules I was cheering for NA team. Now I just want this is over and Gaudreau comes back in one piece. It is getting way too risky @BBCNews 😝 scared of their own horror story they wrote, afraid of the #terror they spread, will #europe start WW3 in 2017 anniversary of WW1 Just heard what happen at grandad hometown last night such a terrible news 💔, hope everyone okay 😢 @PrincessCasGirl @DaddyEllis__ tiff you better hurry cause 👀 @kikibug13 Don't look. You'll only be very, very unhappy. \\n\\n(NNGH. I got the email notif THANK YOU.) @ticcikasie1 With a frown, she let's out a distraught 'Gardevoir' saying that she wishes she had a trainer Thank you @twitter for the balloons today.  #goodday #48 If you truly want more of God in your life, it requires letting go of some of the old things, to allow new things to flourish. #stop  All this doom and gloom! We scored from open play again! And only conceded two this time. #progress they means a 1-1 draw on Saturday for me @ggreenwald @SusanSarandon We are blaming 5% of the fucking idiots who are putting the World in the middle of their tantrums. You are one. Watch this amazing live.ly broadcast by @arbitraryvlog  #musically “The #greatest fear #dogs know is the #fear that you will not come back when you go out the #door #without them.”   \\n  ―#Stanley #Coren matt and i just did a psychological study on provocation in abusive relationships. @gardiner_love : Thank you so much, Gloria! You're so sweet, and thoughtful! You just made my day more joyful! I love you too! 😊💕 wow if i need to start over on SIF im prob gonna just die For a team as big as Bayern and the they like to play football, their pitch is fucking dreadful. Certainly no Emirates pitch anyway. @camilluddington the fact that YOURE nervous makes me want to crawl in a hole I truly believe in my heart right now that Satan is rejoicing because we are all against one another the outrage has passed and has been replaced by a mute, fatalistic acceptance of the current situation.  #fatalism Worst juror ever? Michelle. You were Nicole's biggest threat. #bitter #bb18 #Terencecutcher #Tulsa the man onthe helicopter said he looks like a bad dude, that is the problem, when they see black they see bad, #sad I believe women are more fiery because once a month they go through struggle and struggle is what develops a strong character. @aGirlHasNo_Name @MdlMurray shot by black police woman Typical looney toon thinking. #Hillary #divide  #chaos @IrishTimesPol @IrishTimes Irish citizens boiling drinking water in 2016 leaves one foot firmly in the bog! @LaurenBrierley2 sparkling water = death 342:147 And waxen in their mirth, and neeze, and swear\\nA merrier hour was never wasted there.--\\n#AMNDBots @Nxrthstxr I think it's the daunting fact of the typical offer being those grades. Even though it's been proven not to be the case exactly @ClvlndK8 It's so sad! There's always such optimism with a new year. This is...not good. @BuckshotBandit1 @dapostrophearcy it makes me so fucking irate jesus. nobody is calling ppl who like hajime abusive stop with the strawmen lmao Need a new outlet for #rage Hopefully next time we play a L1 team, 1 of the players scores, takes his shirt off &amp;jumps into away end purely to wind up the joyless cunts half day tuhday but nah for glee 😭 Another joyful encounter in Tribez &amp; Castlez! I just met Mouchole, Ogre Cook! Do you want to know who that is? Download the game and find... How is that in 2016, a 757 airplane does not have WiFi...ridiculous. #AmericanAirlines #americanairlinessucks #AATeam  @evanareteos :)) im now writing abt the changing face of sex industry in tr :))) now men will talk to me then!  ugh!! this is the worst!! i didn't read at all this whole first month of school and i have a unit test on friday!!! awe man!! @eNCA what they should be doing is directing their anger to the thieves in government...#corruption #FeesMustFall @saraandgreg @Airbnb Another happy customer.  #secreteyes @iJuvia_ \\n\\nHearing the noises, Akame opened her eyes and sat up, facing Juvia. She didn't expect at all to see someone around and staid -- @ChrisChristie You have no Police credentials-You were a litigator. Nothing more-No Experience. #Sad #TrumpPuppet #Felon  #jersey4sale Candice's pout is gonna take someone eye out mate! #GBBO The radio just told me Lady GaGa is going country, which is like if the Beatles decided to do opera singing for their final albums  #Taurus will react angrily when she can't take being provoked any longer. @BarackObama I love Lizzy Warren's latest rage against Wall Street. Do you think humans have the sense for recognizing impending doom? #anxiety Ughhh love a clean house and my incense lit aromatherapy Ellie from @myspanishboots is here to answer your questions! Don't be shy - she loves talking about #equestrian fashion ;-) #equestrianhour .@REDBLACKS’ Chris Williams: 5 yards shy of joining 1,000-yard club. Bowman (1,279), Walker (1,168) &amp; Roosevelt (1,095) already there. #CFL @eugenelaverty @WorldSBK all the best Moto GP is loosing a very talented rider #shocking @twlldun @bbcquestiontime @JacobReesMogg @leicesterliz @normanlamb @CarolineLucas @JuliaHB1 Oh god, not Brewer again. The horror, the horror @VanDashNessa @taotao_salupa5 Nobody in that street burning and looting and terrifying innocent citizens was there, either. It's interesting the photo of Mono Lisa is crying as well as the whole scene is very depressing #ELE6200 Another grim &amp; compelling news report by @Nawalf on the blockade of aid to the starving in #Yemen #BBC #dosomethingpoliticans Pinterest one dessert... Next thing you know your pinning how to make 27 different visually pleasing mouth watering never gonna make sweets. one ep of despair arc made me happy but and then i'm going back to future arc and i'm upset again. Petition for non-Maghrebi PoC to stop buying 'couscous' from white grocery stores and boiling it. That is not couscous, that is trash. It's now September and we're still battling a situation that was said to be handled March of this year. @ATT this is unacceptable  I hate Bakewell tart … anything that tastes of almond essence is just horrid! #GBBO schneiderlin taking his revenge for the 2 fouls @VectoneMobileUK The worst customer service and lack of professionalism from this service provider! #phoneprovider #badbusiness  second day on the job and i already got a 45 dollar tip from a dude whose was constantly twitching his eye LOLOLOL  We can't stop racism overnight. Nor gun violence. Nor terrorism. But we CAN literally stop Trump overnight. So, like, let's? #ImWithHer tones - \\n: 1/2 of my favourite chris pine stans. i love tones more than anything, mt sweet summer child i will attack anyone who hurts her Have wee pop socks on and they KEEP FALLING OFF INSIDE MY SHOES  don't provoke me after letting me down ! Mm, okay. Ham for you and turkey for me.' Gives his hair a ruffle before heading back in the kitchen to set out the &gt;&gt;\\n@DarkSithKenobi I'm so proud he understands this, he shows love, thought and compassion    and it's not done in a clouded way.. #NewYork: Several #Baloch &amp; Indian activists hold demonstrations outside @UN headquarters demanding Pak to stop exporting #terror into India Thank you @twitter for the balloons today. #smile #goodday #48 Pinky is so funny n jovial, bt she got emotional n just brought me 2 tears. I felt so bad for her #Ishqbaaaz @mehnazt @Mel_Harder I live a life devoid of mirth. Come to think of it, there aren't enough taco bowls in my life, either. @iTriborg — make him feel vigorous. 'Fine. You can kill me now.' Said Hestia with a display of only despair rather than her joyful — @David_Stepp Any other election, fine vote 3rd party as useless as it is but not this one. I hesitate to say it'd be selfish but... @Oooooo_Donna @sturgishigh @politicususa   @CNN took its first baby  step now let's hope they will start running Not setting an alarm to nap &gt;&gt; @ThatWhiteSoxFan @tbtrill not as sad as the White Sox playing record ;) i can't believe they're all messing up my favourite of all bakes i feel personally offended Do not despise the Lord ’s #discipline, do not #resent his rebuke, because the #Lord disciplines those he loves... #Proverbs 3:11-12 @carysmithwriter @Maria_Savva @RealRockAndRoll We're the least known band in the World, but so glad you asked #muchlove  Rojo is hilarious It's better to be wetter than it is to be dry' jesus christ Val don't be shy hen 😂😂 #GBBO @datboyJuniorE lool soon as man start loosing weight.  Its panic @deadlyjokester *she let out a playful gasp and slowly wrapped her arms around his neck, kissing him back* @superbatlane it's true also that he doesn't escape until almost all the car sunk @sippycoups if it hurts too much to eat, i read somewhere that marshmallows are good bc they are soft and don't irritate onus is on Pakistan' : MEAIndia after #Uri #terror attack @judy_that Im honestly offended @PaulJonMilne too grim, too insanely, determined to hurt you from Research has determined 70% of #laughter is actually #anxiety. Don't forget 2 test yr #smoke #alarm, #carbon #monoxide #detector #batteries. It could save your #life. 🐈🐩 #Lovinleeds @yoursecretsub1 Trust me dear, if you want to make anything invisible, hang a wet paint on it, and hilarity will ensue. For the last 2 years the U.S. has been averaging about 4 terrorist attacks a month. Good debate topic. #Trump #Hillary  @chenaidavid easy, breezy, beautiful rasta mon @JackCurryYES he's just lucky...bad pitchers...#WHATEVER...ElKracken is #legit #future #bright #gottawearshades #LetsGoYankees @LmRyle @tomcolicchio @realDonaldTrump @HillaryClinton @ajjaffe I understand your concerns but look at her foundation contributions #worry @jccrocker #CharlotteProtest do u #wait 4 the facts #video or do u #hate now ask questions later #sad #protest #PoliceShootings #suggestions Tomorrow is going to be a challenge, I have to talk at a freshers fair to STRANGERS 😁and pick up my new flat keys  @VivienLloyd Thank you so much! Just home - stunned but so happy. Don't think it has sunk in yet! Wow. @RobRiggle @joelmchale @NFLonFOX I still can't get jimmy garoppolo out of my head and it's been almost 3 weeks. Thanks a lot!  Watch this amazing live.ly broadcast by @flydudern #lively #musically @JogglingDroid @BrancoCarmine @Otto_English yeah, #UK was quite the #bully Lisa: Getting what you want all the time will ultimately leave you unfulfilled and joyless. @lilymooregrant u used to chirp me for drinking it u hoe @AlanAlanconway Same it's good but not great.Don't Breathe is the horror film of the month for me. My Fav horror film of the year (so far) @LFScott57 Miss Cookie sends her thanks! She's not as spry as she used to be - like me! She doesn't have the adventures the young pups do! Wanna pop some pills, sedate myself, and wake up tomorrow. Don't be bitter Since the 'update' my @iPhone loses power nearly 40% faster.  @AaronGoodwin seriously dude buy some bubble tape for your phones. #snap broke another phone Liam is too distant makes me mourn 😪 Be #happy. Be #bright. Be YOU :) #identity #TimelessTips #friendship #family #forest #water #family #TrueLove #God #RoadSoFar #you #LifeTrip @FitnessFirstAU something needs to be done about people hogging machines - nobody can use 3 machines at one time!  #notfair #whypay @Theshadeshit91 \\nOh, I'm sorry about it, do not be sad yourself there is nothing important in the world to grieve about it her fingers slide along your thighs, caressing the skin before she's leaning down, down, down and the first lick is teasing n playful. @Lexual__ @jdspielman10 RIP to the 100s of black men,, women,CHILDREN killed in Chicago. Where is the outrage? I hate that a black lady is painting herself white on the internet for laughs and likes... #terrible #BadForm #DidntLaugh “When we give cheerfully and accept gratefully, everyone is blessed.”―Maya Angelou @Megannn_walsh12 @itsshelleeey never said that,Just not fair how Yous think it's completely okay to bully someone Ha! @mquirk @joshuahoodbooks Got your book after our 'meeting' at the Starbucks in NOLA. If Josh says it's terrific, I'm all in. Niggas murking in each other. In murky water, I try to swim. @gagasklaine it's old sadly you never call me when your sober Guy across from me in a really ugly suit cannot stop expressing his displeasure @TheDemocrats dilemma, blaiming everything on the Bushes, but acting gleeful over their endorsement. #Election2016 #Trump Y'all really insult coz of soccer???  Lmao, wow!!!!!! Seeing something that hurt so much in the past in front of me now and not a single sign of grieve. Magicalllll.  ✨ I'm okay, dont worry. I wish i'd been a better kid. I'm trying to slow down. I'm sorry for letting you down. Watch this amazing live.ly broadcast by @footballrocks123456 #lively #musically Follow this amazing Australian author @KristyBerridge #fiction #horror #zombies #angels #demons #vampires #werewolves #follow #authorlove @RoWillFindYou Eric couldn't help but laugh, though that made him wince in pain. It hurt. A lot. He just wanted to sit down somewhere — I have to finally tell my therapist about my sexuality ... last frontier ... not sure I can do it in the AM #fear #SingleGirlProblems As a photographer this portrait shooting mode on the iPhone 7 Plus is going to frustrate me ~75% of the time but delight ~25% of the time. Im not a #nervouswreck, Im a  #pileup. #GoingCrazy #HelpMe #Insane #Antisocial @tannerfox awe cnt wait to see @notquitefrodo @dominictarason I remember TAs in the gamedev program said he had temper tantrums in class all the time lol That house on #GrandDesigns isn't in a forest it's in a wibbly wobbly pine plantation @ColMorrisDavis @rolling_2 @realDonaldTrump @pbump He's jubilant to hear the word that he probably uses in secret heard out loud. Leeds surely to drop the prices for that cup tie, rather than the dismal attendance last night.. Absolutely fuming I've just scratched all my car 😡😡😡😡😡😡 Happy Birthday @Brooke56_56  #cheerchick #jeep #jeepgirl #IDriveAJeep #jeepjeep #Cheer @Fly_Norwegian quite simply the #worst #airline #worstairline I've ever used!  #appauling  #dismal #beyondajoke #useless @russian906 @kingerpag @dannewton1978 Of have a suspicion it was @lct1975 you know!! @JackAndAHat butter up the walls, nightmare @alisontis otherwise you're committing a crime against your soul only sober ppl know what is good or bad for themselves I had a panic attack when I couldn't find @katrinalaw on #Twitter Turns out my Twitter is a jerk. I can still see her. #NyssaAlghul  @alpuzz Ah, but once I got it to work, there was much rejoicing! Lol thanks will get it to do taht now. Jorge deserves it, honestly. He's weak. #revolting #90dayfiance #ntfc mourinho is worried,  bringing Ibra  and Rushford on.  @EurekaForbes U got to b kidding me. Anu from your firm responded  when I sent the contact details. #terrible #customerexperience @jellzybean cheer up punkin' I saw her, whose countenance expressed a mighty rivers were monotonous, and her lively conversation took care of the various ... in the same speech.  However he did mention foreign hand and funding in terrorism in the country. 👍\\n#ProudOfYouPrimeMinister i resent biting my tongue. also other ppl who i love a whole damn lot; erica, joanna, tiff, sirli, harley, anja, (the rest of the gc bc i ran out of chara!) Had a coworker look at her phone and say, cheerfully, 'oh look, Kap's getting death threats now.' 🙄. Then she goes to say the 49ers are We, #Indians, can hold our heads up high and stay unafraid. The #UNGA is well-informed about #Pakistan's #terrorism business and deception. People need a way to escape,escape what?This corrupted world.This reality. This joke.This fury of constant pain &amp; stress.We need a vacation Ramos with his ground shaking headers..😏 @Nick_Offerman I'll be there!! Can't wait for all the #mirth! @big_SL8 Show some respect, that's all...  If u havent go to war u cant say anything.. U havent lost friends and mates on war, so Ahut it!! It feels like there are no houses out there for us. With the most basic requirements I have, there are literally no options. #discouraged I get embarrassed at the slightest things and then I'll fret about it all day I hate it @LPDonovan this is why I think his pre prepped debate answers have the potential for hilarity @danielleelowell awe man I'm mad I'm sitting here already cutting tulle and ribbon already 😂 @RaveenElexiis I fought a racist girl and she stayed in GAVC so if you get kicked out I call BS .@Tolumanda love it! so true. As @Deedeey_ taught me, fear can be an illusion. #coaching #fear #courage I guess #bradangelina &gt; #anger &gt; #blacklivesmatter @eileen_davidson on RHOBH, you just do not want to assume an affair while you were married so you criticize @LisaVanderpump! #awful @VectoneMobileUK The worst customer service and lack of professionalism from this service provider! #phoneprovider #badbusiness #terrible @ahtareen1 @ReginalAleman @krelifa @zamansj64 @AwiexaB Very pleasing ty! @ksmitely @CitizenMeh I feel strongly that we need to work together to right this dreadful wrong. Still waiting to see if my @london2012track will make an appearance next week - two months today it was ordered #shocking #badservice My friends tell me I'm pretty. Trigger tells my I'm ugly. I first was confused but then realised I'm both. Pretty ugly. #tru #sad #tumblr Val is the type of woman you would dread bringing a donation for the bake sale #GBBO Thank you @RachelPlatten for teaching me how to live again. It's been so long since &amp; this ride is about to be exhilarating. I just know it LVG bribed all the refs against Utd for his own personal revenge. That was a foul you prick. So I wished my sis 12 midnight but received no reply from her. My 2nd sis JUST wished her, got a reply. You know who's the fav  @RonMexico760 The guy who calls people 'cuck' and is anti-BLM is offended by idea that he might not be pro-policing reform? That's amazing. @FullTimeDEVILS Memphis looking bright. Rojo looking like Rojo. #RiceFODays now I am Alex Butler's class on financial management. Starts off with a great, relevant class discussion: movies and sunk costs @patthemanager how could I work with @chancetherapper . ? #serious @everton_de_leon @sterushton Genuinely grim stuff. Over a century of history sold off by some porn baron twats for a minty new stadium. Urgh Watch this amazing live.ly broadcast by @mrgummyking #lively #musically @KodieBurch yesss..apparently you've been popular on snap 🙄 @SmileWhileYoDie @KiloSierraC @h0wabouthannah @Drops I'll be okay don't worry My #anxiety is rising tonight and I'm not sure why. Sometimes I wonder if I'm a magnet for any free-floating anxiety in the universe. Some bloke on the train who's obviously trying to provoke West Ham fans by loudly slagging off the stadium to his mate on the phone @DouthatNYT @jbouie @DamonLinker Yes, it is bad to point out racism lest it provoke the racists.  Some racists do indeed not like it. @AdsByFlaherty And you're cheerfully defending a group of unchecked, armed thugs who've shown a history of racism, violence, and lies. @BartholomewD It's -terrible-! We're going to the local fish/chip place in Kirribilli #terrible remember when that guy got #angry that i kept saying gary sanchez was the best baseball player in the world... lmao Rec'd call 2day from Haitian church we started in Florida some 15yrs ago. Preparing to acquire their own bldg. Wanted me to know.  Did you know I specialise in #anxiety  and #panic attacks? Get in touch for all of my solutions for you. #Coventry @OstinOng YUUUHH 🙄😭 plus clin ep and prevmed ugghhh hahaha  As usual disappointing #offense by @HoustonTexans ...#Texans @IndieWire @cinemaeyehonors #WaltzWithBashir was incredible, tho I think it's more of an #animated film than #documentary about #Lebanon war Flight 815 crashed on The Lost Island 2004 #lost @JoshuaJThurston @serendipity127_ @zombiecalorie @Angel_Eyes66 I'm sensing a theme here tho lol #angry @RossKemp great programme tonight #sad #upsetting #extremeworld Well i did hear once before that girls are attracted to men that look like their dad!  👌 #serious noah fence but i want a harley quinn or blake lively layout I don't think Luca understands how serious I am about Fall....he has no idea what's in store for him 😂😂 @kingcharles9th i Lowkey forgot you had twitter and if you don't follow me back im gonna be #offended @isthismike_p that nigga is horrible bro @raylewis name change Uncle Remus Lewis #foh #theydontlikeyoueither  #unwoke @dc_mma @ChampionsFight think shes afraid to fight Holly. One can only imagine what goes through her head when she thinks of Cyborg #terror @TillTheEndMMVI I accidetly dumped boiling water my myself 😫 Harking back to 2012 - DT's challenge to @POTUS...I will give...DT a hearty thank you...if he will release his tax returns.... Women don't like girls because we resent them for looking so great/we wish we still looked like that  #washed @markhberman2003 @LanceZierlein @790blessing entire team from coaches on down played and coached scared from jumpstreet.  @SkyUK what a joke!! Cut our internet off early 'by mistake' and then don't reinstate it when we no longer need an engineer 😡 #fuming @littlebakaa @AlcohoIPorn give me a smiling emoticon will ya? i dont like the idea of you frowning &gt;.&lt; I'm honestly upset that they rewarded Nicole 500k. #depressing #paulwasrobbed #rewardhardwork #bitterjury #bb18 @CCTakato at least in crystal every part of it is portrayed as being WRONG, the dark atmosphere, the fact that mamoru is brainwashed hitting your children as discipline because you're being quite a raging hypocrite if you're not. What do you get when you cross an #apple tree and a #pine tree? 🍎🌲\\nNothing. You can't cross-pollinate #deciduous and #coniferous #trees. The best revenge is to move on, get over it, and continue to succeed. Never give someone the satisfaction of watching you suffer. @OnesOwnGrief Just a shame his world was gloom from day one almost.Though it makes sense he'd have the whole part hydra,part s.h.i.e.l.d(c) Actually be arsed with my sister sometimes, she controls the TV 90% of the time and when I watch one thing she gets in a huff 🙄 @Cpt_SRogers_\\n'Well it can go one of two ways. You either get over it and accept it, because it's not going to change, or you mope about -- i got his bitch depress @WriterlyTweets Supine on the piano—lips parted. #sixwordstory #amwriting #blues #singer Farting in a hot are car when your windows don't roll down is terrible. #gag #BresAdvice Vals always smiling I love it #gbbo Omg he kissed her🙈  #w @ChibiReviews Post series depression can be quite bad, but it will get better, I bet someone will pick the novel soon in the west. So happy my next class is canceled bc..im od tired 😭 Queen Bey will be smiling over sixth this afternoon Gaaaaaaaad! Should have stayed in London! @NewYorker @donlemon Trump presidency-a dark age for the USA and the world. He would most definitely take us to war. Short &amp; Long term pain @GNRailUK There's gonna be street parties when you lot leave. Spontaneous rejoicing. Clowns. @Corsair those sparkling looks like a gay vampire 😁 You don't smile and you say you're in love, but that's why I don't love @CrayonToCrayon @SueScoby \\nIt's always fun to anger 'All the Old Dudes.' with Rock N' Roll :)) the teams that face Barca and Bayern after a defeat are the ones who face the wrath The new lock sound is grim I dread math 😴 #LMFAO @MSNBC 's #racepimp Tamron Hall used the words 'fscts' and 'MSNBC' in the same sentence  #libtard #biasedmedia #neverHillary You have a #problem? Yes! Can you do #something about it? No! Than why #worry Onus is on #Pak to act against #terror groups which find all types of support for cross border terror: #MEA Don't be afraid to give up the good to go for the great. - John D. Rockefeller #quote #inspiration  #great #motivation @lennyabrahamson May I send you a copy of #HeroTheGreyhound? Either e-book or real paper one! A boy and a greyhound #smiles #tears #laughter How had Matty Dawson not scored there!!!!! #terrible i've been rooting for him since the beginning #anxiety #BB18 @lynnew69 then he said talking about wills uncontrollable animals when moving to another link. These comments do not help!  you are an angry glass of vodka Georgia Tech's Secondary is as soft as a marshmallow.  @JackAndJack I'm so lively for listen💗😀 “ My courage always rises at every attempt to intimidate me.”\\n-Elizabeth Bennett (Pride and Prejudice)\\n#Quotes #Courage #FaceYourFears I seem to alternate between 'sleep-full' and sleepless nights. Tonight is a sleepless one. 😕 #insomnia  #notfair @HillaryClinton did you see the gleeful look on @realDonaldTrump 's face when criminal Don King used the 'n' word to denigrate Blacks? The abysmal ignorance, frivolity and levity of the Italian priests stupefied him.' - Roland Bainton on Luther, #ReformationDay Had to give up on The Blue Guitar, couldn't stand main character. Sort of skim-read to the end which got grim and unsettling . . . 1/2 Termination rate is at 22.22% I gotta make some things shake now playing yung fav song ni chavs #sober 😂 Paul forever. Paul should have won! Paul played such a better game! #BB18  I love how cheery and adoring @JackHoward gets every time he produces new content. Watch this amazing live.ly broadcast by @haythatjamile8 #lively #musically @SarahMi40605180 @kaileighhxo sorry to burst the bubble but there was never any illusion 🙈😂😂 Need a new outlet for  @snowangel415 @cjwalters66 Maybe also being attacked by Tom's rabid fans to whom he &amp; his clothes were always perfect also put me off him... “He who is slow to anger is better than the mighty, And he who rules his spirit than he who takes a city.”\\nP16:32 #bibleverse #pride  @LFC What an awful team Think I really broke young bull hurt 😂😂😭😭 u can tell by how bitter and mad he is 😊😊😩😩 I forgot about this nice area down here with the fiery hearths Don't #worry if you're not the best , if you are doing something you #love , you're heading in right direction ... Sometimes I think the British political landscape is desolate and then I look over at the foaming wasteland of the US and think we're OK Amateurs sit and wait for inspiration, the rest of us just get up and go to work.' -- Stephen King #authors #serious #writingtip @LeKingCoq @MistaAggy @GiovanniiDC The way my blood is boiling, little bastards! it's so breezy out today, i can't go to back to school night with bare legs like i've had all day @VerizonSupport thanks for saying My wife and I were getting our iphones today and then losing both of them with no ETA #thanks  can only blame Jose ere why would you give Rojo another start after Sunday , fucking disaster waiting to happen &amp; it did shocking header ! @KimLy resent Your glee filled Normy dry humping of the most recent high profile celebrity break up is pathetic &amp; all that is wrong with the world today. When will the weeks full of Mondays end?? #disheartened Brad Pitt being investigated for child abuse?! this all just got really #dark Watch this amazing live.ly broadcast by @kaylaaa_sartorious #lively #musically @imDevinLopez happy bday bro! 👌🏻 went to Pet Supplies Plus tonight but @neitzkeamara was not working I feel #lost and #confused Recording some more #FNAF and had to FaceTime my mum to let her know I was okay after I let out a high pitched scream 😂 #horror #suchagirl Haven't gotten one hour of sleep... Today is going to be a fun day 😐 #restless @EngrNabeeel then rejoicing now is a lil' bit prematured dont you think🤔🤔🤔 Literally had a guy (a some-would-say-successful guy) tell me 'this ship will sail' kay guy, first, you're working with a sub, last, it sunk I'm worried someday I'll be yelling at my kids and they'll be confused about if or not I'm being serious 😭😭😭\\n\\nI'm too damn playful Ronaldo has been shocking. He's tried to do skill twice and he's nearly fallen over both times @siomo @NEWSTALK1010 20 says he gets reelected..... #be  It's 5:55am. I'm hungry but there is no food.  Mayor visits downtrodden part o town in brave PR stunt. More at eleven. why are people so angry toward veggie burgers at in n out wtf #goksfillyourhouseforfree should be retitled fill your house with old trash repainted ...  #junk #trash @NHLexpertpicks @usahockey USA was embarrassing to watch. When was the last time you guys won a game..?  #joke @Uber_RSA when you click over and over again for a cupcake but there are no vehicles available... #sadness Romero is fucking dreadful like seriously my 11 month old is better than him. @prw190 #zionist = #terror \\nImagine this kid was a #Palestinian or #Muslim\\nZionists stealing #innocence of childhood from #Jewish #children Retweeted GunnySmith93 (@Stephen21Smith):\\n\\nDays like today I am happy to be alive! #blessed  “Do not fret if you are not cool! Humans who follow me, become instantly cool!” #Bot @SkyNews when the East wind blue in summer in Durban, S Africa, we still surfed and got #stung badly! Must be carefull-A #sting can harm you #America finding #gratitude amidst the sadness and frustration about race, #fear, anger and #racism, i remain hopeful _ i'm an earth fixer' @paulkrugman relentless echo chamber - negative comments with lots of reverb. Typical bully behavior. @Klipto the orange one is #poisonous and #bitter. You shouldn't judge the #blue one by how it looks but by how it tastes, #delicious. @Devilligan It's a beautifully sincere balancing act of grief and hilarity. @ReserveHinata tend to them he's going to get infections. \\n\\nHe's frowning and looking down as he does this. \\nIt must hurt damn.] Stack up with porthole under way heyday through worthy of faith bull's-eye transportation services: moM @Lillie_Billy don't worry me and my mans @JJB1Owens gave him a piece of our mind Alt-J - Hunger of the pine. @AgentTinsley I believe that's what you call the fury of the righteous. Today's realisation that it was the last time I watch swimming lesson cos I go back to work next week lead to a joyous bedtime. #worstoneyet How is that in 2016, a 757 airplane does not have WiFi...ridiculous.#AmericanAirlines #americanairlinessucks #AATeam #horrible Had to give my 11yo AfAm son this advice today: 'be polite, no sudden movements, keep hands where they can see them'. #sadness @Zerfash — can't wait.' She said cheerfully and grinned. 9/30 Howland Cultural Center, #BeaconNy Vickie Raabin &amp; Chris Raabe #blues #soul 8pm  @LocalMotionWVKR @hiddencitiesnyc 845-831-4988 As the birds begin to chirp, I try to sleep. #Jetlag Ugh I want to punch a wall every time I have to use @windows 10. Literally the worst product ever made #windows10  #killme @ynnsanity Maybe that's why, we're asked to study hard and get a job that we like. That way it wouldn't be that dreadful. Wee cunts playing chappy in my street, got my shoes on so I can chase and scare the fuck out of them My house isnt always a mess but when it is, its when i have friends coming #mess #serious #twitter #problem #like #friends #filthy #home @lemonlover666 'shit' doesn't even begin to describe these fiery little demons straight from hell 🌝🌚 ;) Sky news still pushing the Brexit gloom line, managing to ignore the fact it's simply not happening. 'But in the future.....' @laura221b I don't think I've ever moved so fast in a panic in all my life 😂 Gave me such a fright 😓 How brave are the young individuals that have opened up to us about their #depression and #anxiety to help raise awareness!! @beyondblue Honestly I've come to a place where I keep getting discouraged but just gotta tell myself to keep pushing through it. Transform your hardship(s) into a burning #desire to succeed. Never #fear #failure, without it there would be no #success. $SPX #FinTech Although this war will be under the guise of combating terrorism it will in fact be a war against poverty, ignorance and just stupidity. @happyandbashful Flirt, simper, pout, repeat. Yuck. @clonmacart I'm beaming with glee. @GOP she's ahead in the polls &amp; after Trumps dismal performance at upcoming debate, it will be an easy win for Hillary. @ItWontCostMuch_ 'Bed done... floor will be done last... curtains! A-hah!' She tried to sound all happy and cheery but she really wasn't.-- Peter is aesthetically pleasing to look at @TheCatHeSay I may be #alwayshungry but I haven't sunk that low yet!! @Thereluctantcat White Americans are worried about Arab terrorists. Black Americans are fearful of a terrorist in a Police uniform on a daily basis. Well i did hear once before that girls are attracted to men that look like their dad!  👌  Unmatched Party Specialist /co @T3RevNeverEnd #serious #job #titles @laureeenwillam can't cope wi her sour face and tiny pout 😡😡 #vinb I'm alot more interested in hearing bout differences between parties political ideologies. Parties murky origins r irrefutable #vinb Hennessey - dreadful. Mutch - is he even on the pitch? Fryers - out of his depth unfortunately. #CPFC Am a very old person I can't handle some stuff....lol I just left her there.... Get back to me when you're sober @zinabukvic_ cheer up So is texting a guy 'I'm ready for sex now' considered flirting?'  @rabpeel snap, seems to be a problem here Too many gloomy days im on holiday for the next round, fuming! @voguemagazine, did you not learn from @FreePeople 's viral insult to ballet? Stop trying to wrongfully stick models into pointe shoes 🙄 @Slippus @PureGym  yeah I received a fine today which I am furious about, currently appealing it after being a member for so long... I have to finally tell my therapist about my sexuality ... last frontier ... not sure I can do it in the AM  #SingleGirlProblems You a fuck boy if you run drag routes back to back in madden @falklands_utd @mauriciomacri \\nbecause distrust in life , Argentina has a lot of heart and this President is worth every vote. you know cyran still hasn't done makeup based on jeongguk's tiddy like i suggested and i'm  This fuck you is boiling up inside, its not gonna be good when I let it out. pray for my boy huff This is a terrific university-a unique university..Athabasca University has become a part of my head &amp; a part of my heart' Peter MacKinnon What day is it #lost I don't get what point is made when reporting on Charlotte looting @CNNAshleigh. Why not explore what looting businesses symbolizes  @sportinglifecan I keep a down vest or sweater in my pack year round! Helps on chilly mornings or breezy mountain tops! #mysportinglife #TerribleDebateQuestions Madame Secretary, isn't it true that Russia is behind all terrorism? procrasting is fun until im an hour away from the time its due and i still havent finished so i have a panic attack I get so angry at people that don't know that you don't have a stop sign on Francis and you do at Foster #road #rage Back in Cardiff after an amazing 10 days away 😭 #depressing You complain all the time and then wonder why people never want to see you. You acc rile me up. Stfuuu!!!! @palmtreesarah @WorthingTheatre had more fun than the funniest person in funsville..... Much hilarity as usual.... Thank you ❤️ David's #anxiety is going to send him home. As someone who also suffers, learning to look normal is an essential coping skill. #survivor From harboring Osama bin Laden to its relationship with Haqqani network, there is enough evidence to prove Pakistan is sponsoring terrorism the fact everyone is selling their kanye tickets or are buying them for less than $50 is unbelievably hilarious to me It's not always how you #start it's how you #FINISH Enjoyed seamlessly setting my #alarm using #okgoogle #Nougat. Just tell #Okgoogle what to do and she does it. #PersonalAssistant #Trends thread;'P)..it was in my #drafts&amp;now #posted 2 mins after my #birthday..so #close:'O!:''/...but anyway it #really was the #start of Every single problem we ever face can be solved with a nice blend patience and optimism Candace &amp; her pout are getting right on my tits #GBBO @everycolorbot more like every color looks the same #triggered #colorblind  @ManUtd you have had from me over the years is irrelevant. Its an absolute joke. #manutd #ticketing  #noloyalty #joke #notimpressed Watch this amazing live.ly broadcast by @kana_blender #lively #musically Delete this shit Josh just screenshotted my snap me @cotsonika @NHL well, they should all be unhappy for the way they played.  Right @fmjacob ?? How the fu*k! Who the heck! moved my fridge!... should I knock the landlord door. #angry #mad ## not only was that the worst @EGX that's I've attended but worth one of the worst cons I've been to in the last 5 years #terrible @BattleSmitten \\n\\nother begin telling a 'story' he realized that she was making an attempt at cheering him up. It was sweet of her and so ➤ @GuardianAus @guardian because there is a realistic probability that a clown might be their next president. #clown #uspol #nightmare Just wish I was appreciated for all I do! When is it my turn to be taken care of!! I want a break!! #tired #lost A Leopard never changes its spots! #lost In 2016, Black people are STILL fighting to be recognized as human beings. #cantsleep  •My brother grabbed me in a aggressive manner and as always @ImpetuousFiend threw tantrums like a kid only knowing how to express himself-- The Quarterback' wrecks me every time.. #glee @realDonaldTrump @KellyannePolls New campaign slogan idea...'I know you are but what am I?' #bully #Trump2016 #yourefired #deflect #ukedchat A4 Just go outside (or to the gym hall) and play! \\n #education  #learning Watch this amazing live.ly broadcast by @evanhufferd  #musically @israelradioguy @WearingWelcome @SkipBaylessSux U blocking doesnt diminish the hilarity of his observation.Or your child-like response to it straight people are canoodling on the quad and I'm #offended @MeghanEMurphy Oh gosh, if you get 800+ raging comments from cruise fans, I will just die laughing! @grahnort wonderful experience watching you yesterday at. @BBCLetItShine thankyou for the  Isaiah 40:31\\nthose who trust in the Lord will find new strength.\\nThey will soar high on wings like eagles.\\nThey will run and not grow weary. @WSJNordics You make the world a more joyful place. #TheNiceBot @CSTrey4 thanks brotein shake 😈😈😈 I get discouraged because I try for 5 fucking years a contact with Lady Gaga but are thousands of tweets, how she would see my tweet? :( Today has dragged on  @mackenzian yes! That was my one qualm. These are deeply theological issues we're engaging theologically. Job interview in the afternoon #nervous #ek Anytime @perezed gets near a mic, someone needs to smack him w a bat. @BBTN #awful #marblesinmouth @StephenKing\\n\\nStephen King never once spoke out about how the Left crushes #FreeSpeech in publishing world.\\n\\n#Trump #horror #scifi #ccot #p2 @dfkm1970 @tomddumba the struggle is real. Whoa! I worry for the younger generation 💔 Especially true if there is an impulsive, thin-skinned bully who likes to silence critics &amp; opponents as president. #voxconversations Has anyone noticed that @npr stories in recent days all paint positive accomplishments for Trump and challenges for Hillary? #surprised  @rkuuleiq Fear is best/beast product of God/s. :) #aTheism #theism #biBle #afraid #christianity #hell #heaven #purgatory #psychology #jesus Watch this amazing live.ly broadcast by @arbitraryvlog #lively #musically Sometimes I watch shitty tv to reinforce never giving up cuz if something is that fucking awful on tv, I still stand a chance.  You have to find a way to top yourself.  im also definitely still bitter about the yellow ranger not being asian, but asian representation in hollywood is essentially a shrug anyway World is facing #terrorism. Where #Terrorist's school exist? Who are terrorist's teacher &amp; father. Which is terrorist's motherland? Once I have sent a pitch to a brand I close all tabs relevant to them instantly. Thats the kind of detachment I create for myself. #serious .@POTUS Obama describes his temperament as 'steady &amp; on the buoyant side.' No we didn't just bully our professor to move the Chem quiz to Monday 😂 Can someone make me a priority list of which things I should be outraged at + in which order? #outrage #racism #animalrights #abortion #cops @eclecticbrotha Thanks, big bro. It's shake and bake and you helped. 15 minutes of yoga to your breakfast routine will change your day #preparation #sunriseyoga #bodyawareness #health #yoga  #stretch Interview preparation, I hate talking about myself, one dull subject matter! #yawnoff I'll happily be rude to people who personally insult me unprovoked, they deserve it 👍 Just as good people deserve respect #Zumba, #PiYo and #HIIT sessions. Sweaty, burning but sooooooo good! #missedoutonsummerbikinibodybutwintersunbodywilldo Method into thin out assault corridor thine liveliness: cHd Season 3 of penny dreadful is on Netflix...well my afternoon is filled Follow me on Snapchat 👻 Carlabtst15 #snapchat  My mind is raging and i just want to end it all Still can't log into my fucking Snapchat#Snapchat #snap It's not that the man did not know how to juggle, he just didn't have the balls to do it.\\n #funny #pun #punny #lol  Bes! You don't just tell a true blooded hoopjunkie to switch a f*c@n' team that juz destroyed your own team. You juz don't!  @cburt43 turn that frown upside down Bloody parking ticket 😒💸 #fuming #burning the last of @Yan I just want to say: social media isn’t here to #bully that has to be #stopbullying ! Please be kind to eaxh other! #lovewins never afraid to start over @healeyraine I'm offended, I actually am so fucking sad when the person you love doesn't try fighting for your happiness, when you'd do anything for them. @coltonflurry @StrangeFacesLA I cancelled by CBS all access live feeds before JC even said Vic won AFP. Paul.should have won IMO #bitter Indian time it's already ur birthday @akshaymarwah22. Have a stupendous birthday. Wish you more success, laughter and lots of love. Hugs. x Are you lost in the fury, fearing that you'll fail? #disgracefulesin I resent all men in some way; for some or no reason at all. #esinscountdown When you break a record in #madden I wish it didn't say the same shit after every rush like you just broke the record. #shutupphilsimms @DailyMailCeleb @KTHopkins Katie I love how you describe yourself as 'normal'. Really you're anything but! #hilarious #neverchange Never ever been this unhappy before in my life lmao 3:45am and off to the hospital! Elouise's waters have gone! #panic #Labour #LittleSister #superexcited @Bookselenaxxx @Hustler @Bookselenaxxx @Hustler \\n👅💦👅💦👅💦👅💦👅💦👅that hot pussy unappetizing that delight @gypsydragoness wrinkling up. 'Well now, looks here like your name starts with the letter G, eh?' The man smiled up and gave a hearty + @tgshepherdvan I'm not there yet. Hasn't sunk in yet. Rest up. In addition to fiction, wish me luck on my research paper this semester. 15-20 pages, oh boy.  False alarm, she's not coming out today 😞 Hello fellow #horror #creepy #dark #stange #story fans, how's your day? #followme and I'll #followback @TheRandomAnt @meg_m203 yeah, they figured that ornaments are way more wanted than spektar and desolate gear. Well they thought right. Some Erykah Badu to sedate me 💕 Watch this amazing live.ly broadcast by @ittzdevin #lively #musically Retweeted Dr. Rand Paul (@RandPaul):\\n\\nStop fueling a Middle East arms race and worsening an already horrific refugee crisis in Yemen. Sometimes the best motivations come from 'proving them wrong' #energy #relentless #MotivationalQuotes @TDYLN sadly not :( Profit are from 5-20% per day to 100-300% per month.Don't hesitate to contact us for the more results! info@fxventury.com 3 weeks into the course and have had the kitchen sink thrown at me, I m still pulling knives and forks out of my ears I wonder what would happen if I were to tell some people the truth #savage #uhoh #angry Skipping meals is the national way of showing #disappointment and . #wiz If i could just get my line to block! #germantownbroncos #lilleague #popwarner #Broncos #usafootball  #lineman I can't even right now #bb18 #rage @rsiereilly my heart did the flutter I'm excited for the #FirstDayofFall &amp; the rest of the season. I have 2 #Halloween #scare events I'm covering for @ThrillzCo in the next week Tired of people pretending Islam isn't one of the most misogynistic religions, it's no coincidence Muslim countries are terrible for women. Americans as a whole are, for the most part, feeling borderline despair at the very least. Looking at a situation out of control. Thanks for making our Mass with Fr. Vallely respectful, meaningful, and joyful @ACSSCrusader @AssumptionHCDSB ! #SeeWithEyesOfMercy @colmjoconnor well it was after my heyday too I'm afraid, I was expecting 1st baby I reckon. Now aged 15 *gulps* I'm so old :-) can't believe Achilles killed me! #angry I've been in such a bad mood this week, and work has been horrific, so I decided to start a scrapbook of my summer vacation Ill say it again. If I was a Black man Id be afraid to leave my house or have a moving violation.\\n\\n #TerranceCrutcher #truth  @winksahoy we about to get shit on by the wrath of winter out of nowhere — to reveal a broad smile. \\n\\n'Yeah, it's nice.' \\n\\nPursing his lips, he stifled his joyous expression in order —\\n\\n[@AVIATAUBE]. Imagine the twitter fume if Corbyn loses the election and then Smith leads Labour to a worse result than suggested under Corbyn.. Imagine?? Controlling #anger is a sign of those #righteous people promised #Paradise in the #Quran in Surah Al Imran verses 133-134 #reward #goodDeed Turkish exhilaration: for a 30% shade off irruptive russian visitors this twelvemonth, gobbler is nephalism so... Most Americans think the media is nothing but Government propaganda BS. #lies #control #BS #RiggedSystem #distrust #garbage #oreillyfactor @PerfectQuartz She's jogging a bit to stay beside her, puffing her cheeks with a huff each time. 'Oh-- jeez Jasper, why don't you — Check out @VovimPrgel - From Scotland #gamer #YouTuber #vlogger #designer #animator #artist. TY for following The Wake #horror #horrorfilm Just put the winter duvet on ☃️❄️🌬☔️ #serious a vote for #killary is like sticking a knife in a toaster #shocking #MakeAmericaGreatAgain @RobertTaitWHU against Chelsea anything is possible haha. I'm fuming about that bet 🙄🙄🙄🙄🙄🙄 We want to help you with your #depression. Give our office a call to learn how #TMS may be the treatment you've been waiting for! From My head to think it was better but obviously it's not #relapse #sadness #sickness #madness #misunderstanding We worship at Your feet\\nWhere wrath and mercy meet\\nAnd a guilty world is washed\\nBy love's pure stream\\n—Graham Kendrick I'll just have to #eat my way to #sobriety. This'll be a hell of a journey back to #sober Good morning chirpy #SpringEquinox and your pensive sister #AutumnEquinox A perfect day however it is expressed 🌹🍁🌓☯️ #theBeautyofBalance @EducatedNPetty white pricks that were laughing at your use of language won't be crying over your coffin but rejoicing that you're another Add Donte Moncrief to my dismal situation #blessed. @CarrieLynne2323 totally get it. When you've said no to donuts 13 times one week and lost 0.3 lbs you get discouraged! But it's not linear 😘 Unixware skydrive-cokie hearty exactment blame online: HEpHXhO When you make a great tasting shake and no words can describe it!😃👌🏻  #herbalifenutrition #tastesogood #nowords @ltsukis im love you, even if you bully me sadly Watch this amazing live.ly broadcast by @huntermcaseyy  #musically @ryyyshh story of my life. #lost @KristenWACamera I really enjoyed both episodes. I had a bit of a gloomy day today but I feel a sense of inspiration from listening. @Samkingftw ew omg that is so grim @vInZzzY we regret the inconvenience caused. We have noted your concern. We will get in touch with you soon to discuss. Rgds, Abhijit @DeionSandersJr @DeionSanders so bad...Slash prices or send them to refugee camps, like team gear after they lose championships.  promise of restoration to the nation of israel...'everywhere you look blessing '..barns/wine overflow.Everything beautiful #joyful #do_u_see Awareness of time is awareness of time lost. #awareness #time #lost @KingJames @chrisbosh\\n To good hearts I lost my job I'm Responsible 2 families My Information in profile even dollar if can’t just Re-tweet I added Paul Walker on Xbox but he just spends all of his time on the dashboard. #dark #humor #funny @Lrihendry I'm not sure we like this comparison.  USA should emulate #Israel's methods of protecting civilians against #terror attacks @a_mxe7 hah don't speak to me or my cousin like that, mind a had the displeasure of seeing u bare faced on eh train, no a pretty sight mate To all who follow me, whether we've ever talked or not hope you have a joyous life. Goodbye. Halfway to work and I realize I forgot to put on underwear....It's going to be one of those days! #mombrain #toomuchgoingon #longday #breezy @APkrawczynski   Any possibly KG is being bought out as a player so that he can buy in from Glen as a minority owner?  Penny dreadful 3 temporada @RoseTintMyWorId fucking hell mate absolute nightmare 😓 Hate knowing I have to get up at half 5 for gym in the morning it's so depressing @CurtisJobling Yes indeed! We know masses of students would be so excited to see you! We need to get this sorted!  #haikuchallenge #haiku\\n\\nThe crisp autumn air\\nMy freedom purchased through death\\nNo one will mourn me #india will take #revenge  by making 3 new movies like #phantom and they will be like #ghus_k_maren_ge this is how indian army take revenge Making that yearly transition from excited and hopeful college returner to sick and exhausted pessimist. #college Not untill today has anyone ever said to me they remember what I had on over 7 years ago when they met me n liked me since #cutealert #happy @smb_ryan @Kamper10 I couldn't care less about #GOTHAM. I haven't watched it since the mid point of season 1.  the prospect of getting choked out by a hot daddy tonight is sorta cheering me up but I also kinda just wanna watch the new AHS episode lol @makai_kishi_ Her eyes stayed glued to the monitor, not turning away for anything @carefreeash_ id be fuming @jack_haug_lifty @eable It's Ms btw. we were lied to by Remain. dry your remainer tears; Just accept you #lost @SteveBryantArt I was pretty sure it was a Golden Ticket. Get a tour. Make a mistake. Something horrific will happen to you. Good day sir. @berniedole looks that way. But let's think about Rohan last week ...  the girl sitting in front of me is chewing her gum like a cow &amp; im ready to snap 🤗 At the regular cheerfulness of any emotion, her own supper, and to give the ladies were soon as they have been entirely at Anyone else find @Microsoft 'anniversary windows 10 update 1607' a Complete #nightmare Cross Party Group on Crofting meeting tonight in @ScotParl. Suspect it's going to be a lively meeting.... @StrongestBeing ←would furrow and her face would redden as she protests; it would seem that being seen as unattractive in Wukong's eyes was→ @pianimadi regarde tes snap @Ms_Asia_Pacific @jgsuing @PilosopoTanya @HuffingtonPost @HuffPostPol as a fellow UP grad, i shiver at the shallowness of his arguments @WunderlistHelp are you guys still down? When can we go up? #panic Get to work and there's a fire drill. #fire #burning #outthere #inthedark Now #India is #afraid of #bad #terrorism. @KatelynKolsrud thanks mucho kate💕 #sober @biggerthanyuu He's flushed upon hearing the feeling is reciprocated. He's elated to shove himself right into his arms and hug him tightly.+ @GreensACT @ShaneRattenbury @carolinelec what about #publictransport to &amp; from #CanberraAirport. Most cities have. Mr Barr very #coy on. @BBCTomEnglish @TimesSport And the dreadful Franglaise. @JedRivett @CharlesCassidy_  Jus see if you ever do anything you pussy , u don't scare me look who u chill with 😂😂😂 @CBCNews Canada should be a driving force of democracy freedom rights - instead we help #dictator #misogyny #Sharia #Islam  #polygamy I think they may be #offended @Budget  car rental you have made realize why I always use @nationalcares!!!!  What a !! #disgusted the thought of you gets me through my day. the thought of your smile never fails at making me smile 💚 @TeaPartyOrg Hes right when the Civil war starts it will be wall to wall terrorism and i don't fancy the Muzzy's chances Jeans with fake pockets  @Tomstarling86 He didn't have many chances to show what he can do but looked lively and had a good shot tipped over the bar before the end. Don't get #bitter get #BETTER I should really study today for chemistry but playing madden is just way more fun. listening to the Oblivion score, drinking coffee, researching for new sci-fi animated project. Day 3 of #harvest16 - listening to the sound of the chopper working it's way closer to home at @mountaindairy makes me . #farm365 As your own lives in order to complete our amazing life journey successfully, it is there. #bitter @stevesingiser @POLITICO_Steve Put a damper on my mood. Just told me wife there was a chance it would be 2 Sydney teams in AFL grand final. Her response: 'there's two SYDNEY AFL teams?' #serious @JamesWickham Congratulations!  My top home-owning tip: try not to look at your mortgage balance too often.  The slowness will depress you. @ChickOfBeauty No!  By Y'all I mean rioting, fire starting, business burning, looting ASSHOLES!  That create  #BlackLivesmatter #terrorism .@SimonNRicketts if you don't know what a patronus is, I don't think we should have to tell you #shocking @Casper10666 I assure you there is no laughter, but increasing anger at the costs, and arrogance of Westminster. All hell is breaking loose in Charlotte. #CharlotteProtest  #looting Rojo is a terrible defender @berniedole looks that way. But let's think about Rohan last week ... #optimism Do not grow weary in doing good.'\\n\\n-@billclinton @DDandDeltaboys will be playing in the Bridge Bar @RameltonWhatsOn this sat (24th Sept) #blues #rhythmandblues #ramelton #donegal And here we go again 😓 #restless @xandraaa5 @amayaallyn6 shut up hashtags are cool #offended The more I watch this documentary on @Channel4 the more I think @Airbnb is more a #nightmare than dream #dreamornightmare searching for what pro and academic writers have to say about #writing #anxiety and #writersblock @GeneralBakshi Only Indian seems to be afraid of War is @sardesairajdeep n like India is for WAR! WAR! WAR! we cry war. #PakistanMustPay jesus ok an alarming percentage of my teachers ths year dont have a  s ingle thoughtful bone in their bodies . its gonna b an interesting yr Learning how to use twitter #lost Final night shift coming up.  I won't miss it but I will miss my work pals and the hysterical laughter that gets us through the night i love the word fret so much and im in heaven #hillaryclinton and their followers are #nervous of a #BernieSanders #millennials saying yes to a #woman #POTUS  #JillStein  not #warmonger were sat in my sat room cloved watchin Manchester Unide @ManUtd v Norffampton do you fink but @WayneRooney is still goal fret at iced level @bt_uk why does tracking show my equipment delivered, when it wasn't? Why is my service suddenly delayed? We've already 3 weeks. #fuming @LoriAlan1 Seriously. Digging those eyebrows.  When I walk in darkness of despondency, Sc.verses I've memorized shine a light in my heart. Ex: Lam 3:22-25  @Theresa_Talbot @fleurrbie Haha...sorry about the dreadful puns... I need to get out more....I've been cooped up lately... You sure have a lot to say about something that doesn't even concern you 😉 @TheMandyMoore You are beyond wonderful.  Your singing prowess is phenomenal but damn... I'm just elated to watch you act again. #ThisIsUs 🤗 236:416 While she was in her dull and sleeping hour,\\nA crew of patches, rude mechanicals,\\n#AMNDBots Never dull moment here He maketh the #barren woman to keep house &amp; to be a #joyful mother of children\\nPraise ye the Lord\\nPsa113:9 It's a good day at work when you get to shake Jim Lehrer's hand. Thanks, @keratx! Still kicking myself for being to shy to hug @mcuban. @emilyycos the other 26 was last night at 2am while i watched the balls i animated bounce for 20 minutes figuring out what was wrong @AOLUK @JamesHayr @TheDrum Anychance of addressing the communication I sent to you yesterday??? I still haven't had any contact  Itching something #serious RN haven't slept but considering taking like 6 Benadryl for a 20 min nap I am itching SO BADLY wow onus is on Pakistan' : @MEAIndia after #Uri #terror attack the ending of how I met your mother is dreadful My mind always seems to work its best at night  @DxfyingGrxvity - that were rather forlorn, scanning the witches house before resting back on Elphie. 'The Grimmerie is gone.' Drop every fear... From what I know of the man, I have to assume that @realDonaldTrump has had a heated argument with his own penis.  @ANI_news #Pakistan should stop cross border #terrorism if they really need solution for #KashmirIssue. @narendramodi sir, #India should act When you wake up from a dream laughing at something stupid, and that makes you laugh more #hilarious @raylewis name change Uncle Remus Lewis #foh #theydontlikeyoueither #lost #unwoke Prayers &amp; Protection to our brothers and sisters fighting in #Charlotte  #against #machines Somewhere between  #hope and #despair the day after #meetingmyabuserincourt \\n#DVSurvivor @Cigna bows out for the moment. Rather than sulk, I'm going to @UCSF for an opinion from the guys studying #Oligodendroglioma. ✌️&amp; ❤️ &amp; 🍩's Summer officially ends today. #sadness The kid at the pool yelling is about to get a foot up his ass. #shutup #parents #kids  #PeopleLikeMeBecause of some unknown reason but I try to discourage it i'd let jiho step on my throat but he'd probs be afraid he'd hurt me @TampaBayRay I cried with laughter. @doubtcaspar babe :(( remember I'm ALWAYS here if u need a little cheering up or talk, ily lots💘 Like hello? I am your first born you must always laugh at my jokes.  @BritishBakeOff Val's 'soggy bottom' face will haunt me. Stay strong V-dog! Don't let fear hold you back from being who you want to be. Use it's power to push you towards your goals. No more fear, just action. #fear @talkRobyn oh dear I have to watch this the woman with the pout did well 😳The intensity that @sydneyswans play at is extraordinary #relentless #AFLCatsSwans #AFLFinals 🏉👏🏿 Hey no turn over after a kick - way to go Texans!  Way to go!  #Texans #terrible #noheart every day i have to think in my mind will this be pleasing to God. my decision making, the way i react, treat ppl, speak, am i pleasing God. A concern of mine is that big name FA(like Malik) will tell other big potential FA's to steer clear of this franchise till Gus is gone. Some moving clips on youtube tonight of the vigil held at Tulsa Metropolitan Baptist church for #TerenceCruther #justice  #sadness @jeremycorbyn @magstogether my god is @jeremycorbyn a full shilling? Seriously you need a major rethink or no lab gove in your lifetime #sad @brian5or6 turn that shit off!   Home Button under Accessibility. \\n\\nWhen did innovation become mind fuckery? . #iphonePhoneHome Icon is pochama.\\nHe is very cute and easily elated. @ily_geuly call me now I'm laying in my bed moping like I intend to do for the next 2 months. Never leave me alone with my credit card. Nope nope mope. @paulbushnell25 @EE bad news if ordered online it hasn't gone through same happened to me had to re order on the phone #furious The Sunderland time line is quite funny with all the doom &amp; gloom in facing us and the long trip to us midweek. #whatgoesaroundcomesaround @lyskoi anyway, I found a short scale today that was perfect for my purposes. soft on the hands, won't aggravate my (now-chronic) tendonitis Please bear with me, I'm not Twitter savvy😝 in real life I'm a Facebook person. Help me gain followers 🤓 #blog #selfhelp  And here we go again 😓  Thoroughly enjoying AHS tonight. #ahs #horror #americanhorrorstory @mediacrooks @thenewshour @LodhiMaleeha @ndtv @IndiaToday This is hilarious ! Not a Freudian slip, eh ! 3years today marks the anniversary of that horrid Westgate Attack in Nairobi. My heart out to all those of us who lost our family &amp; friends🕯 I hate when people say 'I need to talk to you or we need to talk.' My anxiety immediately goes up... 2 days until #GoPackGo and 23 days until #GoGipeGo..... I'm so excited! #smiling @ArizonaCoyotes not to mention the GRA guy stops me but let's the 2 ppl in front of me go. WTF. My blood is boiling. @ashleighjessica @zacflint1 I'd give that pout the firm D Wrinkles should merely hide where frown have been.  - Mark Twain @88Palouseriver @ABC @NRA I rejoice everything time some moron is taken out of the genetics pool. #WTF @NYSCHereToHelp @NYSC allows #gym #bully #atmosphere! #jumpship #nasty #atmosphere #unprofessional @1VoiceMatters @MichaelTPremo just got wind of #MenForChoice and it doesn't infuriate me. Just makes me sad for the generation. Optimism leads to success. - Bill Kerr @Coach__Kerr #success #optimism #goals @AHSFX thanks Ryan &amp; Brad for scary the shit out of us in the first episode. Don't think my heart will make it through the s6 #horrific bad news fam, life is still hard and awful #depression #anxiety #atleastIhaveBuffy @StarklyDark 'Come here. Come on. Into my arms. I'm not going anywhere, Tony, I swear.' Steve told him, quiet and solemn. @Docjp they unleashing God's wrath just as Cain did @1NatalieMaines Can you imagine being the person who has to spray tan him?  [My teeth were sunk down into the vein of the poor woman who had 'accidentally' had a small problem with her engine, just outside of -- @corruptmelon now im feeling the  @Relaqss I know she did horrible shit, but it wouldn't make anything better in the end, but your choice My future must be bright af. @AllredMD @KerryCallen @thismanthispete Kirby's Black Panther in a cool animated panel. The most important thing to #bestrong is to hold your  #thoughts Some serious hip shaking going on tonight 😜 What an exhilarating last minute of overtime #WCH2016 @moore_oliver it's funny how they can be in such a hurry but have plenty of time to stop and threaten people Next month we'll be running overcoming #lowmood, overcoming #worry and improving #wellbeing courses in #Louth. Self refer on 0303 123 4000 @CorbettBarr @pjrvs @brianclark true. Just me spitting venom because I'm still bitter with Stripe. Like an old man yelling from his porch. Just now we were rejoicing that we finally won a match the draw just revealed that we are facing city next. This life sef Damn gud #premiere #LethalWeapon...#funny and  @mgcsartwork I nearly started crying and having a full on panic attack after tatinof bc of the crowds so I feel him @WyoWiseGuy @LivingVertical however, REI did offer me the job today as well. Can't believe how exponentially freaking joyous I feel...!!! @simslover163 I guess it must be really expensive... For me it's that the whole family stayed in Poland, so I really miss them... LOVE LOVE LOVE #smile #fun #relaxationiskey @doctorofinfo I was just introducing a little levity to the convo. Yep! @bijayjanand\\nIt's not just a treat for viewers to watch u as janak, it's simply a treat for our soul, mind, thoughts. #hearty respect 🙏🙏 The best revenge is massive success. –Frank Sinatra While we focus on issue of #IPCA @IHFOKids Indulges in #intimidation @BringRoshniHome @ChildrensIssues @MEAIndia @MinistryWCD #StopCruelty remember when glee did a take me or leave me cover but it was between two girls who werent even friends why did that do that Ellie just gave me loads of gifts with notes on em for uni n I burst out in tears, I LOVE HER😩 @BrightPigSEO @BrightPigSEO we provide dignified and professional funerals at prices families can afford #satisfied clients #bright pig @Mickeyplyler @QualkTalk the refs are in GT's favor tonight.  Zero help from @ups customer service. Just pushing the buck back and forth and promising callbacks that don’t happen. #anger #loathing My baskets are better when I'm in a bad mood someone irritate me before practice please a good shorty has so much to offer &amp; it's sad that some of you niggas don't even see it when she right in front of your face and too late Forgot to eat dinner and now I'm furious with everything and everyone I hate that if I don't start the conversation, there won't be one. @Gervaisoholic But this is no easy ride for a child cries: \\n'Oh, find me...find me, nothing more, \\nWe are on a sullen misty moor...' @rantking just adding a little levity STAY JADED everyone is  How I Murdered Your Mother #SpookyTv  @coalese 😂😂😂. Sure half these stars get together,break up,have affairs,let porn vids slip out,fight,ect etc all to up there ratings. #sad 😂 @Singaholic121 Good morning, love! Happy first day of fall. Let's make some awesome #autumnmemories #annabailey #laughter #smile Optimism leads to success. - Bill Kerr @Coach__Kerr #success  #goals Studying the phases of oscillation. How jovial. 😐🔫 Is it terrorism to intimidate a populace? What case held 'coercion by people in uniform is per se intimidation'? Just rough situations all around for Schalke and Werder Bremen to start the campaign. Bremen dashed late with a new manager. Both with 0. im so gloomy today #internationaldayofpeace Want peace,prepare for war. Destroy terror states like Pakistan One step forward, two steps backward, the link to RogerFedererShop doesn´t work.😰 I am losing hope about Roger Federer new Website #sadness @humeraslam @MehrTarar @sherryrehman , yes, already he spoke so many lies with timid body language. Baluchistan could have been his own trap bad news fam, life is still hard and awful #depression  #atleastIhaveBuffy @DorH84607784 Oh FANTASTIC, I bet it was super exhilarating  🤗😍 I'm not used to pretty girls that use curse words to express their anger. I just feel like I'm a little bit surprised and turned off as well @jccrocker #CharlotteProtest do u #wait 4 the facts #video or do u #hate now ask questions later  #protest #PoliceShootings #suggestions @gdimelow @TheDailyShow @NivenJ1 @jordanklepper These interviews scare the crap out of me. I never imagined so many dumb, dumb Americans. @Mickeyplyler @QualkTalk the refs are in GT's favor tonight. #terrible when you find out the initiative isn't even a thing 😧  @mdthib This is so lovely! Or I am frightened, not sure which! But, wow! #terror @sjdonghaev i love you where broken hearted lovers do cry away their gloom I wish the next madden has a story mode too. Just like Fifa 17  my haters are like crickets. they chirp all day but when I walk past them they shut the fuck up.- @DritaDavanzo (my idol) I want to slide into the dms but im too fucking shy  Look forward to the detours because they bring delightful surprises. #lifequote  OOOOOOOOH MY GOD UUUUGGGGHHHHHHHHH  Accept the challenges so that you can feel the exhilaration of victory. @NFYFC @Wilkster_ hmm, don't know many yf  who are short on confidence! Wish I'd been one, #shy Laudrup and his evil white companions rejoice. i might have #hysteria ,i don't kno if it's just #anxiety or both,..need a diagnosis cuz somethin' is messed up,need ert bu i nvr come out think they re dating guys #nervous #bodybuilding #with #Follow4Follow megaphone xxx number Nierstein Watching Paranormal Activity: The Ghost Dimension. I'm not sure how I feel about it yet. #horror hi my names anxiety and i have shaun @NianticLabs .... For example, catching a gloom would yield 6 oddish candies and catching a vileplume would yield 9. @groovydadad @MHChat 🙂ty I often conflate the two depression + sadness, but they are very different. This q reminded me of that #mhchat I need a 🍱sushi date🍙 @AnzalduaG 🍝an olive guarded date🧀 @lexiereid369 and a 👊🏼Rockys date🍕  @jenhasonen it is supposed to be #dark and #gritty though @evanareteos :)) im now writing abt the changing face of sex industry in tr :))) now men will talk to me then! #revenge It's 5:55am. I'm hungry but there is no food. #panic and naoto nod she also like tha bands. but she also frown. 'Will the bands 'Papa Roach' be at concert...?' @pandaflo22 We are sadden by this because we always strive to bring the best service to our customer. We will always be here for you. CM Love all the ex United managers on Twitter who form our fanbase. Honestly I despair at times. Just back the fucking team eh #MUFC @MarGraham I am practically obsessed with it, the very thought of their departure makes me feel both melancholic and grateful.  Safe journey @clairepilkingt2 oh god no that's awful mine don't last that long thank god. Thank you\\n Xx The human race has one really effective weapon, and that is laughter. -- Mark Twain @jk_rowling never thought an angry oompa loompa would be my Boggart, but there you have it. #boggart #PresidentTrump #nightmare today has been terrible but tonight will end better because I get to see Malik ❤️ @DeionSandersJr @DeionSanders so bad...Slash prices or send them to refugee camps, like team gear after they lose championships. #awful When you've still got a whole season of Wentworth to watch and a stupid cunt in work ruins it for us 😭😭 @__KirstyGA  #oldcunt #Terrorism can be destroyed easily if #wholeworld came together great strength..they could destroy this #fear from #humanity.. Some of these people at this protest are just there for the adrenaline rush. #depressing We stayed up all night long\\nMade our drinks too strong\\nFeeling ten feet tall\\nRopes swinging into the water\\nIn the middle of the night Once again the only thing on my feed is naay raging about something and my brother filling in all the gaps @crimsonwulfe it's super sad!! Especially when you are talking to a real person and not a bot! Makes it feel real :( snap music kept me from running into traffic 2005-2007. Lost Frequencies/Janieck Devy - Reality (Gestort Aber Geil Remix)' is raging at ShoutDRIVE! I just heard the most incredibly transcendent song ever &amp; now I feel high &amp; fucked up yet joyful &amp; I will never be the same how maybe it was with you and your parents..that I would understand you and your fear of indifference from your own mom and dad.. Was going to get a new #horror movie #tattoo tonight, but my artist flaked out on me for the 3rd time &amp; said he was done tattooing! @hm_custserv #awful service at your Camden store yesterday. Assistants thought it more important to put clothes on hangers than serve. How can I tell Happy Anniversary, when u are not happy..  #ampalaya #paitpaitanangpeg Can't wait to be in my Ninja turtle costume raging at OSU again this Halloween 😈 Never switched up, stayed down this the same person since day one. @JonnyDunn93 and Gerrard was awful then Michelle is one of the worst players in bb history #bb18 #bbfinale #bitter For the last 2 years the U.S. has been averaging about 4 terrorist attacks a month. Good debate topic. #Trump #Hillary #terror Mary astounded there at the concept of having leftover milk at the end of your cereal #GBBO - the joyous occasion of laughing at the ostentatious display of disrespect. Bruce just scoffed at the entire scene. This wasn't Batman’s - History repeating itself..GAA is our culture how dare anyone think it's ok to discourage any Irish person from attending any match or final I hate when it's gloomy outside because it always gets me in a depressing mood @OC_Transpo some weeks there are no problems but this week is unbelievable -- are you guys even running regular 12 buses? #awful #solate Some Mexican ladies irritate the fuck outta me. Have a their own lil preschool of fucking kids for the welfare &amp; allllat smh. @canada4trumpnow @donlemon he has BAD TEMPERAMENT  #HissyFits People irritate me 🙄 I lost my blinders .... #panic This is the scariest American Horror Story out of all of them... I'm gonna have to watch in the daytime.  An hour played and @ASFCofficial have conceded less at West ham than @ManUtd have at northampton.  Let that sink in. @safaridjh but it's so aesthetically pleasing omg Don't be so shy #nl Heard of panic! At the disco? How about Kach-ing! at the ATM “ Less sugar, more fruit.\\n Less soda, more water.\\n Less worry, more sleep.\\n LESS WORDS, MORE ACTION.” The #house no longer echoes with our #laughter. We light up our #memories of the #home and sit in the cold, #waiting. #amwriting #nostalgia SOMEONE LET SNAKES IN MY HOUSE, I BET IT @Ya_Boi_Huck I KILL THAT BUGGER WHEN I GET MY HANDS ON HIM  #HuckFP2 @Zen1dfabflake You are all our angelic comrades! #flutter That's really it for my madden career that game sucks , ea sports does a piss poor job every year on that shit Ffs dreadful defending Got paid to vacuum up rat poop. (-: never a dull day in the biology department ... Now ...what to do for the next hour while waiting for #OurGirl to start @BBCOne ?! #Aleppo city is burning. The head of #terrorism #Assad regime &amp; #Russia are bombarding the city right now with #whitephosphrus #bombs ! Starting not to give a fuck and stopped fearing the consequence Had a dream last night that Chris Brown created a diss track about Drake and Rihanna called 'I Hit It First' 😳😳 #dark So @JeffProbst those of us born in 85 have no generation! Where is the gen-less tribe! Ha! #survivor #lost soles i've seen the elder watching me during my community hours and i honestly don't have an idea about what my assignment will be.  I mean I'm not done watching the pilot, but it's nice to see a group of actors perform without story lines dripping relentless nihilism. @djddueces jojo at 12:30 and not midnight lets rage WRYYYYYY Wont use using @mothercareuk @Mothercarehelp again!! These guys cant get nothing right!!  #welfarereform should not be a 'model' for #snap. Even a pencil✏ never #stayed  with me until it's #end ⚫ 😞 Three days off a month with two ex wives and no home could be worse. I don't know how, but it could #oilandgas  @reinervshunter you got this #staystrong #smile #yourebeautiful @mjmralph then it's poor packaging my Amazon and the fulfilled seller should be furious as much as you 😕 Thoroughly enjoying AHS tonight. #ahs  #americanhorrorstory @WYSdaily I'm confident they will NEVER experience our successes of last 50yrs. Best they can hope for is to be another Bournemouth  @DSWT I despair at this madness! It's beyond #shocking it's cold blooded murder!  How long will #SouthAfrica stand by &amp;watch #WorldRhinoDay I aspire to have Val's self confidence and optimism tbh 👏💖 #GBBO #goksfillyourhouseforfree should be retitled fill your house with old trash repainted ... #shocking #junk #trash I'm used to bears, I'm used to coyotes, I love the idea of wolves. But this is hard. I don't want to be fearful of the meadow or the pines. Rooney ! Oh dear, oh dear ! Fucking dreadful 🙈⚽️⚽️ Pull over #tonight and make your car #shake 😋💦 The most important characteristic of leadership is the lack of #fear.  #activism #equity #revolution #firsttweetever sippin #hotchocolate wondering #why I finally gave in &lt;3 haha #hellloooootwitter - ...its because #facebookisforfamily #rage #hate going to the doctor on so many levels but least I can go sleep with a #smile just watched #Dwight on live nation Most Americans think the media is nothing but Government propaganda BS. #lies #control #BS #RiggedSystem  #garbage #oreillyfactor I need all your attention! If I don't I'll pout.. Leave it on there, rule,nimber 1 of carpet cleaning!!! #furious #worsethananatomicbomb #accidentlyspillbeeronthecarpet Everyday gay panic is STUNNING: I drew 1 guy's att'n to it when he blocked up a toilet stall's cracks w/paper towels. TOTAL INCOMPREHENSION. @WunderlistHelp are you guys still down? When can we go up?  Day 3 of #harvest16 - listening to the sound of the chopper working it's way closer to home at @mountaindairy makes me #happy. #farm365 @MichaelSalfino It still destroys Fear The Walking Dead. That show is horrible @KatHeartwell some don't see the difference between courting and appealing to a women vs deception &amp; pressure it's depressing It is no coincidence that Lacan recorded infants' jubilant reactions to their mirror images in the noise. @leesyatt you are a cruel, cruel man. #therewillbeblood #revenge @GucciShade @KellyannePolls @ABC So?  Who cares?  Who cares about tax forms, too.  I believe terrorism and jobs are what is important. Trying to loveee somebody, just wanna love somebody right now, guess there's just no pleasing me @UndeadLayne @Lauren_Southern all the bully Be happy not because everything is good, but because you can see the good side of everything  #optimism @RashidAlMaktoum For #serious #intermediaries all required info about #project or #Owner will be mailed. ACT 4 #anxiety &amp; #depression group. @livingwellihc beginning Mon October 17 for 6 weeks. Contact me to register now! #mindfulness #Halifax I've always had a weird grudge against stingrays ever since one killed Steve Irwin. New job training= too much meat eating! Oh well. Also- got approved to drive for Lyft! Just need a car... #day35 #sober come on let's make em hate 😘make em pout they face 👿😩. @thehill George H. Establishment is unhappy Trump's campaign branded his son low-energy, but he could not have beaten the others either. Watch this amazing live.ly broadcast by @ittzdevin  #musically will i ever get the nerve to quit the restaurant ??? find out tonite on glee! Honestly don't give af who wins out of us and pine, I'm just worried about getting drunk Saturday night😂 I wish there were unlimited glee episodes:( so I could watch them forever. #gleegoodbye Quinn's short hair makes me sad. #glee @airvistara as always it was indeed a wonderful experience flying with you guys today #bestinbusiness  #happyme @TELUSsupport any tips on why our wifi is terrible the past week? Slow or dropping out continuously - NW Calgary 😕 I believe I'm gonna start singing in my snap stories on the tractor. Switch it up a little bit. People who cheer for sports teams completely outside of New Jersey or PA piss me off Cheap pout my brodcast @DuncM1981 @pmallon72 At the risk of being blocked I thought that video from the wake was hilarious. @KennyCoble @Rosie these horrific situations will only get worse if trump is elected. vote Hillary. I don't want perfect. It's too boring and dull. @LmRyle @tomcolicchio @realDonaldTrump @HillaryClinton @ajjaffe I understand your concerns but look at her foundation contributions  @Taoist_Skeptic @jackaberlin @DrJillStein @politicususa Doubt U have anything to be afraid of as Trump has been vilifying minorities &amp; women @bothsocial Thanks for the follow! Hope you’re having a terrific day! I'm girly in the sense that I always have lashes &amp; nails done but tomboy in the sense that black is my only color &amp; refuse the ruffle life @Trump_Videos she looks completely #rabid @realDonaldTrump Boycotting @DunkinDonuts till butter pecan comes back. I am furious @realDonaldTrump negative campaign of doom and gloom don't win elections Damn gud #premiere #LethalWeapon...#funny and #serious @Ashleyavitia_ don't leave me  snap: hiAleshia 😃 Sometimes The Worst Place You Can Be Is In Your Own Head.'\\n\\n#quotes #worstenemy #depression #thinktoomuch i had a hard time falling a sleep and woke up several times because i was afraid of bugs crawling on me and i ended up waking up with a bite Gloriosa Bazigaga on #Rwanda work: 'I lost relatives in genocide but 15 yrs of peacebuilding has given me optimism it's within our power' My heads still in Ibiza but my body is sat at me desk at work #depressing I hate having ideas but being too afraid to share them 😔 I feel so blessed to work with the family that I nanny for ❤️ nothing but love &amp; appreciation, makes me smile. @eileen_davidson on RHOBH, you just do not want to assume an affair while you were married so you criticize @LisaVanderpump!  @JoshuaLenon I trust you know that I appreciate your willingness to explain the details, and my attempt at levity is just that. @bobambrogi @British_Airways #lost #bag #stillwaiting go home in2days. DM'd you my info and have rung 9times a day. What more can I do? #wheresmybag I'm done with your piano, blues playing, smooth talking ass. On to the nexttt What's the most important thing you need to accomplish today? #onlinemarketing #solopreneur #start up #success I offend u cluck cluck cluck, wolf wolf wolf , chirp chirp chirp is all I ever hear. my mom recorded nightmare before Christmas for me 😍😍😍 I LOVE IT 💕 Good night, Twitter world! Wish you all good sleep / productive jovial days! :) If anybody needs me I'll be drowning my blues in a sea of whiskey 🍻 @feistyarcher -trouble,' he feigned anger and gave her a look that told her to behave. He knew she wouldn't though, and that was one of - By the way, I'm wearing the smile you gave me today. \\n#you #me #smile Intermit animated^%%%ncaa pittsburgh vs mississippi sprightly shiny bbva level peg varsity football telly scra... @ezlisteningdisc it doesn't offend me but it's just,,, Weird. @BartholomewD It's -terrible-! We're going to the local fish/chip place in Kirribilli  Baaarissshhhhh + sad song =  prefect night — feeling alone I haven't watched my favorite youtubers in months and it's honestly made my depression so much worse @MrsCassonC @15_jordyn WAS THERE A CLOWN IN YOUR NEIGHBORHOOD?  #creepy #EnoughIsEnough #nana 4 hoco bc my dream since freshman year awe 😙❤❤❤ @thecandeyman Wish I was a kid again. The only stressful part was whether Gabriella and Troy would get back together or not. #hsm2  When you forget to mention you were bought dreamboys tickets 🙄😂  Think Val might be going this week. I'll have to take the rest of the week off work to mourn. I'm sure they'll understand. #GBBO The fact I haven't had to wear a bra for a week and knowing I'll have to start wearing one again after tomorrow is depressing 🙄🙄 @FacMagnaAmerica  #CureForInsomnia And the left said WE were all doom &amp; gloom. The Trump Train is so much more fun! Look forward to the detours because they bring delightful surprises. #lifequote #delight # ISIS REFERENCES SCRUBBED?  Federal complaint against suspect in NYC, NJ bombings appears to omit terror names in bloody journ...  #news However the agent was inauthentic, my sister still loves me, &amp; I'm still alive. So I guess it wasn't that bad. #socialanxiety  #LMFAO @MSNBC 's #racepimp Tamron Hall used the words 'fscts' and 'MSNBC' in the same sentence #hilarity #libtard #biasedmedia #neverHillary a vote for #killary is like sticking a knife in a toaster  #MakeAmericaGreatAgain TheNiceBot: WSJNordics You make the world a more joyful place. #TheNiceBot #الخفجي i'm doing laundry and watching that 70's show with a bunch of strangers.  #birthday #to #me Smile at people and see what happens.  I think you'll be surprised #smile more #surprisepeople #influenceinternational Im not a #nervouswreck, Im a #nervous #pileup. #GoingCrazy #HelpMe #Insane #Antisocial .@Harry_Styles I hope you never go a day without something to make you smile. You deserve all good things. Please follow me?\\n❤️💛💚💙💜\\n311,553 @BBHOH #terrible Paul so deserved that win!!! #bbfail one month til someone's bday and i think it's time to flaunt that I got them something pretty awesome #revenge I wanna see you smile I don't wanna see you make a frown Oh goodness I'm loving this rainy  day. It's a head down, #creative cap on, &amp; get #lost in your #thoughts kind of day 💭 ☺️ #art #create #biz @SueWallace78 peanut butter???? You some kinda pervert?? #awful Recently changed to @firstdirect and its the worst service I've ever encountered nearly require DNA to access anything. #awful 😩😩😩 Are belittling kitty straight a service? provoke lift aboard!: Wycelv @DaltonRapattoni sadly i have to go to bed now don't announce anything while i'm gone thank u i love you 630am meeting Olympic House #10golds24 .  #neverquit #believe #dreambig #TeamTTO #going4gold @CI  I don't think Monalisa has respect for anyone but herself! I think she'll ruffle a few feathers. #TheJail Dear future big brother players, just chase dick all season and you too can win 500,00 dollars and an Sti #bb18  @Alanafergusson snap meee Just wish I was appreciated for all I do! When is it my turn to be taken care of!! I want a break!! #tired  Walk right through them! See way past them, and don't even hesitate running them over. Are you serious?? It were during the past's mistakes- similar to terror was pretty remarkable. bad news fam, life is still hard and awful #depression #anxiety #atleastIhaveBuffy @sueblue35 @nsoz7 @immortalbulldog huh? We have a sprint coach? We're the slowest team in the comp. Talk about robbing a living. #outrage When will the weeks full of Mondays end??  im what a 90s tv bully would call 'a nerd' but i would rather shove one thousand nickels into my right earhole than go to new york comic con @philjame5 @spoke_bros wow! that looks bright Misery loves company. The church ought to be a place where it finds none.\\n-Pastor Kris Theobald #joy  @ImpugnValkyrie *I frown and cup your cheeks in my hands after you step aside.* Angela I care about you. And I don't know how else I can - @Coyblake6 @ChloeCramphorn hahahaa you know coy! @NHLstoreNYC I'm cheering for @TeamNA_WCH and @TeamEUR_WCH #NHLNYCSweepstakes One way ticket to the blues. @DemPhillyEagles @StonedPhillyFan @CraigfromCincy don't ever compare those scrubs to ben..he'll shake off your whole DL and throw a td #7 Blessed are those who mourn, for they will be comforted \\n                                              Mt 5:4 Lmboo , using my nephew for meme #hilarious A hearty welcome to those who followed me. Don't join @BTCare they put the phone down on you, talk over you and are rude. Taking money out of my acc willynilly! #fuming Texans played horrible.  Bad play calling, bad protection of the ball, bad coaching, bad defense, bad overall performance. #Texans  @UnitedFrontRev @JuanDeznuts @LucidHurricane_ sex offense happens across ALL races, cultures, and creeds &amp; they should be castrated @Avanquest i have unsubscribed 3 times from your spam emails still coming? STOP THE EMAILS #avanquest #software  god, Facebook's design has started to remind me of MySpace in its heyday Positive thoughts on these gloom cloudy days Went n a bodega 4 incense lookd @ the sis behind the counter &amp; it was like a mirror she said where u from I said here she said no originally When you've still got a whole season of Wentworth to watch and a stupid cunt in work ruins it for us 😭😭 @__KirstyGA #raging #oldcunt @andrewspoooner wouldn't cross the street to piss on its server if it was on dire @mik61scot @longshankseddie @ROSAZAMBONINI @YouTube I thought it was because she once sunk her teeth into something that's meant 2b sooked I need a syfy series to watch I literally have nothing to watch back to back. I already watched #heroes #lost #jericho #fallenskies  etc etc @ImpugnValkyrie *I frown and cup your cheeks in my hands after you step aside.* Angela I care about you. And I don't know how else I can - Use your smile to change the world. Don't let the world change your smile.' #quote #actorslife #smile #love #hardworkpaysoff #fun @LynneGarrison yeah, I've only seen that floated online as a theory, it was probably made up by a bitter stan. I ignore pets v vets crap too @khloe_speaks sad music @eugenelaverty @WorldSBK all the best Moto GP is loosing a very talented rider  should I #start posting #photos? I just love it when people make plans for me without actually including me in this process  Watch this amazing live.ly broadcast by @brooke_bridges  #musically Does she really need to pout all the time - getting on my nerves #GBBO @EmmyMitchell_  hahahaha you're ridiculous!!! But thank you a joyous evening xx ... flat party and I instantly get bollocked about it.  Oh I get i see it's #TexasTech playing tonight not the #Texans #TNF #texansarebad #terrible @_jamiebraidwood haha, horrific is all that needs to be said. Glad I'm away to Spain on Sat so missing game 🍹🍕🍺☉☉ @nw_autonate \\n\\n*She held the back of his skull, smiling into the kiss.* I want the smoky clouds of laughter to swim about you forever more.. Decide to stop being afraid. To just stop. What are you now free to do?\\n\\n #brave #free #honest #healthy  #life #living  #love Now they fret about scuffs. I’ll take scuffs (which…come in) for a phone I can use wet handed or drop in a toilet any day. The more videos @PanicAtTheDisco  post, the more i am convinced i might should not have done that #fear #Brendonati On a side note if you are self medicating ? That's not helping that is burying the anxiety that WILL manifest in another way. Heart disease? What a shamefull, unequal, dangerous and worrying world we live in nowadays!  #terrifying #Charlotte #terrorism #shitworldforourkids You have to find a way to top yourself. #glee @Taniel @LOLGOP That'll be gosh darn terrific if they only check the brown people. Shucks, let's make a law to say only brown people. @CNBCFastMoney Harwood gleeful at these new numbers, bet your money on this reporting...look to lose it...@HillaryClinton liarthiefscoundrel @DMAnthonyJoseph @TheClumpany No grudge. Only truth in abundance. Thought I left that part of life behind me\\nIt's back to haunt every girl that loves me Sorry to burst your bubble but it isn't that century anymore. Welcome to the 21st century. With that draw, the scum must be rubbing their hands with glee! Typical draw for the Woolwich lot!!! #jammygunnerscum When anger rises, think of the consequences. #quote #wisdom #anger #Talking about our #Problems is our greatest #Addiction#Break the #habitTalk about ur #Joys#quote #optimism #problemsolving #behappy After Nawaz Sharif's speech on terrorism, Kejriwal is expected to talk on Governance. @AimiSyafiqahR go check up with your bf. He'll give u strength with just one smile. #TOPno1 “Be #positive, #cheerful, #grateful and expectant.” @NightingaleEarl  #Success #Leadership Chris ate all my mac n cheese so imma eat all his taffy  Hell hath not fury like a hamstring cramp. #ouch @luckiiCHARM_ Luckii, I'm changing in so many ways bc of Him!! It's a scary but joyful feeling, making me so strong. Tonight's #DragRace #AllStars2 episode GAVE ME LIFE! Yaassss queens! #teamalaska #teamkatya  #bwahaha Had a great time at Skywalkers open gym tonight! Come our every Wednesday from 7-8 in Hillsboro and train with us! #opengym  #tumbling But i'll be a pity. 🐑 #lively Your boy' is having a nightmare @VivaLaSergio i wanna passion and fear @morgannbroom yes ❤️❤️ &amp; cheering homecoming game! @HillaryClinton Yeah U gotta make them HEEL. I know U need their votes so U have to wait. But when U LOSE-they're really in for your wrath ! @MiSSLiNDZO no. 😭 the last two we were out-bidded. So we got kinda discouraged so now we are taking our sweet time. The market is stupid tho I'm afraid she's the goat you libeling people? #afraid #goat #libeling Candice's standing pout face aggravates me every week @TehShockwave turn that grumpy frown upside-down\\n\\nYou did something next to impossible today Apparently all the money in the world can't buy a single person to tell you not give your own waist a hearty two-handed pinch while onstage. *Still waits for Yang. Guess she really needs her sleep or something. Kittens feeling kinda dejected right now.* #Offline @AskPS_UK not received verification email, asked for it to be resent 5 times still nothing. If you sober better roll another Dutch or if u don't smoke nigga better pour another cup 🍁🍾... @BlizzHeroes I feel horrible dealing with 'players' in HotS. News on what you're doing about it? Getting stuck with uncooperative people! Extreme sadness Follow up. Follow through. Be . #success Being a veteran just totally got me out of a ticket. I'm elated right now, close call. Do not be discouraged by a slowing sales market. This will test your business model and pinpoint #strengths and #weaknesses.' @Ken_Dunn i was angry. Quinn's short hair makes me sad.  When the sadness leaves you broken in your bed, I will hold you in the depths of your despair, and it's all in the name of love 🎶 Show your new job you're not #afraid of new tasks. Take on a #project, be brave, make an #impression. #WorkTiveTruth Eating an egg is grim, you are eating the material embodiment of a fart and an unborn chick @alphavenger all chuck seasons, she had that one bright spot with dan, where she was allowed to be smart and kind //and// fashionable @rihaBabyJ Aw no problem. I just felt like speaking because I felt the same before and I want you to overcome it and not be discouraged. :) Confiaejce comes not from always being right but from not fearing to be wrong.-Peter T. Mcintyre ... flat party and I instantly get bollocked about it. #fuming @kcbbcxo don't get discouraged! it's early on &amp; it can get overwhelming. keep reading &amp; use cue cards 😊 it'll get better!! im tired of people telling me the worry about me when in fact they probably never gave a fuck about me Love how cheerful that woman is about storing someone else's furniture for an eternity. I'd have sold it by now. #GrandDesigns Don't join @BTCare they put the phone down on you, talk over you and are rude. Taking money out of my acc willynilly!  @mcdermo11 @rogerc32 u gave Laura so much constructive criticism she blocked u 'Lazy Give Up Now No Hope Retire' same with Heather  Now they fret about scuffs. I’ll take scuffs (which…come in) for a phone I can use wet handed or drop in a toilet any day. @NandosSA just received order from @OrderInSA &amp; the chips are under cooked &amp; half raw!!! Usually best part of the meal #notcool #terrible Rewatching 'Raising Hope' (with hubs this time) and totally forgot how hilarious it is 😂 #HereWeGo God we need a new goal keeper! They’re both horrific. @globemartyk 'drunken patroons' make this whole situation much more jovial though. Follow me in instagram 1.0.7 #love #TagsForLikes #TFLers #tweegram #photooftheday #20likes #amazing #smile #follow4follow #like4like #look … If Monday had a face I would punch it #monday #horrible #face #punch #fight #joke #like #firstworldproblems #need #coffee #asap #follow @Hails_Berry8 @sajedhariri23 varsity pine riding @TetraVariations I don't need a mask, but I'll gladly make a donation to help in ur name! Is it Mr. TY Rex or first initial only? #serious Probably the best OT period I've ever seen. Absolutely exhilarating. #WCH2016 #TeamNA @Max_Kellerman  it also helps that the majority of NFL coaching is inept. Some of Bill O'Brien's play calling was wow, #awful! #GOPATS @dcexaminer Democrats and their voters have zero tolerance for honesty. They associate honesty with anger and hate. @courtneymee I'm 3 days sober don't wanna ruin it @cherrivarisco @audubonsociety Oh yes, males are colourful and the Females are dull, so that they can blend in to their environment. She gave a playful wink, taking the goggles off her head, swinging them around her finger. 'I would never~' @VerminEngineer @KWAYNTjoia it's exhilarating @officialShaky 'Operation Echoes' is gathering momentum ... #tense #nervous #feelsick #excited @GSchwartz_ it wasn't a joke .  Nature looks a lot greener on gloomy dayz @GrimsToyShow grim what the fuck going on with these dame fucking clowns takeing the gameing channel if I had a way to nj I would delete Panda eyed jaunty after watching jaws until late! Thank you disney themed episode for letting me discover how amazing the @BlackishWriters are! #hilarious @BosNaud so scared to ruffle feathers, he resorted to writing in cryptic code. #UncleCamsCabin @PeanutRD @MelissaJoyRD @SarahKoszykRD @eat4performance @rustnutrition @jenhaugen  hey #sparkling is the word I just picked 4 my biz card i miss the guy who always make me sulk @DefiantSagacity — Hermione in a sort of thank you before sliding his own plate away from him before frowning at Ron as he continued to — i lost my wallet lol.... again.... @NM_NickNocturne Incentivise people to roam the Internet being morally offended, as if they didn't do it enough already. @DSDambuster just finally started #homefronttherevolution, what did you all do the story and gameplay??? #terrible #wasteofmoney I miss doing nothing someone I care about and attacking their face with kisses. #foreveralone #bitter 😩 testing  these grown ass lil boys yeah i can't take them serious. Never let me see you frown @RobRiggle @joelmchale @NFLonFOX I still can't get jimmy garoppolo out of my head and it's been almost 3 weeks. Thanks a lot! #hilarious @quiettcricket can you maybe break it down into smaller bits? or space it out so it doesnt seem to daunting? Can't believe I've only got 2 days off left 🙄 #backtoreality #raging What the fuck am I supposed to do with no lunch, no dinner, no money and I'm off to work #furious #hangry #day5 @AllyTheRipper @ProoF @SpaitoGaming every horror movie that frightened me as a child i.e. 'IT', Halloween movies all of them, nightmare on.. broken policy' #blasio &lt;&gt; #trump #giuliani 'broken windows' all part of 'pecking order' #bully politics #america RESIST #motto @ExaltedCaptain reality in the form of endless tragedies. She didn't know how to react at first, being too frightened to repeat another-- Go follow #beautiful #Snowgang ♥@Amynicolehill12 ♥ #Princess #fitness #bodyposi #haircut  #Whitegirlwednesday @DKTaylorWriter I thought that was funny, too. But maybe not such a coincidence. Green must be the official color of optimism. Why mfs so bitter @LakersTakeover it ain't that serious. #HOUvsNE  #igotbetterthingstodotonightthandie The labor of love is not cheap or inexpensive, it's the time spent earning it. #lackadaisical #dreamer Inner conflict happens when we are at odds with ourselves. Honor your values and priorities.  #innerconflict #conflict #values Mate the thing I get excited about in my profession are mad. A client said she opened her bowels, I'm rejoicing There's always that one song which makes you turn of the radio, as you'd rather sit in silence 😡  First a coat. Now a pair of sunglasses. Next it'll be a limb. #lost @BigLepley @angela31694996 @TheIndigoArrow Want to start a biker gang together when the GTA Online Biker DLC comes out? Thank God she warned me before I walked to that sink cause lord knows I would've been sick to my stomach and would've wanted to sue lbvfs And she got all angry telling me 'but what would be doing a 40 year old guy looking for a girl like you' and I felt #offended Follow me on Snapchat 👻 Carlabtst15 #snapchat #snap I hate my lawn mower. If it had a soul, I'd condemn it to the fiery pits of Hell. When you're on a train as its pitch black outside and you have no idea where you are... #travel #whereami #lost #adventure @midnight #EndTrumpweek please, it's #depressing me. When you have 15 doe run the opposite side of you 🙁 #depression Riggs dumb ass hell lolol #hilarious #LethalWeapon im literally shaking bc im nervous and bc its fucking cold oh how i love life Hey folks sorry if anything offensive got posted on here yesterday my account got hacked. All fixed now though. I hope :-/  #annoyed @TootingCommon stop!!! Don't make me laugh when I'm being sad. #rocklandcounty get to ravis in suffern, ny. Great food, new #chef, terrific atmosphere. Say 'twitter' to server and get free #appetizer @rickygervais my first time in Slough so checked out the new station floor #sad #LifeOnTheRoad And by the way, Takeru's eyes sparkling while eating was like the cutest thing ever. Watch this amazing live.ly broadcast by @katyy.mae  #musically @aidankerrpol I think you should do. Get the fashion police involved. #shocking @DL_Hart @DonnieDollars @AaronBiggsPro @WWENoWayJose @cwfmidatlantic How did that chop feel? You still feel the sting of it? Looks brutal! @AdamCimmering Boro are at the OS before then, they could give the stewards a good work out. Chelsea will get about 8k, will be lively. @BigDaddyx47 awe I'm sorry! I have 2 dogs 3 cats &amp; a snake @MEAIndia: Virtually every statement by other countries at #UN has referred to #terror as main threat to peace, #Pak still in denial. @UnknownAndYoung — a low growl escaping him. Oh oh. Watch this amazing live.ly broadcast by @rosannahill  #musically @RogueCoder250 We are in so much trouble!! I don't think the Rev will see the funny side of our project. #nervous @metrotrains why is there no disabled access at pontefract monkhill?  I dislike people who get offended by the littlest shit . i is sad {Strong hands moving to firmly grope each of @WhimsicallyWild's thighs, squeezing as her digging nails extract a growl from me.} The word happiness would lose its meaning if it were not balanced by sadness. @_stfukohle it's ok champ you'll make it I'm cheering you on from a far i've seen the elder watching me during my community hours and i honestly don't have an idea about what my assignment will be. #apprehensive @TheSandraGal Glad to see that you're having fun in the sun. Water sports are always fun, challenging, and exhilarating. #happiness #beauty @LickMeLucas ...I'm waiting for you to figure out I'm like... from 0 to 100 real quick with the irritation. I can't mourn Kid Cudi cause we have Travis Scott... @Jchawes What is your favorite #horror movie? #ghosthunters @Aurena1701 @AngryOrchard he didn't sting me luckily. He just flew off happy and drunk. Lolololol Go follow me on Musically @budderlordk1ng I am making a lively. Come and join BFFing and Following ;) See you there! @SapientSoldier timid but determined version of the rabid beasts beyond the land. Growling beneath my restrained breath, I //rip// myself -- Thursdays at 6pm Vespers &amp; Meditation #prayerful #plainsong #multisensory #candles #incense #psalms #music #silence #faithful sing or listen @LucidBurrito Doesnt do it to anyone else, he literally pulled me into the office cause someone complained I spit in the sink yesterday @myaeggs I can't get a better look at her bc I'm too shy to make eye contact ;-; @PatBlanchfield so you mean “like Uber but for despair for someone other than the driver' A night where depression is winning... #depression #fml #help Democracy doesn't work\\n#mob #mentality #mass #hysteria #fear #mongering #oligarchy It's easy to hold a grudge harder to let go. these confident bitches should scare you the most How can you blame the manager watching these players play? It's abysmal. Our team are dreadful. If Jose can't save us. No-one can.  #mufc New madden kicking 🚮 Don't let the behavior of others destroy ur inner peace.' -Dalai Lama @OWNTV #healing #depression #anxiety #intuition #meditation #book #nobody #understand what #advocate mean if you do then use it #right #never be #afraid so #positive word is. I can that is #POWERFUL And it pisses me off more they killed people who surrendered. Hands up and all. If hands visible you shouldn't be fearing for your life Because it was a perfect illusion, but at least now I know what it was. #angry #ladygaga #iscalming#mysoul Wont use using @mothercareuk @Mothercarehelp again!! These guys cant get nothing right!! #fuming Bro Why pine green forget me nots are mediumpurple pickering is not lit and so on Im kind of confused.  The one thing i do right now has a great future, but on the other hand so does the new thing . #lost #needhelp I really love the customer service @LifeProof they're always so nice, helpful and cheerful ! Been working in Blanchardstown shopping centre for over 2 years now and I only figured out today where Marks &amp; Spencer's is #lost So not pumped for this interview #nervous #COINCIDENCE??? When you turn on the TV, etc.&amp; listen &amp; watch, the objective is to #CaptureYourMind with #fear &amp; #depression. #FindGODNow!!! LMAO this person must hate me so bad to talk shit behind an anonymous account #awe /: @MannyM83 @DareToReagan oh yeah. I HATE the air raid and I don't like the Oregon/Baylor offense and I'm not a fan of the ole miss one either @PeteSpencer007 Are you always so relentlessly positive? Your constantly cheerful optimistic disposition starts to grate after a while. Check out this #film Robocoq 301 #animated #shortfilms “Set a goal to achieve something that's so big so exhilarating that excites you &amp; scares you at the same time.” \\n― #BobProctor First day of college feeling nervous @bradshawjp Sweet!  Oh that cheery fucking note, good night shit heads X @Spotted_H0rse I'm spry, though Positive #psychology research shows salespeople who score in the top 10% for #optimism have 88% &gt; sales than those in top 10% for pessimism. @thatomahapa the best revenge is to get yourself a good woman and move on. Leave her and her hairline to figure themselves out alone For a moment I found myself smiling @Shahid3011 don't tweet shit like this! It'll come back and haunt you like your other ones 😭😂 I am #real #sjw, I will not let #america down\\nI have found us, now go and get us\\nI let it out and I let it in\\nI #rage I #lol\\n@SergioSarzedo me taking a picture by myself: *awkward smile*\\nme on picture day: *awkward smile*\\nconclusion: stop smiling ;'(\\n #pictureday2016  #ornot @HillaryClinton @TheDemocrats It's ok 2 be disgusted or dishearten with presidential race but don't let that stop u from voting IT MATTERS @billburr DirectTV is the best. Apparently you just sit in silent anger. 'Don't press or say anything' Round 2  #pcola @UKLittleKitchen Defo a hearty root veg gratin. Nice comfort food as Autumn kicks in felt a bit shit getting a very high blood sugar then i remembered it's my first one above 15 this week which is incredible for me! #happy @TiburonChamber plus a hearty pour of #yachtrock by #mustacheharbor ! Watch this amazing live.ly broadcast by @elise_awsome_11 #lively #musically @JoeFahezy I could of told you that one lmfao 😂 Then old niggas get wasted and start fucking around Late night #thoughts. Feeling #restless. It's never the end / When the moment is dire. / A small spark of hope / Can relight a new fire. Feeling worthless as always #depression @HuffPostUK  NO greater wrath than a woman scorned. So Rangers v Celtic ll #revenge He: u r beautiful\\nShe:i hve a bf\\n\\nSame as \\n\\n#India :u guys r #terrorist\\n#Pak:we have #nuclear #missiles.\\n\\n#IndianArmy #terror Crossword puzzle is oat meals solitary respecting the flat out portentous nutrient rootstock re scruple failur... Isn't the whole 'it's been hijacked' argument the same argument used to ban or discourage the display of the St George's Cross? Shame @LBC When your rewatching glee and break down in tears all over again. 😭😢  @BTS_twt people have so much negativity filled inside them but im always happy that in such a gloomy world someone like u exists Namjoon Indignation: [whispers to date during that terrific Lerman/Letts centerpiece scene] That's his overwhelming sense of indignation. @ManUtd Rooney needs to come off! Absolutely dreadful! 🙈🙈🙈 class goal from @carras16 @carras16 showing why he should be in the team!! Michelle is one of the worst players in bb history #bb18 #bbfinale  I got diagnosed with severe-extreme depression and I didn't know there was a difference between those two lol @davidpreece12 @FitbaHacks Great defender, terrible positioning. Didn't know where he should be without Russel shouting at him for 90 mins @jndtech horrible. sparkling or still? #terribledebatequestions Sometimes The Worst Place You Can Be Is In Your Own Head.'\\n\\n #quotes #worstenemy  #thinktoomuch And there you go. After that wild start, wouldn't be surprised at all if Sweden wins this game. Too much experience there to panic. Hopefully I'll get this Best Buy job, and officaly #start my #streaming #career , working towards doing something I love #1DayAtaTime Feeling worthless as always  Trumpism likewise rests on a bed of racial resentment that was made knowingly and intentionally, long before Trump got into politics. @johnaugust @clmazin I was so looking forward to @ABCDesignated. Then it opened with a #stuartspecial. I literally yelled at my tv.  in my dream....They were trying to steal my kidney!!! #nightmare #blackmarket #whydidiwatchthat Librarians scare me A @FirstBSA not turning up? Why am I not surprised. Late for work again! #fuming mattmilne76 Thank you for letting us know!  Please do not hesitate to contact us in the future, if our assistance is needed. Thank you! Watch this amazing live.ly broadcast by @haythatjamile8  #musically which always leads to the kind of hilarity average people will never experience - especially during breakups. @MS_Hiddle_Batch no the flavour of Danish is far better but Danish pastry can be daunting to make! Accept the challenges so that you can feel the exhilaration of victory. -George S. Patton @KMunie7 @KaranEsch Helluva lot more animated than they were for the actual game &gt;.&lt; I don't know how people can binge watch horror films ...ALONE!😓😰 Every year I go to universal studios to horror nights as a 3rd wheel lol 😊😂 If you truly want more of God in your life, it requires letting go of some of the old things, to allow new things to flourish. #stop #start @coopah Worst than going to the morgue to do a positive ID. #horrible Reuters I start work tmrw yall, i'm nervous lol Paul forever. Paul should have won! Paul played such a better game! #BB18 #angry @ThomsonCares Sam- yes we have! Not helpful at all! We need this sorting ASAP! You keep promising stuff that doesn't happen!!!! #fuming @jjskeffington @foodbelfast I dread to think! ^^^^^\\n//Don't worry if your character is already taken. The RP I'm looking for is a non couple forming RP. Just a fun loving haunting.//\\n^^^ My blood is boiling Who likes #werewolves and #horror and #surfing? Because BREAKER over on @readstela has all that and MORE. Gonna get some acupuncture today for all my damn anxiety 🙃🤕 Just had a massive argument with my alarm today... I didn't want to get up. I don't know how we're going to fix this by tomorrow morning 😕 Don't let the behavior of others destroy ur inner peace.' -Dalai Lama @OWNTV #healing #depression  #intuition #meditation #book #food  #деньги #smile   microsoft_.net_framework_4.5.1_full_plus_by_gora I mourn the creativity lost. Always doing the EmotionalHedge™ w #WPS\\n\\nI'm elated about start.  Have I mentioned I'm on TAMU -6?! I have 1000 rabid grizzly bears I'm going to scatter in neighborhoods all over America.\\n\\nThey're poor refugees!\\n\\n#InYourNeighborhoodNotDC It's the #FirstDayofFall and I'm so happy. Sipping my #PumpkinSpice flavored coffee and #smiling! Happy Fall everyone! #amwriting #Everything you've ever wanted awaits you on the other side of #fear . #IfIWasTheOppositeSex #AskAMan Yo there's a kid on my snap chat from LA &amp; they get high off helium gas lmao.... I am like why the fuck lol LOL! @TheFrankJLopes was just awarded the “F” bomb trophy on #AutoDealerLive, @RealMatKoenig :) #serious When you arrive at the office the day before your first ever festival and the Internet is down  I wonder what would happen if I were a father. #weary I like cycling because I get to intimidate people with my powerful calves &amp; horrendous tan lines. The object of literature is to make man a wiser and happier being. The poet makes us happy because he tells us how we may become so. @knology has providing customers w/equipment that doesn't deliver speeds of internet services that they have been charging.  #scam @Kim_is__bored exactly what I have been saying on fb.. #bitter Never a dull moment when talking to Nell 😂😂😂😂😋 It's dark @thetroche94 @ramiro_cedeno yeah if you want to become obese it is! 😅 I can afford it so I don't think it's that serious haha -- haired man strides close and watches as the Major flinches away from him, the reaction draws a growl from his throat.  -- (@DocHQuinzel) Anyone else find @Microsoft 'anniversary windows 10 update 1607' a Complete  Connivers blind to existential fury Feelings got cheated when I mistook the sparkling ribena to be the normal ribena...... categ than GEN &amp;OBC it cost only 100 or nill .i am not against the reservation and i support it,sir minimize the fees #bright fut @PMOIndia @sidviyer uff!! Look at your Arsenal fans cheering for every goal against United. haha What a great training course, lots of photos, fun and laughter. Photo's will be up soon #Boostercourse #fun #laughter The #500thTest match would have be a T20 or an ODI if @virendersehwag @B_McCullum42 been in their National Colors #nightmare #hitter  @BCCI A Lysol can got stuck in spray position and we're all slowly suffocating from the trash can that smells like a Febreeze factory. #panic First weekend of fall; let's see if I can stay disciplined to this seasons goals. #fitness #running #sober #Mindset #firstfriday #family I lost a couple niggas I want revenge so put me in coach @edquinn63 how can you even forget to pick ur fave child up from school  i stopped watching gotham cause they dropped off tabitha and barb's relationship and made her pine after the main Please bear with me, I'm not Twitter savvy😝 in real life I'm a Facebook person. Help me gain followers 🤓#blog #selfhelp #depression Absolutely fuming that some woman jumped into my prebooked taxi and drove off 😡 Unbelievable takes 10 minutes to get through to @BarclaysUK then there's a fault and the call hangs up #fuming #treatcustomersfairly ESPN just assumed I wanted their free magazines  @DaniQays @AJENews ohh.. so here comes sense from terror supporting stone pelting vandalizing ppl who gather b4 protests to announce ... Marcos rojo plays for man united !!  Just let that sink in !!! @kingvee_ don't provoke me to anger Shoutout to @VZWSupport for ruining my iPhone 7 order!! #horrible Jesus wept! Another RNS from #rusty @metaltigerplc quote 'Price sensitive news, Price Sensitive news' etc etc The #Ramping here is  Hope was an instinct only the reasoning human mind could kill. An animal never knew despair. I'm too sober time to get shit faced @kencurtin they might get Donal óg sure! They won't have him in cork as he's to fiery for dopey frank &amp; his cult It's really alarming when an adult male calls their father 'daddy' Of cheerfulness, or a good temper - the more it is spent, the more of it remains. @LBardugo Start w/ the 3 songs in Blue Neighborhood\\n1) Wild\\n2)Fools\\n3)Talk Me down 😭😭for #Wesper\\nAlso,\\n4)Too Good.  #serious kaz/inej feelz Aberdeen st Johnstone, let's see who can punt it the furthest  Do not grow weary of doing good' a lasting legacy @billclinton @ClintonGlobal #CGI2016 #thankfulmoment @ProjectThankful Before revenge you feel good after revenge you feel worse 💯 @HillaryClinton @GreyTheTick But even if I jumped through that hoop, it just takes one irate netizen to decide me playing by 'the rules' isn't enough. Not untill today has anyone ever said to me they remember what I had on over 7 years ago when they met me n liked me since #cutealert  @SunandBeachBum 'you people' infuriate me! Im so angry 😂🙃 A wise man told me that holdin' a grudge is like\\nLetting somebody just live inside of your head rent free Oh, I should just 'get over' my #depression and 'be happy?' Don't you think I've tried that thousands of times already? You're not helping. @Wild_Lucario_ *chuckles* did I scare you? Sometimes I can't believe I've made it this far.169 days!! I threw out my demons n got #sober #clean, n started #recovery.#Sobriety is #2. Hey no turn over after a kick - way to go Texans!  Way to go! #Texans  #noheart @lawson__lynch my kinda girl pleasing the dick right😍😏 I dread this drive every Wednesday 😩 Being forced into a fake hug by someone who didn’t flinch to get litigious with you in the past - #awful 😖👺🙅 Dear everyone at HSSU, stop walking with your phones up so I can smile and wave at you and you can smile and wave back :( @jaymohr37 droop saw naked wrestling and asked 'What if I get a hole in one?' #jaymohrsports she gone make me wanna start that new shit today 😂😭 I have another test tonight  Don't get discouraged when simple minds don't see your vision @AphoticSanguine —but be a little playful. \\n\\nHe hesitantly pulls away, just enough so he could get words out, lips brushing against— Prayers &amp; Protection to our brothers and sisters fighting in #Charlotte #rage #against #machines @katiewhiskey_ @bradnarok candy corn is the greatest candy in the world when it comes to being objectively terrible @cc_yandian @HillaryClinton her team must draw from a hat for daily personality #drugged  #yeller #quiet #screamer #😂😂 @politico If they say the words radical Islamic terrorist, will that somehow make the terror groups drop their weapons? Ooh #hygge, candles, jasmine tea &amp; #GBBO #happy I am about to be a coward and I feel terrible. But I can't even face this 😭 @MHChat #mhchat Childhood experiences inform adult relationships. We have associative memories Not a question of ability to process #sadness Day 9 and I am elated because I'm taking PTO tomorrow so I'm doneeeee. But: We have left #Maine. #sadness When you're prof suggest @Pharrell and William James may be unlikely dialogue partners and then plays the #happy video #WeAreCST Back to forest drama -\\nfrom my #Forest #music - series, 2016\\n#nature #dark #art #photography #Finland #EpiPen: when public outrage occurs, expand #PAP Patient Assistance Progrm, coupons,rebates .@GOPoversight @OversightDems on #Mylan #Epipen lol! no mention of pak PM or even his speech on any international news channel and pakis are rejoicing as if the world stands with them talk about a mood pickup i went from depressed to elated so fast Maybe I'm too cynical for my own good, but I'm afraid, this is the only way to understand Nigeria. @MxJackMonroe I couldn't get on with it either. Bits started drooping that shouldn't droop. GP said mooncup alone to blame. I am beyond mad that I lost track of a brown spider in my brown carpet. Where did you go? 🕷 will be sneaking up on me  So Mary Berry, Mel and Sue have gone with their principles, and @PaulHollywood  has gone with the fame and fortune. #GBBO  #depressing @ChrisBooker @ThePerezHilton On PHP54  and though the Kardashian stuff goes over my head, you're both hilarious, like gleeful little boys 😂😂 Regardless of your age or station in life, it all comes down to one simple truth: you just have to #start. - Jon Acuff #inspiring #quote Omg. You've got to watch the new series 'This is Us'.....wow. Best tv show I've seen in a long time.\\n#tears #laughter #moretears HMS Pinafore' time.\\n\\nI need some mirth. Howl at the moon with @HorrorSociety at @FatCatChicago next Wednesday the 28th for a FREE double feature of SILVER BULLET and CURSED  @PanicAtTheDisco hey, y'all announced it like immediately after I asked. Nice. Thanks y'all  A pessimist sees the difficulty in every opportunity; an optimist sees the opportunity in every difficulty. \\n― Winston S. Churchill #quote i started glee from the beginning n i'm crying they were such babies i love my children This week's Massacre Theatre pert by @LarsenOnFilm is the first one I can think of that requires subtitles.  How could such a crooked,stuck up,delusional,dim&amp; #dark hearted dud be surprised losing&amp;prob also ppl won't let their crimes drop! #nwo imo Someone needs to tell Candice she'll be stuck with that shitty pout if the wind changes. #GBBO Standard Candice starting the show with a pout #startasyoumeantogoon #GBBO What if.... the Metro LRT went over the Walterdale?!?! 😂 #yeg  Sometimes I think the British political landscape is desolate and then I look over at the foaming wasteland of the US and think we're OK #Talking about our #Problems is our greatest #Addiction\\n\\n#Break the #habit\\n\\nTalk about ur #Joys\\n\\n#quote #optimism #problemsolving #behappy PASTOR - 15 FEET away from shooting victim during protest says he is skeptical of official story.  #CharlotteProtest #CharlotteRiot He replied to my comments 4 times now i'm shaking omg @OnyxFlare25 She chuckles, shaking her head. 'No...I just have a really vivid imagination, I guess. It happens when you meet someone&gt; Gas prices are hilarious. Cause they're simultaneously super subsidised and taxed “Optimism may sometimes be delusional, but pessimism is always delusional.” —Alan Cohen #believe This room is rather dreary, but we endure what we must. @TheDTSB @trubble1127 @nflnetwork I agree but our offense was ass after the second half td score on the first drive Let's refuse to live in #fear -  #c$%t @CP24 And I hope when the police met him at the subway that they took him straight to jail 😕  @Delta stuck on runway after being diverted to Fargo. Continuously told just 10 more mins for the past 4 hours. No food/water offered #awful promise of restoration to the nation of israel...'everywhere you look blessing '..barns/wine overflow.Everything beautiful  #do_u_see Spurs radio commentator referred to Mauricio Pochettino as 'MoPo' and I felt a sudden surge of rage. @Nataliem55 sadly, war has often been the factor that jump starts US economic growth @CBSBigBrother never bring back Meech and Bridgette. Crying because someone looks at you? Ugh, and Bridgette. #bitter @emorottie true sonicsatam was serious and a bit dark. Aosth is like super goofy and Looney toonie to a degree Saga: When all of your devices and teles fail just in time for bake off  #gbbo Watch this amazing live.ly broadcast by @izzybuzy365 #lively #musically @Vixen85Webster yep &amp; I stayed in pjs all day too lol x @Rocks_n_Ropes Can't believe how rude your cashier was today when I was returning an item!  Your customer service is slacking. #terrible @LondonMidland #dobetter only two carriages on 14:49 Birmingham to Hereford no room to stand anymore Friday commute #unhappy her; i want a playful relationship\\nme; *kicks her off the couch* @RiotzXVl papercuts sting and stub ur toe last for like 10 secs Nawaz Sharif's UN should start #सत्य_बोध_यात्रा as after all his #UNGA speech has awaken the world about their role in sponsoring  That's me for the evening, though! Way too lit to finish these off properly without causing some serious mischief. Houston might lose a coach tomorrow or by midnight.  #yikes #offense? No episode today! Whilst editing there was a power outage! We will rebuild...tomorrow #podcast #lost #editing #fail #tomorrow Hey u never know, Channel 4's version of #GBBO might actually be quite good. A few adverts aren't the end of the world.  I'm such a shy girl🙄 This maybe a new start but it will always be align with the end.  #forward @madisenrb she's so sweet &amp; playful 😍 @EagleGiles23 @tgilmore_92 what I miss?  @Montel_Williams If this ban goes through, it will harm so many people, disabled veterans, people who have #chronicpain, #anxiety #iamkratom @kitanoye Hell is hot and boiling, isi ewu I'm just still . So happy .\\nA blast In #Bangladesh war, #US almost bombed us had #Russia not been there. What strategy for #China on #Pakistan? Time ripe to crush #terror camps so lost i'm faded I hate that a black lady is painting herself white on the internet for laughs and likes...  #BadForm #DidntLaugh As your own lives in order to complete our amazing life journey successfully, it is there.  when people hit on me i try to shake them off by talking about how i hide from communism @NessaMatthews he's perfect. But not even in that way where you sort of resent him or suspect that he leads a double life. Just perfect. @Piggiewhopays lmao! I can only imagine the frown across that face of yours. #Hilarity @ATTCares why do I have 2 wait 48 hours to call YOU back to cancel an order I JUST placed after already spending 2 hours on the phone?! #sad Some questions you get on Twitter make you want to despair. We've been so battered. We complain but aren't convinced things could be better. @HeyCaraJay I am inconsolable at this GIF in context Haven't gotten one hour of sleep... Today is going to be a fun day 😐  @faithstrust @TheeCurrentYear imagine being this stupid for trying to chirp because of some racist prick. @rockcock64 cum and despair @Jinath_Hyder I can't have alcohol on it, sadly, but it only flares up under very specific circumstances so I just need to be more careful Lost: Geelong football team. \\nLast seen entering through the banner not sure where they've been since... #unhappy #playwithsomeheart sorry Main twitter im in depress When your sister is 19 and throws legitimate temper tantrums just to get attention.. tfw you're en-route to your future :) !! @HUCJIR i'm coming for ya! #openhouse #futurecantor #exhilarating #NYCletsgo Have to say that third City kit is fucking awful. Someone at Nike wants shooting. Obama admin rejects Texas plan to have refugees vetted for terrorism so Texas pulls of of fed refugee resettlement program. Aiding #terror. @JoaquinPutoAmo vas a ir al de the amaity affliction? My husband found out there are other rabid hockey fans like me as we waited in line 4 of the 6 window stickers were for SJ NHL/AHL hockey. Egyptian officials expressed frustration and outrage over the Obama/Hillary administration’s support of the Muslim Brotherhood And she got all angry telling me 'but what would be doing a 40 year old guy looking for a girl like you' and I felt  Watch this amazing live.ly broadcast by @its.finfin  #musically @MasterTomTheDom  I hate winter, I dread it's arrival. @airvistara as always it was indeed a wonderful experience flying with you guys today #bestinbusiness #delight #happyme @JustinRow10 dude the new madden 17? Haha Step out of your comfort zone. \\nGo for risks.\\nFace things you fear. \\n\\nThis is when life starts to happen.\\n\\n#cpd @EAMaddenNFL @EASPORTS I played a game where John Elway was sacked 3x and fumbled all 3x. Is this the same John elway I know of??? #madden @astockeyWTAE @SonniAbatta she is terrific at her job, where is she headed-- I missed that? Half of Epicenter is shut down its police all over y'all I just burst out in tears this is fucking terrible #KeithLamontScott @danrafaelespn no Tyson fury beat the man who been at top for years Danny Garcia should be above Bradley pacquaio frampton i feel furious hate overthinking e v e r y t h i n g like i jus' wanna be happy pls @pbump @AndyRichter  My heart goes out to that woman for the indignity of what she is sitting through. @coltonflurry @StrangeFacesLA I cancelled by CBS all access live feeds before JC even said Vic won AFP. Paul.should have won IMO  @_stardust_3 unless your concern is people figuring out who you are for wtvr reason, I don't see why you shouldn't tweet about other things When something makes you excited, terrified, thrilled, nervous, elated &amp; like you've been kicked in the guts all at once. Need word for that It's become a verb. 'I'm gonna Villaseñor all those old contacts I don't need anymore.' #sadness @melissavcomedy #waitingforexplanation Halloween party coming soon! #turnt #ruinT #lit #firesauce #hotsauce #mildsauce #getsauced #champagnedreams #scary #haunt #kittens smiling through the stress :) :) :) :) :) :) :( :( :( :( :( :( :( 630am meeting Olympic House #10golds24 .  #relentless #neverquit #believe #dreambig #TeamTTO #going4gold Thinking about trying some comedy on youtube. Always been fond of it. Time to nut up.  #comedy #maybeoneday #hopefullyfunny #LOL @AQpk which was worse than expected and hilarious too. no one will even remember. I was literally shaking getting the EKG done lol 🙄 repentance, and trusting in Christ. It is lowly and painful, but it is also joyous, peaceful, and absolutely glorious. (2/2) @Ms_HeartAttack peanut butter takes away the sting tfw you're en-route to your future :) !! @HUCJIR i'm coming for ya! #openhouse #futurecantor  #NYCletsgo @rickygervais my first time in Slough so checked out the new station floor  #LifeOnTheRoad So now... yeah. I'm home again.\\nStill feeling mixed up inside &amp; kinda gloomy. But a little more optimistic that I'll figure this out. It has been medically proven that laughter is an effective pain killer. i have so much hw tonight im offended @JustPyroNow are you gonna do any kind of community raids when wrath of the machine drops? @kevinrouth Now that's what I call a gameface! #gameface  #intimidate #Muslims are the principle victims of #terrorism. More Muslims are dying at the hands of these #terrorists than anyone else. #YounusAlGohar @AmyMek this is so absurd I could laugh right now (if I also didn't feel like crying for the future of our country).  #wakeupcall I wish the next madden has a story mode too. Just like Fifa 17 #madden Looks like #India is finally taking #Pakistan n it's #terrorism to task.#uriattacks. Bloods boiling Chris ate all my mac n cheese so imma eat all his taffy #revenge @thedrepabon BLM was outraged by the shooting in NC the other day, turns out the guy pointed gun at police. Wait for facts before outrage You can't fight the elephants until you have wrestled the pigs. #quoteoftheday  Hey NASCAR fans. Are you going to the race in Loudon this weekend?  Why not stop by New Day Diner for a great hearty breakfast before you go @buzzlightbeard2 If you don't love yourself... Honesty is the best policy  Today's alarm shows how unprepared professors and students are when it comes to emergency protocols. We don't know where to go @CalStateLA Sickness bug!  @_j_sa_ switch out Steve Carrell and put in Kurt from glee then it's accurate @Melanie_Pierce @HunterHayes awe ain't he a sweetheart? He's adorable! 😊😍❤️ What the fuck is he even doing ? He should be off that's fucking horrific ! @shopgreenwich #ldf16 what shall we do this weekend?  #spraypainting in #greenwichmarket with @SNUB23 #core246 #lilylou #fret &amp; #benoakley whenever I put 'I wanna be adored' on my brother alwayss sings 'I wanna be a dog' instead just to irritate me This the most depressing shit ever Blake lively is flawless I don't talk about politics because people nowadays get offended easily! A shy failure is nobler than an immodest success. The #pessimist complains about the wind; the #optimist expects it to change; the realist adjusts the sails.' - William Arthur Ward\\n#IGNITE @EE your a joke I pay for data when I'm in Spain and you then text and say I've used up all my data #terrible service Part of debunking #panic is the idea that either a physical symptom, negative thought, or a behavior begins the vicious cycle. #CBTWORKS @ToddDoug @Ziggomattic Yeah, this actually supports why I tweeted in this thread initially. Because of the article's righteous indignation. @Lesdoggg take me with you!! JK. Have fun, relax, get a massage or two and chill. Don't eat the cucumbers, most places frown on that. @elena_yip My random guesses for you! A potential Amelie, Kenneth of 30 Rock (but YA instead of TV) &amp; maybe w/ the optimism of Lara Jean? @iStoleFreeHugs @stephlaris lol I'm happy with my negative, realistic ass self. Sorry to offend you Home is where the heart lies ! Love my little island but my birth city just ain't acting right &amp; im not feeling too good about it  75' Tierney reaches a deep cross to the back post and plays it back across but the Alloa defence clear. Celtic relentless here. @FrizzeyesJr meeee, i'm lvl 320 and i have not a single relentless @girlsreallyrule Both Trump + King are relentless self-promoters who don't give a rip about anyone else. A perfect match for both Donalds. Band members wanted. Contact me #NewcastleGateshead #Sunderland #musicians #musicbusiness #musicislife #music #musically #band #blues #folk @Rbrutti what a #happy looking #couple ! and apparently he's supposed to have a Scottish accent??? I'm  My two older boys were elated, my toddler was terrified. I have pics of his poor little face peeping through the hole in the basket. A pessimist is someone who, when opportunity knocks, complains about the noise. @ardit_haliti I'm so gutted. I loved her cheery disposition. So angry I wanna cry😢😢😢 Rec'd call 2day from Haitian church we started in Florida some 15yrs ago. Preparing to acquire their own bldg. Wanted me to know. #rejoicing @DarkLuneFantasy wallah my blood is boiling I need to take a nap ugh @washingtondc @NMAAHC That is Noah Ark, it's a terrific design. @Marissa_Frost @NevAmore_MFC awe I love you twooo!!! come adventure with me someday! I found #marmite in Australia. `:)  @BearGrylls for your next series will u do a celebrity firefighting show and just chuck them all in a burning building and do the voiceover? Athenian: When mirth is the order of the day, he ought to be honoured most who gives most mirth to the greatest number (Laws) @VosachResrus ^'ll just #wobble carry you #sink Didn't concede yet but having a nightmare at the back #MUFC Don't wanna go to work but I want the money  Can we go back 2 weeks and start again ?? This is seriously dreadful A little nose irritation and a little more chills on my body. I'm so not into flu, into flu, into flu #FallSongs What's a Kali's kitten? [She asked, a frown curling on her fair skinned forehead as he showed her the scar] A cat did - (@ScarredTiger) Life is too short so dont shoot it in with worries sadness and grief. Refuge Recovery Boston - Weds 7:30-9 pm. #healing #support #addiction #recovery #buddhism #meditation #sober #cambma #meeting #harvardsq So not pumped for this interview  Breaking out in hives for the first time since college finals. #anxiety sucks Not sure that men can handle a woman that's got her crap together.  #independent @Nigerianscamsss @TrillSmith you think I came back to twitter and not ruffle a few bushes? Tuh. @AMB4JC @drtonyevans It's our job, the job of people who r still sane,still ok in life, to help the lost to find themselves &amp; love eachother @buzzlightbeard2 If you don't love yourself... Honesty is the best policy #smile @FantasyGuruSite I knew you were going to do that. I would definitely buy if I didn't live in Texas where you can't play DFS. ... so depress pressure does burst pipes 😭 Corbyn loses and I walk up to a crying Corbyn supporter and whisper\\n\\n'Don't mourn. Organise'\\n\\nAnd laugh and laugh I Don't know what make #Pakistan fear more their #terrorist or their  #TerrorStatePak @cineworld 'Congratulations your Free 1 month has been activated' Then charges £34.80 the same month. Absolutely furious 😡 @iamglenn35 the forth character? No... not gleeful enough... @dlrwills turn that frown upside down buddy 🙃. It breaks my heart seeing people down or upset.. I will try my best to make them smile or cheer them up 🤗 @jessbr0ughton don't be shy next time! We're a cheery bunch. :) \\n\\nSam. X a panic attack AND CALL YOURSELF A REAL FAN makes me so mad like i dont even have the words to explain. this is why some people give no + Fuck being shy, I'm trying to be up in them thighs. @l1ght__eyes u tried boiling em takes years too @X_KIMTAEHYUNG_X \\n— momentarily before it disappeared, only solemnity and anxiety lacing his features. \\n\\n'I ran out to get you before — @MrsCassonC @15_jordyn WAS THERE A CLOWN IN YOUR NEIGHBORHOOD? #nightmare #creepy #EnoughIsEnough @hoytschile fury road!! I saw someone discourage someone from following their dreams. Just because you want to live in mediocrity doesn't mean someone else should. My roommate turns the sink off with her foot to avoid germs and a guy says 'YOUR roommate is feet girl?! I'm so sorry' plz help  Men cannot even handle the suspicion of a horn farless 😩 @Sopp97 sorry to upset u madam.If you have got any queries don't hesitate to contact our PR department.In the meantime do you fancy a beer? Thought the Xbox one s madden bundle would come with a physical copy of madden not a code😴 it's gonna take fucking forever to download lol Now that @Jasmine_Wrn has snapchat back it's a constant battle to see who can get the ugliest snap of one another 😂🙃 #snap survival felt a bit shit getting a very high blood sugar then i remembered it's my first one above 15 this week which is incredible for me!  @leener00 @libbyfloyd1 @G_Eazy my snap is andriaprebles ❤️ Mmmm #coffee and a good #book on a dreary day! Who can beat that? one of the main things im doing w/ 13c is filling in the void of my empty bitter heart by making everything how i wanted it to be growing up Super shitting it about this tattoo #nervous #India right of reply at #UNGA - #Pakistan preaching of human rights is by a country which is itself the global epicentre of  @Idubbbz @LeafyIsHere  I am offended I really really resent having to go to bed at a sensible hour, you guys. I WANT TO TALK TO MY PEOPLE. @liamch88 yeah! :) playing well #optimism Charlotte and a friend just climbed to the top of a windmill! Think the view was easy, breezy, beautiful? @PlayHollywoodU @MHChat #mhchat Childhood experiences inform adult relationships. We have associative memories Not a question of ability to process  We lost LOVE LOVE LOVE  #fun #relaxationiskey Finn singing 'Can't Fight This Feeling' in the shower and Will spying on him is one of the best scenes on any show.  God just replaced my sadness with laughter, can't go the whole day sad ... I wonder what American city will be next to protest about police shootings. Who's next? Smh. #whenwillitstop  #howmanymoretimes I saw those dreams dashed &amp;&amp; divided like a million stars in the night sky that I wished on over &amp;&amp; over again ~ sparkling &amp;&amp; broken. @SatansLezzie @gehrig38 @joesmith12431 @ejamesl I think he was huffing that pine tar they use for bat gripping. He totally knew about it'. Trump finally gets revenge for his son-in-law's prosecution/imprisonment and throws Christie under the bus. It's a beautiful day today. Cloudy but sunny and breezy. I told my chiropractor 'I'm here for a good time not a long time' when he questioned my habits and yet again I have unnerved a doctor f breezy @metrotrains why is there no disabled access at pontefract monkhill? #terrible @XemitSellsMagic add tracking but resent them @kelly_welles they were brilliant weren't they? Made me feel v dull not having one. And why no tattoo emoji! This'll have to do... ⚓️ x @ExpressScripts u shd b embrrssd. u jack up my bp meds twice and it will still take 3-5 days? Not express at all. #expressscripts  There's always that one song which makes you turn of the radio, as you'd rather sit in silence 😡 #awful @hoemanda69 wtf is tenacious and jubilant @SheilaCustis We don't expect women to be violent &amp; discourage it. It's really about how we're raising our boys. Drop Snapchat names #bored #snap #swap #pics Avoiding #fears only makes them scarier. Whatever your #fear, if you face it, it should start to fade. #courage @weebtard sparkling water wyd Watch this amazing live.ly broadcast by @hannah..mccloud #lively #musically $100 says Teufel is 'reassigned' within the organization before next year, but I wish it was sooner... #Mets #thirdbasecoach  #lgm @oreillyfactor why dont #blm #thugs want #justice when its black on black #gang crime? They only #rage and cry #racism when its a #cop I meet new people and I had to grow up with the reality that people can be desgusting and fake and so I lost my cheerfulness and started to @goofoffartiste Ah, the Grand Old Paradox that is fearing the encroachment of the state but loving unconditionally its paid enforcers So she goes first. She gets her book signed &amp; I can barely take their picture cuz I'm shaking 😭😭😭😭😭 If purging was real, Kenya would be the country where the elite purge from choppers while the low-class cower under their beds for 12 hours @Markgatiss I'm surrounded by those Trump voters. You're right, it is fucking terrifying. #redstate  @alicehouston18 sorry I'm just angry my drone flew away Wish I was a kid again. The only stressful part was whether Gabriella and Troy would get back together or not. #hsm2 #nightmare You will never find someone who loved you like I did. And that my love, will be my revenge. @alicemazzy he was more partisan on social issues a few years back; now he just concern trolls the center left as Chait does the far left Hey folks sorry if anything offensive got posted on here yesterday my account got hacked. All fixed now though. I hope :-/ #angry #annoyed Possible magazines over against put with versus thy joviality conjunction shower quotient sufficiently: BQAvtja @SoCalValerie this one was Apples attempt to make muslims happy 🕋 Excited and nervous for Tuesday Jk I'm not a loner just really shy 😅 Sometimes people leave you halfway through the wood. Do not let it grieve you, no one leaves for good. #youarenotalone #nooneisalone So depressing that it's darker so much earlier now @PriiiincesssE thanks for distracting me from my paper to watch this hilarious video 😂 When I walk in darkness of despondency, Sc.verses I've memorized shine a light in my heart. Ex: Lam 3:22-25 #despondency Go follow #beautiful #Snowgang ♥@Amynicolehill12 ♥ #Princess #fitness #bodyposi #haircut #smile #Whitegirlwednesday @SkyUK what a joke!! Cut our internet off early 'by mistake' and then don't reinstate it when we no longer need an engineer 😡  Making my buddy cry !! Bitch wait for revenge 🤗👌🏻 More #checking at #work today\\n\\n#coffee #drank and now it's #down to some #serious #business \\n\\n#Thursday bring on #Friday So my Indian Uber driver just called someone the N word. If I wasn't in a moving vehicle I'd have jumped out #disgusted #offended @NativeApprops @SBShear @HuffingtonPost Shew. That was #awful Hennessey - dreadful. Mutch - is he even on the pitch? Fryers - out of his depth unfortunately. #CPFC @aidankerrpol I think you should do. Get the fashion police involved.  Learning to trust God can quiet a troubled &amp; restless heart, bring peace to a weary soul, &amp; eliminate the hopelessness that #addiction is! @jwolfie_ why you gotta use the dark skin emoji #offended #panic Panic attack from fear of starting new medication All the 'juniors' are now wearing purple at ollafest while I'm here fighting with my alarm about when I need to wake up for German #sadness @ImJim_YoureNot  cyber bully @bismahmalik .....Seems like a fight ready to rage on..... @arppaul @chetanlfc @mannkakhiladi @dey_spandan @umeroffcial  Comparing Akshay Sir with this zandu balm is an insult to Akshay Sir. @Orrible_Ives I didn't say anything bad about the situation great mate, can't believe some were. Makes me despair of humanity #OneSimpleChange: Drink sparkling water instead of soft drinks to steer clear of fructose while still getting a refreshing carbonation kick. Swear to God don't get a smart meter from your power company, 8 months of daft bills, 6 visits from British Gas  #stressed if you ain't watching Sugarboy on Hulu, then you ain't shit. #hilarious hahaha i will never watch greys anatomy ever ever ever ever ever again if Shonda Rimes takes away another OG character☹️☹️☹️☹️☹️☹️☹️☹️☹️☹️ #fuming That AK47 leave your spine with a frown Good morning, Trondheim! #optimism #productivity ⛅️❤️🇳🇴🏢💻🖥🏋🏻💪🏼📺🍿 No quite sure how Craig Gordon's stayed on the park there !! mirana told me to shut up when i was singing along to glee... Finally made my #fury #warrior guide. Let me know your thoughts @Nekudere oh ok, yeah I felt dumb like I think I would have known if it was animated at least lmao @MalYoung @AngelicaMcD I hope to now see some levity, light, romance and happiness come Stitch and Abby's way after such a long hard road. Check out this #film Robocoq 301  #shortfilms @PottzGaming hmu need players for lans next year. DM me. Need serious players. Im under org The sun literally burning my skin #bestadvice from a #movienight, pickup the #phone &amp; #start dialing, no1 will knw a #startups #product #service if thy dnt tell the #world @Spacekatgal @outmagazine Its okay to be trans just rejoice with the trans in the trans way. By the way it's not your business, so why care? @VileBairn Turning then, the older woman looked at Sybil with a most somber expression. \\n\\n“She ran away from me. But I cannot blame her.” @IndigoHawthorne Then u understand that rage is often not pretty, or controlled or rational - it is often visceral-not always logical. @LisaAsquithtobe @craig8710 @WayneHaselden @june65wigan everyone is against wigan because we are the biggest club  It's now September and we're still battling a situation that was said to be handled March of this year. @ATT this is unacceptable #unhappy @Delta stuck on runway after being diverted to Fargo. Continuously told just 10 more mins for the past 4 hours. No food/water offered  @united horrible service. EWR. Not a cloud in the sky. Normal departure at 10am now leaving at 5pm. Crappy #UnitedAirlines What a sad day...1st day of Fall...I don't dislike Fall...I just LOVE Summer #FirstDayofFall #goodbyesummer #sadness #bathingsuitsforever The kid at the pool yelling is about to get a foot up his ass. #shutup #parents #kids #horrible @Daniel_Sankey @hayleyp79 Haha.... Actually, after the Doggies I'm barracking for Anyone But GWS! #bitter @WBIRSports They're still using his offense, up the middle 3X &amp; punt. Fosu-Mensa is having a nightmare 15 minutes. Difference between Premier League reserves and League 1 is still wide Watch this amazing live.ly broadcast by @swagrman_fan #lively #musically whenever i pout i just want Adrian to appear and tell me to stop pouting or else Patti seems so sad. She stamped and ran behind the sofa. We will have to give her plenty of love and affection...more than usual. #sad The return of Matt Damon, and of director Paul Greengrass, brings back all the exhilarating if rather po-faced entertainment to a movie A @FirstBSA not turning up? Why am I not surprised. Late for work again!  dread pitt Jesus wept! Another RNS from #rusty @metaltigerplc quote 'Price sensitive news, Price Sensitive news' etc etc The #Ramping here is #shocking Riding at night has got to be one of the most exhilarating, refreshing things I have ever done. @TxDMV @ArkansasBBB i filled out the report on #baitswitch by @Carvana lets go get them fines levied. #badbusiness #honoryourdeal #unhappy Check out @VovimPrgel - From Scotland #gamer #YouTuber #vlogger #designer #animator #artist. TY for following The Wake  #horrorfilm Watching Paranormal Activity: The Ghost Dimension. I'm not sure how I feel about it yet.  Three days off a month with two ex wives and no home could be worse. I don't know how, but it could #oilandgas #optimism From what I know of the man, I have to assume that @realDonaldTrump has had a heated argument with his own penis. #sad @BraveHermione_ + and gives it to hear] 'Please.. I can tell you anything if you want to listen. maybe you're dont afraid anymore of me + This all resent #India #Pakistan problem is save #NawazSharif\\n@ImranKhanPTI\\n@PTIofficial @Nikhilv95 @LydiajaneF I wish, I really, truly wish, that I had just a modicum of your banter. #hilarious @rtrn94 Mine is that the party did decide but the party has been slowly transformed into a vengeful hell-cult of white male resentment @aidanparr haha!! No, sorry was it too grim even for you?! It disturbed me &amp; im starting to lose all trust in Twitter generally!! Ever put your fist through your laptops screen? If so its time for a new one lmao   #hp @ChrisWarcraft The concept that a gay magazine feels like it has to cover terrible people -because they’re gay voices- seems all upside down Why are people that don't have iPhones so bitter about iPhones???? Can someone explain #ThisIsUs has messed with my mind &amp; now I'm anticipating the next episode with #apprehension &amp; ! #isthereahelplineforthis @RoyEnglish roy as fiery @KateyKeegan now I'm really excited for November! Hope they're not all horrid chavs though 😅 Be free and open and breezy! Enjoy! Things won't get any better so get used to it. People fuckin irritate me @justinbieber Thank u Justin for this amazing concert. I can't believe that only u can provoke these thousand smiles these night#BelieveTour @Singaholic121 Good morning, love! Happy first day of fall. Let's make some awesome #autumnmemories #annabailey   @VodafoneUKhelp @VodafoneUK wow!! My bill is £44.77 and hav a text from u to prove that and you have taken £148!!!!! #swines #fuming #con! my school photo is honestly horrid, i look so ew😅 @peachkellipop the whole thread is jovial and fun and then this comment is like FULL of misogyny @StarklyDark 'I know you trusted me.' His words were soft as he ignored the anger and focused on the hurt beneath. 'I know I screwed up.' -- The horrible puns for the day have been made. I shall return to my cage in a dark corner by myself while crying &amp; laughing hysterical now. People stealing things from my work out quite the damper on my day so now I am going to wear pajamas all day STAY JADED everyone is #terrible @6itmap I can't help but feel melancholic! @urbaneprofessor roast them. Then risotto with sage and pine nuts @BlueJayHunter I'm fine on the near future, I just want to go to bed super elated and put together audio compilations of great moments. All clouded out.\\n\\n Considering using a camera, 1) star trails 2) eyepiece projection. Pre-prepare direction plays hale and hearty situation an in child's evolvement: CMmyd Omg. You've got to watch the new series 'This is Us'.....wow. Best tv show I've seen in a long time.\\n #tears  #moretears @mr_HAAAAN wow inadvertently horrible puns is definitely my thing Forever angry that gh ruined Molly and morgan's bond/friendship #bitter Finished writing my second book tonight. #somber #sad #youpromised #havemercy #author #writer #needpublisher #beingedited #workingonsidebook @annalisewrobel_ awe thank you so much love 💕 You ever just find that the people around you really irritate you sometimes? That's me right now 😒 me, myself, and I \\n #horror movie alone again tonight maybe a #zombie would eat me and finish my life game already - i want #gameover Sister: (Canadian player does something shady.) Jonathan Toews is frowning and he doesn't know why. #WorldCupOfHockey @Greener105th so you are astounded that I respect blacks to vote like any other human? u talk so down towards them. What bigotry on display! @BillSwindell @DePauwU @dick_nixon I was having breakfast when I seen this?! I blew my cereal in the #sink!! @trendykittykat Some people would rather hang on to their indignant anger. *weary sigh* Now that I have my ex's number now its time to prank him. #revenge #prank #whatprankIshoulddo seriously what prank I should I do Asian Tiger #Mosquitoes are so relentless. More aggressive than the kind I dealt w/as a kid. Standard Candice starting the show with a pout #startasyoumeantogoon #GBBO Pretty excited for American horror story tonight @TheZantarin Then maybe we should keep our White mouths shut and let the people being targeted speak and mourn. “The essential Saltes of Animals may be\\nArkham’s large outfit from any effects he\\nI rejoice that you continue in ye @Mc_Cabe_Conor This is it. The complete illiteracy around the role, nature and extent of British agents is shocking. every time a new Anthony Weiner revelation breaks, Bill Clinton says a prayer of thanks that texting/DMing didn't exist in his heyday. Gotta wonder why Caller Max listens to the show in the first place if you so incense him @MSignorile Realizing that holding a grudge for long is immaturity is wisdom @YahooCare data stolen in 2014 and only now do you tell us #shocking. @officialShaky 'Operation Echoes' is gathering momentum ... #tense  #feelsick #excited @TChudhry @fasiranjha lol @ ur caste. even if the whole village dies.. a massali like you cant be a chaudhry:) so cheer up massali :) I have learned over the years that when one's mind is made up, this diminishes fear. –Rosa Parks #quotes #motivation @Markgatiss I'm surrounded by those Trump voters. You're right, it is fucking terrifying. #redstate #despair @GlobeChadFinn Sadly, not enough names.  The whole farewell tour situation would make me shy away from good value b et. This is the scariest American Horror Story out of all of them... I'm gonna have to watch in the daytime. #frightened @CP24 And I hope when the police met him at the subway that they took him straight to jail 😕 #awful @BookOfKaells @quennell3_ no blues?! my boyfriend once forcibly stopped all of my anxiety coping methods at once (holding me, forcing my hands down that kinda stuff) and I -- A former diplomat is quite gleeful about the situation of Pakistan on @TimesNow\\nNot quite stiff upper lip of diplomacy seen normally not to be That Person™ but i get bitter seeing some ravi stans 😱 @cailamarsai you've had me 😂 😂 the whole time watching @black_ishABC after you've lost your #glasses! It was #hilarious! @mrbabyboogaloo “Do not fret if you are not cool! Humans who follow me, become instantly cool!” #Bot @PatVPeters @FreeBeacon Quite the response of retaliation from Weiner in getting revenge on Huma &amp; Hillary 'clam digging'.\\n#AllScumbags I am in #shock and #awe and the places my #toddler manages to get his dinner. It's simple I get after two shots of espresso 'Grande, decaf, 130 degrees soy americano with extra foam' #barista  This has #turned out #better then I expected admitting you tried to #intimidate 😂😂 #cantstoplaughing I really can't and it's in #spokeword I keep feeling the heaviness on my left hand and look down and I am in awe every single time 😍💍 #notusedtoit #imafiancée #wut @BaileyDemented @hsmitty3 ill kill u if u bully her 😤😤😤 @TheNotoriousMMA looking like @MIckeyRourkeFP in his heyday Hey u never know, Channel 4's version of #GBBO might actually be quite good. A few adverts aren't the end of the world. #optimism the grave of a beat, a bravehearted cave lover, cage lover, sage #lover who made #soup of you, twisted to spoony #melancholy, spikes, spices only time I am ever cheering for you Johnny #ObamaLegacy - weekly #riots and #terror attacks, &gt;400k dead #Syrians, #Jews fleeing #persecution in Europe, #Christian #genocide in ME..... Don't let the behavior of others destroy ur inner peace.' -Dalai Lama @OWNTV #healing #depression #anxiety #intuition #meditation #book My mind always seems to work its best at night #restless #Terencecutcher #Tulsa the man onthe helicopter said he looks like a bad dude, that is the problem, when they see black they see bad,  @WWE is the live event Brock vs Orton 2 this Saturday on the WWE Network? If not it needs to be! :) #wwe @RandyOrton @HeymanHustle  @m_warner21 Yikes. The wrath of Maddie... @komaebun He just has that way of thinking, he wants absolute hope born from absolute despair. Like keep grinding boy your life can change in one year, and even when it's dark out the sun is shining somewhere...' @Deadspin @jrzy_boy This is about him being left off because they wanted to play a heavier game. We needed his offense tho. Amongst others. Look at this #massiah of #youngleader\\n#Pakistan #massiah of #terrorism @jaaames1993 Literally burst out laughing. Obama admin rejects Texas plan to have refugees vetted for terrorism so Texas pulls of of fed refugee resettlement program. Aiding . @Hank_nsno @RonaldKoeman cheering and clapping I assume But i'll be a pity. 🐑  @Kim_is__bored exactly what I have been saying on fb..  @Sargon_of_Akkad It'll be like burning rap albums; they'll have to buy it first, but gosh darn it, they have to get rid of it. the rappers who stayed true to the game is rich. Never make a #decision when you're #angry and never make a #promise when you're #happy. #wisewords @BonesARP 'That is a disappointment.'\\n\\nHe fakes a pout, then starts to chuckle. @danisnotonfire you made me cry and shake to the point where my parents had to calm me down and give me calming tablets... I screened my own snap what kind of narcissistic ass would smh @carysmithwriter @Maria_Savva @RealRockAndRoll We're the least known band in the World, but so glad you asked #muchlove #hilarious @NandosSA just received order from @OrderInSA &amp; the chips are under cooked &amp; half raw!!! Usually best part of the meal #notcool  I have a job interview with @BarclaysUK in Loughborough next month !!! A country that gave safe house to #Osama Bin #Laden is dangerous if not contained. #Pakistan is a #terror heaven, declare so @BanKimoon_amdg When you get lost in a neighborhood and have to use the gps on your phone to find your way out. #lost #GoogleMaps #blondmoment •Days!'\\nHe was itching for a fight..itching for the exhilaration of battle, of almost getting defeated, the adrenaline pumping•\\n@RojinHitto #Partners are willing to #walk alongside you without being #intimidated by you. #WhoIsIT #Part2 #RelationShift #CLifeMacon . @KotakBankLtd @udaykotak official got in touch. Issue not addressed. #unhappy #patheticservices I had a dream that I dropped my iPhone 7 and it broke T_T #cry #iPhone7 #nightmare Hey @AppleSupport, would be nice to have “click to pause” or “pause when window inactive” on animated GIFs for macOS Messages app The more videos @PanicAtTheDisco  post, the more i am convinced i might should not have done that  #Brendonati @FJHobson @Beaker126 @Biastai how would you suggest we profile to stop right wing terror Just watched Django Unchained, Other people may frown, but I titter in delight! 2/5 we shiver in the pause between words \\nabandonment still fresh upon the tips of our tongues @TimesNow indian army crossed loc into pok to bust terror camp on 20th Sept night? Focusing primarily on the person you’re talking to rather than yourself and the impression you’re making lessens social anxiety. @my2k aaa Cam animated that, so proud of our boy #beyond naming &amp; shaming ; lies a vast space b/w #sanctions &amp; #terror state...v *wait til Others #impose it...&amp; do not hv COURAGE #ourselves And you as well! #sparkling @cherebork @MelissaJoyRD @SarahKoszykRD @eat4performance @rustnutrition @jenhaugen @ShieldsCap &lt; Steve between his feet, feeling a blush sting his cheeks. 'I can undress myself, thank you very much,' he snapped &gt; Accept the challenges so that you can feel the exhilaration of victory.' - George S. Patton Benefit out exhilaration called online backing off: JkUVmvQXY I get soooo nervous when an actually attractive guy tries to talk to me in person. Like 9/10 I turn him down just from habit 😭 @deshbhakthoon always unhappy and easily offended. I'm a cheery ghost. @ManUtd it was a terrible Freekick... I want to slide into the dms but im too fucking shy #shy Recording some more #FNAF and had to FaceTime my mum to let her know I was okay after I let out a high pitched scream 😂  #suchagirl @kymwhitley hello Miss Lady I'm sure today brings you happiness and laughter use your voice also to make us laugh  god knows we need it @BBs_Coffee somebody needs tell staff at Reading cappuccino is supposed to have a thick layer of foam and coffee should be hot #awful again @Tik115 Issue with that is, will the effort involved get back the amount I put into it? That's what I'm fearful of. @lebara - worst possible decision I could have made when arriving in the UK. Shocking service. Poor coverage.  “He who is slow to anger is better than the mighty, And he who rules his spirit than he who takes a city.”\\nP16:32 #bibleverse #pride #anger Can we start a 'get Chris Sutton off our tv campaign? Spread the work  #pundit #noclue To com sede de milk shake Catering channel's at the height technics hearty enjoyment symptomatize: vrlfEyrN One more step in long work #visa process is over. Relief. Onto next step. #expat #restless @OilersFanSean yup I feel dirty cheering If Payet goes either in Jan or @ the seasons end, can't say I blame him. The boy must b so disheartened by what he's seeing at the mo. .\\nWe express our deep concern about the suspension of   \\n@MohammedSomaa01  please reactivate it. he never violated T.roles @Support If a friend lost his/her phone, how long do they have to mourn their lost phones before you ask for their earpiece? My soul is weary of fighting the battles in this world. #BlackInAmerica #WeAreNotSafe I blame the whole season on Natalie! The season would have been so different had she not turned her back on her alliance! #pissed  @PatriotsInform I don't see why you think we'll have a dumbed down simplified offense with Brissett. He comes from a very complicated system @Zen1dfabflake You are all our angelic comrades!  @tbergg1 mine are good rn, gonna be horrid after next week Quote_Soup: Be happy not because everything is good, but because you can see the good side of everything. #optimism Heading home to cut grass in the heat. All I wanna do is go out to eat somewhere air conditioned.  #AdultingIsTheWorst GAMEDAY VS BUFORD TODAY AT 5:30 AT HOME!!!!!!!!! NEVER BEEN SO EXCITED  Ugh I want to punch a wall every time I have to use @windows 10. Literally the worst product ever made #windows10 #awful #killme Aw there's a young fox outside on the grass just jumping around all playful and having a little stretch 🙈 soo cute 🐺 @DeltaAssist Tried 2 get earlier flt 2day  @BWI Turnd away bcuz it was 2 late Then agent let other pas on #silvereliteleftbehind #unhappy @TDsNation I blame how broken madden is this year @WatcherDev @WarcraftDevs put so much artefact points into fury and cant raid... literally wasted 1 month of my life! Thanks blizzard honestly all my friends do bnc i mean it and i am feeling #terrible hahaha All this from a cigarette burning in Laura's hand, the angle of her chin, the purse of her lips.'(104) Gorgeous transition!@laurengrodstein shake fries And I would advise that everyone wait to watch @KevinCanWaitCBS ,or actually don't wait, just don't even watch it because it is  Tasers immobilize, if you taser someone why the fuck do you need to shoot them one second later?! This is really sick!  #wtf #murder #Trump is #afraid of the big, bad #Hillary. #election #PresidentialDebate #PresidentialElection2016 #orangehitler #skip #hide #coward #fear Why have I only just started watching glee this week I am now addicted 🙄 #glee #GLEEK @ynnsanity Maybe that's why, we're asked to study hard and get a job that we like. That way it wouldn't be that dreadful. Everything you’ve ever wanted is on the other side of fear. –George Addair #ThursdayThoughts #yourpushfactor  #life #quote When you forget to mention you were bought dreamboys tickets 🙄😂 #raging @theJeremyVine Noel Edmonds reckons a cat he's talking to is stressed because of the uncertainty over #GBBO future!?!? #plot #lost @siomo @NEWSTALK1010 20 says he gets reelected.....  #be #afraid You can't fight the elephants until you have wrestled the pigs. #quoteoftheday #relentless India wants to #shake #hands with # pakistan ..... but as usual pakistan #cheat with every #indian \\n\\n..........shameless pakistan @TheeCurrentYear @Sargon_of_Akkad this is too much hilarity for one day My interview went well today, I can't wait to find out what happens.  #excited #interview #jobinterview Watching It Follows.  This is a super freaky movie.  #horror #scary Some moving clips on youtube tonight of the vigil held at Tulsa Metropolitan Baptist church for #TerenceCruther #justice #anger #sadness @torbalan I still have some shred of optimism. It's rapidly disappearing however... When a guy comes on the train that smells like a mixture of a damp dog, old sweat and sewage works!!!! #gross  #getoffthetrain #smelly Happy birthday @iRidhiDogra keep smiling always.Wishing you a wonderful year ahead mam @CohenDS Yell, 'Bye, garbage!' cheerfully after it. Listening to Joey really helps me and my anger. Today I reached 1000 subscribers on YT!! #happy, #goodday, #thankful Am I watching #BacheloretteAU or Zoolander ?  #samvrhys @carlybigelow13 first you take the room now you wanna beat me up  A cheerful heart is good medicine, but a crushed spirit dries up the bones -Proverbs 17:22- @RogueCoder250 We are in so much trouble!! I don't think the Rev will see the funny side of our project.  @ADenkyirah Happy birthday! Hope you have a wonderful day filled with lots of joy and laughter &lt;3 (despite tumblr being a jerk- once again) @bobcesca_go @sesmithesq \\nDidn't Florida 2000 teach you anything? I live here in Palm Beach County and lived through that nightmare. @warmneutrals 'passenger in car next to u cheerfully asks for a cigarette and then directions' #RIPKara i could have seen her at a local mall or any school football games. im disheartened @m_t_f_72 I'm not surprised, I would be fuming! 😤 @JUSTICESLUT420 sadly this sort of poster died by the 90s afaik @___margs @juliana_f_reyes Hey Michael! Thanks for following up, yeah I think you'd be a terrific contrib. Looping in assoc ed Juliana i had an hour of football practice under the boiling sun and now i have 2hr volleyball practice under the BOILING SUN AGAIN Oh I get i see it's #TexasTech playing tonight not the #Texans #TNF #texansarebad  Floofel.i wonder if your mother knows how dark your humor can be.Needs to realize how much of a butt Apple is. Pastels and cats.cutie pie. @AliceGoodman17 i dunno, I'm getting less of the spacious lovely autumnal melancholy from our present apocalypse Watch this amazing live.ly broadcast by @hannah..mccloud  #musically Not my fault if I'm more observant than you thought of me to be ! 😜 I'm not sorry 😝 #wisdom #laughter #observingyou #allthetime #becareful 😎 In need of a serious nap rn In 2016, Black people are STILL fighting to be recognized as human beings. #cantsleep #angry Yo this 3 v 3 overtime in hockey got me sweaty damn this ish exhilarating Thatmoment you're watching #worstcelebritycooks and your bubble is burst by finding out KyleXY is gay and married😭 #nochance #KindaDontMind😉 BLUES with BOB HADDRELL &amp; Guests\\nFri 23rd Sep 8:30pm - 11:00pm #blues #free #TunbridgeWells @GuardianAus @guardian because there is a realistic probability that a clown might be their next president. #clown #uspol  It's Thursday which means it's Grey's day #TGIT  When your body says FUCK YOU BITCH, You ain't sleeping\\n#sleep #cantsleep #drained #restless @PersephoneOD Her cheerful voice echoed through the grand, familiar home, a smile blossoming on my rosy brims, 'Mom.' I reciprocated the -- @judahandthelion TONIGHT. Legit can't wait to rage 🤘🏻🤘🏻🤘🏻🤘🏻🤘🏻🔥 @wwcummings @USATODAY this individual is clearly trying 2 #intimidate this #LEO I see an issue here. STOP CAUSING ISSUES by pushing limits!! The bounty hunter things a bit lively Today is the first time any math professor let us live early before the class time !!! #15 min #feelsgood #happy #wednesday # @lindseylouwho_ be nice if the Texans could hold onto the ball to give fuller and Hopkins a chance!!! #awful #TNF if anyone spoils any of my fucking shows I will haunt you in the afterlife so help me god With a jovial Trump on his ass, Don King just publicly told a crowd that 'We need [him] because you will always be a nigger.'  #FuckTrump She was so posh it frightened me. I'm still scared. I have a rage rage ep 2 coming out soon I'll keep you posted on it #YouTube #youtubegaming #rage I #rejoice in following your statutes as one rejoices in great riches. -Psalm 119:14 #TheBible @niceoneWern @Alotta_Pain the gleesome threesome @ChurdAllan fucked my coupon that goal! #raging To insure good health: Eat lightly, breathe deeply, live moderately, cultivate cheerfulness, and maintain an interest in life. Rollover car crash on warren st, traffic is horrid #Boston Job interview in the afternoon  #ek I'm getting so nervous for my first anatomy exam 😩 Mixed emotions. #sadness #anxietymaybe #missingfriends #growingupsucks #lostfriends #wheresthetruefriends #complications @RealBD_ @ReyesAverie 47 unarmed blacks killed by white cops in 2015. That many die every month in Chicago wheres the #outrage I feel like I am drowning. #depression  #falure #worthless That goes the #alarm Do what makes you successful and #happy now and forever i fix a clever ritual to make you feel frolicsome Projection is perception. See it in someone else? You also at some level have that within you. #anger #worry @INCIndia Oh please! INC talking about looting! I'm not saying #BJP is pure but this is such a #hilarious #irony! @BJP4India is def better! Watch this amazing live.ly broadcast by @brooke_bridges #lively #musically And I would advise that everyone wait to watch @KevinCanWaitCBS ,or actually don't wait, just don't even watch it because it is #awful @DFSCare apparently you are to contact me. Sofas were meant to be delivered today. Old ones gone. Sitting on floor. No sofas! #fuming Unbelievable from McDavid and Matthews. Lundqvist can do nothing but shake his head #WCH2016 81' Goal scorer Vidar Kjartansson comes off in favor of Dor Micha! Another terrific performance by @Vidarkjartans #YallaMaccabi thank you for your concern, computer, but my last name isn't misspelled, it's just weird Overtime... #TeamNA #WCH2016  TheNiceBot: melbjs ;) Here is a smile and a wink from across the web. #TheNiceBot @SadiqKhan #terrorism shouldn't be a way of life in the united etates and wasn't until #islam brought it here! #IslamExposed #islambacon hate to see y'all frown but I'd rather see him smiling 💕✨ @pxrfectpeach it's got her little pout @LindseySanford @simplymeasured this makes me giggle with glee! @JogglingDroid @BrancoCarmine @Otto_English yeah, #UK was quite the  It's weird because I was discussing sex resentment and confusion in the thing I was writing last night. Logically speaking, this can't be the worst I've ever felt and even if it was then its passing will still be a joyous occasion Unruly kids at 8am in the morning #nothanks ripping the flower beds up by the roots while their parents watch  @clarechampion @Westclarepage and peter your radio piece on off the ball was pure class , no digs , no revenge , a total balanced pro ! 👏👏👏 6. 5 minutes to perform and I'm #nervous I wish these noises would stop #handicapped #annoyed #picoftheday : How...why... Really... !!\\n    #funny #picoftheday #lol #random #laugh #chair #of #despair #funnypics  #virgin #cafe #i... @itsyourgirl_Z happy birthday :) have a blessed day love from Toronto :) #bday #smile @RegalisAzura \\ngrasp the cobalt woman's own; which they did fairly easily. Fair cheeks would ignite into a fiery hue. Warm.. was the only Tomorrow is the day I cut and dye my hair! 😳 #nervous #excited We're all in D. T. (Discipleship training or detox) for something. #messy  #cutoff #choosefreedom #CryOut16 @ATTCares why do I have 2 wait 48 hours to call YOU back to cancel an order I JUST placed after already spending 2 hours on the phone?!  @p4pictures it would be great but what if the card crashes 😱. It's happened to me twice  What do Aquila, Ajahnae, and Euriechsa have in common besides ridiculously stupid,horrible,ugly, God awful names? Tracey IS NOT their father be strong, independant and practical. stop living in your world of fantasy. snap out of it. the faster u get used to the reality, the better you come running back to me saying how much you miss me then cower away when we acc try a friendship 👍🏼 I don't even #feel #anger anymore can't explain it .. #Tulsa #Charlotte #Trayvon #SandraBland #Philando #Ferguson #BatonRouge #MichaelBrown #Talking about our #Problems is our greatest #Addiction#Break the #habitTalk about ur #Joys#quote  #problemsolving #behappy also who has amazon prime that would like to help a girl out LOL #serious There is something v satisfying about  opening an old 'to do'.doc file and being able to check off all the things you have done #smiling Did we miss the fact that #BurkeRamsey swung &amp;hit his sister #JonBenet in the face with a golf club previously out of a fit of ? @RobdotThom @sulphurhoops in fact they need to start making all holidays! Maybe even e dry month pick a theme so we can have them all year When you make a great tasting shake and no words can describe it!😃👌🏻 #shake #herbalifenutrition #tastesogood #nowords @RealestCastiel just sitting close to him for an extended period of time was exhilarating because he's so beautiful and lively lol oh these old things on my face? nah they're not tears from school related anger and frustration nope never @bradshawjp Sweet! #optimism @latenightdaryun pfft, as if anyone undergoing the constant ongoing horror of sapient consciousness has any trust in themself anyway It's my last week at CN! I'm gonna be sad to leave, but this will also be my first planned break since going into animation! @hollyrobinson__ Part 2-was buzzing for a cheeky squashie or two-this was NOT what i expected.SORT IT OUT! #food #angry  @coopuk @coopukfood @veggiesausage that happens...u will be ok tomorrow cheer it up..Don't give up no no no😝😝😝 So Rangers v Celtic ll  Watch this amazing live.ly broadcast by @maisiev #lively #musically significantly, with a #bitter smile, 'let me I'm curious to know just how much money the original Air Bud made to justify the continuation of these awful sequels and spinoffs. I can never find the exact #emoji that I'm after at the exact moment that I need it  Sir, my concern is not whether God is on our side; my greatest concern is to be on God's side, for God is always right.' - Abraham Lincoln Way too cool to die young, way too young to die sober.. #tunechi 2,034 words today #amwriting #horror #novel 42,080 'Magnitude' total so far. 25Kish to go. @tchop__StL @YouTube \\nI get sick to my stomach everytime I see this video &amp; for the helicopter crew to make such comments is revolting. I see I'll be hovering over the block button today with much glee. Didn't think Cadres not Getting SRC deployment would make some Cadres so bitter, Ku tough Macom. @pureleine though lately with how bad my depression has been i feel like my body is like just, taking what little it can get They're like the rape apologists who (inadvertently?) make men sound like rabid, mindless beasts. With friends like these... My study skills are terrible 😒 @WestonKoury so leafy can roast the Pokemon go kid but not you what an outrage that just means that he is more relevant than y-I mean kisses @luxbet Did you even give out any pizzas ? Serious fail #hungry #furious #hangry untypical kinda Friday #dull Watch this amazing live.ly broadcast by @maisiev  #musically petrify  me in the fossil type of way @beingbrilliant @johnmurrays you're welcome. It's genuinely made me give my head a wobble and realise what's important in life.  #smiling @JamieNicks_ it makes complete sense and i'm elated to hear this :] @FoxNews @SheriffClarke @FoxNewsInsider This man is an affront to our justice system. @ArtyBagger With or without cake seeing your wee cheery face is always a joy xx “Don’t burn out; keep yourselves fueled and aflame. Be alert servants of the Master, cheerfully expectant.' Romans 12:11-12 I Don't know what make #Pakistan fear more their #terrorist or their #terrorism  #TerrorStatePak @MericanMainer AWW. I had a Maine Coon when I was little named Ted Eddy the Wonder Cat. They're such good cats! Very playful and sweet Watch this amazing live.ly broadcast by @broitzmax #lively #musically sorry im so #bitter i just. i either want a pure ur or literally any card from the sets i like but every time i draw for the sets i like&gt; North America vs Sweden is the most exhilarating hockey I've ever watched 😅 wow , mackinonns mitts are silky #TeamNA #WCH2016 @serendipity127_ @zombiecalorie @Angel_Eyes66 I'm sensing a theme here tho lol  Keep in mind. We're all weak. Don't insult people just because they're human. @FitnessFirstAU something needs to be done about people hogging machines - nobody can use 3 machines at one time! #angry #notfair #whypay Not giving a fuck is better than revenge. Who actually chooses to drink sparkling water 🤔 Being playful as shit😤 What the fuck am I supposed to do with no lunch, no dinner, no money and I'm off to work  #hangry #day5 3:45am and off to the hospital! Elouise's waters have gone!  #Labour #LittleSister #superexcited @nytopinion  The point of voting for Trump to push all the pieces off the board game like an angry toddler? Wreck everything for everybody? People want me to go pine ridge, little wound or Oelrichs. Starting to think about transferring but I wanna stay at cloud. Decisions man. @1NatalieMaines Can you imagine being the person who has to spray tan him? #shudder @dressenn @amerson6562 @RosaTrunk @iam_spl_ @michaelk487 @Silau25 \\nGA🙋 Have a joyful day @AerLingus #business class #Los Angeles to Dublin #destroyed luggage #60 day customer response time #unhappy customer can't believe Achilles killed me!  @AdamAaronovich Well, there's no need to sulk. You can always request a song, you know. When we give cheerfully and accept gratefully, everyone is blessed.\\n»Maya Angelou\\n\\n@DrMayaAngelou #RIP #MayaAngelou @ggreenwald Smh, remove ideologically bankrupt and opportunistic establishment now. They're burning all bridges and social contracts.  By the way, I'm wearing the smile you gave me today. \\n #you #me  @bodwell_james did it not just enliven your soul @JackCurryYES he's just lucky...bad pitchers...#WHATEVER...ElKracken is #legit #future  #gottawearshades #LetsGoYankees That AK47 leave your spine with a frown @RealMichaelKay Annoys me to about the Ortiz tribute too, how would the Oriole fans and organization feel if Yanks did that to them?  @RiRiMathew even when we're fighting I'm laughing. I probably have serious ingrained issues😂🤗 Set n alarm '@Innocentia_T: I wanna nap but I'm scared I'll wake up tomorrow .' @cstonehoops Gonzaga not listed in the article but at 65/1 they have tremendous value, they are top10 team for sure, got everything you want Fuking fuming 😤 Turns out 'it' wasn't even anything to be concerned about at all. Im happy and a bit frustrated it took so long to get this answer. second day on the job and i already got a 45 dollar tip from a dude whose was constantly twitching his eye LOLOLOL #cheering The point of living, and being an optimist, is to be foolish enough to believe the best is yet to come' - Peter Ustinov  #quote My friend just messaged me 'ugh I'm so hungry I can't wait for breakfast' #socialmedia #WineWednesday  #funny #laughing  Why a puerto Rican with Taino hair and a black nose gotta ruffle your targeted feathers? Does anyone remember a movie that is animated in the late 70's called Shame of the Jungle John Bulushi was in it wild if that's your taste Wishing i was rich so i didnt have to get up this morning #poor #sleepy #restless #sad #needsmoresleep This is the first time I've written anything on this series in over two years, so I'm checking back in for one last nightmare. @Burnt_Out_Darth @theaterofscifi thanks.  @josephperson Cam is still rattled from the backlash he received when he made the black QB comment and suffered the wrath of White America. Grim and despair feeling-I look at self and my family. Hubby fought 20+ years for this country. I've worked 20+ years for this govt--&gt; Just want Saturday to be over but then again I want to do good #LSAT  $100 says Teufel is 'reassigned' within the organization before next year, but I wish it was sooner... #Mets #thirdbasecoach #terrible #lgm Condolences to the  JC and the Georges family.. #sad #welfarereform should not be a 'model' for . @AllegedLowbrow It's 'Eye-for-Eye'. Indian Army never forgives, Never Forgets. They always take revenge, Pakistan breaks laws, I.A follows @NeoFundie @fitchest Ha. Right. I'm from San Jose, CA, and I was offended right there with you. Dave, go on a walk or something next time. What an actual nightmare Bare videos online but does anyone get rehabilitated? Does anyone actually get help for their affliction? Or do we jut get twitter videos. @keprdad  BTW, George W Bush left office in ,09. We have had terrific leadership under Barack Obama. Keep America Great. Wishing i was rich so i didnt have to get up this morning #poor #sleepy  #sad #needsmoresleep #AskAMan but this does not sound like a #serious issue, cause siyahleka the whole time, just having fun Bloody hell Pam, calm yourself down. But could have sworn something black &amp; hairy just ran across the carpet, #perilsoflivingalone  Worst juror ever? Michelle. You were Nicole's biggest threat.  #bb18 Dad asked if I was too hungover to function today. Little does he know I stayed sober last night so i could get shit faced tonight 😅 Just like there is a right way to pray, there is a right way to give - not grudgingly or of necessity, but cheerfully. #woficc I don't think I can go to work tomorrow since val has left #GBBO I need a day to mourn If someone keeps #laughing at you, don't #fret  . At least u r giving #happiness .'\\n#quotes #quotestoliveby My prayers are with the family, friends &amp; members of @VCFD  as you mourn the loss of Engineer Ryan Osler. #LODD #RIP I can't imagine keeping malice with my brothers!! I shudder when I see siblings estranged and all As much as I want a normal little life.. It wouldn't suit me, I'd get restless, I need to just do what I want at all times to be happy 😊 @LiamJamesVernon love the optimism!! BLUE MOON! Be strong &amp; courageous. Do not be terrified or discouraged, for the LORD your God will be with you wherever you go. Be joyful in hope, patient in affliction, faithful in prayer. Romans 12:12 Getting terrible download speeds for fifa smh. I'd rather die alone then end up with somebody who can't be sober @LaraTheIrish &lt; feel everything. She would remember everything. Evanora hoped this would serve to fuel the creatures anger and run rabid &gt; @marksandspencer Where has your 50% grapefruit squash gone,not been able to get for weeks #unhappy Missing the 500th test match today , not able to witness it like watching it in India #shy #indvsnz #500thTest @BCCI Texans played horrible.  Bad play calling, bad protection of the ball, bad coaching, bad defense, bad overall performance. #Texans #horrible My siblings look all gangster &amp; I look all cheery 😅😂 @VivYau is it all doom and gloom? I only want to hear lovely things about airbnb! They used to laugh at her coz she couldn't afford a junky now they stare in awe while she is winning. it didn't impress me but it didn't depress me' @DSDambuster just finally started #homefronttherevolution, what did you all do the story and gameplay???  #wasteofmoney GUY was such a video I'm shaking @ladygaga Theyve substituted the hood for a badge and gun.' Public opinion is indictment of Charlotte police. #dark #sadtimes #america #race @RichardHBell Yes, I think he held a grudge ... I blame the whole season on Natalie! The season would have been so different had she not turned her back on her alliance! #pissed #bitter @A_RockasThe U.S. has added years to the Syrian conflict by arming the 'rebel' army. You would think that Iraq had sunk in with Kerry. @p4pictures it would be great but what if the card crashes 😱. It's happened to me twice #nightmare Top seed Johnson chases double delight at Tour Championship my life in one word is depressing Being alone is better than being lonely. Know what is worse than being lonely? Being empty; that's right!\\n #Loneliness #aloneinthecity  @BonesARP 'That is a disappointment.'\\n\\nHe fakes a pout, then starts to chuckle. @FlakeJay ring ring! #depression is here Halloween party coming soon! #turnt #ruinT #lit #firesauce #hotsauce #mildsauce #getsauced #champagnedreams #scary  #kittens @CharlotteBnntt that's the joke. I know it's incense @Lesdoggg take me with you!! JK. Have fun, relax, get a massage or two and chill. Don't eat the cucumbers, most places frown on that. A 'non-permissive environment' is also called a 'battleground' - #MilSpeak  Watch this amazing live.ly broadcast by @elise_awsome_11  #musically Watch this amazing live.ly broadcast by @evanhufferd #lively #musically @ZaidZamanHamid Speech is still not up to the mark. No mention of 'Genocide', Indian terrorism in Pak. It was all planned speech. @SkyNews err I wasnt gloomy.  17.2 mio people were not gloomy only #remain were #Brexit Hey @AppleSupport - how do I find my play history on new #ios10 #appleMusic #music #lost mustache_harbor: TiburonChamber plus a hearty pour of #yachtrock by #mustacheharbor ! @GroundSwellCLE @ClevelandCNBC @KingJames @mavcarter @SpringHillEnt @boughb #revitalize #ClevelandHustles #daunting task, #hustle #BridgetJonesBaby is the best thing I've seen in ages! So funny, I've missed Bridget! #love  #TeamMark @Disneyland #nothappy and still #charging the #fullprice 😡😡 #fuming some your #bestrides 😳😳 Can't start a good day without a cup of tea! \\n\\n #tea  #day #goodday Im think ima lay in bed all day and sulk. Life is hitting me to hard rn An @amityaffliction kind of drive home from work today #nightmare #dailyfeels @10carley what a sulky pants! @CNN Wait, didn't she get a case of the ass when Donald Trump called it terrorism BEFORE all the facts were in?  I guess it's ok if she does @CTV_PowerPlay @lraitt Horrid disease! My maternal grandmother and each of her sisters suffered from this affliction. It's hard on all. Do you think humans have the sense for recognizing impending doom?  @markhberman2003 @LanceZierlein @790blessing entire team from coaches on down played and coached scared from jumpstreet. #intimidated November #canola lost $5.50 to $464.20 per tonne. Happiness is the best revenge I have no clue where my charger is... #lost This provocation sets off a curiosity. An entity is feeding fuel to the fire. speaking quatrains. Hmmm America needs to be vigilant now Depression sucks! #depression @Policy_Exchange A plus point, she won't have to queue for the loos. Any more plus points? Nope, can't think of any  #sexism @97_aleix having a terrific game and not at all fazed #MCFC On the bright side with YouTube heroes leafy will finally get banned That grudge you're holding keeps making an appearance because #God wants you to deal with it. @jwonder81 @MacadamionNut well of course.Progress for the sake of progress must be discouraged. The problem is the substance of the rhetoric Get to work and there's a fire drill. #fire  #outthere #inthedark @TiganVarcolac &lt; feel this precious pleasure. 'Harder..' He whispered almost breathless and his index finger stroked along his waistband &gt; @__PeterPanda yes bro it's actually breezy When you wake up, scroll through social media, and another father was taken from his child #nightmare #everyday #KeithLamontScott Watch this amazing live.ly broadcast by @izzybuzy365  #musically 339:709 A local habitation and a name.\\nSuch tricks hath strong imagination,\\nThat, if it would but apprehend some joy,\\n#AMNDBots I swear if @devincameron23 blocks me I'm going to hit her back  @mikebairdMP @AndrewConstance @nswtaxi how many sex cases u need before u guys learn UBER is shocking to the consumer unregulated Do not truck the delight; delight the truck. Sometimes I watch shitty tv to reinforce never giving up cuz if something is that fucking awful on tv, I still stand a chance. #optimism @followAdamA looking back on recent tweets seen, this one right here is great #perfect #hilarious #Speechless #deal srry my feelings offend u 🤗 A good thing about being sick is that coughing is like an ab workout. Maybe my abs will be more defined by the time I'm better 😂😅  @frecklybellamy the walking dead, mr robot, american horror story, merlin @david_garrett Quite saddened.....no US dates, no joyous anticipation of attending a DG concert (since 2014). Happy you are keeping busy. @TheDuranSite Russian mistrust of the U.S is well justified &amp; the precaution they've taken are very prudent. British humour should offend and challenge mainstream views. Hat off to Clarkeson. The ultra left should go and kneel before Allah!! Take public opinion on revenge with Pakistan if govt is unable to decide. @aajtak @TimesNow @narendramodi omg i just heard my dads alarm go off have i really been up all this time Angelino's been horrific @williamcontrol just preordered The Pale EP... Would have paid for the phone call... But I would have freaked out and not said anything  We ashamed of being an ally to you. Pakistan sacrificed almost 50000 civilians by siding you in war on #terror @JudgeTedPoe @BeeTuppy We're sorry to hear about the issues and how this is making you feel. We don't like to hear our customers being unhappy :-( We I really wanna go to fright fest 😩 Just popped a half bottle of 2014 @Bellawines #sparkling #gamaynoir from Westbank. Evenin', folks! \\n#bcwinechat Everything is far away because time is short, no rest for the weary. @BIGGKATZ BUT arms (focused rage) is overpowered, it will be getting nerfed. It'll still be stronger than fury though @veroicone my typical shake is ~100g banana, 1c almond milk, 1tbsp chia and protein. Sometimes I add PB2 or ice or other fruit. Who knew softballs could sting so bad? Jimmy Fallon has been under a lot of heat for his &amp;ldquo;softball&amp;rdquo; Donald Trump interview incetown, age 23, joyful, elevated in hope with the I wonder what American city will be next to protest about police shootings. Who's next? Smh. #whenwillitstop #angry #howmanymoretimes @DeltaAssist Tried 2 get earlier flt 2day  @BWI Turnd away bcuz it was 2 late Then agent let other pas on #silvereliteleftbehind  Oh my. Watching #rage. It's been like, ages Carry on my wayward son, there'll be peace when you are done. Lay your weary head to rest. Don't you cry no more. #Supernatural Loading mirth out to be trusted websites: LKskQUfke I sulk too much for my own good. Don't wanna go to work but I want the money #sad Riggs dumb ass hell lolol  #LethalWeapon In serious need of a nap When you arrive at the office the day before your first ever festival and the Internet is down #panic Been waiting all week for this game ❤️❤️❤️ #cheer #friday ❤️ I like the commercial where @kohara19, on a chocolate milk bender, steals a soccer ball from some guys and refuses to give it back.  nadia bully me and ill expose you How in the world did Nicole beat Paul?!?! #terrible #bb18 #BBFinale What was the jury thinking?? 😳😳😳 It's sad when your man leaves work a little bit late and your worst fear is 'Oh no!! Did he get stopped by the police?!?! ' #sad #ourworld Awareness of time is awareness of time lost. #awareness #time  @marthalyssa yep. LOL  @luxbet Did you even give out any pizzas ? Serious fail #hungry  #hangry The liberal outrage over don king saying the N-word really angers me. The white yuppie progressives can go fuck themselves, shame on blacks Bill Clinton: 'Do not grow weary of doing good.' @ClintonGlobal #CGI2016 Kik me I want to swap pics I will post on my account anonymously if you wish Kik: vsvplou #Kik #kikme #snap #nudes #tits #snapchat I just deleted my save file trying to load it up. Now I have to start. All. Over. Again. I am going to freaking kill someone. Pray for me. LIFE TIP 101. I know unresolved #anger is likely to cause problems in several areas of my life. I must recognize it &amp; properly deal with it. @BossUpJaee but your pussy was weak from what I heard so stfu up to me bitch . You got to threaten him that your pregnant . Always be #cheerful, #smile often make others happy, care for others, help who feel helpless and #vulnerable. Life feels good #leadership I delete numbers so quick with no hesitation We Are Source!!\\n\\n#mindset #philosophy #thoughtsbecomethings #news #lifehacks #fear #you #LIFE #PleaseRT #ProblemSolving @PuseLepuru it's the irritation of not having found the corpse @TheOneSoleShoe that is one thing but attacking and hating is worse - that makes us just like the angry vengeful behavior we detest @rupindxr my heart actually sunk looooool I was so confused I assume that people pick up on my joviality coz I lol a lot but it's just not working. Maybe I need to get heavy handed with emoticons? Ha Some #people already talks about #Halloween \\nYou'll get some #dark #music to go with it\\n#gothic #bloody #HalloweenHorrorNights All in all a pleasing night down The Lane .  .  .  On to the next round &amp; bring on Liverpool at Anfield! #COYS @hyattd335 #Grateful for #novel #award #promo #RT - #Blessings DeWayne Hyatt #Hippie who loves to grind on the #blues #Florida It's not that the man did not know how to juggle, he just didn't have the balls to do it. \\n#funny #pun #punny #lol #hilarious @BBHOH #terrible Paul so deserved that win!!! #movie #ChildrenOfMen.\\n\\n#cages  #refugees @lynnew69 then he said talking about wills uncontrollable animals when moving to another link. These comments do not help! #fuming It's not going to break you it's just going to shake you Never forget that 5Live cancelled programs, to allow them to extend 606 so people could call in and detail their outrage after our behaviour People irritate my MF soul @jennylhowe I am angry at the student for being a racist, and the teacher for not stopping it, and at the class for letting it go by. Can we start a 'get Chris Sutton off our tv campaign? Spread the work #terrible #pundit #noclue Do not grow weary in doing good. The treadlines are better than deadlines.' @billclinton #CGI2016 @DPD_UK I asked for my parcel to be delivered to a pick up store not my address #fuming #poorcustomerservice @AldiToHarrods I'm still too nervous to try it. I need to man up and give it ago. At 12:01, Tumblr became sentient. At 1.:02, Tumblr posted gn animated gif about it. At 12:03, Tumblr shipped itself. Man Southampton will wipe the floor with  west ham on Sunday. So disheartened U know u have too much on ur mind when u find yourself cleaning a stove and kitchen by yourself  at almost 3am...  #pensive @knology has providing customers w/equipment that doesn't deliver speeds of internet services that they have been charging. #unhappy #scam @gatewaypundit Mostly animated audience I'd bet...green sceen folk...the ones that don't need air..! @Bietron 🤓 dont be sad.. btw good night davina..go sleep larh.. Feel so grim + ugly atm @PurpleReplisol meden is frowning at you with her non existent face Dear Indians..It is hard to swallow this but for once try to swallow this bitter pill...that is.. Pakistan is number one in Test cricket!!! Beats is accurately all-powerful with respect to high-quality high-frequency speaker in re the extra desolate relating to fire-ea:… @KurakkuSora he is.\\nSure his mind was clouded but...] I lost my blinders ....  ESPN just assumed I wanted their free magazines #offended @IPES_44 Mourinho is horrid It's not that the man did not know how to juggle, he just didn't have the balls to do it. \\n #funny #pun #punny #lol  @NebulaJoker No, they aren't. Episodes are animated during the week before they air. still shaking though 🙃 I'm due for a big change! I've prayed on it, I think I deserve it #positivity  My #Fibromyalgia has been really bad lately which is not good for my mental state. I feel very overwhelmed #anxiety #bipolar #depression @mattwruff sadly there is constitutional RIGHT to have abortion. Yet there is constitutional RIGHT to life. Safety net protects those rights As if he heard my thought on the ether, my #ex has just posted #facebook pic of himself snuggling up with said #cats... now Im just  @LBC - I can't read this article but headline indicates a horror story. Lock sick chavs up and throw away the key. @turoturok  We're glad to hear that everything is resolved. If you need anything else, please do not hesitate to reach out to us.  TY! Super shitting it about this tattoo  @Dubai92 try asking for a cheeseburger with only onion &amp; mustard at any #McDonalds #hilarious @Meruna_  as a musician, I can tell you that more people get discouraged when learning because of shitty instruments than anything else. Now this is getting out of hand. I'm freaked out by this death...and I'm God!! #mommaGrendel #intimidation Honestly depression is kicking my ass lately.. 😔 At my age all I see is gray. Is it gray because of my bad eyes or my perspective #depression  #healingjustice @TJ_FASHO lmao clown my own hair I'm going to dread lmao Like I can't do 12 hours worth of standing or calorie burning in 3 hours 😭😭😭😭 #1stworldprobs4vs @British_Airways just came of BA6426 at @ortambo_int at least 6 passengers with broken bags. This was a new suitcase. #unhappy customer @CazuaL_WeaR @ScottInSC looks like a book shaped like a gun to me  #itsagunalright Jimmy Carr makes me want to cry and cry *shiver*  At my funeral, when they close the casket, I want them to play, 'Call recording has completed.'' -@GlenEwing #lost #podcasting #talkshoe the Lord turn his face toward you and give you peace. Numbers 6:26 #truth #trust #promise #calm #justice #great #mighty #protected #delight My ukulele bag has fallen apart. 😐 WELLL AT LEAST my life hasn't yet!! #Joys\\n\\n#quote  #problemsolving #behappy @__Dayo yall dont feel bad.. you are rejoicing... it is what itnis... its always #ColtsNation even when we have 6th string DBs playing 😔😔 The only thing scary about a 1-armed man trying to scare someone is the fact that he feels his 1 arm is only good for tryin to scare someone @BigBrother__USA she is just jealous and a cry baby! #bitter #gladsheisgone #crybaby GKN so lively as well, mad quick @aroseblush Hello !\\nThe bigger the bully, the more crocodile tears. Bullies always act like offended victims. ok, ok.. I know.. my last tweet was  No one wants to win the wild card because you have to play the Cubs on the road.  Because of 'failure of delivery on time', a customer has to pay 16K rupees more! - Not good @tiagotatamotors @TataMotors #unhappy The new gun emoji in iOS10 is not enough to show the anger I have towards a number of things. Feeling like I've had the worst night of sleep ever - not great before the #London to #Brighton #cycle ride for @DMTFYP 🚴100k #apprehension? #Trump ’s ‘Make America Great Again’ plan is exactly like the first 15 minutes of the #movie #ChildrenOfMen.\\n\\n#cages #terrorism #refugees When someone rudely says all women should have long hair and your inner feminist tries not to rage @MMASOCCERFAN @outmagazine No offense but the only way this makes sense is if you work for the magazine. Otherwise,who are you apologizing 4 @NFYFC @Wilkster_ hmm, don't know many yf  who are short on confidence! Wish I'd been one,  @Gibberman10 @ScottHoward42 any of y'all remember when MLB tried a futuristic jersey those were all  @JennyPGR I worry about typos in any email to Simon, draft attached or not... Am I watching #BacheloretteAU or Zoolander ? #hilarious #samvrhys Can't believe how nervous I feel tonight...who feels the same #mufc @HillaryClinton @realDonaldTrump @BonfireLana #bully #Bullshit #fullofshit please take out the #garbage Tend the sick, Lord Christ; give rest to the weary, bless the dying, soothe the suffering, pity the afflicted, shield the joyous; @Berbaqueue @_indubioproreo shocking work ethic by our players, Rooney stifled by their laziness One of my favorite classic cars is the Plymouth fiery. There is no dark side in the moon. In fact, it's all dark.'\\nGerry O'Driscoll at the end of 'The Dark side of the Moon' Watch this amazing live.ly broadcast by @brooks_swaggysquad  #musically @Hoopdawg87 @MickThePerm Meanwhile white cops keep killing black people. But there's less outrage about that. Strange society that. A cheerful heart is an unending banquet.- Proverbs (Mishle) 15:16 Getting cable hooked up in new place just in time for @NBCChicagoPD and @NBCChicagoMed premiers is like God smiling down on me. #OneChicago We're all in D. T. (Discipleship training or detox) for something. #messy #fearful #cutoff #choosefreedom #CryOut16 @VerizonSupport thanks for saying My wife and I were getting our iphones today and then losing both of them with no ETA #thanks #angry Kayaking is merriment together with sevylor inflatable kayaks: eYGgJxMl stg I been in pine bluff all morning and to piss me off even more, my damn shoes came in as a size 4!!!!!! I KNOW I SAID 6🙄🙄🙄🙄 FML #smile every morning to a positive head start with your #clients relations @leesyatt you are a cruel, cruel man. #therewillbeblood  If you have the ability to make someone happy or to make someone #smile, do it! The world needs more of that right about now. #CreateLove ☺️ Accept the challenges, So that you may feel the exhilaration of victory.\\n\\nTOMIHO IpaglabanMo TapingDay2 @BBCSport too dull for the UK. @EmotionalLimine you're sadly mistaken if you think I'd make a tweet for an isolated comment by a random twitter user. Just paid for chicken at @panerabread and didn't even get any 😑😑😑 there goes 4 dollars and me as a customer  Everything you’ve ever wanted is on the other side of fear. –George Addair #ThursdayThoughts #yourpushfactor #fear #life #quote @eachus At least he's willing to discuss, better than most. That and keep the insults light with occasional levity or creative BS-ing, @CNN yes. Too many cops. And too many ppl who should have lost their lives r still alive. @MoAmali @awosss @Arsenalman2011 listen I dn't subscribe to this team coq Team xhaka stuff. I like all our players. Depth has me elated Watch this amazing live.ly broadcast by @kaylaaa_sartorious  #musically PM #SheikhHasina in @UN speech terms #terrorism as global challenge and urges world leaders to work together to unroot it from everywhere. For a team as big as Bayern and the they like to play football, their pitch is fucking dreadful. Certainly no Emirates pitch anyway. Hate being sober so I popped two Pops are joyless, soulless toys which look nearly identical.  They are the perfect expression of consumerism.  'I enjoy this franchise' Bitch worry about me more than I worry about myself 🙄😩 Angry shouting match between a #pessimist &amp; an #optimist:\\n'You're a half empty-headed @%$!' \\n'You're half full of @%$!' @cburt43 turn that frown upside down @HebertofNH any time a man who got paid to throw temper tantrums speaks up, you gotta listen. When your rewatching glee and break down in tears all over again. 😭😢 #glee Follow up. Follow through. Be #relentless. #success Nawaz Sharif's UN should start #सत्य_बोध_यात्रा as after all his #UNGA speech has awaken the world about their role in sponsoring #terrorism @xxmariab listen yh don't provoke me cos I'll make you cry You know, you're pro-actively playful. You want to press your boobs into my face, Tatenashi. I'm not saying no, though. =3 You know what's great about #GBBO ? Contestants helping each other, cheering each other on. So important. #smile is the #respect we give everyone. @Myahrissavietta I'm cheery now 😘😉 @RealPaulWalker R.I.P Paul, furious 8 can't wait I like the commercial where @kohara19, on a chocolate milk bender, steals a soccer ball from some guys and refuses to give it back. #bully the ending of how I met your mother is dreadful @alyssasimpson21 I gave up KENDRICK LAMAR to eat barbecue with him.  We express our deep concern about the suspension of   @MohammedSomaa01  please reactivate it. he never violated T.roles @Support my momma irritate me asking all these questions like gone 😤 mm nothing like a good old fashioned panic induced cry on your living room floor How do you ever stop being #afraid of someone that you live with @TaraSetmayer @oliverdarcy AA have the right of passage when it comes to the 'N' word.  Why should he insult him in his church.  Ignorant! I love Mary's undying optimism. You could present her with dog shite and she'd find something good to say. #GBBO Tomorrow is the day I cut and dye my hair! 😳  #excited @realDonaldTrump @KellyannePolls New campaign slogan idea...'I know you are but what am I?'  #Trump2016 #yourefired #deflect Watch this amazing live.ly broadcast by @brooks_swaggysquad #lively #musically Forgot to plug the phone in overnight #nightmare Val is far too cheery for my liking ✋🏻 Watched tna for the first time in a long time what the hell happened to the #hardyboys #impactonpop #wwe #terrible Grateful for all the hungry people in my life! Hungry to learn, change, grow, help, etc - not sure anybody has it better! #relentless Use your smile to change the world. Don't let the world change your smile.' #quote #actorslife  #love #hardworkpaysoff #fun @musicfae15 [He grumbled as he sat atop the sushi bar stool, crossing his arms defiantly, in a playful gesture, though he gave anyone who &gt; Free live music in DC tonight!  #blues with #MoonshineSociety at @thehamiltondc in the Loft starting at 10:30pm @FreeinDCBlog @WTOPFreebies #Always #borrow #money from a #pessimist. He won't #expect it #back. @iamnotatwit Or did I lie and cut 5 years off my age to be young and spry and hire-able in Hollywood? #thegoldbergs Some moving clips on youtube tonight of the vigil held at Tulsa Metropolitan Baptist church for #TerenceCruther #justice #anger #sadness @STLouis_RamsFan their whole team is limited when they're on the field.  #terrible the Lord turn his face toward you and give you peace. Numbers 6:26 #truth #trust #promise #calm #justice #great #mighty #protected  @residentadvisor thanks for getting back to me, exemplary customer service for a loyal customer #jk #awful #residentadvisor #poorservice @thomeagle Just to help maintain and boost our status as a world class centre for education, culture and tolerance.  #WeirdWednesday OKAY! That jump-scared the #Poop out of me right there. Bad dog, BAD! Total code-brown in my favorite pants. #Damnit  When your body says FUCK YOU BITCH, You ain't sleeping\\n #sleep #cantsleep #drained  SOMEONE LET SNAKES IN MY HOUSE, I BET IT @Ya_Boi_Huck I KILL THAT BUGGER WHEN I GET MY HANDS ON HIM #rage #HuckFP2 @dc_mma @ChampionsFight think shes afraid to fight Holly. One can only imagine what goes through her head when she thinks of Cyborg  Watch this amazing live.ly broadcast by @kana_blender  #musically The bubble has officially burst. 98 boys to beat for the trophy and all the glory #wptmain #bye Vale! Vale! Sip sangria and taste tantalizing tapas @ElCidLA  's fiery flamenco nights! #MinutesFromHoM #SilverLake #LA #Flamenco I #love to #laugh and share #laughter as way to share #joy Watch this amazing live.ly broadcast by @thebrandonrobert #lively #musically @DeltaDomain @SawDraze @qurions dis dat nigga from fume right? I get so much PUSSY\\nP - panic attacks \\nU - uncontrollable anxiety \\nS - suicidal fantasies \\nS - sadness \\nY - yearning for death Leave it on there, rule,nimber 1 of carpet cleaning!!!  #worsethananatomicbomb #accidentlyspillbeeronthecarpet Put my passport in a safe back after getting back from Australia 🌏. Only problem is now I can't remember where the safe is!! #panic 🛂 Step over #fear and rely on #faith! @rkuuleiq Fear is best/beast product of God/s. :) #aTheism #theism #biBle  #christianity #hell #heaven #purgatory #psychology #jesus We are elated to have @lisavol, Sid Espinosa and @dyuliharris, ready to inspire innovative students!!  @knightfdn @MicrosoftSV @JessicaWeare @FatedDancer ~together.' Hermione  lowered her voice slightly, sounding somewhat  bitter, perhaps even  rueful. 'That would only get you~ @questlove when are people going to realize that these 'riots' are just perpetuating hate. Saying you're going to boycott a city!?! #lost Happiness is always there. You just have to choose to see it. There's no point dwelling in the dark and ignoring the light of the stars. I can definitely feel my irritation today, lord give me strength In dire need of a worship session to just let go of everything Dates in the glove box' is pure panic excuse #GBBO @TeamShanny legit why i am so furious with him, people are such fucking idiots. @megynkelly We should be ignoring these rioters like the current administration ignores #terrorism. This will obviously make it stop. Finding out my two best Fwendz are going to rage with me at @lifeisbeautiful makes this last week of no sleep extra worth it @missmeliss465 @WellWeds @siggyflicker @whispernghope @mcrichard awe I feel so bad being naive ou is the worst @MerenthaProphet - the Hunter in this way, content and joyous in simple, domestic bliss? I cannot wait for word of who you truly are to - @ArcadianLuthier -- taking out his feelings on Kei unfairly. His lips form a frown as he tries to walk away. @BlairWitchMovie love new movie\\n#BlairWitch #blairwitchproject #horror #HorrorMovies @Will_0004 No justification for shooting without provocation, even if the person has a bad history. Justification is not the way to go Lets start there @marielleblaine8 @princesskeilani I told pine I didn't want it so I didn't have to have it Yet we still have deaths, road rage, &amp; violations on the road, despite a widely accepted concept of 'personal accountability' while driving angry already @R1Breakfast Totes had to re-listen to the endless hilarity that was Tom Odell's 'raaar' this morning 😂😂😂 @grimmers @fionaradio @TinaDaheley @MrHenvin Thank you, happy birthday to you as well! @EAMaddenNFL @EASPORTS I played a game where John Elway was sacked 3x and fumbled all 3x. Is this the same John elway I know of???  @lucy_hyner @Soulboy2266 sadly not !! One less hour drinking time 😢🍻 7 pax enjoyed the #gloom @Clayorangecrush @F3LakeMurray being bitter only hurts yourself lmaooo After spending £450 @Debenhams I was offered a £5 voucher. I asked if I could spend it at weekend? Was told 'no valid today only' #unhappy @SWP_Roads   How dull. @sarah_urbina why do you even beef Sara you let the anger get the best of you, you and Sagin been friends for how long? @RossKemp great programme tonight  #upsetting #extremeworld @Cory_Bonini AP didn't have a productive week 1 or 1st half against GB and Kalil is horrible! @Vikings D is its strongest asset currently. Because you offended by the lies of Alexandria Goddard doesn't mean that I'm Deric's friend or anything else. Purely a fishin expedition. @keithboykin unfortunately it won't end there... followers of whichever candidate isn't elected will throw tantrums. No winning this elec don't put famous dex in a tweet with breezy lol chris is that guy dex a bitch lmao n music ass Tomorrow is going to be a challenge, I have to talk at a freshers fair to STRANGERS 😁and pick up my new flat keys #anxiety Why is it when you nap during the day you are so comfortable but sleeping at night you'll never be as comfortable  @tunaeP_ cheer up☺️ Fake people irritate me Shoutout to the drunk man on the bus who pissed in a bottle and on the seats  In wake of fresh #terror threat and sounding of alert in #Mumbai, praying for safety &amp; security of everybody in the city #Maharashtra #news Dark, dense, and exhilarating come the finale, #HellOrHighWater is a gripping watch. the 1975 are playing antichrist why won't @sundarakarma play hustle it's an outrage What a sad evening - clearing out all of Harvey's cage and belongings. Now so final. Goodbye my little man.... #depressing @ChowdharyMahima Appreciate ur 'half truth.' Don't let ur good judgement swayed in the realm of propaganda. State doesn't sponsor terrorism. @johnaugust @clmazin I was so looking forward to @ABCDesignated. Then it opened with a #stuartspecial. I literally yelled at my tv. #umbrage Are there any #horror sites that would be interested in my writing a guest article/review? Been really craving a literary outlet lately. The current run of superman continues to be a delight! You can feel the love poured into it by everone on the creative team #superman you know cyran still hasn't done makeup based on jeongguk's tiddy like i suggested and i'm #offended Brb going to sulk in bed until Friday @LacesUntied_ yea lol catchy you fret After #terror our leaders say, 'Don't jump to conclusions,' but [in matters of #racial unrest], they are silent. Why is that? @greggutfeld @sandym709  regardless, lets say he has a permit. The permit doesn't excuse or allow him to threaten an officer(expressed or implied)w/ it. If you really care like you state @flyfrontier @FrontierCare then I would seriously address sensitivity training to your employees #awful @Fatumoriginal there's no sitcom better! If u can't laugh at Sheldon or Leonard then u are sober for real! No two ways about it I didn't find out about this till today due to my bff telling me. I am so disgusted and offended by this. Punchline king is back! @Paedeezy 🔥🔥🔥🔥🔥🔥🔥💯💯💯 #bright city lights Bloody parking ticket 😒💸  When health insurance won't cover TMS but they let me know they cover ECT #mentalhealth #psychology #depression #TMS #ECT @sydneyswans #cheer #cheer the #red and #white we are now off to #grand final to #win the #fight. Thanks @JetstarAirways @cc_yandian @HillaryClinton her team must draw from a hat for daily personality #drugged #angry #yeller #quiet #screamer #😂😂 @SherriEShepherd because #whitepeople are #afraid of large #blackmen? It's not that the man did not know how to juggle, he just didn't have the balls to do it.\\n #funny #pun #lol  #punny It was an #amazing #start to the first #fall  day. Will it be an #Indiansummer #India right of reply at #UNGA - #Pakistan preaching of human rights is by a country which is itself the global epicentre of #terrorism #Jazz - the #blues is the roots, the rest is the fruits And I won't even get started with Hillary and her fancy fundraisers! #depressing Halfway to work and I realize I forgot to put on underwear....It's going to be one of those days! #mombrain #toomuchgoingon #longday  @Just_Alasia I agree. Btw, have u seen Ep22, Granger, O?  That was the episode when I knew Anna was coming back, the conversation at start. Going home is depressing What a horrible track lakeside is 😳😳😴😴 @caeruleusV @Atheist_Penguin @misogynaut I threaten you because I can pussy Now it's time to remove CB from the team somehow. Screw it. Rip the Band-Aid off. It'll sting for a bit but everyone will get over it. Going to get myself a copy of @StephenKing's CUJO for an upcoming project that I can't talk about just yet. #horror #amwriting so I picked up my phone!!!' #shocking 😳 Bitches aggravate like what inspires you to be the biggest cunt known to man kind? @V_of_Europe @ckolacia MSM relentlessly saying DT can't win to: depress GOP turnout &amp; provide cover 4 stolen election! @jetmissTee I thought I peeped him on your snap. That's the homie ✊🏽 lol @GuardianAus @Paul_Karp Maybe 49% support no #Muslim immigration cos they perceive the risk of #Islamist ideology &amp; #terrorism as too high? wonder if at any point #BobMarley ever actually became #afraid of just how #high he'd gotten. :o #420 Donnie trumpeter is a vapid and vacant vile viper slithering through the landscape and playing on the gears of the fearful and afraid. It feels like there are no houses out there for us. With the most basic requirements I have, there are literally no options. #discouraged Getting my comedic relief w/ @SofiaVergara during season premiere of #ModernFamily. Just what a girl needs!  @stoozyboy1 @chris_sutton73 😂😂 Oh the zombie rage 😂 my husband lost £800 when he booked an apartment through @Airbnb that didn't exist... @AirbnbHelp didn't care  #airbnbnightmare My bus was in a car crash... I'm still shaking a bit... This week was an absolute horror and this was the icing on the cake... #terrible @AHSFX thanks Ryan &amp; Brad for scary the shit out of us in the first episode. Don't think my heart will make it through the s6  Absolutely can not believe the generosity pouring out for us, but Id give everything I have for Nick to be healthy and happy. #lost Ignored broken tooth for so long, now have abscess. Need dentist but #fear makes it hard for me to go..45 and still can't go to dentist Late night #thoughts. Feeling . @JrDingy96 Ikr people still got a grudge against him for no reason like wtf?! and naoto nod she also like tha bands. but she also frown. 'Will the bands 'Papa Roach' be at concert...?' @LouisFil just curious as to what you mean. No rush, no animosity, no disdain. When you burst out crying alone and u realize that no one truly knows how unhappy you really are because you don't want anyone to know Knowing how to cook is invaluable, what's even better is that even in a 400 sq ft place, I have wide and hearty homestyle egg noodles. Fee otherwise tricks: palm oil delegation mt jaunty resident: TZxCHLdAQ #My #blood is so #bitter for satan to test #becouse #cleanse by the #blood of #Jesus christ....#amen. Im kind of confused.  The one thing i do right now has a great future, but on the other hand so does the new thing .  #needhelp I'm slugging vitamin D pills by the handful, like they were m&amp;ms. When will this eternal winter end?! #Melbourne #grim #overit @DrSRSheikh: And who asked you to gate crash with your dumb idiosyncrasies when sober people are analyzing a situation!\\n@BanoBee @AK_Forty7 Today was horrible and it was only half a day @casillasbreanna awe thanks girl 😊😊 Just want to be a dad so i can play kick the baby with my little one #southpark #mellogang #ghastly #edm #plur #dad #djlife #dj #producer @LazyBoiSam blues... blues? 🤔 @5ftanomaly aside from that i'm all about pleasing the individual that i'm involved with, my pleasure comes from their pleasure. In ever use to like smiling until I realized how good my teeth look ... Witout the braces Like, 'loon attic'. Luckily it quickly sunk in that it was the wrong pronunciation, but I still couldn't stop saying it. It just stuck. Today has dragged on #restless @thetwattickla @NottRihanna lol no it's sparkling wine I'm such a fan of endless #laughter with #friends and enjoying #happiness together. #FridayFeeling #weekend @fireemblemlord it's the first expac since wrath that feels like a proper 'evolution' of the game for me the bee sting still suck i feel sick i wonder how gleeful it is to be dumb af and see the world through rose tinted glasses @alivitali that's what I'm afraid of! not only was that the worst @EGX that's I've attended but worth one of the worst cons I've been to in the last 5 years  I'm scared that my coworkers are going to submit me to one of those 'wardrobe makeover' shows. #fear #fashion Never make a #decision when you're #angry and never make a #promise when you're #happy. #wisewords Fucking gutted, disheartened &amp; so pissed off.Gone from 1 off the toughest most resolute defences to the worst &amp; most shambolic #SCFC #STOHUL @shwood @mpforstein OMD you 2 are cracking me up! Thanks for the follow Brian. I need some levity to balance the cynicism I share w/Michael😀 @FlannelJedi This is why I drink and watch You're the Worst as a way to cheer myself up. @RealMichaelKay Annoys me to about the Ortiz tribute too, how would the Oriole fans and organization feel if Yanks did that to them? #awful Time wounds all heels.\\n\\n #DrunkJesus #rt #lol #wisdom #quote #comedy #self #Revenge  #hate #time #funny #politics #Trump #POTUS2016 @talkRobyn oh dear I have to watch this the woman with the pout did well @harowe this sad truth! Grateful for all the hungry people in my life! Hungry to learn, change, grow, help, etc - not sure anybody has it better!  Sickness bug! #awful @obyezeks \\nWe can't forget d past.But while we apprehend and punish d culprits of the past,are we going to allow d present to slip away? Tasers immobilize, if you taser someone why the fuck do you need to shoot them one second later?! This is really sick! #rage #wtf  #murder @hotelplanner I stayed at a hotel who  packed picnic lunches to take on the road!! #BetterTogether @Redlizzy1 @NewfieChic @Ladybug_Vic Only Geo is capable of cheering me up❤️❤️❤️ Wow the #Denver housing market is #depressing no places to buy in my range 😢 #FML When someone tells you they're going to 'tear you apart' and all they have to say is 'why are you so tall?'  I got a NO RESPONSE again from an #irate customer of #amazon 😞😞\\nwhy can't they understand that it's not always amazon fault..\\n#carrierfault Just put the winter duvet on ☃️❄️🌬☔️  #Awareness seek #shelter .#Letgo Old #habit of chasing #desires resultin in #anger #fear #worry .#Choose #Satisfaction within #Peace #Relax Girls with hairy arms scare me @justyne_haley it does. if one person ruins season 13 for me, I will be so angry @aIakazamjackass been better. It's really stupid don't worry @stevie7t Why does talksport sound like it's being broadcasted from someone's basement  #quality #amateurs @CBCNews Canada should be a driving force of democracy freedom rights - instead we help #dictator #misogyny #Sharia #Islam #terror #polygamy Live simply. Dream big. Be grateful. Give love. Laugh lots. - Unknown #quote #inspiration  @soyoprincess they irritate me. Them and their inch thick made up masks can't believe Mint fest is two days away and i hate my outfit 😩😩🙈  Why does @dapperlaughs have to come to Glasgow on a night I am working. I am fucking gutted, been waiting for an appearance for ages  Groom gloom. People often grudge others what they cannot enjoy themselves. @DanRather What King says doesn't matter. The fact he came w/ psycho Don is by far more of an affront. So my Indian Uber driver just called someone the N word. If I wasn't in a moving vehicle I'd have jumped out #disgusted  It is a solemn thing, and no small scandal in the Kingdom, to see God’s children starving while seated at the Father’s table. -AW Tozer @zavvi @zavvihelp only offering 6 moth warranty #ps4pro #shocking #truth #ripoff That free kick from Rooney was awful I feel like I am drowning. #depression #anxiety #falure #worthless @ESPNLosAngeles best segment so far by @marcelluswiley @Kdubblive  hilarity People always tell me that they don't expect me to have anxiety because I'm generally cheerful and don't act the way they expect me to. .@Travelanswerman: When U ride on a pile of salt life is extra sweet! Always salty always savory! #surfing #aloha #smiling … All hell is breaking loose in Charlotte. #CharlotteProtest #anger #looting #Anger or #wrath is an intense emotional response. @Nick_Offerman I'll be there!! Can't wait for all the ! @UltimateBoxer My heart because you left me for so long again\\n\\n*slight pout but it turned to a smile*\\n\\nheheh just kidding, no I'm fine- @bear_ing you asshole... you made me sexually attacked to a animated bear :-P there’s shaytan in this room wallahi its been dark all the time now the lamp is on!! omg shaytan *violently screams at the four winds* WE AINT EVER GETTING OLDER *cute jovial rhythm starts* *moves hips along and waves arms in the air* I have another test tonight #nervous @DiscordianKitty He has charisma? I guess, if you like people who looked coked out and speak as if they're a school bully? Men in rage strike those that wish them best. #rage #emotions #negative #positive #wish #strike #martial #arts #control #believe #best #hope Wearing all black tomorrow as I continue to mourn the lives of the most recent victims of police brutality. #blackout #WU I'm about to block everyone everywhere posting about the storm. I think everyone is aware of the damn rain and what not so quit. #damn  Literally being here makes me depress tbh @markoheight @Cassie_OB we sound like vampires saying we wanna sink our teeth into the TT lads and their talents 😂😂😂😂😂😂 why do i have such a thing for dark curly hAIR My view of the human being is as a dynamic expression of the Cosmos we exist within #humanism  someone come to fright world w me🤗🤗 in my dream....They were trying to steal my kidney!!!  #blackmarket #whydidiwatchthat @SusannahSpot I could pop round  Why does Candice constantly pout #GBBO 💄😒 @Netflix_ME penny dreadful season 3? 15 minutes of yoga to your breakfast routine will change your day #preparation #sunriseyoga #bodyawareness #health #yoga #smile #stretch @lindseylouwho_ be nice if the Texans could hold onto the ball to give fuller and Hopkins a chance!!!  #TNF Candice's pout gets more preposterous by the week. This week it's gone a bit Jack Nicholson's Joker. #GBBO We in our own country are so divided in our approach so how could we fight #terrorism and #pakistani terrorism #MartyrsNotBeggars The man who is a pessimist before 48 knows too much; if he is an optimist after it, he knows too little.'\\n-Mark Twain @_Kdddd drop some off at 1133 cheery I need some to help with my anger Ooh #hygge, candles, jasmine tea &amp; #GBBO  BANG! Gordon #Brown has been accused of abusing a gazillion #rabid parrots! @donna_bellav @SoniaRayS @gig_aholic He looks especially lovely. Sadly, I do not *removes potentially indignant Mr D from convo* @ksmitely @CitizenMeh I feel strongly that we need to work together to right this dreadful wrong. @MoneyJay901 hard to tell in your pic. My mistake then. Either way, nothing I said initially was about race. U took it there. #sad #ignorant . @UNFCCC @uncclearn The problem is the time it has taken to do this means its going to be out of date already. #sadly On the bright side, my music theory teacher just pocket dabbed and said, 'I know what's hip.' And walked away 😂😭 my alarm clock was ringing this morning n my flatmate knocked on my door and asked if i set anything on fire or if i'm burning alive :) :):) @janhopis I found the first few episodes of Bojack incredibly funny. Then it got less funny but I stayed for the #drama Fosu Mensah is having a complete nightmare! It's the reason all Northamptons attacks come from the left. @hannah_2401 hannah stop being mournful and chill 💁 @Damn_It_Dillon @SamUndomiel of course! This is a happy hentai, not a sad or gloomy one I'm afraid she's the goat you libeling people?  #goat #libeling @ManUnitedWriter He has had a dreadful first half, not to mention rashford would've got on the end of a couple of those through balls #pace Anyyyyone wanna go to fright fest with me on Friday night? 👻 @warFarePower dip it in boiling water @MaryamNSharif I think just becz u have so much terror in pak nd urself being  a leader u forgot d difference btw a leader nd terrorist ! @SusannahSpot I could pop round #nightmare I can't even right now #bb18  Praying for the #Lord to keep #anger #hate #jealousy away from your heart is a sign of #maturity #conciseness New play through tonight! Pretty much a blind run. Only played the game once and maybe got 2 levels it. #Rage #horror Background. Suffered a bit at times of #stress. Always a bit #shy. About 8 years ago (aged 30) I was made redundant. That's when it started Yahweh your God is among you, a warrior who saves. He will rejoice over you with gladness. @ChronAVT ummm, the blog says 'with Simon Stehr faking 7th'...I'll expect an investigation forthwith. This is an  Watch this amazing live.ly broadcast by @__.mila.__  #musically I am using twitter as a coping mechanism for raging out at this kid oops? I had a dream that I dropped my iPhone 7 and it broke T_T #cry #iPhone7  #BB18 Michelle crying  again #shocking #bitter He's  just not that into you 😢#TeamNicole Jay Z and Brad Pitt cheated ..Bey stayed Angie left #cheaters #love #lust #sex #couples #relationships #date #marriage #divorce Yo Yo Yo,my name is #DarthVader \\nI feel like I need to puff on my inhaler (I'm no rapper but that was some sick bars) #breathless #bars #rap @rumanaa_r @DaiIyRoasts what did I do to offend you? 🙄😭😂 @Callidissima @ahouseingotham wrath of khan is one of the best movies of all time How much time should I give to my friend who lost his laptop to mourn before I can ask him to give me his laptop charger and extra battery?? Wah just woke up frm a fucking nightmare @chelseafc let them know it's the  The joyful tambourines have ceased. The noise of the jubilant has stopped. The joyful lyre has ceased. -Isaiah 24:8 We're very busy #coding a whole network manager for #unity3d based on #steamworks networking. #gamedev #indiedev #3amDeadTime  #game How am I supposed to intimidate the freshman if half of them are taller than I am?? @MoneyJay901 hard to tell in your pic. My mistake then. Either way, nothing I said initially was about race. U took it there.  #ignorant Swear all of my guy friends are scaredy cats. You don't do horror movies. You don't do haunted houses. Wtf do you do then? jamming out to fury in math class wanting to die hbu I love my black people..... I really really do. But .... my people really do irritate the living hell outta me all cause I'm different. 😑 Candice on great british bake off with that pout does my head in 👊🏻🙄 @YahooCare data stolen in 2014 and only now do you tell us . Huns are like a box of coffee revels  Nahhhhhh @konanplaydirty snap story has got me bussing up 😂😂😂😂😂😂😂😂😂😂😂😂😂😂 Well my evaluation came back and i am minimally effective. Student test scores on the PARCC sunk my eval. it's time for me to quit teaching @MCFCDenver doing the exact same minus the beer sadly Jeans with fake pockets #horrible penny dreadful just cleaved off a fraction of my heart Just #terrible from the cats there. Wow. #AFLCatsSwans @Burnt_Out_Darth @theaterofscifi thanks. #nightmare Ready for my sweet princess to arrive. I'll he 37 weeks this Saturday! #excited #nervous Still salty about that fire alarm at 2am this morning. Because it was a perfect illusion, but at least now I know what it was.  #ladygaga #iscalming#mysoul And the weather so breezy, man why can't life always be this easy im so mad about power rangers. im incensed. im furious. horrid having a car n no liscence @WestHamUtd poor service tonight to find season ticket holders in the seats we purchased online. Forced to move further away #unhappy Right i may be an #sufc fan and the football maybe shit but marcos rojo for #mufc has had a shocking start he's just dreadful @HannahFJames I'm distraught! 😭 Candice and her pout can piss off What terrible thing to see and have no vision-\\n\\nHelen Keller-\\n\\n-Begin with the end in mind-\\n\\nStephen Covey-\\n\\n#whereareugoing #relentless Well this is flipping great! Flipping standstill on the freeway! #anxiety #stepofftheledge #youvegottobekiddingme @Christy_RTR @doge_e_fresh I'm despondent Everywhere I go, the air I breathe in tastes like home.' - @The_Currys #restless $SRPT Why would Etep patients &amp; Mom's advocate for a drug if it did not work? Anyone listen to the Etep MD's @ Adcomm.. all were elated. @jaybusbee Well, not Archie. No offense but he's kinda old. come on let's make em hate 😘make em pout they face 👿😩. I really hate Mel and Sue. They think they're hilarious and they're just awful when you find out the initiative isn't even a thing 😧 #revenge @JuliaHB1 Bloody right #fume @JohnRMoffitt This is the most grim piece of laughter I was stricken with all day. Watching Avatar and wondering why I took so long to watch this *collapses in a joyous heap* #Charlotte's #young &amp; #restless; I applaud ur fire bt always b respectful of authority, police, elders, parents. Violence, not the way 🙏🏽✌🏽️ Thinking about trying some comedy on youtube. Always been fond of it. Time to nut up. #laughter #comedy #maybeoneday #hopefullyfunny #LOL @jodikantor @nytimes only if YOU will pay for them and YOU will be responsible for them and their doings. #sober #real #blind Accrington Stanley? Who are they? Exactly. Things looking dire for West Ham despite the win. What's changed since March? #bbcfootball If I were assured of your eventual destruction I would, in the interests of the public, cheerfully accept my own.' -Sherlock Holmes- If you think you're good to go already, don't worry about it. @wabermes The @RavalliRepublic had a good one but then the reporter quit.  When u /only/ talk 2 me or ask me 'how r things' just 2 get 2 say something u want, 4give me if I'm not elated 2 start a conversation with u #NawazSharif says lets end #terror. Sure, let #IndianArmedForces target the bases without #Pakistan interference #Karma? @savageimiike one of my favorite songs brother, real talk. #rage ordered my vacation bathing suits. one less thing to fret about. Cheap pout my brodcast @SilkInSide @TommyJoeRatliff that's so pretty! I love the sky in the background and the purple highlights with the dull colors is great If you let a general tweet offend you, you definitely shouldn't be on twitter. I am always ready to #smile. Don't think I'll hesitate to run you over. Last time I checked, I still had 'Accident Forgiveness' on my insurance policy... @laura221b I've left it for my dad to deal with 😂 My work is done as soon as it's felt the wrath of my slipper 😷 Depression sucks!  @FraserKeegan just had a steak pie supper #tremendous Y'all tune into Snapchat for Beans funereal @Markgatiss I'm surrounded by those Trump voters. You're right, it is fucking terrifying. #redstate #despair @bt_uk why does tracking show my equipment delivered, when it wasn't? Why is my service suddenly delayed? We've already 3 weeks.  my alarm clock was ringing this morning n my flatmate knocked on my door and asked if i set anything on fire or if i'm burning alive :) :):) I think what 2016 to really needs to round it out is a @cthulhu4america vs @smod2016 twitter debate. End on something joyful, ya know?. @JasonBHampton it's Bowers. I went and drove it for a while this evening #horrible The weather sure matches the mood in this state today.. #gloomy .@SimonNRicketts if you don't know what a patronus is, I don't think we should have to tell you  I am so happy I have come across @HilltopBindery notebooks! #handmade would love to talk to you! #musthave #want #need #happy #amazing 📖🖋 Scored madden 13 on vita for $20AU today.  Bloke didn't know what he had. I'd have happily paid $70 🤑 my only ever bargain! #bargain #vit What terrible thing to see and have no vision-\\n\\nHelen Keller-\\n\\n-Begin with the end in mind-\\n\\nStephen Covey-\\n\\n #whereareugoing  @suavecitamay sparkling water is nice you know I tried it the other day Nick said he's territorial and he'll growl if someone gets too close to me #hesananimal Lady gaga fucking followed i have been waiting for this day for ages it fucking happened im shaking thank you so much @ladygaga ❤️ Since the 'update' my @iPhone loses power nearly 40% faster.  #furious Wanted to get him a cake with sparkling candles but he doesn't like cake😒😒. Ruins everything @sszmata @PKessel81 Blew up the Internet with his chirp. Lol. Love it. Lmboo , using my nephew for meme  Dear future big brother players, just chase dick all season and you too can win 500,00 dollars and an Sti #bb18 #bitter I need to stop second guess myself and just go with the first thought and go with it. #relentless @Courteoussoul @MattyMcDee I'm at 349 and just decoded 20 or more blues and not one was over 340, where you getting your blues? @drunkejt almost all of my mutuals intimidated me at some point or still do @cxmbeferre so you WOULDNT date me?????  Look at this #massiah of #youngleader\\n#Pakistan #massiah of  so gutted i dropped one of my earrings down the sink at school @ryanwilson2015 That's why compatibility is key as it lowers hedonic volatility. #NawazSharif confesses that #Pakistan  supports #terror at #unga\\n#BurhanWani With loyal heart is concerned. #somber I feel ghastly and I'm really hoping it's just a post-birthday slump. Back to full research mode tomorrow either way. @realDonaldTrump She blamed Benghazi on a YouTube video. She blamed emails on #ColinPowell. Now she blames #terrorism on you. #weakHillary #ntfc mourinho is worried,  bringing Ibra  and Rushford on.  #panic Going to get myself a copy of @StephenKing's CUJO for an upcoming project that I can't talk about just yet.  #amwriting Sometimes the support network is causing the damage. \\n\\n #support #Damaged #alone #tired  #hurt #nojustice  #surivivor #NoMore Fear blocks blessings, faith unlocks them. #ManUp #fear #faith @finkowska @PigletParker they happen. I expect your thumbs were all over the place in glee, interpreting my double negative. but that was a mistake and a half assed excuse and now here i am burning in hell forever I was having a good dream.. and then my alarm went off I forgot my hair straightner home, I'm feeling lost without it... #lost #lostWithoutMyHairStraightener @SimonSSSJ123 @EllieG10853 @Onision @Eugenia_Cooney he sure as hell helped me with my depression and still does Ill say it again. If I was a Black man Id be afraid to leave my house or have a moving violation.\\n\\n#TerranceCrutcher #truth #sad @jessebwatters lol. Love it when you aggravate Juan. Keep up the good work. Lol @Avanquest i have unsubscribed 3 times from your spam emails still coming? STOP THE EMAILS #avanquest #software #terrible #ukedchat A4 Just go outside (or to the gym hall) and play! \\n#education #playful #learning Big up @dj_argue, did I miss phantom dread syndrome by @GenesisElijah? dudes sick. and apparently he's supposed to have a Scottish accent??? I'm #offended Not sure that men can handle a woman that's got her crap together. #intimidation #independent @Fly_Norwegian quite simply the #worst #airline #worstairline I've ever used! #shocking #appauling #dire #dismal #beyondajoke #useless Elinor,' she laughed so little known, all over every body at the brilliant cheerfulness of sweetmeats and a fashion. Time to go hit up the library - I have a lovely PILE of book reservations to collect this morning... #glee #books #reading Good Morning!!!\\n\\n #leadership #healthcareIT #socialmedia #connector #ceo #writer #AI #EQ #security #bigdata #Growthhacking #tech  Well look at the bright side. You found a use for that rope #TipsToSurviveAPowerOutage r U scared to present in front of the class? severe anxiety... whats That r u sad sometimes?? go get ur depression checked out IMEDIATELY!!!\n"
     ]
    }
   ],
   "source": [
    "print(train_text)"
   ]
  },
  {
   "cell_type": "code",
   "execution_count": 14,
   "metadata": {},
   "outputs": [
    {
     "data": {
      "text/plain": [
       "['Watch',\n",
       " 'this',\n",
       " 'amazing',\n",
       " 'live.ly',\n",
       " 'broadcast',\n",
       " 'by',\n",
       " '@',\n",
       " 'iamjustinburke',\n",
       " '#',\n",
       " 'musically',\n",
       " '@',\n",
       " 'UltimateBoxer',\n",
       " 'My',\n",
       " 'heart',\n",
       " 'because',\n",
       " 'you',\n",
       " 'left',\n",
       " 'me',\n",
       " 'for',\n",
       " 'so',\n",
       " 'long',\n",
       " 'again\\\\n\\\\n',\n",
       " '*',\n",
       " 'slight',\n",
       " 'pout',\n",
       " 'but',\n",
       " 'it',\n",
       " 'turned',\n",
       " 'to',\n",
       " 'a',\n",
       " 'smile',\n",
       " '*',\n",
       " '\\\\n\\\\nheheh',\n",
       " 'just',\n",
       " 'kidding',\n",
       " ',',\n",
       " 'no',\n",
       " 'I',\n",
       " \"'m\",\n",
       " 'fine-',\n",
       " 'Never',\n",
       " 'make',\n",
       " 'a',\n",
       " '#',\n",
       " 'decision',\n",
       " 'when',\n",
       " 'you',\n",
       " \"'re\",\n",
       " '#',\n",
       " 'angry',\n",
       " 'and',\n",
       " 'never',\n",
       " 'make',\n",
       " 'a',\n",
       " '#',\n",
       " 'promise',\n",
       " 'when',\n",
       " 'you',\n",
       " \"'re\",\n",
       " '.',\n",
       " '#',\n",
       " 'wisewords',\n",
       " 'When',\n",
       " 'my',\n",
       " '4yo',\n",
       " 'is',\n",
       " 'gone',\n",
       " 'I',\n",
       " 'blast',\n",
       " 'gothcore',\n",
       " 'music',\n",
       " '.',\n",
       " 'She',\n",
       " 'has',\n",
       " '#',\n",
       " 'anxiety',\n",
       " '&',\n",
       " 'amp',\n",
       " ';',\n",
       " 'I',\n",
       " 'ca',\n",
       " \"n't\",\n",
       " 'listen',\n",
       " '2',\n",
       " 'it',\n",
       " 'around',\n",
       " 'her',\n",
       " 'bcuz',\n",
       " 'it',\n",
       " \"'s\",\n",
       " \"'too\",\n",
       " 'spooky',\n",
       " \"'\",\n",
       " '.',\n",
       " '*',\n",
       " 'sigh',\n",
       " '*',\n",
       " '#',\n",
       " 'momlife',\n",
       " '@',\n",
       " 'jwolfie_',\n",
       " 'why',\n",
       " 'you',\n",
       " 'got',\n",
       " 'ta',\n",
       " 'use',\n",
       " 'the',\n",
       " 'dark',\n",
       " 'skin',\n",
       " 'emoji',\n",
       " '@',\n",
       " '_haye_',\n",
       " 'optimism',\n",
       " 'is',\n",
       " 'he',\n",
       " \"'ll\",\n",
       " 'lose',\n",
       " ',',\n",
       " 'that',\n",
       " \"'s\",\n",
       " 'actually',\n",
       " 'a',\n",
       " 'compromise',\n",
       " ':',\n",
       " 'P',\n",
       " 'What',\n",
       " 'if',\n",
       " '....',\n",
       " 'the',\n",
       " 'Metro',\n",
       " 'LRT',\n",
       " 'went',\n",
       " 'over',\n",
       " 'the',\n",
       " 'Walterdale',\n",
       " '?',\n",
       " '!',\n",
       " '?',\n",
       " '!',\n",
       " '😂',\n",
       " '#',\n",
       " 'yeg',\n",
       " '#',\n",
       " 'levity',\n",
       " '@',\n",
       " 'pixietangerine',\n",
       " '@',\n",
       " 'hatersbackoff',\n",
       " 'im',\n",
       " 'so',\n",
       " 'exited',\n",
       " '!',\n",
       " '!',\n",
       " 'I',\n",
       " 'am',\n",
       " 'shaking',\n",
       " 'so',\n",
       " 'much',\n",
       " '😍😍',\n",
       " 'and',\n",
       " 'im',\n",
       " 'so',\n",
       " 'pround',\n",
       " 'of',\n",
       " 'Colleen',\n",
       " 'and',\n",
       " 'the',\n",
       " 'fandom',\n",
       " '!',\n",
       " 'Everyone',\n",
       " 'is',\n",
       " 'amazing',\n",
       " '😍',\n",
       " 'Thank',\n",
       " 'god',\n",
       " 'the',\n",
       " 'feds',\n",
       " 'did',\n",
       " 'not',\n",
       " 'raise',\n",
       " 'rates',\n",
       " '.',\n",
       " 'Assume',\n",
       " 'they',\n",
       " 'are',\n",
       " 'nervous',\n",
       " 'about',\n",
       " 'a',\n",
       " 'world',\n",
       " 'where',\n",
       " '990',\n",
       " 'is',\n",
       " 'the',\n",
       " 'new',\n",
       " 'employee',\n",
       " 'form',\n",
       " '&',\n",
       " 'amp',\n",
       " ';',\n",
       " 'the',\n",
       " 'safety',\n",
       " 'net',\n",
       " 'is',\n",
       " 'zilch',\n",
       " 'Online',\n",
       " 'now',\n",
       " '!',\n",
       " '!',\n",
       " '!',\n",
       " ':',\n",
       " ')',\n",
       " 'all',\n",
       " 'day',\n",
       " 'come',\n",
       " 'play',\n",
       " 'with',\n",
       " 'me',\n",
       " '!',\n",
       " '!',\n",
       " 'I',\n",
       " \"'m\",\n",
       " 'happy',\n",
       " 'happy',\n",
       " 'horny',\n",
       " 'playful',\n",
       " 'sweet',\n",
       " 'sour',\n",
       " ';',\n",
       " ')',\n",
       " '@',\n",
       " 'petercoffin',\n",
       " 'So',\n",
       " 'safe',\n",
       " 'blues',\n",
       " 'are',\n",
       " 'ok.',\n",
       " 'Are',\n",
       " 'reds',\n",
       " 'ok',\n",
       " 'as',\n",
       " 'well',\n",
       " '?',\n",
       " 'Obviously',\n",
       " ',',\n",
       " 'battleground',\n",
       " 'states',\n",
       " 'would',\n",
       " 'not',\n",
       " '.',\n",
       " '@',\n",
       " 'Policy_Exchange',\n",
       " 'A',\n",
       " 'plus',\n",
       " 'point',\n",
       " ',',\n",
       " 'she',\n",
       " 'wo',\n",
       " \"n't\",\n",
       " 'have',\n",
       " 'to',\n",
       " 'queue',\n",
       " 'for',\n",
       " 'the',\n",
       " 'loos',\n",
       " '.',\n",
       " 'Any',\n",
       " 'more',\n",
       " 'plus',\n",
       " 'points',\n",
       " '?',\n",
       " 'Nope',\n",
       " ',',\n",
       " 'ca',\n",
       " \"n't\",\n",
       " 'think',\n",
       " 'of',\n",
       " 'any',\n",
       " '#',\n",
       " 'shocking',\n",
       " '#',\n",
       " 'sexism',\n",
       " '@',\n",
       " 'AuntieSupreme',\n",
       " '@',\n",
       " 'KimberlyCarole',\n",
       " \"y'all\",\n",
       " 'found',\n",
       " 'me',\n",
       " 'to',\n",
       " 'express',\n",
       " 'yalls',\n",
       " 'displeasure',\n",
       " '.',\n",
       " '😉',\n",
       " '@',\n",
       " 'TheOnlySweeney',\n",
       " 'their',\n",
       " 'slogan',\n",
       " 'should',\n",
       " \"'ve\",\n",
       " 'been',\n",
       " '#',\n",
       " 'start',\n",
       " 'instead',\n",
       " 'of',\n",
       " '#',\n",
       " 'finish',\n",
       " '@',\n",
       " 'GMModular',\n",
       " '@',\n",
       " 'goldmedalindia',\n",
       " 'horrible',\n",
       " 'experience',\n",
       " 'with',\n",
       " 'a',\n",
       " 'company',\n",
       " 'like',\n",
       " 'this',\n",
       " '#',\n",
       " 'goldmedal',\n",
       " '#',\n",
       " 'horrible',\n",
       " 'sales',\n",
       " 'person',\n",
       " '#',\n",
       " 'wrong',\n",
       " 'commitments',\n",
       " '#',\n",
       " 'wrongproduct',\n",
       " 'induction',\n",
       " 'day',\n",
       " 'tomorrow',\n",
       " 'for',\n",
       " 'pizza',\n",
       " 'express',\n",
       " 'The',\n",
       " 'birds',\n",
       " 'chirp',\n",
       " ',',\n",
       " 'the',\n",
       " 'sun',\n",
       " 'shines',\n",
       " 'and',\n",
       " 'the',\n",
       " 'wind',\n",
       " 'chimes',\n",
       " 'chime',\n",
       " '.',\n",
       " 'There',\n",
       " 'was',\n",
       " 'once',\n",
       " 'a',\n",
       " 'smile',\n",
       " 'on',\n",
       " 'this',\n",
       " 'face',\n",
       " '.',\n",
       " 'How',\n",
       " 'can',\n",
       " 'I',\n",
       " 'tell',\n",
       " 'Happy',\n",
       " 'Anniversary',\n",
       " ',',\n",
       " 'when',\n",
       " 'u',\n",
       " 'are',\n",
       " 'not',\n",
       " 'happy',\n",
       " '..',\n",
       " '#',\n",
       " 'bitter',\n",
       " '#',\n",
       " 'ampalaya',\n",
       " '#',\n",
       " 'paitpaitanangpeg',\n",
       " '@',\n",
       " 'Freepenalties',\n",
       " '@',\n",
       " 'TMortimerFtbl',\n",
       " 'Doll',\n",
       " 'is',\n",
       " 'a',\n",
       " 'vile',\n",
       " 'creature',\n",
       " 'on',\n",
       " 'the',\n",
       " 'touchline',\n",
       " '.',\n",
       " 'Every',\n",
       " 'game',\n",
       " 'he',\n",
       " 'has',\n",
       " 'tantrums',\n",
       " '&',\n",
       " 'amp',\n",
       " ';',\n",
       " 'shouts',\n",
       " 'at',\n",
       " 'the',\n",
       " 'ref',\n",
       " '.',\n",
       " 'Would',\n",
       " 'love',\n",
       " 'to',\n",
       " 'see',\n",
       " 'Nurse',\n",
       " 'practitioner',\n",
       " ':',\n",
       " \"'you\",\n",
       " 'look',\n",
       " 'pretty',\n",
       " 'bad',\n",
       " '.',\n",
       " 'No',\n",
       " 'offense',\n",
       " 'of',\n",
       " 'course',\n",
       " '.',\n",
       " \"'\",\n",
       " '\\\\n\\\\nThank',\n",
       " 'you',\n",
       " ',',\n",
       " 'that',\n",
       " 'really',\n",
       " 'added',\n",
       " 'that',\n",
       " 'spark',\n",
       " 'of',\n",
       " 'positivity',\n",
       " 'I',\n",
       " 'needed',\n",
       " 'today',\n",
       " '.',\n",
       " 'Aberdeen',\n",
       " 'st',\n",
       " 'Johnstone',\n",
       " ',',\n",
       " 'let',\n",
       " \"'s\",\n",
       " 'see',\n",
       " 'who',\n",
       " 'can',\n",
       " 'punt',\n",
       " 'it',\n",
       " 'the',\n",
       " 'furthest',\n",
       " '#',\n",
       " 'awful',\n",
       " '@',\n",
       " 'Zak_Atif',\n",
       " 'two',\n",
       " 'congressional',\n",
       " 'hearings',\n",
       " 'in',\n",
       " 'USA',\n",
       " 'stopped',\n",
       " 'financial',\n",
       " 'aid',\n",
       " 'to',\n",
       " 'Pak',\n",
       " 'and',\n",
       " 'asked',\n",
       " 'it',\n",
       " 'to',\n",
       " 'prove',\n",
       " 'that',\n",
       " 'it',\n",
       " 'is',\n",
       " 'doing',\n",
       " 'enough',\n",
       " 'to',\n",
       " 'stop',\n",
       " 'terrorism',\n",
       " '1n',\n",
       " 'My',\n",
       " 'roommate',\n",
       " 'turns',\n",
       " 'the',\n",
       " 'sink',\n",
       " 'off',\n",
       " 'with',\n",
       " 'her',\n",
       " 'foot',\n",
       " 'to',\n",
       " 'avoid',\n",
       " 'germs',\n",
       " 'and',\n",
       " 'a',\n",
       " 'guy',\n",
       " 'says',\n",
       " \"'YOUR\",\n",
       " 'roommate',\n",
       " 'is',\n",
       " 'feet',\n",
       " 'girl',\n",
       " '?',\n",
       " '!',\n",
       " 'I',\n",
       " \"'m\",\n",
       " 'so',\n",
       " 'sorry',\n",
       " \"'\",\n",
       " 'plz',\n",
       " 'help',\n",
       " '#',\n",
       " 'nightmare',\n",
       " 'This',\n",
       " 'is',\n",
       " 'the',\n",
       " 'day',\n",
       " 'You',\n",
       " \"'ve\",\n",
       " 'made',\n",
       " ',',\n",
       " '\\\\n\\\\nLet',\n",
       " 'us',\n",
       " 'rehoi',\n",
       " 'rejoice',\n",
       " 'and',\n",
       " 'be',\n",
       " 'glad',\n",
       " 'with',\n",
       " 'all',\n",
       " 'that',\n",
       " 'I',\n",
       " 'am',\n",
       " '.',\n",
       " '\\\\n\\\\n😊💖\\\\n\\\\n',\n",
       " '#',\n",
       " 'aja',\n",
       " '\\\\nGood',\n",
       " 'morning',\n",
       " '!',\n",
       " '!',\n",
       " '!',\n",
       " '!',\n",
       " '@',\n",
       " 'Montel_Williams',\n",
       " 'If',\n",
       " 'this',\n",
       " 'ban',\n",
       " 'goes',\n",
       " 'through',\n",
       " ',',\n",
       " 'it',\n",
       " 'will',\n",
       " 'harm',\n",
       " 'so',\n",
       " 'many',\n",
       " 'people',\n",
       " ',',\n",
       " 'disabled',\n",
       " 'veterans',\n",
       " ',',\n",
       " 'people',\n",
       " 'who',\n",
       " 'have',\n",
       " '#',\n",
       " 'chronicpain',\n",
       " ',',\n",
       " '#',\n",
       " 'iamkratom',\n",
       " 'Watch',\n",
       " 'this',\n",
       " 'amazing',\n",
       " 'live.ly',\n",
       " 'broadcast',\n",
       " 'by',\n",
       " '@',\n",
       " 'paulzimmer',\n",
       " '#',\n",
       " 'lively',\n",
       " '#',\n",
       " 'musically',\n",
       " 'Appropriate',\n",
       " 'that',\n",
       " 'first',\n",
       " 'secretary',\n",
       " 'at',\n",
       " 'permanent',\n",
       " 'mission',\n",
       " 'is',\n",
       " 'tasked',\n",
       " 'with',\n",
       " 'demolition',\n",
       " 'of',\n",
       " '#',\n",
       " 'terror',\n",
       " 'state',\n",
       " '#',\n",
       " 'Pakistan',\n",
       " '-',\n",
       " 'Like',\n",
       " \"'renunciation\",\n",
       " 'of',\n",
       " 'lies',\n",
       " \"'\",\n",
       " 'bit',\n",
       " '@',\n",
       " 'BigBossPeltonen',\n",
       " '\\\\nLikewise',\n",
       " '#',\n",
       " 'death',\n",
       " '#',\n",
       " 'cutting',\n",
       " '#',\n",
       " 'despair',\n",
       " '@',\n",
       " 'BrumSciComm',\n",
       " 'in',\n",
       " 'a',\n",
       " 'danish',\n",
       " '.',\n",
       " 'What',\n",
       " 'horror',\n",
       " ',',\n",
       " 'what',\n",
       " 'depths',\n",
       " '.',\n",
       " '#',\n",
       " 'gbbo',\n",
       " '@',\n",
       " 'LidlUK',\n",
       " 'Just',\n",
       " 'bought',\n",
       " 'a',\n",
       " 'pack',\n",
       " 'of',\n",
       " 'two',\n",
       " 'medallion',\n",
       " 'beef',\n",
       " 'steaks',\n",
       " '.',\n",
       " 'Got',\n",
       " 'home',\n",
       " '.',\n",
       " 'Cooked',\n",
       " 'them',\n",
       " '.',\n",
       " 'One',\n",
       " 'steak',\n",
       " 'is',\n",
       " '100',\n",
       " '%',\n",
       " 'pork',\n",
       " '.',\n",
       " 'I',\n",
       " 'had',\n",
       " 'one',\n",
       " 'unhappy',\n",
       " 'mother',\n",
       " '.',\n",
       " '🐮🐷',\n",
       " 'I',\n",
       " \"'m\",\n",
       " 'about',\n",
       " 'to',\n",
       " 'block',\n",
       " 'everyone',\n",
       " 'everywhere',\n",
       " 'posting',\n",
       " 'about',\n",
       " 'the',\n",
       " 'storm',\n",
       " '.',\n",
       " 'I',\n",
       " 'think',\n",
       " 'everyone',\n",
       " 'is',\n",
       " 'aware',\n",
       " 'of',\n",
       " 'the',\n",
       " 'damn',\n",
       " 'rain',\n",
       " 'and',\n",
       " 'what',\n",
       " 'not',\n",
       " 'so',\n",
       " 'quit',\n",
       " '.',\n",
       " '#',\n",
       " 'damn',\n",
       " '#',\n",
       " 'rage',\n",
       " '@',\n",
       " 'GrxjicTank',\n",
       " 'WHY',\n",
       " 'though',\n",
       " '!',\n",
       " 'Why',\n",
       " 'did',\n",
       " 'u',\n",
       " 'want',\n",
       " 'to',\n",
       " 'offend',\n",
       " 'Americans',\n",
       " '?',\n",
       " 'I',\n",
       " 'have',\n",
       " 'serious',\n",
       " 'problems',\n",
       " 'with',\n",
       " 'the',\n",
       " 'expectation',\n",
       " 'that',\n",
       " 'private',\n",
       " 'philanthropy',\n",
       " 'should',\n",
       " 'replace',\n",
       " 'functional',\n",
       " 'government',\n",
       " 'services',\n",
       " '...',\n",
       " 'this',\n",
       " 'is',\n",
       " 'dangerous',\n",
       " '@',\n",
       " 'jaime_scurr',\n",
       " ':',\n",
       " 'any',\n",
       " 'team',\n",
       " 'in',\n",
       " 'the',\n",
       " 'world',\n",
       " 'would',\n",
       " 'be',\n",
       " 'totally',\n",
       " 'elated',\n",
       " 'to',\n",
       " 'get',\n",
       " 'to',\n",
       " 'have',\n",
       " 'you',\n",
       " 'on',\n",
       " 'it',\n",
       " 'XD',\n",
       " '.',\n",
       " '@',\n",
       " 'LEAFYSZERKER',\n",
       " '@',\n",
       " 'markiplier',\n",
       " 'is',\n",
       " 'that',\n",
       " 'an',\n",
       " 'insult',\n",
       " '?',\n",
       " 'Sounds',\n",
       " 'like',\n",
       " 'a',\n",
       " 'job',\n",
       " 'well',\n",
       " 'done',\n",
       " '.',\n",
       " 'it',\n",
       " \"'s\",\n",
       " 'red',\n",
       " 'so',\n",
       " 'it',\n",
       " \"'s\",\n",
       " 'done',\n",
       " 'the',\n",
       " 'job',\n",
       " 'it',\n",
       " 'was',\n",
       " 'suppose',\n",
       " 'to',\n",
       " 'do',\n",
       " '#',\n",
       " 'justsaying',\n",
       " 'I',\n",
       " 'do',\n",
       " \"n't\",\n",
       " 'mean',\n",
       " 'to',\n",
       " 'offend',\n",
       " 'anyone',\n",
       " ',',\n",
       " 'but',\n",
       " '93.7',\n",
       " 'literally',\n",
       " 'blames',\n",
       " 'everything',\n",
       " 'on',\n",
       " 'white',\n",
       " 'people',\n",
       " '.',\n",
       " 'In',\n",
       " 'some',\n",
       " 'cases',\n",
       " 'it',\n",
       " \"'s\",\n",
       " 'true',\n",
       " ',',\n",
       " 'but',\n",
       " 'a',\n",
       " 'lot',\n",
       " 'of',\n",
       " 'times',\n",
       " ',',\n",
       " 'it',\n",
       " \"'s\",\n",
       " 'not',\n",
       " 'The',\n",
       " 'majority',\n",
       " 'of',\n",
       " 'people',\n",
       " 'irritate',\n",
       " 'the',\n",
       " 'fuck',\n",
       " 'out',\n",
       " 'of',\n",
       " 'me',\n",
       " ',',\n",
       " 'cba',\n",
       " 'with',\n",
       " 'people',\n",
       " 'ahahah',\n",
       " '@',\n",
       " 'GaryLineker',\n",
       " 'yet',\n",
       " 'you',\n",
       " 'and',\n",
       " 'all',\n",
       " 'the',\n",
       " 'other',\n",
       " 'English',\n",
       " 'pundits',\n",
       " 'are',\n",
       " 'afraid',\n",
       " 'to',\n",
       " 'criticise',\n",
       " 'him',\n",
       " 'I',\n",
       " \"'m\",\n",
       " 'nothing',\n",
       " 'but',\n",
       " 'a',\n",
       " 'hateful',\n",
       " 'and',\n",
       " 'bitter',\n",
       " 'fag',\n",
       " 'I',\n",
       " 'seem',\n",
       " 'to',\n",
       " 'alternate',\n",
       " 'between',\n",
       " \"'sleep-full\",\n",
       " \"'\",\n",
       " 'and',\n",
       " 'sleepless',\n",
       " 'nights',\n",
       " '.',\n",
       " 'Tonight',\n",
       " 'is',\n",
       " 'a',\n",
       " 'sleepless',\n",
       " 'one',\n",
       " '.',\n",
       " '😕',\n",
       " '#',\n",
       " 'insomnia',\n",
       " '#',\n",
       " 'anxiety',\n",
       " '#',\n",
       " 'notfair',\n",
       " 'Like',\n",
       " 'if',\n",
       " 'you',\n",
       " 'aggravate',\n",
       " 'me',\n",
       " 'constantly',\n",
       " ',',\n",
       " 'byeeeeeeee',\n",
       " 'When',\n",
       " 'anger',\n",
       " 'rises',\n",
       " ',',\n",
       " 'think',\n",
       " 'of',\n",
       " 'the',\n",
       " 'consequences',\n",
       " '.',\n",
       " '#',\n",
       " 'quote',\n",
       " '#',\n",
       " 'wisdom',\n",
       " '@',\n",
       " 'Gibberman10',\n",
       " '@',\n",
       " 'ScottHoward42',\n",
       " 'any',\n",
       " 'of',\n",
       " \"y'all\",\n",
       " 'remember',\n",
       " 'when',\n",
       " 'MLB',\n",
       " 'tried',\n",
       " 'a',\n",
       " 'futuristic',\n",
       " 'jersey',\n",
       " 'those',\n",
       " 'were',\n",
       " 'all',\n",
       " '#',\n",
       " 'terrible',\n",
       " 'Update',\n",
       " ':',\n",
       " 'I',\n",
       " 'have',\n",
       " 'yet',\n",
       " 'to',\n",
       " 'hang',\n",
       " 'out',\n",
       " 'with',\n",
       " '@',\n",
       " 'MisElizaJane',\n",
       " ',',\n",
       " 'but',\n",
       " 'I',\n",
       " \"'m\",\n",
       " 'still',\n",
       " 'hopeful',\n",
       " '!',\n",
       " '#',\n",
       " 'optimism',\n",
       " 'Guys',\n",
       " '!',\n",
       " 'Read',\n",
       " 'my',\n",
       " '#',\n",
       " 'fanfiction',\n",
       " 'if',\n",
       " 'you',\n",
       " 'like',\n",
       " '#',\n",
       " 'lost',\n",
       " 'and',\n",
       " '#',\n",
       " 'housemd',\n",
       " 'I',\n",
       " 'have',\n",
       " 'one',\n",
       " 'of',\n",
       " 'each',\n",
       " '#',\n",
       " 'tvshow',\n",
       " '-link',\n",
       " 'in',\n",
       " 'bio',\n",
       " '!',\n",
       " 'Live',\n",
       " 'simply',\n",
       " '.',\n",
       " 'Dream',\n",
       " 'big',\n",
       " '.',\n",
       " 'Be',\n",
       " 'grateful',\n",
       " '.',\n",
       " 'Give',\n",
       " 'love',\n",
       " '.',\n",
       " 'Laugh',\n",
       " 'lots',\n",
       " '.',\n",
       " '-',\n",
       " 'Unknown',\n",
       " '#',\n",
       " 'quote',\n",
       " '#',\n",
       " 'inspiration',\n",
       " '#',\n",
       " 'happy',\n",
       " '@',\n",
       " 'FraserKeegan',\n",
       " 'just',\n",
       " 'had',\n",
       " 'a',\n",
       " 'steak',\n",
       " 'pie',\n",
       " 'supper',\n",
       " 'In',\n",
       " 'my',\n",
       " 'room',\n",
       " '101',\n",
       " 'would',\n",
       " 'go',\n",
       " 'Russell',\n",
       " 'Howard',\n",
       " ',',\n",
       " 'Tom',\n",
       " 'Odell',\n",
       " ',',\n",
       " 'Michael',\n",
       " 'Buble',\n",
       " '!',\n",
       " '!',\n",
       " '!',\n",
       " '#',\n",
       " ...]"
      ]
     },
     "execution_count": 14,
     "metadata": {},
     "output_type": "execute_result"
    }
   ],
   "source": [
    "train_word"
   ]
  },
  {
   "cell_type": "code",
   "execution_count": 15,
   "metadata": {},
   "outputs": [
    {
     "name": "stdout",
     "output_type": "stream",
     "text": [
      "['i', 'me', 'my', 'myself', 'we', 'our', 'ours', 'ourselves', 'you', \"you're\", \"you've\", \"you'll\", \"you'd\", 'your', 'yours', 'yourself', 'yourselves', 'he', 'him', 'his', 'himself', 'she', \"she's\", 'her', 'hers', 'herself', 'it', \"it's\", 'its', 'itself', 'they', 'them', 'their', 'theirs', 'themselves', 'what', 'which', 'who', 'whom', 'this', 'that', \"that'll\", 'these', 'those', 'am', 'is', 'are', 'was', 'were', 'be', 'been', 'being', 'have', 'has', 'had', 'having', 'do', 'does', 'did', 'doing', 'a', 'an', 'the', 'and', 'but', 'if', 'or', 'because', 'as', 'until', 'while', 'of', 'at', 'by', 'for', 'with', 'about', 'against', 'between', 'into', 'through', 'during', 'before', 'after', 'above', 'below', 'to', 'from', 'up', 'down', 'in', 'out', 'on', 'off', 'over', 'under', 'again', 'further', 'then', 'once', 'here', 'there', 'when', 'where', 'why', 'how', 'all', 'any', 'both', 'each', 'few', 'more', 'most', 'other', 'some', 'such', 'no', 'nor', 'not', 'only', 'own', 'same', 'so', 'than', 'too', 'very', 's', 't', 'can', 'will', 'just', 'don', \"don't\", 'should', \"should've\", 'now', 'd', 'll', 'm', 'o', 're', 've', 'y', 'ain', 'aren', \"aren't\", 'couldn', \"couldn't\", 'didn', \"didn't\", 'doesn', \"doesn't\", 'hadn', \"hadn't\", 'hasn', \"hasn't\", 'haven', \"haven't\", 'isn', \"isn't\", 'ma', 'mightn', \"mightn't\", 'mustn', \"mustn't\", 'needn', \"needn't\", 'shan', \"shan't\", 'shouldn', \"shouldn't\", 'wasn', \"wasn't\", 'weren', \"weren't\", 'won', \"won't\", 'wouldn', \"wouldn't\"]\n"
     ]
    }
   ],
   "source": [
    "print(stopwords.words('english'))"
   ]
  },
  {
   "cell_type": "code",
   "execution_count": 16,
   "metadata": {},
   "outputs": [],
   "source": [
    "#Do some cleaning method \n",
    "def clean_words(new_tokens):\n",
    "    #lower case all\n",
    "    new_tokens = [t.lower() for t in new_tokens]\n",
    "    #remove stopwords\n",
    "    new_tokens =[t for t in new_tokens if t not in stopwords.words('english')]\n",
    "    #remove non alphabet letter\n",
    "    new_tokens = [t for t in new_tokens if t.isalpha()]\n",
    "    #Lemmatizer helps to reduce words to the base form\n",
    "    lemmatizer = WordNetLemmatizer()\n",
    "    new_tokens =[lemmatizer.lemmatize(t) for t in new_tokens]\n",
    "    return new_tokens"
   ]
  },
  {
   "cell_type": "code",
   "execution_count": 17,
   "metadata": {},
   "outputs": [
    {
     "name": "stderr",
     "output_type": "stream",
     "text": [
      "[nltk_data] Downloading package omw-1.4 to\n",
      "[nltk_data]     C:\\Users\\LEOLIN_PC\\AppData\\Roaming\\nltk_data...\n",
      "[nltk_data]   Package omw-1.4 is already up-to-date!\n"
     ]
    },
    {
     "data": {
      "text/plain": [
       "True"
      ]
     },
     "execution_count": 17,
     "metadata": {},
     "output_type": "execute_result"
    }
   ],
   "source": [
    "import nltk\n",
    "# omw is  Open Multilingual Wordnet --- read in wordnets, validate them, and search them.\n",
    "nltk.download('omw-1.4')"
   ]
  },
  {
   "cell_type": "code",
   "execution_count": 18,
   "metadata": {},
   "outputs": [],
   "source": [
    "# do clean_words function for tokenized word(train_word)\n",
    "cleantrain=clean_words(train_word)"
   ]
  },
  {
   "cell_type": "code",
   "execution_count": 19,
   "metadata": {},
   "outputs": [],
   "source": [
    "# do clean_words function for tokenized word(test_word)\n",
    "cleantest=clean_words(test_word)"
   ]
  },
  {
   "cell_type": "code",
   "execution_count": 20,
   "metadata": {},
   "outputs": [],
   "source": [
    "#Use counter function to count words (Bag of word = BOW)\n",
    "BOW_train=Counter(cleantrain)\n",
    "BOW_test=Counter(cleantest)"
   ]
  },
  {
   "cell_type": "code",
   "execution_count": 22,
   "metadata": {},
   "outputs": [
    {
     "data": {
      "text/plain": [
       "True"
      ]
     },
     "execution_count": 22,
     "metadata": {},
     "output_type": "execute_result"
    }
   ],
   "source": [
    "#Test Emoji icon\n",
    "\"😍\" in test_word"
   ]
  },
  {
   "cell_type": "code",
   "execution_count": 23,
   "metadata": {},
   "outputs": [],
   "source": [
    "# Pick up two columns ('word' & 'frequency') and sorting\n",
    "data_train=pd.DataFrame(BOW_train.items(),columns=['word','frequency']).sort_values(by='frequency',ascending=False)\n",
    "data_test=pd.DataFrame(BOW_test.items(),columns=['word','frequency']).sort_values(by='frequency',ascending=False)"
   ]
  },
  {
   "cell_type": "code",
   "execution_count": 24,
   "metadata": {},
   "outputs": [
    {
     "name": "stdout",
     "output_type": "stream",
     "text": [
      "             word  frequency\n",
      "118          like        247\n",
      "276           get        191\n",
      "25            amp        182\n",
      "137             u        155\n",
      "245           one        149\n",
      "...           ...        ...\n",
      "4808        stunt          1\n",
      "4806  downtrodden          1\n",
      "4805        mayor          1\n",
      "4800      ronaldo          1\n",
      "8379   imediately          1\n",
      "\n",
      "[8380 rows x 2 columns]\n"
     ]
    }
   ],
   "source": [
    "print(data_train)"
   ]
  },
  {
   "cell_type": "code",
   "execution_count": 26,
   "metadata": {},
   "outputs": [
    {
     "data": {
      "image/png": "[encoded data removed]",
      "text/plain": [
       "<Figure size 1080x720 with 1 Axes>"
      ]
     },
     "metadata": {},
     "output_type": "display_data"
    }
   ],
   "source": [
    "#Plot graph by matplotlib library for training data\n",
    "import matplotlib.pylab as plt\n",
    "plt.rcParams[\"figure.figsize\"] = [10, 5]\n",
    "sns.set(rc={'figure.figsize':(15,10)})\n",
    "plt.xticks(rotation=90)\n",
    "ax=sns.barplot(y='frequency',x='word',data=data_train.head(30)).set_title('Top 30 words in train dataset')\n",
    "\n"
   ]
  },
  {
   "cell_type": "code",
   "execution_count": 27,
   "metadata": {},
   "outputs": [
    {
     "data": {
      "image/png": "[encoded data removed]",
      "text/plain": [
       "<Figure size 1080x720 with 1 Axes>"
      ]
     },
     "metadata": {},
     "output_type": "display_data"
    }
   ],
   "source": [
    "#Plot graph by matplotlib library for testing data\n",
    "plt.xticks(rotation=90)\n",
    "ax=sns.barplot(y='frequency',x='word',data=data_test.head(30)).set_title('Top 30 words in test dataset')"
   ]
  },
  {
   "cell_type": "markdown",
   "metadata": {
    "id": "_hr8aKhlYTpo"
   },
   "source": [
    "---\n",
    "### 1.2 Save data"
   ]
  },
  {
   "cell_type": "markdown",
   "metadata": {
    "id": "Zm6GF2VvYTpo"
   },
   "source": [
    "We will save our data in Pickle format. The pickle module implements binary protocols for serializing and de-serializing a Python object structure.   \n",
    "  \n",
    "Some advantages for using pickle structure:  \n",
    "* Because it stores the attribute type, it's more convenient for cross-platform use.  \n",
    "* When your data is huge, it could use less space to store also consume less loading time.   "
   ]
  },
  {
   "cell_type": "code",
   "execution_count": 22,
   "metadata": {
    "id": "dZzepBdpYTpo"
   },
   "outputs": [],
   "source": [
    "## save to pickle file\n",
    "train_df.to_pickle(\"train_df.pkl\") \n",
    "test_df.to_pickle(\"test_df.pkl\")"
   ]
  },
  {
   "cell_type": "code",
   "execution_count": 23,
   "metadata": {
    "id": "H5uO-kOUYTpo"
   },
   "outputs": [],
   "source": [
    "import pandas as pd\n",
    "## load a pickle file\n",
    "train_df = pd.read_pickle(\"train_df.pkl\")\n",
    "test_df = pd.read_pickle(\"test_df.pkl\")"
   ]
  },
  {
   "cell_type": "markdown",
   "metadata": {
    "id": "_sLDcQzeYTpo"
   },
   "source": [
    "For more information: https://reurl.cc/0Dzqx"
   ]
  },
  {
   "cell_type": "markdown",
   "metadata": {
    "id": "dKHpxTzLYTpo"
   },
   "source": [
    "---\n",
    "### 1.3 Exploratory data analysis (EDA)\n",
    "\n",
    "Again, before getting our hands dirty, we need to explore a little bit and understand the data we're dealing with."
   ]
  },
  {
   "cell_type": "code",
   "execution_count": 28,
   "metadata": {
    "colab": {
     "base_uri": "https://localhost:8080/"
    },
    "id": "mLnEEliCYTpo",
    "outputId": "a253199b-cf8f-4cdc-b677-732be78993a3"
   },
   "outputs": [
    {
     "data": {
      "text/plain": [
       "emotion\n",
       "anger       857\n",
       "fear       1147\n",
       "joy         823\n",
       "sadness     786\n",
       "Name: text, dtype: int64"
      ]
     },
     "execution_count": 28,
     "metadata": {},
     "output_type": "execute_result"
    }
   ],
   "source": [
    "# group to find distribution\n",
    "train_df.groupby(['emotion']).count()['text']"
   ]
  },
  {
   "cell_type": "code",
   "execution_count": 29,
   "metadata": {
    "colab": {
     "base_uri": "https://localhost:8080/",
     "height": 241
    },
    "id": "pcVOe8nYYTpo",
    "outputId": "52c413c9-5a8f-450b-d99a-e541a76e95c7"
   },
   "outputs": [
    {
     "data": {
      "image/png": "[encoded data removed]",
      "text/plain": [
       "<Figure size 360x216 with 1 Axes>"
      ]
     },
     "metadata": {
      "needs_background": "light"
     },
     "output_type": "display_data"
    }
   ],
   "source": [
    "%matplotlib inline\n",
    "import numpy as np\n",
    "import matplotlib.pyplot as plt\n",
    "\n",
    "# the histogram of the data\n",
    "labels = train_df['emotion'].unique()\n",
    "post_total = len(train_df)\n",
    "df1 = train_df.groupby(['emotion']).count()['text']\n",
    "df1 = df1.apply(lambda x: round(x*100/post_total,3))\n",
    "\n",
    "#plot\n",
    "fig, ax = plt.subplots(figsize=(5,3))\n",
    "plt.bar(df1.index,df1.values)\n",
    "\n",
    "#arrange\n",
    "plt.ylabel('% of instances')\n",
    "plt.xlabel('Emotion')\n",
    "plt.title('Emotion distribution')\n",
    "plt.grid(True)\n",
    "plt.show()"
   ]
  },
  {
   "cell_type": "markdown",
   "metadata": {
    "id": "B_jGcireYTpo"
   },
   "source": [
    "---"
   ]
  },
  {
   "cell_type": "markdown",
   "metadata": {
    "id": "hgHvhTJuYTpo"
   },
   "source": [
    "## 2. Feature engineering\n",
    "### Using Bag of Words\n",
    "Using scikit-learn ```CountVectorizer``` perform word frequency and use these as features to train a model.  \n",
    "http://scikit-learn.org/stable/modules/generated/sklearn.feature_extraction.text.CountVectorizer.html"
   ]
  },
  {
   "cell_type": "code",
   "execution_count": 30,
   "metadata": {
    "id": "rbl89LPUYTpo"
   },
   "outputs": [],
   "source": [
    "from sklearn.feature_extraction.text import CountVectorizer"
   ]
  },
  {
   "cell_type": "code",
   "execution_count": 31,
   "metadata": {
    "id": "Bo8_GP6qYTpo"
   },
   "outputs": [],
   "source": [
    "# build analyzers (bag-of-words) by sklearn.feature_extraction\n",
    "BOW_vectorizer = CountVectorizer() "
   ]
  },
  {
   "cell_type": "code",
   "execution_count": 32,
   "metadata": {
    "id": "Bz_m0xn7YTpo"
   },
   "outputs": [],
   "source": [
    "# 1. Learn a vocabulary dictionary of all tokens in the raw documents.\n",
    "BOW_vectorizer.fit(train_df['text'])\n",
    "\n",
    "# 2. Transform documents to document-term matrix.\n",
    "train_data_BOW_features = BOW_vectorizer.transform(train_df['text'])\n",
    "test_data_BOW_features = BOW_vectorizer.transform(test_df['text'])"
   ]
  },
  {
   "cell_type": "code",
   "execution_count": 33,
   "metadata": {},
   "outputs": [
    {
     "name": "stdout",
     "output_type": "stream",
     "text": [
      "  (0, 507)\t1\n",
      "  (0, 1361)\t1\n",
      "  (0, 1461)\t1\n",
      "  (0, 4291)\t1\n",
      "  (0, 5239)\t1\n",
      "  (0, 5380)\t1\n",
      "  (0, 5936)\t1\n",
      "  (0, 9020)\t1\n",
      "  (0, 9688)\t1\n",
      "  (1, 374)\t1\n",
      "  (1, 999)\t1\n",
      "  (1, 1448)\t1\n",
      "  (1, 3264)\t1\n",
      "  (1, 3391)\t1\n",
      "  (1, 4042)\t1\n",
      "  (1, 4571)\t1\n",
      "  (1, 4798)\t1\n",
      "  (1, 4908)\t1\n",
      "  (1, 5107)\t1\n",
      "  (1, 5290)\t1\n",
      "  (1, 5577)\t1\n",
      "  (1, 5957)\t1\n",
      "  (1, 6126)\t1\n",
      "  (1, 6191)\t1\n",
      "  (1, 6957)\t1\n",
      "  :\t:\n",
      "  (3611, 9098)\t1\n",
      "  (3611, 9467)\t1\n",
      "  (3611, 9748)\t1\n",
      "  (3611, 10051)\t1\n",
      "  (3612, 602)\t1\n",
      "  (3612, 1666)\t1\n",
      "  (3612, 1785)\t1\n",
      "  (3612, 2427)\t1\n",
      "  (3612, 3489)\t1\n",
      "  (3612, 3650)\t1\n",
      "  (3612, 3723)\t1\n",
      "  (3612, 4351)\t1\n",
      "  (3612, 4383)\t1\n",
      "  (3612, 6371)\t1\n",
      "  (3612, 6517)\t1\n",
      "  (3612, 7001)\t1\n",
      "  (3612, 7744)\t1\n",
      "  (3612, 7832)\t1\n",
      "  (3612, 7976)\t1\n",
      "  (3612, 8306)\t1\n",
      "  (3612, 8924)\t1\n",
      "  (3612, 8930)\t1\n",
      "  (3612, 9119)\t1\n",
      "  (3612, 9452)\t1\n",
      "  (3612, 9779)\t1\n"
     ]
    }
   ],
   "source": [
    "print(train_data_BOW_features)"
   ]
  },
  {
   "cell_type": "code",
   "execution_count": 30,
   "metadata": {
    "colab": {
     "base_uri": "https://localhost:8080/"
    },
    "id": "5cpCUVN8YTpo",
    "outputId": "c68d1f47-143e-4e56-c9bd-049c9c204e11"
   },
   "outputs": [
    {
     "data": {
      "text/plain": [
       "<3613x10115 sparse matrix of type '<class 'numpy.int64'>'\n",
       "\twith 51467 stored elements in Compressed Sparse Row format>"
      ]
     },
     "execution_count": 30,
     "metadata": {},
     "output_type": "execute_result"
    }
   ],
   "source": [
    "# check the result\n",
    "train_data_BOW_features"
   ]
  },
  {
   "cell_type": "code",
   "execution_count": 34,
   "metadata": {
    "colab": {
     "base_uri": "https://localhost:8080/"
    },
    "id": "irGLsag-YTpo",
    "outputId": "27e90366-d681-43ef-ab5f-7c3360b1a671"
   },
   "outputs": [
    {
     "data": {
      "text/plain": [
       "scipy.sparse._csr.csr_matrix"
      ]
     },
     "execution_count": 34,
     "metadata": {},
     "output_type": "execute_result"
    }
   ],
   "source": [
    "type(train_data_BOW_features)"
   ]
  },
  {
   "cell_type": "code",
   "execution_count": 35,
   "metadata": {
    "colab": {
     "base_uri": "https://localhost:8080/"
    },
    "id": "WqbR8KWNYTpo",
    "outputId": "50438b2b-731e-4031-8dfe-19d6c7831545",
    "scrolled": true
   },
   "outputs": [
    {
     "data": {
      "text/plain": [
       "array([[0, 0, 0, ..., 0, 0, 0],\n",
       "       [0, 0, 0, ..., 0, 0, 0],\n",
       "       [0, 0, 0, ..., 0, 0, 0],\n",
       "       ...,\n",
       "       [0, 0, 0, ..., 0, 0, 0],\n",
       "       [0, 0, 0, ..., 0, 0, 0],\n",
       "       [0, 0, 0, ..., 0, 0, 0]], dtype=int64)"
      ]
     },
     "execution_count": 35,
     "metadata": {},
     "output_type": "execute_result"
    }
   ],
   "source": [
    "# add .toarray() to show\n",
    "train_data_BOW_features.toarray()"
   ]
  },
  {
   "cell_type": "code",
   "execution_count": 36,
   "metadata": {
    "colab": {
     "base_uri": "https://localhost:8080/"
    },
    "id": "mL0xkGyGYTpo",
    "outputId": "c6245d02-a095-44d9-b00f-bb62936bee4a",
    "scrolled": false
   },
   "outputs": [
    {
     "data": {
      "text/plain": [
       "(3613, 10115)"
      ]
     },
     "execution_count": 36,
     "metadata": {},
     "output_type": "execute_result"
    }
   ],
   "source": [
    "# check the dimension\n",
    "train_data_BOW_features.shape"
   ]
  },
  {
   "cell_type": "code",
   "execution_count": 37,
   "metadata": {
    "colab": {
     "base_uri": "https://localhost:8080/"
    },
    "id": "iyRaxyBZYTpo",
    "outputId": "f1df1307-12a0-49b7-afcb-7ad840f886ca"
   },
   "outputs": [
    {
     "data": {
      "text/plain": [
       "array(['000', '00pm', '00tiffanyr', '01', '02', '03', '0303', '034', '04',\n",
       "       '08', '080', '09', '095', '10', '100', '1000', '100000000', '100g',\n",
       "       '100k', '100s', '101', '104', '10am', '10carley', '10golds24',\n",
       "       '11', '1133', '119', '11yo', '12', '123', '13', '130', '133',\n",
       "       '134', '13c', '14', '1400', '147', '148', '15', '1564',\n",
       "       '15_jordyn', '15yrs', '16', '1607', '1616', '168', '169', '16k',\n",
       "       '17', '18', '19', '1975', '1_full_plus_by_gora', '1c',\n",
       "       '1dayatatime', '1n', '1nataliemaines', '1pet', '1st',\n",
       "       '1stworldprobs4vs', '1tbsp', '1voicematters', '20', '2000', '2004',\n",
       "       '2005', '2007', '2012', '2014', '2015', '2016', '2017', '2020',\n",
       "       '20au', '20likes', '20th', '21st', '22', '23', '236', '23rd', '24',\n",
       "       '244', '24th', '25', '25kish', '26', '27', '279', '28', '28th',\n",
       "       '2am', '2b', '2day', '2hour', '2hr', '2k', '2k17', '2much', '2nd',\n",
       "       '30', '300', '301', '30am', '30pm', '30s', '31', '32', '320',\n",
       "       '339', '34', '340', '342', '349', '36', '37', '3abla', '3am',\n",
       "       '3amdeadtime', '3d', '3rd', '3x', '3years', '3yr', '40', '400',\n",
       "       '4000', '400k', '41', '416', '42', '420', '44', '45', '450',\n",
       "       '450k', '45am', '464', '47', '48', '49', '4988', '49ers', '4g',\n",
       "       '4give', '4yo', '50', '500', '50000', '500aday', '500k', '500th',\n",
       "       '500thtest', '50yrs', '52mack_', '553', '55am', '57', '58', '5am',\n",
       "       '5ftanomaly', '5live', '5pm', '5th', '60', '600k', '606', '630am',\n",
       "       '65', '6bird4', '6itmap', '6pm', '6th', '70', '700', '709', '70s',\n",
       "       '75', '757', '77', '790blessing', '7th', '80', '800', '81', '815',\n",
       "       '831', '845', '85', '88', '88palouseriver', '8am', '8k', '8pm',\n",
       "       '90', '90dayfiance', '90s', '93', '97_aleix', '98', '990',\n",
       "       '9times', '__', '___', '___margs', '__dayo', '__kirstyga',\n",
       "       '__peterpanda', '_haye_', '_indubioproreo', '_inferno217_',\n",
       "       '_j_sa_', '_james_kellar_', '_jamiebraidwood', '_juliasteiner',\n",
       "       '_kdddd', '_mrs_peel', '_notoriety', '_stardust_3', '_stfukohle',\n",
       "       'a4', 'a_mxe7', 'a_rockasthe', 'aa', 'aaa', 'aajtak', 'aaron',\n",
       "       'aaronbiggspro', 'aarongoodwin', 'aateam', 'ab', 'abby', 'abc',\n",
       "       'abcdesignated', 'aber', 'aberdeen', 'abhijit', 'abhijit_iyer',\n",
       "       'ability', 'able', 'aboard', 'abortion', 'abounds', 'about',\n",
       "       'above', 'abraham', 'abs', 'abscess', 'absolute', 'absolutely',\n",
       "       'absurd', 'abt', 'abundance', 'abuse', 'abuses', 'abusing',\n",
       "       'abusive', 'abysmal', 'academic', 'acapella', 'acc', 'accent',\n",
       "       'accept', 'acceptance', 'accepted', 'accepts', 'access',\n",
       "       'accessibility', 'accident', 'accidentally',\n",
       "       'accidentlyspillbeeronthecarpet', 'accidetly', 'accomplish',\n",
       "       'accomplishments', 'account', 'accountability', 'accounting',\n",
       "       'accounts', 'accrington', 'accurate', 'accurately', 'accused',\n",
       "       'accusing', 'achieve', 'achilles', 'acid', 'acount', 'acquire',\n",
       "       'across', 'acrylic', 'acsscrusader', 'act', 'acting', 'action',\n",
       "       'activated', 'actively', 'activism', 'activists', 'activity',\n",
       "       'actors', 'actorslife', 'actual', 'actualflatticus', 'actually',\n",
       "       'acuff', 'acupuncture', 'adamaaronovich', 'adamcimmering',\n",
       "       'adamrodricks', 'adamrowe', 'adcomm', 'add', 'addair', 'added',\n",
       "       'addicted', 'addiction', 'adding', 'addition', 'address',\n",
       "       'addressed', 'addresses', 'addressing', 'adenkyirah', 'adjusts',\n",
       "       'admin', 'administration', 'admiring', 'admit', 'admits',\n",
       "       'admitting', 'adorable', 'adored', 'adoring', 'adrenaline',\n",
       "       'adrian', 'adsbyflaherty', 'adult', 'adultingistheworst', 'adults',\n",
       "       'adventure', 'adventures', 'adverts', 'advice', 'advise',\n",
       "       'advocate', 'aerlingus', 'aesthetically', 'af', 'afaik', 'afam',\n",
       "       'affair', 'affairs', 'affect', 'affection', 'afflicted',\n",
       "       'affliction', 'afford', 'affordable', 'affront', 'afghanistan',\n",
       "       'afl', 'aflame', 'aflcatsswans', 'aflfinals', 'afneil', 'afp',\n",
       "       'afraid', 'africa', 'after', 'afterlife', 'afternoon', 'again',\n",
       "       'against', 'age', 'aged', 'agent', 'agents', 'agenttinsley',\n",
       "       'ages', 'agg', 'aggravate', 'aggravates', 'aggressive', 'agin',\n",
       "       'agirlhasno_name', 'agitate', 'ago', 'agree', 'agreed', 'ah',\n",
       "       'ahahah', 'ahead', 'ahl', 'ahouseingotham', 'ahs', 'ahsfx',\n",
       "       'ahtareen1', 'ahut', 'ahve', 'ai', 'aiakazamjackass', 'aid',\n",
       "       'aidankerrpol', 'aidanparr', 'aiding', 'aimisyafiqahr', 'ain',\n",
       "       'aint', 'air', 'airbnb', 'airbnbhelp', 'airbnbnightmare', 'aired',\n",
       "       'airline', 'airplane', 'airvistara', 'aja', 'ajahnae', 'ajenews',\n",
       "       'ajjaffe', 'ajstylesorg', 'ak47', 'ak_forty7', 'aka', 'akame',\n",
       "       'akshay', 'akshaymarwah22', 'al', 'alamrahman', 'alan',\n",
       "       'alanafergusson', 'alanalanconway', 'alarm', 'alarming', 'alarms',\n",
       "       'albertbarnes', 'albertbreer', 'album', 'albums', 'alcohoiporn',\n",
       "       'alcohol', 'alcoholic', 'alditoharrods', 'aldub62ndweeksary',\n",
       "       'aleppo', 'alert', 'alex', 'alexandria', 'ali_zimmer',\n",
       "       'alicegoodman17', 'alicehouston18', 'alicemazzy', 'alicia',\n",
       "       'aliciakeys', 'aliens', 'align', 'aliki111', 'alimcclimond',\n",
       "       'alisontis', 'alive', 'alivitali', 'all', 'allah', 'alleged',\n",
       "       'allegedlowbrow', 'allen', 'alliance', 'allllat', 'alloa', 'allow',\n",
       "       'allowed', 'allows', 'allredmd', 'allscumbags', 'allstars2',\n",
       "       'allthetime', 'ally', 'allytheripper', 'almond', 'almost', 'aloha',\n",
       "       'alone', 'aloneinthecity', 'along', 'alongside', 'alot',\n",
       "       'alotta_pain', 'alphavenger', 'alpuzz', 'already', 'alright',\n",
       "       'also', 'alt', 'alternate', 'although', 'always', 'alwayshungry'],\n",
       "      dtype=object)"
      ]
     },
     "execution_count": 37,
     "metadata": {},
     "output_type": "execute_result"
    }
   ],
   "source": [
    "# observe some feature names\n",
    "feature_names = BOW_vectorizer.get_feature_names_out()\n",
    "feature_names[1:500]"
   ]
  },
  {
   "cell_type": "code",
   "execution_count": 35,
   "metadata": {},
   "outputs": [
    {
     "data": {
      "text/plain": [
       "array(['00', '000', '00pm', '00tiffanyr', '01', '02', '03', '0303', '034',\n",
       "       '04', '08', '080', '09', '095', '10', '100', '1000', '100000000',\n",
       "       '100g', '100k', '100s', '101', '104', '10am', '10carley',\n",
       "       '10golds24', '11', '1133', '119', '11yo', '12', '123', '13', '130',\n",
       "       '133', '134', '13c', '14', '1400', '147', '148', '15', '1564',\n",
       "       '15_jordyn', '15yrs', '16', '1607', '1616', '168', '169', '16k',\n",
       "       '17', '18', '19', '1975', '1_full_plus_by_gora', '1c',\n",
       "       '1dayatatime', '1n', '1nataliemaines', '1pet', '1st',\n",
       "       '1stworldprobs4vs', '1tbsp', '1voicematters', '20', '2000', '2004',\n",
       "       '2005', '2007', '2012', '2014', '2015', '2016', '2017', '2020',\n",
       "       '20au', '20likes', '20th', '21st', '22', '23', '236', '23rd', '24',\n",
       "       '244', '24th', '25', '25kish', '26', '27', '279', '28', '28th',\n",
       "       '2am', '2b', '2day', '2hour', '2hr', '2k', '2k17', '2much', '2nd',\n",
       "       '30', '300', '301', '30am', '30pm', '30s', '31'], dtype=object)"
      ]
     },
     "execution_count": 35,
     "metadata": {},
     "output_type": "execute_result"
    }
   ],
   "source": [
    "# observe some feature names\n",
    "feature_names = BOW_vectorizer.get_feature_names_out()\n",
    "feature_names[0:110]"
   ]
  },
  {
   "cell_type": "markdown",
   "metadata": {
    "id": "zm00p_sxYTpo"
   },
   "source": [
    " "
   ]
  },
  {
   "cell_type": "markdown",
   "metadata": {
    "id": "roSfgQKaYTpo"
   },
   "source": [
    "The embedding is done. We can technically feed this into our model. However, depending on the embedding technique you use and your model, your accuracy might not be as high, because:\n",
    "\n",
    "* curse of dimensionality  (we have 10,115 dimension now)\n",
    "* some important features are ignored (for example, some models using emoticons yeld better performance than counterparts)"
   ]
  },
  {
   "cell_type": "code",
   "execution_count": 38,
   "metadata": {
    "colab": {
     "base_uri": "https://localhost:8080/"
    },
    "id": "kx4YPbrdYTpo",
    "outputId": "3d8a8808-fb86-4fe6-93b5-93ba0124f845"
   },
   "outputs": [
    {
     "data": {
      "text/plain": [
       "False"
      ]
     },
     "execution_count": 38,
     "metadata": {},
     "output_type": "execute_result"
    }
   ],
   "source": [
    "\"😂\" in feature_names"
   ]
  },
  {
   "cell_type": "markdown",
   "metadata": {
    "id": "0MFzyA95YTpo"
   },
   "source": [
    "Let's try using another tokenizer below."
   ]
  },
  {
   "cell_type": "code",
   "execution_count": 40,
   "metadata": {
    "colab": {
     "base_uri": "https://localhost:8080/"
    },
    "id": "SttodxACYTpo",
    "outputId": "11fe3750-22b7-45bf-c15f-586d74c35c13"
   },
   "outputs": [
    {
     "name": "stderr",
     "output_type": "stream",
     "text": [
      "D:\\ProgramData\\anaconda3\\envs\\env1\\lib\\site-packages\\sklearn\\feature_extraction\\text.py:516: UserWarning: The parameter 'token_pattern' will not be used since 'tokenizer' is not None'\n",
      "  warnings.warn(\n"
     ]
    },
    {
     "data": {
      "text/plain": [
       "(3613, 500)"
      ]
     },
     "execution_count": 40,
     "metadata": {},
     "output_type": "execute_result"
    }
   ],
   "source": [
    "import nltk\n",
    "\n",
    "# build analyzers (bag-of-words) by nltk.word_tokenize\n",
    "BOW_500 = CountVectorizer(max_features=500, tokenizer=nltk.word_tokenize) \n",
    "\n",
    "# apply analyzer to training data\n",
    "BOW_500.fit(train_df['text'])\n",
    "\n",
    "train_data_BOW_features_500 = BOW_500.transform(train_df['text'])\n",
    "\n",
    "## check dimension\n",
    "train_data_BOW_features_500.shape"
   ]
  },
  {
   "cell_type": "code",
   "execution_count": 41,
   "metadata": {
    "colab": {
     "base_uri": "https://localhost:8080/"
    },
    "id": "sPi42W0pYTpo",
    "outputId": "54682edb-fa13-4292-fa48-ae81cd08b14f"
   },
   "outputs": [
    {
     "data": {
      "text/plain": [
       "array([[ 0,  1,  0, ...,  0,  0,  0],\n",
       "       [ 0,  0,  0, ...,  0,  0,  0],\n",
       "       [ 0,  4,  0, ...,  0,  0,  0],\n",
       "       ...,\n",
       "       [ 3, 12,  0, ...,  0,  0,  0],\n",
       "       [ 0,  1,  0, ...,  0,  0,  0],\n",
       "       [ 3,  0,  0, ...,  0,  0,  0]], dtype=int64)"
      ]
     },
     "execution_count": 41,
     "metadata": {},
     "output_type": "execute_result"
    }
   ],
   "source": [
    "train_data_BOW_features_500.toarray()"
   ]
  },
  {
   "cell_type": "code",
   "execution_count": 42,
   "metadata": {
    "colab": {
     "base_uri": "https://localhost:8080/"
    },
    "id": "JCgAnTOfYTpo",
    "outputId": "bba03b17-8ca5-4942-a78f-df389c70cd1f"
   },
   "outputs": [
    {
     "data": {
      "text/plain": [
       "array(['!', '#', '$', '%', '&', \"'\", \"'d\", \"'ll\", \"'m\", \"'re\", \"'s\",\n",
       "       \"'ve\", '(', ')', '*', ',', '-', '--', '.', '..', '...', '....',\n",
       "       '.....', '1', '2', '3', '4', ':', ';', '?', '@', '\\\\n', '\\\\n\\\\n',\n",
       "       'a', 'about', 'absolutely', 'actually', 'afraid', 'after', 'again',\n",
       "       'against', 'alarm', 'all', 'already', 'also', 'always', 'am',\n",
       "       'amazing', 'amp', 'an', 'and', 'anger', 'angry', 'animated',\n",
       "       'another', 'anxiety', 'any', 'anyone', 'anything', 'are', 'around',\n",
       "       'as', 'asked', 'ass', 'at', 'away', 'awe', 'awful', 'back', 'bad',\n",
       "       'bb18', 'bc', 'be', 'because', 'been', 'before', 'being',\n",
       "       'believe', 'best', 'better', 'big', 'bit', 'bitter', 'black',\n",
       "       'blues', 'boiling', 'both', 'break', 'bright', 'broadcast',\n",
       "       'bully', 'burning', 'burst', 'but', 'by', 'ca', 'call', 'can',\n",
       "       'car', 'care', 'change', 'cheer', 'cheerful', 'cheerfully',\n",
       "       'cheering', 'cheery', 'come', 'comes', 'could', 'country', 'cry',\n",
       "       'customer', 'dark', 'day', 'days', 'delight', 'depressing',\n",
       "       'depression', 'despair', 'did', 'discouraged', 'do', 'does',\n",
       "       'doing', 'done', 'down', 'dreadful', 'dull', 'eat', 'either',\n",
       "       'elated', 'end', 'even', 'ever', 'every', 'everyone', 'everything',\n",
       "       'excited', 'exhilarating', 'face', 'fact', 'fans', 'far', 'fear',\n",
       "       'feel', 'feeling', 'find', 'fire', 'first', 'follow', 'for',\n",
       "       'free', 'fret', 'friends', 'from', 'frown', 'fuck', 'fucking',\n",
       "       'fuming', 'fun', 'funny', 'furious', 'fury', 'future', 'game',\n",
       "       'gave', 'gbbo', 'get', 'gets', 'getting', 'give', 'glee', 'gloomy',\n",
       "       'go', 'god', 'goes', 'going', 'gon', 'gone', 'good', 'got',\n",
       "       'great', 'grim', 'gt', 'guy', 'guys', 'had', 'half', 'happy',\n",
       "       'hard', 'has', 'hate', 'have', 'having', 'he', 'head', 'heart',\n",
       "       'hearty', 'hell', 'help', 'her', 'here', 'hilarious', 'hilarity',\n",
       "       'hillaryclinton', 'him', 'his', 'home', 'hope', 'horrible',\n",
       "       'horror', 'house', 'how', 'i', 'if', 'im', 'in', 'india', 'into',\n",
       "       'is', 'it', 'its', 'job', 'joke', 'joyful', 'joyous', 'just',\n",
       "       'keep', 'kind', 'know', 'last', 'late', 'laugh', 'laughter',\n",
       "       'least', 'leave', 'left', 'less', 'let', 'life', 'like',\n",
       "       'literally', 'little', 'live', 'live.ly', 'lively', 'lmao', 'lol',\n",
       "       'long', 'look', 'looking', 'looks', 'lost', 'lot', 'love',\n",
       "       'madden', 'made', 'make', 'makes', 'making', 'man', 'many', 'may',\n",
       "       'maybe', 'me', 'might', 'mind', 'miss', 'month', 'more', 'morning',\n",
       "       'most', 'much', 'music', 'musically', 'must', 'my', 'myself', 'n',\n",
       "       \"n't\", 'na', 'need', 'needs', 'nervous', 'never', 'new', 'news',\n",
       "       'next', 'nice', 'night', 'nightmare', 'no', 'not', 'nothing',\n",
       "       'now', 'of', 'off', 'offended', 'offense', 'oh', 'ok', 'old', 'on',\n",
       "       'once', 'one', 'only', 'optimism', 'or', 'order', 'other', 'our',\n",
       "       'out', 'outrage', 'over', 'own', 'pakistan', 'panic', 'part',\n",
       "       'people', 'person', 'phone', 'pine', 'place', 'play', 'playful',\n",
       "       'playing', 'please', 'pleasing', 'police', 'pout', 'pretty', 'put',\n",
       "       'quite', 'quote', 'rage', 'raging', 'rather', 'real',\n",
       "       'realdonaldtrump', 'really', 'rejoice', 'rejoicing', 'relentless',\n",
       "       'remember', 'revenge', 'right', 's', 'sad', 'sadly', 'sadness',\n",
       "       'said', 'same', 'say', 'saying', 'says', 'season', 'see', 'seen',\n",
       "       'serious', 'service', 'shake', 'shaking', 'she', 'shit',\n",
       "       'shocking', 'should', 'show', 'shy', 'sick', 'side', 'since',\n",
       "       'situation', 'sleep', 'smile', 'smiling', 'snap', 'snapchat', 'so',\n",
       "       'sober', 'some', 'someone', 'something', 'sometimes', 'sorry',\n",
       "       'sparkling', 'start', 'started', 'stayed', 'still', 'sting',\n",
       "       'stop', 'story', 'success', 'such', 'sunk', 'support', 'sure',\n",
       "       'take', 'taking', 'talk', 'talking', 'team', 'tears', 'tell',\n",
       "       'terrible', 'terror', 'terrorism', 'than', 'thank', 'thanks',\n",
       "       'that', 'the', 'their', 'them', 'then', 'there', 'these', 'they',\n",
       "       'thing', 'things', 'think', 'this', 'those', 'though', 'thought',\n",
       "       'through', 'time', 'times', 'tired', 'to', 'today', 'told',\n",
       "       'tomorrow', 'tonight', 'too', 'trump', 'try', 'trying', 'turn',\n",
       "       'twitter', 'two', 'u', 'under', 'unhappy', 'until', 'up', 'ur',\n",
       "       'us', 'use', 'used', 'very', 'wait', 'waiting', 'wan', 'want',\n",
       "       'wanted', 'war', 'was', 'watch', 'watching', 'way', 'we', 'weary',\n",
       "       'week', 'weeks', 'well', 'were', 'what', 'when', 'where', 'which',\n",
       "       'while', 'white', 'who', 'whole', 'why', 'will', 'win', 'wish',\n",
       "       'with', 'without', 'wo', 'woman', 'work', 'world', 'worry',\n",
       "       'worst', 'would', 'wow', 'yeah', 'year', 'years', 'yet', 'you',\n",
       "       'your', 'yourself', '’', '“', '”', '😂'], dtype=object)"
      ]
     },
     "execution_count": 42,
     "metadata": {},
     "output_type": "execute_result"
    }
   ],
   "source": [
    "# observe some feature names\n",
    "feature_names_500 = BOW_500.get_feature_names_out()\n",
    "feature_names_500[0:500]"
   ]
  },
  {
   "cell_type": "code",
   "execution_count": 40,
   "metadata": {
    "colab": {
     "base_uri": "https://localhost:8080/"
    },
    "id": "ubgedNi4YTpo",
    "outputId": "d4c8c862-7507-497c-fc76-a2730996bb40"
   },
   "outputs": [
    {
     "data": {
      "text/plain": [
       "True"
      ]
     },
     "execution_count": 40,
     "metadata": {},
     "output_type": "execute_result"
    }
   ],
   "source": [
    "\"😂\" in feature_names_500"
   ]
  },
  {
   "cell_type": "markdown",
   "metadata": {
    "id": "fj6TV4ngYTpo"
   },
   "source": [
    "---\n",
    "### ** >>> Exercise 2 (Take home): **  \n",
    "Generate an embedding using the TF-IDF vectorizer instead of th BOW one with 1000 features and show the feature names for features [100:110]."
   ]
  },
  {
   "cell_type": "code",
   "execution_count": 44,
   "metadata": {
    "id": "BOjVbgmxYTpo"
   },
   "outputs": [],
   "source": [
    "# Answer here\n",
    "#import TfidfVectorizer as feature extractor\n",
    "from sklearn.feature_extraction.text import TfidfVectorizer\n",
    "#fix feature numbers\n",
    "number_features = 1000\n",
    "#build analyzers by TfidfVectorizer package\n",
    "Tfidfvertorizer = TfidfVectorizer(lowercase=True,\n",
    "                            max_features= number_features, #top 1000 most important features\n",
    "                            stop_words = \"english\")\n",
    "# apply analyzer to training data\n",
    "Tfidfvertorizer.fit(train_df['text'])\n",
    "#Learn vocabulary and idf, return document-term matrix.\n",
    "train_data_Tfidf_features = Tfidfvertorizer.fit_transform(train_df['text'])\n"
   ]
  },
  {
   "cell_type": "code",
   "execution_count": 47,
   "metadata": {},
   "outputs": [
    {
     "data": {
      "text/plain": [
       "['blue',\n",
       " 'blues',\n",
       " 'body',\n",
       " 'boiling',\n",
       " 'book',\n",
       " 'boss',\n",
       " 'bought',\n",
       " 'bout',\n",
       " 'boy',\n",
       " 'break']"
      ]
     },
     "execution_count": 47,
     "metadata": {},
     "output_type": "execute_result"
    }
   ],
   "source": [
    "## observe some feature names range from [100:110]\n",
    "Tfidf_feature_names = Tfidfvertorizer.get_feature_names()\n",
    "Tfidf_feature_names[100:110]"
   ]
  },
  {
   "cell_type": "code",
   "execution_count": 49,
   "metadata": {},
   "outputs": [
    {
     "name": "stdout",
     "output_type": "stream",
     "text": [
      "(3613, 1000)\n"
     ]
    }
   ],
   "source": [
    "print (train_data_Tfidf_features.shape)"
   ]
  },
  {
   "cell_type": "markdown",
   "metadata": {
    "id": "e0BvbNAVYTpo"
   },
   "source": [
    "\n",
    "---\n",
    "## 3. Model\n",
    "### 3.1 Decision Trees\n",
    "Using scikit-learn ```DecisionTreeClassifier``` performs word frequency and uses these as features to train a model.  \n",
    "http://scikit-learn.org/stable/modules/generated/sklearn.tree.DecisionTreeClassifier.html#sklearn.tree.DecisionTreeClassifier"
   ]
  },
  {
   "cell_type": "code",
   "execution_count": 52,
   "metadata": {
    "colab": {
     "base_uri": "https://localhost:8080/"
    },
    "id": "SD0rMWKgYTpo",
    "outputId": "36873985-dd8e-40ac-8ff8-f297a21f69db"
   },
   "outputs": [
    {
     "name": "stdout",
     "output_type": "stream",
     "text": [
      "X_train.shape:  (3613, 500)\n",
      "y_train.shape:  (3613,)\n",
      "X_test.shape:  (347, 500)\n",
      "y_test.shape:  (347,)\n"
     ]
    }
   ],
   "source": [
    "from sklearn.tree import DecisionTreeClassifier\n",
    "\n",
    "# for a classificaiton problem, you need to provide both training & testing data\n",
    "# Transform training documents to document-term matrix.\n",
    "X_train = BOW_500.transform(train_df['text'])\n",
    "# For supervised learning, y_train = answer\n",
    "y_train = train_df['emotion']\n",
    "\n",
    "#Transform testing documents to document-term matrix.\n",
    "X_test = BOW_500.transform(test_df['text'])\n",
    "# prediction result = y_test \n",
    "y_test = test_df['emotion']\n",
    "\n",
    "## take a look at data dimension is a good habit  :)\n",
    "print('X_train.shape: ', X_train.shape)\n",
    "print('y_train.shape: ', y_train.shape)\n",
    "print('X_test.shape: ', X_test.shape)\n",
    "print('y_test.shape: ', y_test.shape)"
   ]
  },
  {
   "cell_type": "code",
   "execution_count": 53,
   "metadata": {},
   "outputs": [
    {
     "name": "stdout",
     "output_type": "stream",
     "text": [
      "(3613, 500)\n"
     ]
    }
   ],
   "source": [
    "print(X_train.shape)"
   ]
  },
  {
   "cell_type": "code",
   "execution_count": 54,
   "metadata": {
    "colab": {
     "base_uri": "https://localhost:8080/"
    },
    "id": "iDuvLf7TYTpo",
    "outputId": "892ea486-fe16-49fc-a57a-b507924d9549"
   },
   "outputs": [
    {
     "data": {
      "text/plain": [
       "array(['sadness', 'anger', 'joy', 'joy', 'joy', 'joy', 'fear', 'fear',\n",
       "       'fear', 'fear'], dtype=object)"
      ]
     },
     "execution_count": 54,
     "metadata": {},
     "output_type": "execute_result"
    }
   ],
   "source": [
    "## build DecisionTree model\n",
    "DT_model = DecisionTreeClassifier(random_state=1)\n",
    "\n",
    "## training!\n",
    "DT_model = DT_model.fit(X_train, y_train)\n",
    "\n",
    "## predict!\n",
    "y_train_pred = DT_model.predict(X_train)\n",
    "y_test_pred = DT_model.predict(X_test)\n",
    "\n",
    "## so we get the pred result\n",
    "y_test_pred[:10]"
   ]
  },
  {
   "cell_type": "markdown",
   "metadata": {
    "id": "zqZHlDjxYTpo"
   },
   "source": [
    " "
   ]
  },
  {
   "cell_type": "markdown",
   "metadata": {
    "id": "iBNmBT50YTpo"
   },
   "source": [
    "---\n",
    "## 4. Results Evaluation"
   ]
  },
  {
   "cell_type": "markdown",
   "metadata": {
    "id": "-gQU_PbhYTpo"
   },
   "source": [
    "Now we will check the results of our model's performance"
   ]
  },
  {
   "cell_type": "code",
   "execution_count": 57,
   "metadata": {
    "colab": {
     "base_uri": "https://localhost:8080/"
    },
    "id": "A9yx3tv-YTpo",
    "outputId": "0b1e4f04-d7a5-4e0d-8351-66c2b802cc42"
   },
   "outputs": [
    {
     "name": "stdout",
     "output_type": "stream",
     "text": [
      "training accuracy: 0.99\n",
      "testing accuracy: 0.68\n"
     ]
    }
   ],
   "source": [
    "## accuracy package\n",
    "from sklearn.metrics import accuracy_score\n",
    "\n",
    "#get accuracy_score for training data\n",
    "acc_train = accuracy_score(y_true=y_train, y_pred=y_train_pred)\n",
    "\n",
    "#get accuracy_score for testing data\n",
    "acc_test = accuracy_score(y_true=y_test, y_pred=y_test_pred)\n",
    "\n",
    "print('training accuracy: {}'.format(round(acc_train, 2)))\n",
    "print('testing accuracy: {}'.format(round(acc_test, 2)))\n"
   ]
  },
  {
   "cell_type": "code",
   "execution_count": 58,
   "metadata": {
    "colab": {
     "base_uri": "https://localhost:8080/"
    },
    "id": "-wkOqjqiYTpo",
    "outputId": "f0538316-514a-4894-fb0f-ccc73204f598"
   },
   "outputs": [
    {
     "name": "stdout",
     "output_type": "stream",
     "text": [
      "              precision    recall  f1-score   support\n",
      "\n",
      "       anger       0.66      0.68      0.67        84\n",
      "        fear       0.66      0.69      0.67       110\n",
      "         joy       0.72      0.71      0.71        79\n",
      "     sadness       0.70      0.64      0.67        74\n",
      "\n",
      "    accuracy                           0.68       347\n",
      "   macro avg       0.68      0.68      0.68       347\n",
      "weighted avg       0.68      0.68      0.68       347\n",
      "\n"
     ]
    }
   ],
   "source": [
    "## precision, recall, f1-score,\n",
    "from sklearn.metrics import classification_report\n",
    "\n",
    "print(classification_report(y_true=y_test, y_pred=y_test_pred))"
   ]
  },
  {
   "cell_type": "code",
   "execution_count": 49,
   "metadata": {
    "colab": {
     "base_uri": "https://localhost:8080/"
    },
    "id": "N6mhrmKHYTpo",
    "outputId": "30efb505-d5e0-41f6-e72a-05302135a4db"
   },
   "outputs": [
    {
     "name": "stdout",
     "output_type": "stream",
     "text": [
      "[[57 18  6  3]\n",
      " [16 76  9  9]\n",
      " [ 6  9 56  8]\n",
      " [ 7 13  7 47]]\n"
     ]
    }
   ],
   "source": [
    "## check by confusion matrix\n",
    "from sklearn.metrics import confusion_matrix\n",
    "# calculate confusion matrix \n",
    "cm = confusion_matrix(y_true=y_test, y_pred=y_test_pred) \n",
    "print(cm)"
   ]
  },
  {
   "cell_type": "code",
   "execution_count": 50,
   "metadata": {
    "id": "-TcX8NA5YTpo"
   },
   "outputs": [],
   "source": [
    "# Funciton for visualizing confusion_matrix\n",
    "import matplotlib.pyplot as plt\n",
    "import seaborn as sns\n",
    "import numpy as np\n",
    "import itertools\n",
    "\n",
    "def plot_confusion_matrix(cm, classes, title='Confusion matrix',\n",
    "                          cmap=sns.cubehelix_palette(as_cmap=True)):\n",
    "    \"\"\"\n",
    "    This function is modified from: \n",
    "    http://scikit-learn.org/stable/auto_examples/model_selection/plot_confusion_matrix.html\n",
    "    \"\"\"\n",
    "    classes.sort()\n",
    "    tick_marks = np.arange(len(classes))    \n",
    "    \n",
    "    fig, ax = plt.subplots(figsize=(5,5))\n",
    "    im = ax.imshow(cm, interpolation='nearest', cmap=cmap)\n",
    "    ax.figure.colorbar(im, ax=ax)\n",
    "    ax.set(xticks=np.arange(cm.shape[1]),\n",
    "           yticks=np.arange(cm.shape[0]),\n",
    "           xticklabels = classes,\n",
    "           yticklabels = classes,\n",
    "           title = title,\n",
    "           xlabel = 'True label',\n",
    "           ylabel = 'Predicted label')\n",
    "\n",
    "    fmt = 'd'\n",
    "    thresh = cm.max() / 2.\n",
    "    for i, j in itertools.product(range(cm.shape[0]), range(cm.shape[1])):\n",
    "        plt.text(j, i, format(cm[i, j], fmt), horizontalalignment=\"center\", color=\"white\" if cm[i, j] > thresh else \"black\")\n",
    "    ylim_top = len(classes) - 0.5\n",
    "    plt.ylim([ylim_top, -.5])\n",
    "    plt.tight_layout()\n",
    "    plt.show()"
   ]
  },
  {
   "cell_type": "code",
   "execution_count": 51,
   "metadata": {
    "colab": {
     "base_uri": "https://localhost:8080/",
     "height": 363
    },
    "id": "1nBVOUpDYTpo",
    "outputId": "7f99188c-1f03-462e-971e-0c8238f4f0d7"
   },
   "outputs": [
    {
     "data": {
      "image/png": "[encoded data removed]",
      "text/plain": [
       "<Figure size 360x360 with 2 Axes>"
      ]
     },
     "metadata": {
      "needs_background": "light"
     },
     "output_type": "display_data"
    }
   ],
   "source": [
    "# plot your confusion matrix\n",
    "# assign emotion list to my_tags\n",
    "my_tags = ['anger', 'fear', 'joy', 'sadness']\n",
    "plot_confusion_matrix(cm, classes=my_tags, title='Confusion matrix')"
   ]
  },
  {
   "cell_type": "markdown",
   "metadata": {
    "id": "l743vmwgYTpo"
   },
   "source": [
    "---\n",
    "### ** >>> Exercise 3 (Take home): **  \n",
    "Can you interpret the results above? What do they mean?"
   ]
  },
  {
   "cell_type": "markdown",
   "metadata": {
    "id": "8pYICOxsYTpo"
   },
   "source": [
    "# Answer here\n",
    "We'll see how well the model predict each emotion label \n",
    "Total data counts is 347.\n",
    "For anger, there are 84 records,model predict correctly 57 out of 84 records and mostly misinterprete with fear.\n",
    "For fear, there are 110 records, model predict correctly 76 out of 110 records and mostly misinterprete with anger.\n",
    "For joy, there are 79 records, model predict correctly 55 out of 79 records and mostly misinterprete with fear.\n",
    "For sadness, there are 74 records, model predict correctly 47 out of 74 records and mostly misinterprete with fear.\n",
    "If we check the materix by percentage,the best result of emotion is joy(accuracy: 74% )\n",
    "Model usually misinterprete between fear and anger(predict anger as fear(16 records)/fear as anger(18 records))"
   ]
  },
  {
   "cell_type": "markdown",
   "metadata": {
    "id": "GaHpgl87YTpo"
   },
   "source": [
    "---\n",
    "### ** >>> Exercise 4 (Take home): **  \n",
    "Build a model using a ```Naive Bayes``` model and train it. What are the testing results? \n",
    "\n",
    "*Reference*: https://scikit-learn.org/stable/modules/generated/sklearn.naive_bayes.MultinomialNB.html"
   ]
  },
  {
   "cell_type": "code",
   "execution_count": 60,
   "metadata": {
    "id": "ZPvaHzpXYTpo"
   },
   "outputs": [],
   "source": [
    "# Answer here\n",
    "#There are thre Naive Bayes models(BernoulliNB, MultinomialNB ans GaussianNB),  All of them are from naive bayes\n",
    "#import split data package\n",
    "from sklearn.naive_bayes import BernoulliNB\n",
    "from sklearn.naive_bayes import MultinomialNB\n",
    "from sklearn.naive_bayes import GaussianNB\n",
    "\n",
    "#import split data package\n",
    "from sklearn.model_selection import train_test_split\n",
    "\n",
    "%matplotlib inline\n",
    "from sklearn.metrics import plot_confusion_matrix\n",
    "\n",
    "#MultinomialNB model\n",
    "mnb_counts = MultinomialNB()\n",
    "\n",
    "#BernoulliNB model\n",
    "bnb_counts=BernoulliNB()\n",
    "\n",
    "#GaussianNB model\n",
    "gnb_counts=GaussianNB()"
   ]
  },
  {
   "cell_type": "code",
   "execution_count": 61,
   "metadata": {},
   "outputs": [
    {
     "data": {
      "text/plain": [
       "<3613x500 sparse matrix of type '<class 'numpy.int64'>'\n",
       "\twith 42477 stored elements in Compressed Sparse Row format>"
      ]
     },
     "execution_count": 61,
     "metadata": {},
     "output_type": "execute_result"
    }
   ],
   "source": [
    "X_train"
   ]
  },
  {
   "cell_type": "code",
   "execution_count": 62,
   "metadata": {},
   "outputs": [
    {
     "data": {
      "text/plain": [
       "array(['sadness', 'anger', 'joy', 'joy', 'anger', 'joy', 'fear', 'fear',\n",
       "       'fear', 'anger'], dtype='<U7')"
      ]
     },
     "execution_count": 62,
     "metadata": {},
     "output_type": "execute_result"
    }
   ],
   "source": [
    "#USE training data to fit GaussianNB model\n",
    "MNB_model=mnb_counts.fit(X_train, y_train) #MultinomialNB()\n",
    "\n",
    "# predict training data\n",
    "MNB_y_train_pred = MNB_model.predict(X_train)\n",
    "\n",
    "# predict testing data\n",
    "MNB_y_test_pred = MNB_model.predict(X_test)\n",
    "\n",
    "##Show some prediction result\n",
    "MNB_y_test_pred[:10]"
   ]
  },
  {
   "cell_type": "code",
   "execution_count": 63,
   "metadata": {},
   "outputs": [
    {
     "data": {
      "text/plain": [
       "array(['sadness', 'anger', 'joy', 'joy', 'sadness', 'joy', 'fear', 'fear',\n",
       "       'fear', 'anger'], dtype='<U7')"
      ]
     },
     "execution_count": 63,
     "metadata": {},
     "output_type": "execute_result"
    }
   ],
   "source": [
    "##USE training data to fit BernoulliNB model\n",
    "BNB_model=bnb_counts.fit(X_train, y_train) #BernoulliNB\n",
    "\n",
    "# predict training data\n",
    "BNB_y_train_pred = BNB_model.predict(X_train)\n",
    "\n",
    "# predict testing data\n",
    "BNB_y_test_pred = BNB_model.predict(X_test)\n",
    "\n",
    "# Show some prediction result\n",
    "BNB_y_test_pred[:10]"
   ]
  },
  {
   "cell_type": "code",
   "execution_count": 64,
   "metadata": {},
   "outputs": [
    {
     "name": "stderr",
     "output_type": "stream",
     "text": [
      "D:\\ProgramData\\anaconda3\\envs\\env1\\lib\\site-packages\\sklearn\\utils\\validation.py:593: FutureWarning: np.matrix usage is deprecated in 1.0 and will raise a TypeError in 1.2. Please convert to a numpy array with np.asarray. For more information see: https://numpy.org/doc/stable/reference/generated/numpy.matrix.html\n",
      "  warnings.warn(\n",
      "D:\\ProgramData\\anaconda3\\envs\\env1\\lib\\site-packages\\sklearn\\utils\\validation.py:593: FutureWarning: np.matrix usage is deprecated in 1.0 and will raise a TypeError in 1.2. Please convert to a numpy array with np.asarray. For more information see: https://numpy.org/doc/stable/reference/generated/numpy.matrix.html\n",
      "  warnings.warn(\n",
      "D:\\ProgramData\\anaconda3\\envs\\env1\\lib\\site-packages\\sklearn\\utils\\validation.py:593: FutureWarning: np.matrix usage is deprecated in 1.0 and will raise a TypeError in 1.2. Please convert to a numpy array with np.asarray. For more information see: https://numpy.org/doc/stable/reference/generated/numpy.matrix.html\n",
      "  warnings.warn(\n"
     ]
    },
    {
     "data": {
      "text/plain": [
       "array(['sadness', 'anger', 'joy', 'joy', 'joy', 'joy', 'fear', 'fear',\n",
       "       'fear', 'anger'], dtype='<U7')"
      ]
     },
     "execution_count": 64,
     "metadata": {},
     "output_type": "execute_result"
    }
   ],
   "source": [
    "##USE training data to fit GaussianNB model\n",
    "GNB_model=gnb_counts.fit(X_train.todense(), y_train)\n",
    "\n",
    "# predict training data\n",
    "GNB_y_train_pred = GNB_model.predict(X_train.todense())\n",
    "\n",
    "# predict testing data\n",
    "GNB_y_test_pred = GNB_model.predict(X_test.todense())\n",
    "\n",
    "# Show some prediction result\n",
    "GNB_y_test_pred[:10]"
   ]
  },
  {
   "cell_type": "code",
   "execution_count": 65,
   "metadata": {},
   "outputs": [
    {
     "name": "stdout",
     "output_type": "stream",
     "text": [
      "training accuracy: 0.79\n",
      "testing accuracy: 0.7\n"
     ]
    }
   ],
   "source": [
    "## accuracy package\n",
    "from sklearn.metrics import accuracy_score\n",
    "\n",
    "#get accuracy_score of MultinomialNB model for training data\n",
    "MNB_acc_train = accuracy_score(y_true=y_train, y_pred=MNB_y_train_pred)\n",
    "\n",
    "#get accuracy_score of MultinomialNB model for testing data\n",
    "MNB_acc_test = accuracy_score(y_true=y_test, y_pred=MNB_y_test_pred)\n",
    "\n",
    "#Print accuracy and set result format\n",
    "print('training accuracy: {}'.format(round(MNB_acc_train, 2)))\n",
    "print('testing accuracy: {}'.format(round(MNB_acc_test, 2)))"
   ]
  },
  {
   "cell_type": "code",
   "execution_count": 66,
   "metadata": {},
   "outputs": [
    {
     "name": "stdout",
     "output_type": "stream",
     "text": [
      "              precision    recall  f1-score   support\n",
      "\n",
      "       anger       0.63      0.65      0.64        84\n",
      "        fear       0.73      0.77      0.75       110\n",
      "         joy       0.78      0.71      0.74        79\n",
      "     sadness       0.64      0.62      0.63        74\n",
      "\n",
      "    accuracy                           0.70       347\n",
      "   macro avg       0.70      0.69      0.69       347\n",
      "weighted avg       0.70      0.70      0.70       347\n",
      "\n"
     ]
    }
   ],
   "source": [
    "# \n",
    "## precision, recall, f1-score of MultinomialNB model\n",
    "from sklearn.metrics import classification_report\n",
    "\n",
    "print(classification_report(y_true=y_test, y_pred=MNB_y_test_pred))"
   ]
  },
  {
   "cell_type": "code",
   "execution_count": 67,
   "metadata": {},
   "outputs": [
    {
     "name": "stdout",
     "output_type": "stream",
     "text": [
      "training accuracy: 0.79\n",
      "testing accuracy: 0.7\n"
     ]
    }
   ],
   "source": [
    "# Do the same thing for BernoulliNB model\n",
    "## accuracy package\n",
    "from sklearn.metrics import accuracy_score\n",
    "\n",
    "#Get accuracy_score of BernoulliNB model for training data\n",
    "BNB_acc_train = accuracy_score(y_true=y_train, y_pred=BNB_y_train_pred)\n",
    "\n",
    "#Get accuracy_score of BernoulliNB model for testing data\n",
    "BNB_acc_test = accuracy_score(y_true=y_test, y_pred=BNB_y_test_pred)\n",
    "\n",
    "#print training and testing accuracy and set format\n",
    "print('training accuracy: {}'.format(round(BNB_acc_train, 2)))\n",
    "print('testing accuracy: {}'.format(round(BNB_acc_test, 2)))\n"
   ]
  },
  {
   "cell_type": "code",
   "execution_count": 68,
   "metadata": {},
   "outputs": [
    {
     "name": "stdout",
     "output_type": "stream",
     "text": [
      "              precision    recall  f1-score   support\n",
      "\n",
      "       anger       0.61      0.68      0.64        84\n",
      "        fear       0.74      0.76      0.75       110\n",
      "         joy       0.81      0.68      0.74        79\n",
      "     sadness       0.66      0.65      0.65        74\n",
      "\n",
      "    accuracy                           0.70       347\n",
      "   macro avg       0.70      0.69      0.70       347\n",
      "weighted avg       0.71      0.70      0.70       347\n",
      "\n"
     ]
    }
   ],
   "source": [
    "##import  precision, recall, f1-score  package\n",
    "from sklearn.metrics import classification_report\n",
    "\n",
    "##print precision, recall, f1-score of BernoulliNB model for testing data\n",
    "print(classification_report(y_true=y_test, y_pred=BNB_y_test_pred))"
   ]
  },
  {
   "cell_type": "code",
   "execution_count": 61,
   "metadata": {},
   "outputs": [
    {
     "name": "stdout",
     "output_type": "stream",
     "text": [
      "training accuracy: 0.76\n",
      "testing accuracy: 0.65\n"
     ]
    }
   ],
   "source": [
    "# # Do the same thing for GaussianNB model \n",
    "## accuracy\n",
    "from sklearn.metrics import accuracy_score\n",
    "\n",
    "#Get accuracy_score of GaussianNB model for training data\n",
    "GNB_acc_train = accuracy_score(y_true=y_train, y_pred=GNB_y_train_pred)\n",
    "\n",
    "#Get accuracy_score of GaussianNB model for testing data\n",
    "GNB_acc_test = accuracy_score(y_true=y_test, y_pred=GNB_y_test_pred)\n",
    "\n",
    "#print training and testing accuracy of  GaussianNB model and set format\n",
    "print('training accuracy: {}'.format(round(GNB_acc_train, 2)))\n",
    "print('testing accuracy: {}'.format(round(GNB_acc_test, 2)))"
   ]
  },
  {
   "cell_type": "code",
   "execution_count": 62,
   "metadata": {},
   "outputs": [
    {
     "name": "stdout",
     "output_type": "stream",
     "text": [
      "              precision    recall  f1-score   support\n",
      "\n",
      "       anger       0.53      0.73      0.61        84\n",
      "        fear       0.79      0.59      0.68       110\n",
      "         joy       0.65      0.81      0.72        79\n",
      "     sadness       0.69      0.47      0.56        74\n",
      "\n",
      "    accuracy                           0.65       347\n",
      "   macro avg       0.66      0.65      0.64       347\n",
      "weighted avg       0.67      0.65      0.65       347\n",
      "\n"
     ]
    }
   ],
   "source": [
    "##import  precision, recall, f1-score  package\n",
    "from sklearn.metrics import classification_report\n",
    "\n",
    "##print precision, recall, f1-score of GaussianNB model for testing data\n",
    "print(classification_report(y_true=y_test, y_pred=GNB_y_test_pred))"
   ]
  },
  {
   "cell_type": "markdown",
   "metadata": {},
   "source": [
    "##  BernoulliNB and  MultinomialNB model got the same performance(avg : 0.70)\n",
    "## but the weighted avg precision of BernoulliNB is 0.71."
   ]
  },
  {
   "cell_type": "code",
   "execution_count": 63,
   "metadata": {},
   "outputs": [
    {
     "name": "stdout",
     "output_type": "stream",
     "text": [
      "[[55 15  5  9]\n",
      " [ 9 85  5 11]\n",
      " [11  6 56  6]\n",
      " [12 10  6 46]]\n"
     ]
    }
   ],
   "source": [
    "## I check MultinomialNB model result by confusion matrix\n",
    "from sklearn.metrics import confusion_matrix\n",
    "\n",
    "\n",
    "MNB_cm = confusion_matrix(y_true=y_test, y_pred=MNB_y_test_pred) \n",
    "print(MNB_cm)"
   ]
  },
  {
   "cell_type": "code",
   "execution_count": 65,
   "metadata": {},
   "outputs": [],
   "source": [
    "# Funciton for visualizing confusion_matrix\n",
    "import matplotlib.pyplot as plt\n",
    "import seaborn as sns\n",
    "import numpy as np\n",
    "import itertools\n",
    "\n",
    "def plot_confusion_matrix(MNB_cm, classes, title='Confusion matrix',\n",
    "                          cmap=sns.cubehelix_palette(start=2.8, rot=.1,as_cmap=True)):\n",
    "    \"\"\"\n",
    "    This function is modified from: \n",
    "    http://scikit-learn.org/stable/auto_examples/model_selection/plot_confusion_matrix.html\n",
    "    \"\"\"\n",
    "    classes.sort()\n",
    "    tick_marks = np.arange(len(classes))    \n",
    "    \n",
    "    fig, ax = plt.subplots(figsize=(5,5))\n",
    "    im = ax.imshow(MNB_cm, interpolation='nearest', cmap=cmap)\n",
    "    ax.figure.colorbar(im, ax=ax)\n",
    "    ax.set(xticks=np.arange(MNB_cm.shape[1]),\n",
    "           yticks=np.arange(MNB_cm.shape[0]),\n",
    "           xticklabels = classes,\n",
    "           yticklabels = classes,\n",
    "           title = title,\n",
    "           xlabel = 'True label',\n",
    "           ylabel = 'Predicted label')\n",
    "\n",
    "    fmt = 'd'\n",
    "    thresh = MNB_cm.max() / 2.\n",
    "    for i, j in itertools.product(range(MNB_cm.shape[0]), range(MNB_cm.shape[1])):\n",
    "        plt.text(j, i, format(MNB_cm[i, j], fmt), horizontalalignment=\"center\", color=\"white\" if MNB_cm[i, j] > thresh else \"black\")\n",
    "    ylim_top = len(classes) - 0.5\n",
    "    plt.ylim([ylim_top, -.5])\n",
    "    plt.tight_layout()\n",
    "    plt.grid(False)\n",
    "    plt.show()"
   ]
  },
  {
   "cell_type": "code",
   "execution_count": 66,
   "metadata": {},
   "outputs": [
    {
     "data": {
      "image/png": "[encoded data removed]",
      "text/plain": [
       "<Figure size 360x360 with 2 Axes>"
      ]
     },
     "metadata": {
      "needs_background": "light"
     },
     "output_type": "display_data"
    }
   ],
   "source": [
    "# plot your confusion matrix\n",
    "# assign emotion list to my_tags\n",
    "my_tags = ['anger', 'fear', 'joy', 'sadness']\n",
    "plot_confusion_matrix(MNB_cm, classes=my_tags, title='Confusion matrix')"
   ]
  },
  {
   "cell_type": "markdown",
   "metadata": {
    "id": "Xv2DqWQSYTpo"
   },
   "source": [
    "---\n",
    "### ** >>> Exercise 5 (Take home): **  \n",
    "\n",
    "How do the results from the Naive Bayes model and the Decision Tree model compare? How do you interpret these differences? Use the theoretical background covered in class to try and explain these differences."
   ]
  },
  {
   "cell_type": "markdown",
   "metadata": {
    "id": "ALN_jHdlYTpo"
   },
   "source": [
    "# Answer here\n",
    "Overall Naive Bayes model(0.70) outperform the Decision Tree model(0.68) with the average precision, recall and F1 score (0.7 Vs 0.68) Compare between the two model.\n",
    "Decision Trees is very flexible, easy to understand. However, it tends to overfit the training data, which we can see from the high training accuracy score(0.99) but low score in testing accuracy score(training 0.99 : testing 0.68). \n",
    "\n",
    "I list the weak reason of Decision tree is below:\n",
    "a.Decision tree can be extremely sensitive to small perturbations in the data: a slight change can result in a drastically different tree.\n",
    "b.Decision tree can easily overfit. This can be negated by validation methods and pruning, but this is a grey area.\n",
    "c.Decision tree can have problems out-of-sample prediction (this is related to them being non-smooth).\n",
    "\n",
    "As decision trees use the “divide and conquer” method, they tend to perform well if a few highly relevant attributes exist, but less so if many complex interactions are present. Decision tree pruning may neglect some key values in training data, which can lead the accuracy for a toss. \n",
    "\n",
    "While Naive bayes assume that there are no dependencies amongst attributes. This assumption is called class conditional independence. the classifier use probabilities principle does not require large amounts of data before learning can begin and computationally fast when making decisions."
   ]
  },
  {
   "cell_type": "markdown",
   "metadata": {
    "id": "ehlJ60lhYTpo"
   },
   "source": [
    "---"
   ]
  },
  {
   "cell_type": "markdown",
   "metadata": {
    "id": "79F_DaW-YTpo"
   },
   "source": [
    "## 5. Other things you can try"
   ]
  },
  {
   "cell_type": "markdown",
   "metadata": {
    "id": "_oeqpRu6YTpo"
   },
   "source": [
    "Thus, there are several things you can try that will affect your results. In order to yield better results, you can experiment by: \n",
    "- Trying different features (Feature engineering)e.g Word2Vec, PCA, LDA, FastText, Clustering\n",
    "- Trying different models\n",
    "- Analyzing your results and interpret them to improve your feature engineering/model building process\n",
    "- Iterate through the steps above until finding a satisfying result\n",
    "\n",
    "Remember that you should also consider the task at hand and the model you'll feed the data to. "
   ]
  },
  {
   "cell_type": "markdown",
   "metadata": {
    "id": "fiGUSmPLYTpo"
   },
   "source": [
    "---\n",
    "## 6. Deep Learning\n",
    "\n",
    "We use [Keras](https://keras.io/) to be our deep learning framwork, and follow the [Model (functional API)](https://keras.io/models/model/) to build a Deep Neural Network (DNN) model. Keras runs with Tensorflow in the backend. It's a nice abstraction to start working with NN models. \n",
    "\n",
    "Because Deep Learning is a 1-semester course, we can't talk about each detail about it in the lab session. Here, we only provide a simple template about how to build & run a DL model successfully. You can follow this template to design your model.\n",
    "\n",
    "We will begin by building a fully connected network, which looks like this:"
   ]
  },
  {
   "cell_type": "markdown",
   "metadata": {
    "id": "1nB0BTq2YTpo"
   },
   "source": [
    "![Fully Connected Network](pics/pic1.png)\n",
    "\n",
    "(source: https://github.com/drewnoff/spark-notebook-ml-labs/tree/master/labs/DLFramework)\n"
   ]
  },
  {
   "cell_type": "markdown",
   "metadata": {
    "id": "-EtVRGhNYTpo"
   },
   "source": [
    "### 6.1 Prepare data (X, y)"
   ]
  },
  {
   "cell_type": "code",
   "execution_count": 70,
   "metadata": {},
   "outputs": [],
   "source": [
    "#I replace old keras to new onw(from keras to tensorflow version: 2.3)\n",
    "# \n",
    "#from keras.models import Model\n",
    "#from keras.layers import Input, Dense\n",
    "#from keras.layers import ReLU, Softmax\n",
    "\n",
    "#Use new Keras\n",
    "import tensorflow as tf \n",
    "keras = tf.keras\n",
    "\n",
    "#import all necessary packages\n",
    "from tensorflow.keras.models import Sequential, Model, load_model, save_model\n",
    "from tensorflow.keras.callbacks import ModelCheckpoint\n",
    "from tensorflow.keras.layers import Dense, Activation, Dropout, Input, Masking, TimeDistributed, LSTM, Conv1D, Embedding\n",
    "from tensorflow.keras.layers import GRU, Bidirectional, BatchNormalization, Reshape\n",
    "from tensorflow.keras.optimizers import Adam\n",
    "\n",
    "from tensorflow.keras.layers import Reshape, Dropout, Dense,Multiply, Dot, Concatenate,Embedding,ReLU, Softmax\n",
    "from tensorflow.keras import optimizers\n",
    "from tensorflow.keras.callbacks import ModelCheckpoint\n",
    "\n"
   ]
  },
  {
   "cell_type": "code",
   "execution_count": 71,
   "metadata": {
    "colab": {
     "base_uri": "https://localhost:8080/"
    },
    "id": "4mIdg2D6YTpo",
    "outputId": "8f4fa078-7e07-4b76-e5ee-163d123abde3"
   },
   "outputs": [
    {
     "name": "stdout",
     "output_type": "stream",
     "text": [
      "X_train.shape:  (3613, 500)\n",
      "y_train.shape:  (3613,)\n",
      "X_test.shape:  (347, 500)\n",
      "y_test.shape:  (347,)\n"
     ]
    }
   ],
   "source": [
    "# standardize name (X, y) \n",
    "# Transform training documents to document-term matrix.\n",
    "X_train = BOW_500.transform(train_df['text'])\n",
    "y_train = train_df['emotion']\n",
    "\n",
    "# Transform testing documents to document-term matrix.\n",
    "X_test = BOW_500.transform(test_df['text'])\n",
    "y_test = test_df['emotion']\n",
    "\n",
    "## check dimension\n",
    "print('X_train.shape: ', X_train.shape)\n",
    "print('y_train.shape: ', y_train.shape)\n",
    "print('X_test.shape: ', X_test.shape)\n",
    "print('y_test.shape: ', y_test.shape)"
   ]
  },
  {
   "cell_type": "markdown",
   "metadata": {
    "id": "iBZZedZ2YTpo"
   },
   "source": [
    "### 6.2 Deal with categorical label (y)\n",
    "\n",
    "Rather than put your label `train_df['emotion']` directly into a model, we have to process these categorical (or say nominal) label by ourselves. \n",
    "\n",
    "Here, we use the basic method [one-hot encoding](https://en.wikipedia.org/wiki/One-hot) to transform our categorical  labels to numerical ones.\n"
   ]
  },
  {
   "cell_type": "code",
   "execution_count": 72,
   "metadata": {
    "colab": {
     "base_uri": "https://localhost:8080/"
    },
    "id": "SU95MCsSYTpo",
    "outputId": "7f536cfa-8eda-4c04-bbbb-f35caa203f88"
   },
   "outputs": [
    {
     "name": "stdout",
     "output_type": "stream",
     "text": [
      "check label:  ['anger' 'fear' 'joy' 'sadness']\n",
      "\n",
      "## Before convert\n",
      "y_train[0:4]:\n",
      " 2331      joy\n",
      "501     anger\n",
      "2698      joy\n",
      "1249     fear\n",
      "Name: emotion, dtype: object\n",
      "\n",
      "y_train.shape:  (3613,)\n",
      "y_test.shape:  (347,)\n",
      "\n",
      "\n",
      "## After convert\n",
      "y_train[0:4]:\n",
      " [[0. 0. 1. 0.]\n",
      " [1. 0. 0. 0.]\n",
      " [0. 0. 1. 0.]\n",
      " [0. 1. 0. 0.]]\n",
      "\n",
      "y_train.shape:  (3613, 4)\n",
      "y_test.shape:  (347, 4)\n"
     ]
    }
   ],
   "source": [
    "## deal with label (string -> one-hot)\n",
    "# One-hot encoding is a data preparation practice that makes certain kinds of data easier to work with or \n",
    "# actually readable by an algorithm. Specifically, one-hot encoding is often used on categorical data. \n",
    "\n",
    "from sklearn.preprocessing import LabelEncoder\n",
    "\n",
    "label_encoder = LabelEncoder()\n",
    "label_encoder.fit(y_train)\n",
    "print('check label: ', label_encoder.classes_)\n",
    "print('\\n## Before convert')\n",
    "print('y_train[0:4]:\\n', y_train[0:4])\n",
    "print('\\ny_train.shape: ', y_train.shape)\n",
    "print('y_test.shape: ', y_test.shape)\n",
    "\n",
    "def label_encode(le, labels):\n",
    "    enc = le.transform(labels)\n",
    "    return keras.utils.to_categorical(enc)\n",
    "\n",
    "def label_decode(le, one_hot_label):\n",
    "    dec = np.argmax(one_hot_label, axis=1)\n",
    "    return le.inverse_transform(dec)\n",
    "\n",
    "y_train = label_encode(label_encoder, y_train)\n",
    "y_test = label_encode(label_encoder, y_test)\n",
    "\n",
    "print('\\n\\n## After convert')\n",
    "print('y_train[0:4]:\\n', y_train[0:4])\n",
    "print('\\ny_train.shape: ', y_train.shape)\n",
    "print('y_test.shape: ', y_test.shape)\n"
   ]
  },
  {
   "cell_type": "markdown",
   "metadata": {
    "id": "W4bqEcMbYTpo"
   },
   "source": [
    "### 6.3 Build model"
   ]
  },
  {
   "cell_type": "code",
   "execution_count": 73,
   "metadata": {
    "colab": {
     "base_uri": "https://localhost:8080/"
    },
    "id": "6sA7cx-oYTpo",
    "outputId": "9f544ca7-8ceb-45e4-a76d-bdc8ccdb329c"
   },
   "outputs": [
    {
     "name": "stdout",
     "output_type": "stream",
     "text": [
      "input_shape:  500\n",
      "output_shape:  4\n"
     ]
    }
   ],
   "source": [
    "# I/O check\n",
    "input_shape = X_train.shape[1]\n",
    "print('input_shape: ', input_shape)\n",
    "\n",
    "output_shape = len(label_encoder.classes_)\n",
    "print('output_shape: ', output_shape)"
   ]
  },
  {
   "cell_type": "markdown",
   "metadata": {
    "id": "8c-uWuloYTpo"
   },
   "source": [
    "![Imgur](pics/pic2.png)"
   ]
  },
  {
   "cell_type": "code",
   "execution_count": 74,
   "metadata": {
    "colab": {
     "base_uri": "https://localhost:8080/"
    },
    "id": "jTeBWTvgYTpo",
    "outputId": "3e88d40f-2179-40ea-89c6-55085cabd1c6"
   },
   "outputs": [
    {
     "name": "stdout",
     "output_type": "stream",
     "text": [
      "Model: \"model\"\n",
      "_________________________________________________________________\n",
      " Layer (type)                Output Shape              Param #   \n",
      "=================================================================\n",
      " input_1 (InputLayer)        [(None, 500)]             0         \n",
      "                                                                 \n",
      " dense (Dense)               (None, 64)                32064     \n",
      "                                                                 \n",
      " re_lu (ReLU)                (None, 64)                0         \n",
      "                                                                 \n",
      " dense_1 (Dense)             (None, 64)                4160      \n",
      "                                                                 \n",
      " re_lu_1 (ReLU)              (None, 64)                0         \n",
      "                                                                 \n",
      " dense_2 (Dense)             (None, 4)                 260       \n",
      "                                                                 \n",
      " softmax (Softmax)           (None, 4)                 0         \n",
      "                                                                 \n",
      "=================================================================\n",
      "Total params: 36,484\n",
      "Trainable params: 36,484\n",
      "Non-trainable params: 0\n",
      "_________________________________________________________________\n"
     ]
    }
   ],
   "source": [
    "\n",
    "# input layer\n",
    "model_input = Input(shape=(input_shape, ))  # 500\n",
    "X = model_input\n",
    "\n",
    "# 1st hidden layer\n",
    "X_W1 = Dense(units=64)(X)  # 64\n",
    "H1 = ReLU()(X_W1)\n",
    "\n",
    "# 2nd hidden layer\n",
    "H1_W2 = Dense(units=64)(H1)  # 64\n",
    "H2 = ReLU()(H1_W2)\n",
    "\n",
    "# output layer\n",
    "H2_W3 = Dense(units=output_shape)(H2)  # 4\n",
    "H3 = Softmax()(H2_W3)\n",
    "\n",
    "model_output = H3\n",
    "\n",
    "# create model\n",
    "model = Model(inputs=[model_input], outputs=[model_output])\n",
    "\n",
    "# loss function & optimizer\n",
    "model.compile(optimizer='adam',\n",
    "              loss='categorical_crossentropy',\n",
    "              metrics=['accuracy'])\n",
    "\n",
    "# show model construction\n",
    "model.summary()"
   ]
  },
  {
   "cell_type": "markdown",
   "metadata": {
    "id": "nmTSDO2pYTpo"
   },
   "source": [
    "### 6.4 Train"
   ]
  },
  {
   "cell_type": "code",
   "execution_count": 78,
   "metadata": {
    "colab": {
     "base_uri": "https://localhost:8080/"
    },
    "id": "Kl374LYqYTpo",
    "outputId": "75b1f651-b779-4efd-ff14-0b4a0e95d8db"
   },
   "outputs": [
    {
     "name": "stdout",
     "output_type": "stream",
     "text": [
      "Epoch 1/25\n"
     ]
    },
    {
     "name": "stderr",
     "output_type": "stream",
     "text": [
      "D:\\ProgramData\\anaconda3\\envs\\env1\\lib\\site-packages\\tensorflow\\python\\framework\\indexed_slices.py:444: UserWarning: Converting sparse IndexedSlices(IndexedSlices(indices=Tensor(\"gradient_tape/model/dense/embedding_lookup_sparse/Reshape_1:0\", shape=(None,), dtype=int32), values=Tensor(\"gradient_tape/model/dense/embedding_lookup_sparse/Reshape:0\", shape=(None, 64), dtype=float32), dense_shape=Tensor(\"gradient_tape/model/dense/embedding_lookup_sparse/Cast:0\", shape=(2,), dtype=int32))) to a dense Tensor of unknown shape. This may consume a large amount of memory.\n",
      "  warnings.warn(\n"
     ]
    },
    {
     "name": "stdout",
     "output_type": "stream",
     "text": [
      "113/113 [==============================] - 2s 4ms/step - loss: 1.3258 - accuracy: 0.3803 - val_loss: 1.2643 - val_accuracy: 0.4467\n",
      "Epoch 2/25\n",
      "113/113 [==============================] - 0s 2ms/step - loss: 0.9515 - accuracy: 0.6701 - val_loss: 0.9255 - val_accuracy: 0.6254\n",
      "Epoch 3/25\n",
      "113/113 [==============================] - 0s 2ms/step - loss: 0.5701 - accuracy: 0.7924 - val_loss: 0.7571 - val_accuracy: 0.7032\n",
      "Epoch 4/25\n",
      "113/113 [==============================] - 0s 2ms/step - loss: 0.4120 - accuracy: 0.8505 - val_loss: 0.7816 - val_accuracy: 0.7089\n",
      "Epoch 5/25\n",
      "113/113 [==============================] - 0s 2ms/step - loss: 0.3277 - accuracy: 0.8840 - val_loss: 0.8396 - val_accuracy: 0.7003\n",
      "Epoch 6/25\n",
      "113/113 [==============================] - 0s 3ms/step - loss: 0.2768 - accuracy: 0.9017 - val_loss: 0.8514 - val_accuracy: 0.6888\n",
      "Epoch 7/25\n",
      "113/113 [==============================] - 0s 3ms/step - loss: 0.2267 - accuracy: 0.9186 - val_loss: 0.9399 - val_accuracy: 0.6715\n",
      "Epoch 8/25\n",
      "113/113 [==============================] - 0s 2ms/step - loss: 0.1898 - accuracy: 0.9394 - val_loss: 0.9905 - val_accuracy: 0.6801\n",
      "Epoch 9/25\n",
      "113/113 [==============================] - 0s 3ms/step - loss: 0.1655 - accuracy: 0.9469 - val_loss: 1.0124 - val_accuracy: 0.6888\n",
      "Epoch 10/25\n",
      "113/113 [==============================] - 0s 3ms/step - loss: 0.1420 - accuracy: 0.9568 - val_loss: 1.0595 - val_accuracy: 0.6859\n",
      "Epoch 11/25\n",
      "113/113 [==============================] - 0s 2ms/step - loss: 0.1280 - accuracy: 0.9621 - val_loss: 1.1139 - val_accuracy: 0.6772\n",
      "Epoch 12/25\n",
      "113/113 [==============================] - 0s 2ms/step - loss: 0.1174 - accuracy: 0.9676 - val_loss: 1.1719 - val_accuracy: 0.6888\n",
      "Epoch 13/25\n",
      "113/113 [==============================] - 0s 2ms/step - loss: 0.1111 - accuracy: 0.9682 - val_loss: 1.2281 - val_accuracy: 0.6888\n",
      "Epoch 14/25\n",
      "113/113 [==============================] - 0s 2ms/step - loss: 0.0977 - accuracy: 0.9720 - val_loss: 1.2172 - val_accuracy: 0.6916\n",
      "Epoch 15/25\n",
      "113/113 [==============================] - 0s 2ms/step - loss: 0.0917 - accuracy: 0.9723 - val_loss: 1.3087 - val_accuracy: 0.6830\n",
      "Epoch 16/25\n",
      "113/113 [==============================] - 0s 3ms/step - loss: 0.0887 - accuracy: 0.9732 - val_loss: 1.3170 - val_accuracy: 0.6830\n",
      "Epoch 17/25\n",
      "113/113 [==============================] - 0s 3ms/step - loss: 0.0833 - accuracy: 0.9729 - val_loss: 1.3575 - val_accuracy: 0.6801\n",
      "Epoch 18/25\n",
      "113/113 [==============================] - 0s 2ms/step - loss: 0.0825 - accuracy: 0.9745 - val_loss: 1.4065 - val_accuracy: 0.6657\n",
      "Epoch 19/25\n",
      "113/113 [==============================] - 0s 2ms/step - loss: 0.0794 - accuracy: 0.9737 - val_loss: 1.3974 - val_accuracy: 0.6888\n",
      "Epoch 20/25\n",
      "113/113 [==============================] - 0s 2ms/step - loss: 0.0738 - accuracy: 0.9754 - val_loss: 1.4221 - val_accuracy: 0.6744\n",
      "Epoch 21/25\n",
      "113/113 [==============================] - 0s 2ms/step - loss: 0.0709 - accuracy: 0.9756 - val_loss: 1.5134 - val_accuracy: 0.6744\n",
      "Epoch 22/25\n",
      "113/113 [==============================] - 0s 2ms/step - loss: 0.0673 - accuracy: 0.9768 - val_loss: 1.4547 - val_accuracy: 0.6801\n",
      "Epoch 23/25\n",
      "113/113 [==============================] - 0s 2ms/step - loss: 0.0679 - accuracy: 0.9768 - val_loss: 1.4991 - val_accuracy: 0.6801\n",
      "Epoch 24/25\n",
      "113/113 [==============================] - 0s 2ms/step - loss: 0.0665 - accuracy: 0.9787 - val_loss: 1.5847 - val_accuracy: 0.6715\n",
      "Epoch 25/25\n",
      "113/113 [==============================] - 0s 2ms/step - loss: 0.0616 - accuracy: 0.9762 - val_loss: 1.5511 - val_accuracy: 0.6830\n",
      "training finish\n"
     ]
    }
   ],
   "source": [
    "from tensorflow.keras.callbacks import CSVLogger\n",
    "\n",
    "csv_logger = CSVLogger('logs/training_log.csv')\n",
    "\n",
    "# training setting\n",
    "epochs = 25\n",
    "batch_size = 32\n",
    "\n",
    "# training!\n",
    "history = model.fit(X_train, y_train, \n",
    "                    epochs=epochs, \n",
    "                    batch_size=batch_size, \n",
    "                    callbacks=[csv_logger],\n",
    "                    validation_data = (X_test, y_test))\n",
    "print('training finish')"
   ]
  },
  {
   "cell_type": "markdown",
   "metadata": {
    "id": "ip8RYsvSYTpo"
   },
   "source": [
    "### 6.5 Predict on testing data"
   ]
  },
  {
   "cell_type": "code",
   "execution_count": 79,
   "metadata": {
    "colab": {
     "base_uri": "https://localhost:8080/"
    },
    "id": "xdnLuBYBYTpo",
    "outputId": "6e7e97b7-fe5c-44f6-9baa-a71335aa7b06"
   },
   "outputs": [
    {
     "name": "stdout",
     "output_type": "stream",
     "text": [
      "3/3 [==============================] - 0s 2ms/step\n"
     ]
    },
    {
     "data": {
      "text/plain": [
       "array([[1.45268112e-01, 1.49154991e-01, 1.61672797e-05, 7.05560744e-01],\n",
       "       [9.99922752e-01, 1.32669106e-06, 5.29121507e-06, 7.06262726e-05],\n",
       "       [1.13447776e-07, 8.61441976e-08, 9.99999166e-01, 6.47851664e-07],\n",
       "       [1.99877564e-03, 9.15741384e-01, 5.34523751e-05, 8.22064057e-02],\n",
       "       [5.45283139e-04, 9.81044233e-01, 1.67316920e-03, 1.67373903e-02]],\n",
       "      dtype=float32)"
      ]
     },
     "execution_count": 79,
     "metadata": {},
     "output_type": "execute_result"
    }
   ],
   "source": [
    "## predict\n",
    "pred_result = model.predict(X_test, batch_size=128)\n",
    "pred_result[:5]"
   ]
  },
  {
   "cell_type": "code",
   "execution_count": 80,
   "metadata": {
    "colab": {
     "base_uri": "https://localhost:8080/"
    },
    "id": "hSaXGEX-YTpo",
    "outputId": "d35b5fb3-74e5-44d9-ac1d-8a11cca023e4"
   },
   "outputs": [
    {
     "data": {
      "text/plain": [
       "array(['sadness', 'anger', 'joy', 'fear', 'fear'], dtype=object)"
      ]
     },
     "execution_count": 80,
     "metadata": {},
     "output_type": "execute_result"
    }
   ],
   "source": [
    "#from one hot encoding back to categorical data.  \n",
    "pred_result = label_decode(label_encoder, pred_result)\n",
    "pred_result[:5]"
   ]
  },
  {
   "cell_type": "code",
   "execution_count": 81,
   "metadata": {
    "colab": {
     "base_uri": "https://localhost:8080/"
    },
    "id": "bRRHye9KYTp5",
    "outputId": "d4f240ef-5f59-4d90-e3a2-57b98ced3928"
   },
   "outputs": [
    {
     "name": "stdout",
     "output_type": "stream",
     "text": [
      "testing accuracy: 0.68\n"
     ]
    }
   ],
   "source": [
    "#import accuracy_score package\n",
    "from sklearn.metrics import accuracy_score\n",
    "\n",
    "print('testing accuracy: {}'.format(round(accuracy_score(label_decode(label_encoder, y_test), pred_result), 2)))"
   ]
  },
  {
   "cell_type": "code",
   "execution_count": 82,
   "metadata": {
    "colab": {
     "base_uri": "https://localhost:8080/",
     "height": 834
    },
    "id": "ks2Q0aMsYTp5",
    "outputId": "8b802a69-6377-4f0a-c1fa-2f03e5abebd4"
   },
   "outputs": [
    {
     "data": {
      "text/html": [
       "<div>\n",
       "<style scoped>\n",
       "    .dataframe tbody tr th:only-of-type {\n",
       "        vertical-align: middle;\n",
       "    }\n",
       "\n",
       "    .dataframe tbody tr th {\n",
       "        vertical-align: top;\n",
       "    }\n",
       "\n",
       "    .dataframe thead th {\n",
       "        text-align: right;\n",
       "    }\n",
       "</style>\n",
       "<table border=\"1\" class=\"dataframe\">\n",
       "  <thead>\n",
       "    <tr style=\"text-align: right;\">\n",
       "      <th></th>\n",
       "      <th>epoch</th>\n",
       "      <th>accuracy</th>\n",
       "      <th>loss</th>\n",
       "      <th>val_accuracy</th>\n",
       "      <th>val_loss</th>\n",
       "    </tr>\n",
       "  </thead>\n",
       "  <tbody>\n",
       "    <tr>\n",
       "      <th>0</th>\n",
       "      <td>0</td>\n",
       "      <td>0.380293</td>\n",
       "      <td>1.325792</td>\n",
       "      <td>0.446686</td>\n",
       "      <td>1.264271</td>\n",
       "    </tr>\n",
       "    <tr>\n",
       "      <th>1</th>\n",
       "      <td>1</td>\n",
       "      <td>0.670080</td>\n",
       "      <td>0.951492</td>\n",
       "      <td>0.625360</td>\n",
       "      <td>0.925521</td>\n",
       "    </tr>\n",
       "    <tr>\n",
       "      <th>2</th>\n",
       "      <td>2</td>\n",
       "      <td>0.792416</td>\n",
       "      <td>0.570090</td>\n",
       "      <td>0.703170</td>\n",
       "      <td>0.757139</td>\n",
       "    </tr>\n",
       "    <tr>\n",
       "      <th>3</th>\n",
       "      <td>3</td>\n",
       "      <td>0.850540</td>\n",
       "      <td>0.412010</td>\n",
       "      <td>0.708934</td>\n",
       "      <td>0.781572</td>\n",
       "    </tr>\n",
       "    <tr>\n",
       "      <th>4</th>\n",
       "      <td>4</td>\n",
       "      <td>0.884030</td>\n",
       "      <td>0.327748</td>\n",
       "      <td>0.700288</td>\n",
       "      <td>0.839617</td>\n",
       "    </tr>\n",
       "    <tr>\n",
       "      <th>5</th>\n",
       "      <td>5</td>\n",
       "      <td>0.901744</td>\n",
       "      <td>0.276800</td>\n",
       "      <td>0.688761</td>\n",
       "      <td>0.851437</td>\n",
       "    </tr>\n",
       "    <tr>\n",
       "      <th>6</th>\n",
       "      <td>6</td>\n",
       "      <td>0.918627</td>\n",
       "      <td>0.226724</td>\n",
       "      <td>0.671470</td>\n",
       "      <td>0.939934</td>\n",
       "    </tr>\n",
       "    <tr>\n",
       "      <th>7</th>\n",
       "      <td>7</td>\n",
       "      <td>0.939386</td>\n",
       "      <td>0.189787</td>\n",
       "      <td>0.680115</td>\n",
       "      <td>0.990531</td>\n",
       "    </tr>\n",
       "    <tr>\n",
       "      <th>8</th>\n",
       "      <td>8</td>\n",
       "      <td>0.946859</td>\n",
       "      <td>0.165479</td>\n",
       "      <td>0.688761</td>\n",
       "      <td>1.012363</td>\n",
       "    </tr>\n",
       "    <tr>\n",
       "      <th>9</th>\n",
       "      <td>9</td>\n",
       "      <td>0.956823</td>\n",
       "      <td>0.142013</td>\n",
       "      <td>0.685879</td>\n",
       "      <td>1.059540</td>\n",
       "    </tr>\n",
       "    <tr>\n",
       "      <th>10</th>\n",
       "      <td>10</td>\n",
       "      <td>0.962081</td>\n",
       "      <td>0.128002</td>\n",
       "      <td>0.677233</td>\n",
       "      <td>1.113930</td>\n",
       "    </tr>\n",
       "    <tr>\n",
       "      <th>11</th>\n",
       "      <td>11</td>\n",
       "      <td>0.967617</td>\n",
       "      <td>0.117426</td>\n",
       "      <td>0.688761</td>\n",
       "      <td>1.171897</td>\n",
       "    </tr>\n",
       "    <tr>\n",
       "      <th>12</th>\n",
       "      <td>12</td>\n",
       "      <td>0.968171</td>\n",
       "      <td>0.111112</td>\n",
       "      <td>0.688761</td>\n",
       "      <td>1.228084</td>\n",
       "    </tr>\n",
       "    <tr>\n",
       "      <th>13</th>\n",
       "      <td>13</td>\n",
       "      <td>0.972045</td>\n",
       "      <td>0.097663</td>\n",
       "      <td>0.691643</td>\n",
       "      <td>1.217198</td>\n",
       "    </tr>\n",
       "    <tr>\n",
       "      <th>14</th>\n",
       "      <td>14</td>\n",
       "      <td>0.972322</td>\n",
       "      <td>0.091713</td>\n",
       "      <td>0.682997</td>\n",
       "      <td>1.308660</td>\n",
       "    </tr>\n",
       "    <tr>\n",
       "      <th>15</th>\n",
       "      <td>15</td>\n",
       "      <td>0.973153</td>\n",
       "      <td>0.088723</td>\n",
       "      <td>0.682997</td>\n",
       "      <td>1.316981</td>\n",
       "    </tr>\n",
       "    <tr>\n",
       "      <th>16</th>\n",
       "      <td>16</td>\n",
       "      <td>0.972876</td>\n",
       "      <td>0.083253</td>\n",
       "      <td>0.680115</td>\n",
       "      <td>1.357525</td>\n",
       "    </tr>\n",
       "    <tr>\n",
       "      <th>17</th>\n",
       "      <td>17</td>\n",
       "      <td>0.974536</td>\n",
       "      <td>0.082512</td>\n",
       "      <td>0.665706</td>\n",
       "      <td>1.406454</td>\n",
       "    </tr>\n",
       "    <tr>\n",
       "      <th>18</th>\n",
       "      <td>18</td>\n",
       "      <td>0.973706</td>\n",
       "      <td>0.079418</td>\n",
       "      <td>0.688761</td>\n",
       "      <td>1.397445</td>\n",
       "    </tr>\n",
       "    <tr>\n",
       "      <th>19</th>\n",
       "      <td>19</td>\n",
       "      <td>0.975367</td>\n",
       "      <td>0.073792</td>\n",
       "      <td>0.674352</td>\n",
       "      <td>1.422097</td>\n",
       "    </tr>\n",
       "    <tr>\n",
       "      <th>20</th>\n",
       "      <td>20</td>\n",
       "      <td>0.975644</td>\n",
       "      <td>0.070945</td>\n",
       "      <td>0.674352</td>\n",
       "      <td>1.513415</td>\n",
       "    </tr>\n",
       "    <tr>\n",
       "      <th>21</th>\n",
       "      <td>21</td>\n",
       "      <td>0.976751</td>\n",
       "      <td>0.067321</td>\n",
       "      <td>0.680115</td>\n",
       "      <td>1.454728</td>\n",
       "    </tr>\n",
       "    <tr>\n",
       "      <th>22</th>\n",
       "      <td>22</td>\n",
       "      <td>0.976751</td>\n",
       "      <td>0.067873</td>\n",
       "      <td>0.680115</td>\n",
       "      <td>1.499116</td>\n",
       "    </tr>\n",
       "    <tr>\n",
       "      <th>23</th>\n",
       "      <td>23</td>\n",
       "      <td>0.978688</td>\n",
       "      <td>0.066481</td>\n",
       "      <td>0.671470</td>\n",
       "      <td>1.584663</td>\n",
       "    </tr>\n",
       "    <tr>\n",
       "      <th>24</th>\n",
       "      <td>24</td>\n",
       "      <td>0.976197</td>\n",
       "      <td>0.061645</td>\n",
       "      <td>0.682997</td>\n",
       "      <td>1.551097</td>\n",
       "    </tr>\n",
       "  </tbody>\n",
       "</table>\n",
       "</div>"
      ],
      "text/plain": [
       "    epoch  accuracy      loss  val_accuracy  val_loss\n",
       "0       0  0.380293  1.325792      0.446686  1.264271\n",
       "1       1  0.670080  0.951492      0.625360  0.925521\n",
       "2       2  0.792416  0.570090      0.703170  0.757139\n",
       "3       3  0.850540  0.412010      0.708934  0.781572\n",
       "4       4  0.884030  0.327748      0.700288  0.839617\n",
       "5       5  0.901744  0.276800      0.688761  0.851437\n",
       "6       6  0.918627  0.226724      0.671470  0.939934\n",
       "7       7  0.939386  0.189787      0.680115  0.990531\n",
       "8       8  0.946859  0.165479      0.688761  1.012363\n",
       "9       9  0.956823  0.142013      0.685879  1.059540\n",
       "10     10  0.962081  0.128002      0.677233  1.113930\n",
       "11     11  0.967617  0.117426      0.688761  1.171897\n",
       "12     12  0.968171  0.111112      0.688761  1.228084\n",
       "13     13  0.972045  0.097663      0.691643  1.217198\n",
       "14     14  0.972322  0.091713      0.682997  1.308660\n",
       "15     15  0.973153  0.088723      0.682997  1.316981\n",
       "16     16  0.972876  0.083253      0.680115  1.357525\n",
       "17     17  0.974536  0.082512      0.665706  1.406454\n",
       "18     18  0.973706  0.079418      0.688761  1.397445\n",
       "19     19  0.975367  0.073792      0.674352  1.422097\n",
       "20     20  0.975644  0.070945      0.674352  1.513415\n",
       "21     21  0.976751  0.067321      0.680115  1.454728\n",
       "22     22  0.976751  0.067873      0.680115  1.499116\n",
       "23     23  0.978688  0.066481      0.671470  1.584663\n",
       "24     24  0.976197  0.061645      0.682997  1.551097"
      ]
     },
     "execution_count": 82,
     "metadata": {},
     "output_type": "execute_result"
    }
   ],
   "source": [
    "#Let's take a look at the training log\n",
    "training_log = pd.DataFrame()\n",
    "training_log = pd.read_csv(\"logs/training_log.csv\")\n",
    "training_log"
   ]
  },
  {
   "cell_type": "markdown",
   "metadata": {
    "id": "NoYqY0-tYTp5"
   },
   "source": [
    "---\n",
    "### ** >>> Exercise 6 (Take home): **  \n",
    "\n",
    "Plot the Training and Validation Accuracy and Loss (different plots), just like the images below.(Note: the pictures below are an example from a different model). How to interpret the graphs you got? How are they related to the concept of overfitting/underfitting covered in class?\n",
    "<table><tr>\n",
    "    <td><img src=\"pics/pic3.png\" style=\"width: 300px;\"/> </td>\n",
    "    <td><img src=\"pics/pic4.png\" style=\"width: 300px;\"/> </td>\n",
    "</tr></table>"
   ]
  },
  {
   "cell_type": "code",
   "execution_count": 83,
   "metadata": {
    "id": "AlhstCrlYTp5"
   },
   "outputs": [
    {
     "data": {
      "image/png": "[encoded data removed]",
      "text/plain": [
       "<Figure size 432x288 with 1 Axes>"
      ]
     },
     "metadata": {
      "needs_background": "light"
     },
     "output_type": "display_data"
    },
    {
     "data": {
      "image/png": "[encoded data removed]",
      "text/plain": [
       "<Figure size 432x288 with 1 Axes>"
      ]
     },
     "metadata": {
      "needs_background": "light"
     },
     "output_type": "display_data"
    }
   ],
   "source": [
    "# Answer here\n",
    "import matplotlib.pyplot as plt\n",
    "plt.rcParams[\"figure.autolayout\"] = True\n",
    "plt.plot(training_log.epoch, training_log.val_accuracy)\n",
    "plt.plot(training_log.epoch, training_log.accuracy)\n",
    "ax = plt.gca()\n",
    "ax.set_facecolor('none')\n",
    "#plt.axes().patch.set_edgecolor('black')  \n",
    "plt.xlabel('Epoch')\n",
    "plt.ylabel('Accuracy')\n",
    "plt.legend([\"Train accuracy\", \"Val accuracy\"],loc=1)\n",
    "plt.title(\"Training Accuracy per epoch\")\n",
    "\n",
    "plt.show()\n",
    "plt.plot(training_log.epoch, training_log.val_loss)\n",
    "plt.plot(training_log.epoch, training_log.loss)\n",
    "ax = plt.gca()\n",
    "ax.set_facecolor('none')\n",
    "plt.xlabel('Epoch')\n",
    "plt.ylabel('Loss')\n",
    "plt.legend([\"Train loss\", \"Val loss\"],loc=1)\n",
    "plt.title(\"Training Loss per epoch\")\n",
    "\n",
    "plt.show()"
   ]
  },
  {
   "cell_type": "code",
   "execution_count": 85,
   "metadata": {},
   "outputs": [],
   "source": [
    "## The above result is very interesting. for training loss, as Epoch increased, the training loss also increased. "
   ]
  },
  {
   "cell_type": "markdown",
   "metadata": {
    "id": "UYabzgSGYTp5"
   },
   "source": [
    "---"
   ]
  },
  {
   "cell_type": "markdown",
   "metadata": {
    "id": "4e5eiVLOYTp5"
   },
   "source": [
    "### Note\n",
    "\n",
    "If you don't have a GPU (level is higher than GTX 1060) or you are not good at setting lots of things about computer, we recommend you to use the [kaggle kernel](https://www.kaggle.com/kernels) to do deep learning model training. They have already installed all the librarys and provided free GPU for you to use.\n",
    "\n",
    "Note however that you will only be able to run a kernel for 6 hours. After 6 hours of inactivity, your Kaggle kernel will shut down (meaning if your model takes more than 6 hours to train, you can't train it at once).\n",
    "\n",
    "\n",
    "### More Information for your reference\n",
    "\n",
    "* Keras document: https://keras.io/\n",
    "* Keras GitHub example: https://github.com/keras-team/keras/tree/master/examples\n",
    "* CS229: Machine Learning: http://cs229.stanford.edu/syllabus.html\n",
    "* Deep Learning cheatsheet: https://stanford.edu/~shervine/teaching/cs-229/cheatsheet-deep-learning\n",
    "* If you want to try TensorFlow or PyTorch: https://pytorch.org/tutorials/\n",
    "https://www.tensorflow.org/tutorials/quickstart/beginner"
   ]
  },
  {
   "cell_type": "markdown",
   "metadata": {
    "id": "IESBq48MYTp5"
   },
   "source": [
    "---\n",
    "## 7. Word2Vector\n",
    "\n",
    "We will introduce how to use `gensim` to train your word2vec model and how to load a pre-trained model.\n",
    "\n",
    "https://radimrehurek.com/gensim/index.html"
   ]
  },
  {
   "cell_type": "markdown",
   "metadata": {
    "id": "KRSDMhQ5YTp5"
   },
   "source": [
    "### 7.1 Prepare training corpus"
   ]
  },
  {
   "cell_type": "code",
   "execution_count": 87,
   "metadata": {
    "colab": {
     "base_uri": "https://localhost:8080/",
     "height": 206
    },
    "id": "6aBYrovJYTp5",
    "outputId": "3df27e8d-0a96-40a5-8e3d-3186bb1ea624"
   },
   "outputs": [
    {
     "data": {
      "text/html": [
       "<div>\n",
       "<style scoped>\n",
       "    .dataframe tbody tr th:only-of-type {\n",
       "        vertical-align: middle;\n",
       "    }\n",
       "\n",
       "    .dataframe tbody tr th {\n",
       "        vertical-align: top;\n",
       "    }\n",
       "\n",
       "    .dataframe thead th {\n",
       "        text-align: right;\n",
       "    }\n",
       "</style>\n",
       "<table border=\"1\" class=\"dataframe\">\n",
       "  <thead>\n",
       "    <tr style=\"text-align: right;\">\n",
       "      <th></th>\n",
       "      <th>id</th>\n",
       "      <th>text</th>\n",
       "      <th>text_tokenized</th>\n",
       "    </tr>\n",
       "  </thead>\n",
       "  <tbody>\n",
       "    <tr>\n",
       "      <th>2331</th>\n",
       "      <td>30327</td>\n",
       "      <td>Watch this amazing live.ly broadcast by @iamju...</td>\n",
       "      <td>[Watch, this, amazing, live.ly, broadcast, by,...</td>\n",
       "    </tr>\n",
       "    <tr>\n",
       "      <th>501</th>\n",
       "      <td>10501</td>\n",
       "      <td>@UltimateBoxer My heart because you left me fo...</td>\n",
       "      <td>[@, UltimateBoxer, My, heart, because, you, le...</td>\n",
       "    </tr>\n",
       "    <tr>\n",
       "      <th>2698</th>\n",
       "      <td>30694</td>\n",
       "      <td>Never make a #decision when you're #angry and ...</td>\n",
       "      <td>[Never, make, a, #, decision, when, you, 're, ...</td>\n",
       "    </tr>\n",
       "    <tr>\n",
       "      <th>1249</th>\n",
       "      <td>20392</td>\n",
       "      <td>When my 4yo is gone I blast gothcore music. Sh...</td>\n",
       "      <td>[When, my, 4yo, is, gone, I, blast, gothcore, ...</td>\n",
       "    </tr>\n",
       "    <tr>\n",
       "      <th>437</th>\n",
       "      <td>10437</td>\n",
       "      <td>@jwolfie_ why you gotta use the dark skin emoji</td>\n",
       "      <td>[@, jwolfie_, why, you, got, ta, use, the, dar...</td>\n",
       "    </tr>\n",
       "  </tbody>\n",
       "</table>\n",
       "</div>"
      ],
      "text/plain": [
       "         id                                               text  \\\n",
       "2331  30327  Watch this amazing live.ly broadcast by @iamju...   \n",
       "501   10501  @UltimateBoxer My heart because you left me fo...   \n",
       "2698  30694  Never make a #decision when you're #angry and ...   \n",
       "1249  20392  When my 4yo is gone I blast gothcore music. Sh...   \n",
       "437   10437   @jwolfie_ why you gotta use the dark skin emoji    \n",
       "\n",
       "                                         text_tokenized  \n",
       "2331  [Watch, this, amazing, live.ly, broadcast, by,...  \n",
       "501   [@, UltimateBoxer, My, heart, because, you, le...  \n",
       "2698  [Never, make, a, #, decision, when, you, 're, ...  \n",
       "1249  [When, my, 4yo, is, gone, I, blast, gothcore, ...  \n",
       "437   [@, jwolfie_, why, you, got, ta, use, the, dar...  "
      ]
     },
     "execution_count": 87,
     "metadata": {},
     "output_type": "execute_result"
    }
   ],
   "source": [
    "## import gensim library\n",
    "# Gensim is a free open-source Python library for representing documents as semantic vectors,\n",
    "# as efficiently (computer-wise) and painlessly (human-wise) as possible.\n",
    "import gensim\n",
    "\n",
    "## ignore warnings\n",
    "import warnings\n",
    "warnings.filterwarnings('ignore')\n",
    "\n",
    "# # if you want to see the training messages, you can use it\n",
    "# import logging\n",
    "# logging.basicConfig(format='%(asctime)s : %(levelname)s : %(message)s', level=logging.INFO)\n",
    "\n",
    "## the input type after apply nltk.word_tokenize\n",
    "train_df['text_tokenized'] = train_df['text'].apply(lambda x: nltk.word_tokenize(x))\n",
    "train_df[['id', 'text', 'text_tokenized']].head()"
   ]
  },
  {
   "cell_type": "code",
   "execution_count": 88,
   "metadata": {
    "colab": {
     "base_uri": "https://localhost:8080/"
    },
    "id": "okFIEcmnYTp5",
    "outputId": "17a7ccde-3595-4837-f8d2-91698348fb22"
   },
   "outputs": [
    {
     "data": {
      "text/plain": [
       "array([list(['Watch', 'this', 'amazing', 'live.ly', 'broadcast', 'by', '@', 'iamjustinburke', '#', 'musically']),\n",
       "       list(['@', 'UltimateBoxer', 'My', 'heart', 'because', 'you', 'left', 'me', 'for', 'so', 'long', 'again\\\\n\\\\n', '*', 'slight', 'pout', 'but', 'it', 'turned', 'to', 'a', 'smile', '*', '\\\\n\\\\nheheh', 'just', 'kidding', ',', 'no', 'I', \"'m\", 'fine-']),\n",
       "       list(['Never', 'make', 'a', '#', 'decision', 'when', 'you', \"'re\", '#', 'angry', 'and', 'never', 'make', 'a', '#', 'promise', 'when', 'you', \"'re\", '.', '#', 'wisewords'])],\n",
       "      dtype=object)"
      ]
     },
     "execution_count": 88,
     "metadata": {},
     "output_type": "execute_result"
    }
   ],
   "source": [
    "## create the training corpus\n",
    "training_corpus = train_df['text_tokenized'].values\n",
    "training_corpus[:3]"
   ]
  },
  {
   "cell_type": "markdown",
   "metadata": {
    "id": "dOgAriPRYTp5"
   },
   "source": [
    "### 7.2 Training our model\n",
    "\n",
    "You can try to train your own model. More details: https://radimrehurek.com/gensim/models/word2vec.html"
   ]
  },
  {
   "cell_type": "code",
   "execution_count": 89,
   "metadata": {
    "id": "72ZA54IDYTp5",
    "scrolled": true
   },
   "outputs": [],
   "source": [
    "# The word2vec algorithms include skip-gram and CBOW models, using either hierarchical softmax or negative sampling\n",
    "from gensim.models import Word2Vec\n",
    "\n",
    "## setting\n",
    "vector_dim = 100\n",
    "window_size = 5\n",
    "min_count = 1\n",
    "training_epochs = 20\n",
    "\n",
    "## model\n",
    "#  Word2Vec(sentences=common_texts, vector_size=100, window=5, min_count=1, workers=4)\n",
    "# https://radimrehurek.com/gensim/models/word2vec.html?highlight=word2vec#module-gensim.models.word2vec\n",
    "\n",
    "word2vec_model = Word2Vec(sentences=training_corpus, \n",
    "                          vector_size=vector_dim, window=window_size, \n",
    "                          min_count=min_count, epochs=training_epochs)"
   ]
  },
  {
   "cell_type": "markdown",
   "metadata": {
    "id": "ob0Molb3YTp5"
   },
   "source": [
    "![Imgur](https://i.imgur.com/Fca3MCs.png)"
   ]
  },
  {
   "cell_type": "markdown",
   "metadata": {
    "id": "E0jjvjN5YTp5"
   },
   "source": [
    "### 7.3 Generating word vector (embeddings)"
   ]
  },
  {
   "cell_type": "code",
   "execution_count": 97,
   "metadata": {
    "colab": {
     "base_uri": "https://localhost:8080/"
    },
    "id": "4ejofZfCYTp5",
    "outputId": "b6e8683c-4368-41e4-b05b-868822b9c406"
   },
   "outputs": [
    {
     "data": {
      "text/plain": [
       "array([ 0.08757237,  0.1958138 ,  0.17416583,  0.9414673 , -0.40457737,\n",
       "       -0.9859202 ,  0.69315094,  1.0543977 , -0.594443  , -0.2501269 ,\n",
       "       -0.50581306, -0.18554226, -0.52113307, -0.11037369,  0.1464997 ,\n",
       "       -0.28484225,  0.1803046 , -1.0007974 ,  0.47406   , -1.4582037 ,\n",
       "        0.5207373 ,  0.5615255 ,  0.85120624, -0.15052101,  0.31926718,\n",
       "        0.29297167, -0.8667063 ,  0.71218795, -0.25463623,  0.46495473,\n",
       "        0.41943294,  0.18599892,  0.284355  , -0.26573873, -0.03212919,\n",
       "        0.8154856 ,  0.46032792, -0.47432938, -1.1725761 , -0.43233764,\n",
       "        0.09293375,  0.10437506, -0.25783417,  0.6595408 ,  0.7821403 ,\n",
       "       -0.2325583 , -0.46439108,  0.15894008,  0.6894671 ,  0.33301148,\n",
       "        0.1967096 , -0.60646254, -0.09374423,  0.00774588, -0.41247445,\n",
       "       -0.51321095, -0.11649013, -0.39015034, -0.39252812, -0.15631573,\n",
       "       -0.2103505 , -0.12762815,  0.9288205 ,  0.07343481, -0.88234663,\n",
       "        0.40176183,  0.32083666,  0.5392896 , -1.5866022 ,  0.5544771 ,\n",
       "       -0.20697396,  0.8992154 ,  0.46763217,  0.04054112,  0.36383262,\n",
       "       -0.06589627,  0.4401953 ,  0.10462316, -0.29432738,  0.42070863,\n",
       "       -0.27549434, -0.4088186 , -0.7904904 ,  1.0298506 , -0.19387965,\n",
       "       -0.40515652,  0.60284907,  0.75112855, -0.10243112,  0.9272893 ,\n",
       "        0.68742174,  0.61945826,  0.49995357,  0.08254153,  0.72683525,\n",
       "       -0.12500644,  0.5191509 ,  0.18210535,  0.9623807 , -0.25873184],\n",
       "      dtype=float32)"
      ]
     },
     "execution_count": 97,
     "metadata": {},
     "output_type": "execute_result"
    }
   ],
   "source": [
    "# get the corresponding vector of a word \"happy\"\n",
    "word_vec = word2vec_model.wv['happy']\n",
    "word_vec"
   ]
  },
  {
   "cell_type": "code",
   "execution_count": 98,
   "metadata": {
    "colab": {
     "base_uri": "https://localhost:8080/"
    },
    "id": "9dUSkCscYTp5",
    "outputId": "ebd32d0b-bcda-4140-805e-35dfef1a68fb"
   },
   "outputs": [
    {
     "data": {
      "text/plain": [
       "[('birthday', 0.9341341257095337),\n",
       " ('Be', 0.9241393208503723),\n",
       " ('bday', 0.9120453000068665),\n",
       " (\"'be\", 0.9023468494415283),\n",
       " ('O', 0.8997377157211304),\n",
       " ('dad', 0.8988739848136902),\n",
       " ('plz', 0.8975126147270203),\n",
       " ('free', 0.8955913782119751),\n",
       " ('cats', 0.8944955468177795),\n",
       " ('meant', 0.8879319429397583)]"
      ]
     },
     "execution_count": 98,
     "metadata": {},
     "output_type": "execute_result"
    }
   ],
   "source": [
    "# Get the most similar words\n",
    "word = 'happy'\n",
    "topn = 10\n",
    "word2vec_model.wv.most_similar(word, topn=topn)"
   ]
  },
  {
   "cell_type": "markdown",
   "metadata": {
    "id": "zuQvZVJvYTp5"
   },
   "source": [
    "### 7.4 Using a pre-trained w2v model\n",
    "\n",
    "Instead of training your own model ,you can use a model that has already been trained. Here, we see 2 ways of doing that:\n",
    "\n",
    "\n",
    "#### (1) Download model by yourself\n",
    "\n",
    "source: [GoogleNews-vectors-negative300](https://code.google.com/archive/p/word2vec/)\n",
    "\n",
    "more details: https://radimrehurek.com/gensim/models/keyedvectors.html"
   ]
  },
  {
   "cell_type": "code",
   "execution_count": 99,
   "metadata": {
    "colab": {
     "base_uri": "https://localhost:8080/"
    },
    "id": "bdH9E9auYTp5",
    "outputId": "6193f5df-93cb-4c77-96fb-2d36b5d71835"
   },
   "outputs": [
    {
     "name": "stdout",
     "output_type": "stream",
     "text": [
      "load ok\n"
     ]
    },
    {
     "data": {
      "text/plain": [
       "[('glad', 0.7408890724182129),\n",
       " ('pleased', 0.6632170677185059),\n",
       " ('ecstatic', 0.6626912355422974),\n",
       " ('overjoyed', 0.6599286794662476),\n",
       " ('thrilled', 0.6514049172401428),\n",
       " ('satisfied', 0.6437949538230896),\n",
       " ('proud', 0.636042058467865),\n",
       " ('delighted', 0.6272379159927368),\n",
       " ('disappointed', 0.6269949674606323),\n",
       " ('excited', 0.6247665882110596)]"
      ]
     },
     "execution_count": 99,
     "metadata": {},
     "output_type": "execute_result"
    }
   ],
   "source": [
    "from gensim.models import KeyedVectors\n",
    "\n",
    "## Note: this model is very huge, this will take some time ...\n",
    "#model_path = \"GoogleNews-vectors-negative300.bin.gz\"\n",
    "#I use bin file instead of gz file because i can't download gz file on the website.\n",
    "model_path = \"GoogleNews-vectors-negative300.bin\"\n",
    "w2v_google_model = KeyedVectors.load_word2vec_format(model_path, binary=True)\n",
    "print('load ok')\n",
    "\n",
    "#test most_similar function\n",
    "w2v_google_model.most_similar('happy', topn=10)"
   ]
  },
  {
   "cell_type": "markdown",
   "metadata": {
    "id": "NdQ9ul0eYTp5"
   },
   "source": [
    "#### (2) Using gensim api\n",
    "\n",
    "Other pretrained models are available here: https://github.com/RaRe-Technologies/gensim-data"
   ]
  },
  {
   "cell_type": "code",
   "execution_count": 100,
   "metadata": {
    "colab": {
     "base_uri": "https://localhost:8080/"
    },
    "id": "oIxHpNB6YTp5",
    "outputId": "8dc8d6f9-80b3-4cff-810d-28f175f5b891"
   },
   "outputs": [
    {
     "name": "stdout",
     "output_type": "stream",
     "text": [
      "load ok\n"
     ]
    },
    {
     "data": {
      "text/plain": [
       "[('birthday', 0.9577818512916565),\n",
       " ('thank', 0.937666654586792),\n",
       " ('welcome', 0.93361496925354),\n",
       " ('love', 0.917618453502655),\n",
       " ('miss', 0.9164499640464783),\n",
       " ('hello', 0.9158352017402649),\n",
       " ('thanks', 0.9150084853172302),\n",
       " ('merry', 0.9053248167037964),\n",
       " ('bless', 0.902732253074646),\n",
       " ('wish', 0.9013165235519409)]"
      ]
     },
     "execution_count": 100,
     "metadata": {},
     "output_type": "execute_result"
    }
   ],
   "source": [
    "import gensim.downloader as api\n",
    "\n",
    "## If you see `SSL: CERTIFICATE_VERIFY_FAILED` error, use this:\n",
    "import ssl\n",
    "import urllib.request\n",
    "ssl._create_default_https_context = ssl._create_unverified_context\n",
    "\n",
    "glove_twitter_25_model = api.load(\"glove-twitter-25\")\n",
    "print('load ok')\n",
    "\n",
    "glove_twitter_25_model.most_similar('happy', topn=10)"
   ]
  },
  {
   "cell_type": "markdown",
   "metadata": {
    "id": "GCNDNqeXYTp5"
   },
   "source": [
    "### 7.5 king + woman - man = ?"
   ]
  },
  {
   "cell_type": "markdown",
   "metadata": {
    "id": "_GtCRr_7YTp5"
   },
   "source": [
    "Let's run one of the most famous examples for Word2Vec and compute the similarity between these 3 words:"
   ]
  },
  {
   "cell_type": "code",
   "execution_count": 101,
   "metadata": {
    "colab": {
     "base_uri": "https://localhost:8080/"
    },
    "id": "Zew7m_kIYTp5",
    "outputId": "807bc2d0-c2c1-4b96-e61d-a62e6096aa1e"
   },
   "outputs": [
    {
     "data": {
      "text/plain": [
       "[('queen', 0.7118193507194519),\n",
       " ('monarch', 0.6189674735069275),\n",
       " ('princess', 0.5902431011199951),\n",
       " ('crown_prince', 0.5499460697174072),\n",
       " ('prince', 0.5377321243286133),\n",
       " ('kings', 0.5236844420433044),\n",
       " ('Queen_Consort', 0.5235945582389832),\n",
       " ('queens', 0.518113374710083),\n",
       " ('sultan', 0.5098593831062317),\n",
       " ('monarchy', 0.5087411999702454)]"
      ]
     },
     "execution_count": 101,
     "metadata": {},
     "output_type": "execute_result"
    }
   ],
   "source": [
    "w2v_google_model.most_similar(positive=['king', 'woman'], negative=['man'])"
   ]
  },
  {
   "cell_type": "markdown",
   "metadata": {
    "id": "y3RQVnBOYTp5"
   },
   "source": [
    "---\n",
    "### ** >>> Exercise 7 (Take home): **  \n",
    "\n",
    "Now, we have the word vectors, but our input data is a sequence of words (or say sentence). \n",
    "How can we utilize these \"word\" vectors to represent the sentence data and train our model?\n"
   ]
  },
  {
   "cell_type": "markdown",
   "metadata": {
    "id": "TBwRT93DYTp5"
   },
   "source": [
    "## Answer here\n",
    "Word2Vec creates vectors of the words that are distributed numerical representations of word features – these word features could comprise of words that represent the context of the individual words present in our vocabulary. Word embeddings eventually help in establishing the association of a word with another similar meaning word through the created vectors. \n",
    "\n",
    "The word2vec algorithms include skip-gram and CBOW models, using either hierarchical softmax or negative sampling.\n",
    "Two different model architectures that can be used by Word2Vec to create the word embeddings are:\n",
    "a.The Continuous Bag of Words (CBOW) model:given context words as input, the, target word are predicted\n",
    "b.The Skip-Gram model: given a target (centre) word, the context words are predicted"
   ]
  },
  {
   "cell_type": "markdown",
   "metadata": {
    "id": "LrK7O1KDYTp5"
   },
   "source": [
    "### 8. Clustering: k-means\n",
    "\n",
    "Here we introduce how to use `sklearn` to do the basic **unsupervised learning** approach, k-means.    \n",
    "\n",
    "more details: http://scikit-learn.org/stable/modules/generated/sklearn.cluster.KMeans.html\n"
   ]
  },
  {
   "cell_type": "markdown",
   "metadata": {
    "id": "Hr8_IxwBYTp5"
   },
   "source": [
    "#### Basic concept\n",
    "\n",
    "![Image](https://i.imgur.com/PEdUf54.png)\n",
    "\n",
    "(img source: https://towardsdatascience.com/k-means-clustering-identifying-f-r-i-e-n-d-s-in-the-world-of-strangers-695537505d)"
   ]
  },
  {
   "cell_type": "code",
   "execution_count": 102,
   "metadata": {
    "colab": {
     "base_uri": "https://localhost:8080/"
    },
    "id": "6heUPVwWYTp5",
    "outputId": "46a95152-7852-49d5-c055-f24ac1a04aa3"
   },
   "outputs": [
    {
     "name": "stdout",
     "output_type": "stream",
     "text": [
      "target words:  ['happy', 'fear', 'angry', 'car', 'teacher', 'computer']\n"
     ]
    }
   ],
   "source": [
    "# clustering target\n",
    "target_list = ['happy', 'fear', 'angry', 'car', 'teacher', 'computer']\n",
    "print('target words: ', target_list)\n",
    "\n",
    "# convert to word vector\n",
    "X = [word2vec_model.wv[word] for word in target_list]"
   ]
  },
  {
   "cell_type": "code",
   "execution_count": 103,
   "metadata": {
    "colab": {
     "base_uri": "https://localhost:8080/"
    },
    "id": "E9t_sJrvYTp5",
    "outputId": "47d70112-5490-47cc-8014-1b5b7dadbb26"
   },
   "outputs": [
    {
     "name": "stdout",
     "output_type": "stream",
     "text": [
      "word: happy \t cluster: 0\n",
      "word: fear \t cluster: 0\n",
      "word: angry \t cluster: 0\n",
      "word: car \t cluster: 1\n",
      "word: teacher \t cluster: 1\n",
      "word: computer \t cluster: 1\n"
     ]
    }
   ],
   "source": [
    "from sklearn.cluster import KMeans\n",
    "\n",
    "# we have to decide how many cluster (k) we want\n",
    "k = 2\n",
    "\n",
    "# k-means model\n",
    "kmeans_model = KMeans(n_clusters=k)\n",
    "kmeans_model.fit(X)\n",
    "\n",
    "# cluster result\n",
    "cluster_result = kmeans_model.labels_\n",
    "\n",
    "# show\n",
    "for i in range(len(target_list)):\n",
    "    print('word: {} \\t cluster: {}'.format(target_list[i], cluster_result[i]))"
   ]
  },
  {
   "cell_type": "markdown",
   "metadata": {
    "id": "QcDTL7kRYTp5"
   },
   "source": [
    "![Imgur](pics/pic6.png)"
   ]
  },
  {
   "cell_type": "code",
   "execution_count": 104,
   "metadata": {
    "colab": {
     "base_uri": "https://localhost:8080/"
    },
    "id": "NIMFax_uYTp5",
    "outputId": "2f2df2f8-98d2-426b-8ced-719be6a03281"
   },
   "outputs": [
    {
     "data": {
      "text/plain": [
       "array([1])"
      ]
     },
     "execution_count": 104,
     "metadata": {},
     "output_type": "execute_result"
    }
   ],
   "source": [
    "#check cluster membership\n",
    "word = 'student'\n",
    "word_vec = word2vec_model.wv[word]\n",
    "kmeans_model.predict([word_vec])"
   ]
  },
  {
   "cell_type": "code",
   "execution_count": 105,
   "metadata": {
    "colab": {
     "base_uri": "https://localhost:8080/"
    },
    "id": "vIDuLDOlYTp5",
    "outputId": "eae37f20-1de0-498d-a327-ce60d7336fb0"
   },
   "outputs": [
    {
     "data": {
      "text/plain": [
       "array([0])"
      ]
     },
     "execution_count": 105,
     "metadata": {},
     "output_type": "execute_result"
    }
   ],
   "source": [
    "#check cluster membership\n",
    "word = 'sad'\n",
    "word_vec = word2vec_model.wv[word]\n",
    "kmeans_model.predict([word_vec])"
   ]
  },
  {
   "cell_type": "markdown",
   "metadata": {
    "id": "cZOEGH3GYTp5"
   },
   "source": [
    "\n",
    "## 9. High-dimension Visualization: t-SNE\n",
    "\n",
    "No matter if you use the Bag-of-words, TF-IDF, or Word2Vec, it's very hard to see the embedding result, because the dimension is larger than 3.  \n",
    "\n",
    "In Lab 1, we already talked about PCA. We can use PCA to reduce the dimension of our data, then visualize it. However, if you dig deeper into the result, you'd find it is insufficient.\n",
    "\n",
    "Our aim will be to create a visualization similar to the one below:"
   ]
  },
  {
   "cell_type": "markdown",
   "metadata": {
    "id": "4FeIFzzxYTp5"
   },
   "source": [
    "  "
   ]
  },
  {
   "cell_type": "markdown",
   "metadata": {
    "id": "3-JR-rqyYTp5"
   },
   "source": [
    "![Image](pics/pic7.png)\n",
    "source: https://www.fabian-keller.de/research/high-dimensional-data-visualization "
   ]
  },
  {
   "cell_type": "markdown",
   "metadata": {
    "id": "KCFR771SYTp5"
   },
   "source": [
    "  "
   ]
  },
  {
   "cell_type": "markdown",
   "metadata": {
    "id": "tmdbJbjxYTp5"
   },
   "source": [
    "Here we would like to introduce another visualization method called t-SNE.  \n",
    "http://scikit-learn.org/stable/modules/generated/sklearn.manifold.TSNE.html "
   ]
  },
  {
   "cell_type": "markdown",
   "metadata": {
    "id": "MU8eeDnGYTp5"
   },
   "source": [
    "### 9.1 Prepare visualizing target"
   ]
  },
  {
   "cell_type": "markdown",
   "metadata": {
    "id": "T9IHcP3VYTp5"
   },
   "source": [
    "Let's prepare data lists like:\n",
    "- happy words\n",
    "- angry words\n",
    "- data words\n",
    "- mining words"
   ]
  },
  {
   "cell_type": "code",
   "execution_count": 106,
   "metadata": {
    "colab": {
     "base_uri": "https://localhost:8080/"
    },
    "id": "L9il5L7pYTp5",
    "outputId": "91d18f86-d137-4771-94db-ca7542d5a8d6"
   },
   "outputs": [
    {
     "name": "stdout",
     "output_type": "stream",
     "text": [
      "happy_words:  ['happy', 'glad', 'pleased', 'ecstatic', 'overjoyed', 'thrilled']\n",
      "angry_words:  ['angry', 'irate', 'enraged', 'indignant', 'incensed', 'annoyed']\n",
      "data_words:  ['data', 'Data', 'datasets', 'dataset', 'databases', 'statistics']\n",
      "mining_words:  ['mining', 'Mining', 'mines', 'coal_mining', 'mine', 'miner']\n",
      "\n",
      "target words: \n",
      "['happy', 'glad', 'pleased', 'ecstatic', 'overjoyed', 'thrilled', 'angry', 'irate', 'enraged', 'indignant', 'incensed', 'annoyed', 'data', 'Data', 'datasets', 'dataset', 'databases', 'statistics', 'mining', 'Mining', 'mines', 'coal_mining', 'mine', 'miner']\n",
      "\n",
      "color list:\n",
      "['b', 'b', 'b', 'b', 'b', 'b', 'g', 'g', 'g', 'g', 'g', 'g', 'r', 'r', 'r', 'r', 'r', 'r', 'y', 'y', 'y', 'y', 'y', 'y']\n"
     ]
    }
   ],
   "source": [
    "#word_list target\n",
    "word_list = ['happy', 'angry', 'data', 'mining']\n",
    "\n",
    "#Top 5 \n",
    "topn = 5\n",
    "\n",
    "\n",
    "happy_words = ['happy'] + [word_ for word_, sim_ in w2v_google_model.most_similar('happy', topn=topn)]\n",
    "angry_words = ['angry'] + [word_ for word_, sim_ in w2v_google_model.most_similar('angry', topn=topn)]        \n",
    "data_words = ['data'] + [word_ for word_, sim_ in w2v_google_model.most_similar('data', topn=topn)]        \n",
    "mining_words = ['mining'] + [word_ for word_, sim_ in w2v_google_model.most_similar('mining', topn=topn)]        \n",
    "\n",
    "print('happy_words: ', happy_words)\n",
    "print('angry_words: ', angry_words)\n",
    "print('data_words: ', data_words)\n",
    "print('mining_words: ', mining_words)\n",
    "\n",
    "target_words = happy_words + angry_words + data_words + mining_words\n",
    "print('\\ntarget words: ')\n",
    "print(target_words)\n",
    "\n",
    "print('\\ncolor list:')\n",
    "cn = topn + 1\n",
    "color = ['b'] * cn + ['g'] * cn + ['r'] * cn + ['y'] * cn\n",
    "print(color)"
   ]
  },
  {
   "cell_type": "markdown",
   "metadata": {
    "id": "zKa5LRxbYTp5"
   },
   "source": [
    "### 9.2 Plot using t-SNE (2-dimension)"
   ]
  },
  {
   "cell_type": "code",
   "execution_count": 107,
   "metadata": {
    "colab": {
     "base_uri": "https://localhost:8080/",
     "height": 717
    },
    "id": "CJlljN2gYTp5",
    "outputId": "cdd792e6-0a15-4189-d611-02b1aa42ddb1"
   },
   "outputs": [
    {
     "data": {
      "image/png": "[encoded data removed]",
      "text/plain": [
       "<Figure size 862.5x862.5 with 1 Axes>"
      ]
     },
     "metadata": {
      "needs_background": "light"
     },
     "output_type": "display_data"
    }
   ],
   "source": [
    "%matplotlib inline\n",
    "import matplotlib.pyplot as plt\n",
    "from sklearn.manifold import TSNE\n",
    "\n",
    "## w2v model\n",
    "model = w2v_google_model\n",
    "\n",
    "## prepare training word vectors\n",
    "size = 200\n",
    "target_size = len(target_words)\n",
    "all_word = list(model.index_to_key)\n",
    "word_train = target_words + all_word[:size]\n",
    "X_train = model[word_train]\n",
    "\n",
    "## t-SNE model\n",
    "tsne = TSNE(n_components=2, metric='cosine', random_state=28)\n",
    "\n",
    "## training\n",
    "X_tsne = tsne.fit_transform(X_train)\n",
    "\n",
    "## plot the result\n",
    "plt.figure(figsize=(7.5, 7.5), dpi=115)\n",
    "plt.scatter(X_tsne[:target_size, 0], X_tsne[:target_size, 1], c=color)\n",
    "for label, x, y in zip(target_words, X_tsne[:target_size, 0], X_tsne[:target_size, 1]):\n",
    "    plt.annotate(label, xy=(x,y), xytext=(0,0),  textcoords='offset points')\n",
    "plt.show()"
   ]
  },
  {
   "cell_type": "markdown",
   "metadata": {
    "id": "2PL61rqYYTp5"
   },
   "source": [
    "---\n",
    "### ** >>> Exercise 8 (Take home): **  \n",
    "\n",
    "Generate a t-SNE visualization to show the 15 words most related to the words \"angry\", \"happy\", \"sad\", \"fear\" (60 words total)."
   ]
  },
  {
   "cell_type": "code",
   "execution_count": 109,
   "metadata": {
    "id": "rvh7ymeNYTp5"
   },
   "outputs": [
    {
     "name": "stdout",
     "output_type": "stream",
     "text": [
      "happy_words_15:  ['happy', 'glad', 'pleased', 'ecstatic', 'overjoyed', 'thrilled', 'satisfied', 'proud', 'delighted', 'disappointed', 'excited', 'happier', 'Said_Hirschbeck', 'elated', 'thankful', 'unhappy']\n",
      "angry_words_15:  ['angry', 'irate', 'enraged', 'indignant', 'incensed', 'annoyed', 'agitated', 'frustrated', 'furious', 'unhappy', 'outraged', 'livid', 'irritated', 'exasperated', 'angrier', 'Angry']\n",
      "sad_words_15:  ['sad', 'saddening', 'Sad', 'saddened', 'heartbreaking', 'disheartening', 'Meny_Friedman', 'parishioner_Pat_Patello', 'saddens_me', 'distressing', 'reminders_bobbing', 'Turkoman_Shiites', 'saddest', 'unfortunate', 'sorry', 'bittersweet']\n",
      "fear_words_15:  ['fear', 'fearful', 'fears', 'Fear', 'fearing', 'worry', 'dread', 'feared', 'anxiety', 'apprehension', 'afraid', 'worries', 'concern', 'distrust', 'worried', 'Fearful']\n",
      "\n",
      "target words: \n",
      "['happy', 'glad', 'pleased', 'ecstatic', 'overjoyed', 'thrilled', 'satisfied', 'proud', 'delighted', 'disappointed', 'excited', 'happier', 'Said_Hirschbeck', 'elated', 'thankful', 'unhappy', 'angry', 'irate', 'enraged', 'indignant', 'incensed', 'annoyed', 'agitated', 'frustrated', 'furious', 'unhappy', 'outraged', 'livid', 'irritated', 'exasperated', 'angrier', 'Angry', 'sad', 'saddening', 'Sad', 'saddened', 'heartbreaking', 'disheartening', 'Meny_Friedman', 'parishioner_Pat_Patello', 'saddens_me', 'distressing', 'reminders_bobbing', 'Turkoman_Shiites', 'saddest', 'unfortunate', 'sorry', 'bittersweet', 'fear', 'fearful', 'fears', 'Fear', 'fearing', 'worry', 'dread', 'feared', 'anxiety', 'apprehension', 'afraid', 'worries', 'concern', 'distrust', 'worried', 'Fearful']\n",
      "\n",
      "color list:\n",
      "['b', 'b', 'b', 'b', 'b', 'b', 'b', 'b', 'b', 'b', 'b', 'b', 'b', 'b', 'b', 'b', 'g', 'g', 'g', 'g', 'g', 'g', 'g', 'g', 'g', 'g', 'g', 'g', 'g', 'g', 'g', 'g', 'r', 'r', 'r', 'r', 'r', 'r', 'r', 'r', 'r', 'r', 'r', 'r', 'r', 'r', 'r', 'r', 'y', 'y', 'y', 'y', 'y', 'y', 'y', 'y', 'y', 'y', 'y', 'y', 'y', 'y', 'y', 'y']\n"
     ]
    }
   ],
   "source": [
    "# Answer here\n",
    "#word_list target\n",
    "word_list = ['happy', 'angry', 'sad', 'fear']\n",
    "\n",
    "#parameter= Top 15 words\n",
    "topn = 15\n",
    "\n",
    "#Use w2v_google_model to find the similar top 5.\n",
    "#model_path = \"GoogleNews-vectors-negative300.bin\"\n",
    "#w2v_google_model = KeyedVectors.load_word2vec_format(model_path, binary=True)\n",
    "\n",
    "happy_words_15 = ['happy'] + [word_ for word_, sim_ in w2v_google_model.most_similar('happy', topn=topn)]\n",
    "angry_words_15 = ['angry'] + [word_ for word_, sim_ in w2v_google_model.most_similar('angry', topn=topn)]        \n",
    "sad_words_15 = ['sad'] + [word_ for word_, sim_ in w2v_google_model.most_similar('sad', topn=topn)]   \n",
    "fear_words_15 = ['fear'] + [word_ for word_, sim_ in w2v_google_model.most_similar('fear', topn=topn)]   \n",
    "\n",
    "#print the result\n",
    "print('happy_words_15: ', happy_words_15)\n",
    "print('angry_words_15: ', angry_words_15)\n",
    "print('sad_words_15: ', sad_words_15)\n",
    "print('fear_words_15: ', fear_words_15)\n",
    "target_words_60 = happy_words_15 + angry_words_15 + sad_words_15 + fear_words_15\n",
    "print('\\ntarget words: ')\n",
    "print(target_words_60)\n",
    "\n",
    "print('\\ncolor list:')\n",
    "cn = topn + 1\n",
    "color = ['b'] * cn + ['g'] * cn + ['r'] * cn + ['y'] * cn\n",
    "print(color)"
   ]
  },
  {
   "cell_type": "markdown",
   "metadata": {
    "id": "_fF1woa8YTp5"
   },
   "source": [
    "---"
   ]
  }
 ],
 "metadata": {
  "colab": {
   "collapsed_sections": [
    "4e5eiVLOYTp5"
   ],
   "provenance": []
  },
  "kernelspec": {
   "display_name": "Python 3 (ipykernel)",
   "language": "python",
   "name": "python3"
  },
  "language_info": {
   "codemirror_mode": {
    "name": "ipython",
    "version": 3
   },
   "file_extension": ".py",
   "mimetype": "text/x-python",
   "name": "python",
   "nbconvert_exporter": "python",
   "pygments_lexer": "ipython3",
   "version": "3.8.13"
  },
  "varInspector": {
   "cols": {
    "lenName": 16,
    "lenType": 16,
    "lenVar": 40
   },
   "kernels_config": {
    "python": {
     "delete_cmd_postfix": "",
     "delete_cmd_prefix": "del ",
     "library": "var_list.py",
     "varRefreshCmd": "print(var_dic_list())"
    },
    "r": {
     "delete_cmd_postfix": ") ",
     "delete_cmd_prefix": "rm(",
     "library": "var_list.r",
     "varRefreshCmd": "cat(var_dic_list()) "
    }
   },
   "oldHeight": 594.85,
   "position": {
    "height": "40px",
    "left": "723px",
    "right": "20px",
    "top": "80px",
    "width": "250px"
   },
   "types_to_exclude": [
    "module",
    "function",
    "builtin_function_or_method",
    "instance",
    "_Feature"
   ],
   "varInspector_section_display": "none",
   "window_display": true
  }
 },
 "nbformat": 4,
 "nbformat_minor": 1
}
